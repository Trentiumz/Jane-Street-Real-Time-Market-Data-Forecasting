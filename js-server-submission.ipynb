{
 "cells": [
  {
   "cell_type": "code",
   "execution_count": 1,
   "id": "24a8b8d9",
   "metadata": {
    "_cell_guid": "b1076dfc-b9ad-4769-8c92-a6c4dae69d19",
    "_uuid": "8f2839f25d086af736a60e9eeb907d3b93b6e0e5",
    "execution": {
     "iopub.execute_input": "2025-01-01T03:02:31.471158Z",
     "iopub.status.busy": "2025-01-01T03:02:31.469972Z",
     "iopub.status.idle": "2025-01-01T03:02:47.898162Z",
     "shell.execute_reply": "2025-01-01T03:02:47.897048Z"
    },
    "papermill": {
     "duration": 16.438219,
     "end_time": "2025-01-01T03:02:47.900960",
     "exception": false,
     "start_time": "2025-01-01T03:02:31.462741",
     "status": "completed"
    },
    "tags": []
   },
   "outputs": [],
   "source": [
    "# This Python 3 environment comes with many helpful analytics libraries installed\n",
    "# It is defined by the kaggle/python Docker image: https://github.com/kaggle/docker-python\n",
    "# For example, here's several helpful packages to load\n",
    "\n",
    "import numpy as np # linear algebra\n",
    "import polars as pl # data processing, CSV file I/O (e.g. pd.read_csv)\n",
    "import pandas as pd\n",
    "import os\n",
    "from pathlib import Path\n",
    "import tensorflow as tf\n",
    "from tensorflow import keras\n",
    "from tensorflow.keras import layers\n",
    "import re\n",
    "\n",
    "# Input data files are available in the read-only \"../input/\" directory\n",
    "# For example, running this (by clicking run or pressing Shift+Enter) will list all files under the input directory\n",
    "\n",
    "# You can write up to 20GB to the current directory (/kaggle/working/) that gets preserved as output when you create a version using \"Save & Run All\" \n",
    "# You can also write temporary files to /kaggle/temp/, but they won't be saved outside of the current session\n",
    "\n",
    "import kaggle_evaluation.jane_street_inference_server"
   ]
  },
  {
   "cell_type": "markdown",
   "id": "eb45b043",
   "metadata": {
    "papermill": {
     "duration": 0.003688,
     "end_time": "2025-01-01T03:02:47.909093",
     "exception": false,
     "start_time": "2025-01-01T03:02:47.905405",
     "status": "completed"
    },
    "tags": []
   },
   "source": [
    "The evaluation API requires that you set up a server which will respond to inference requests. We have already defined the server; you just need write the predict function. When we evaluate your submission on the hidden test set the client defined in `jane_street_gateway` will run in a different container with direct access to the hidden test set and hand off the data timestep by timestep.\n",
    "\n",
    "\n",
    "\n",
    "Your code will always have access to the published copies of the files."
   ]
  },
  {
   "cell_type": "code",
   "execution_count": 2,
   "id": "96c2e522",
   "metadata": {
    "execution": {
     "iopub.execute_input": "2025-01-01T03:02:47.919691Z",
     "iopub.status.busy": "2025-01-01T03:02:47.918198Z",
     "iopub.status.idle": "2025-01-01T03:02:47.989556Z",
     "shell.execute_reply": "2025-01-01T03:02:47.988473Z"
    },
    "papermill": {
     "duration": 0.079357,
     "end_time": "2025-01-01T03:02:47.992301",
     "exception": false,
     "start_time": "2025-01-01T03:02:47.912944",
     "status": "completed"
    },
    "tags": []
   },
   "outputs": [],
   "source": [
    "data_base_path = Path(\"/kaggle/input/js-feature-exploration/\")\n",
    "feature_data_path = data_base_path / Path(\"feature_data.csv\")\n",
    "\n",
    "feature_data_df = pl.read_csv(feature_data_path)\n",
    "means = np.asarray(feature_data_df['mean']).astype('float32')\n",
    "stds = np.asarray(feature_data_df['std']).astype('float32')\n",
    "\n",
    "def r2_loss(y_true, y_pred):\n",
    "    return tf.math.reduce_sum((y_true - y_pred) ** 2) / tf.math.reduce_sum((y_true - tf.reduce_mean(y_true)) ** 2)\n",
    "\n",
    "feature_format = 'feature_\\d\\d'\n",
    "responder_format = 'responder_\\d'\n",
    "lag_format = 'responder_\\d_lag'\n",
    "def chunk_features(chunk):\n",
    "    return chunk[[i for i in chunk.columns if re.fullmatch(feature_format, i)]]\n",
    "def chunk_lags(chunk):\n",
    "    return chunk[[i for i in chunk.columns if re.fullmatch(lag_format, i)]]\n",
    "\n",
    "def clean_features(features):\n",
    "    return tf.where(\n",
    "        tf.logical_or(tf.math.is_nan(features), tf.math.is_inf(features)), \n",
    "        means, \n",
    "        features)\n",
    "def normalize_features(features):\n",
    "    return (features - means) / tf.math.maximum(1.0, stds)\n",
    "def clean_lags(lags):\n",
    "    return tf.where(\n",
    "        tf.logical_or(tf.math.is_nan(lags), tf.math.is_inf(lags)), \n",
    "        0.0, \n",
    "        lags)\n",
    "\n",
    "def format_data(features, lags):\n",
    "    return {\n",
    "        'feature': normalize_features(clean_features(features)),\n",
    "        'lags': clean_lags(lags)\n",
    "    }"
   ]
  },
  {
   "cell_type": "code",
   "execution_count": 3,
   "id": "7e3789cd",
   "metadata": {
    "_cell_guid": "b1076dfc-b9ad-4769-8c92-a6c4dae69d19",
    "_uuid": "8f2839f25d086af736a60e9eeb907d3b93b6e0e5",
    "execution": {
     "iopub.execute_input": "2025-01-01T03:02:48.003101Z",
     "iopub.status.busy": "2025-01-01T03:02:48.002629Z",
     "iopub.status.idle": "2025-01-01T03:02:48.335941Z",
     "shell.execute_reply": "2025-01-01T03:02:48.334462Z"
    },
    "papermill": {
     "duration": 0.342419,
     "end_time": "2025-01-01T03:02:48.339034",
     "exception": false,
     "start_time": "2025-01-01T03:02:47.996615",
     "status": "completed"
    },
    "tags": []
   },
   "outputs": [],
   "source": [
    "old_model = keras.models.load_model('/kaggle/input/js-prediction-training-1/fitted.keras', custom_objects={\n",
    "    'r2_loss': r2_loss\n",
    "})\n",
    "new_model = keras.models.load_model('/kaggle/input/js-prediction-training-1/fitted.keras', custom_objects={\n",
    "    'r2_loss': r2_loss\n",
    "})"
   ]
  },
  {
   "cell_type": "code",
   "execution_count": 4,
   "id": "ff9db2ae",
   "metadata": {
    "execution": {
     "iopub.execute_input": "2025-01-01T03:02:48.349932Z",
     "iopub.status.busy": "2025-01-01T03:02:48.348900Z",
     "iopub.status.idle": "2025-01-01T03:02:48.354437Z",
     "shell.execute_reply": "2025-01-01T03:02:48.353327Z"
    },
    "papermill": {
     "duration": 0.013089,
     "end_time": "2025-01-01T03:02:48.356581",
     "exception": false,
     "start_time": "2025-01-01T03:02:48.343492",
     "status": "completed"
    },
    "tags": []
   },
   "outputs": [],
   "source": [
    "original_format = \"(date_id)|(time_id)|(symbol_id)|(weight)|(feature_\\d\\d)|(responder_\\d)\""
   ]
  },
  {
   "cell_type": "code",
   "execution_count": 5,
   "id": "30195211",
   "metadata": {
    "execution": {
     "iopub.execute_input": "2025-01-01T03:02:48.367358Z",
     "iopub.status.busy": "2025-01-01T03:02:48.366392Z",
     "iopub.status.idle": "2025-01-01T03:02:48.374763Z",
     "shell.execute_reply": "2025-01-01T03:02:48.373602Z"
    },
    "jupyter": {
     "source_hidden": true
    },
    "papermill": {
     "duration": 0.016462,
     "end_time": "2025-01-01T03:02:48.377075",
     "exception": false,
     "start_time": "2025-01-01T03:02:48.360613",
     "status": "completed"
    },
    "tags": []
   },
   "outputs": [],
   "source": [
    "feature_names = ['feature_00',\n",
    " 'feature_01',\n",
    " 'feature_02',\n",
    " 'feature_03',\n",
    " 'feature_04',\n",
    " 'feature_05',\n",
    " 'feature_06',\n",
    " 'feature_07',\n",
    " 'feature_08',\n",
    " 'feature_09',\n",
    " 'feature_10',\n",
    " 'feature_11',\n",
    " 'feature_12',\n",
    " 'feature_13',\n",
    " 'feature_14',\n",
    " 'feature_15',\n",
    " 'feature_16',\n",
    " 'feature_17',\n",
    " 'feature_18',\n",
    " 'feature_19',\n",
    " 'feature_20',\n",
    " 'feature_21',\n",
    " 'feature_22',\n",
    " 'feature_23',\n",
    " 'feature_24',\n",
    " 'feature_25',\n",
    " 'feature_26',\n",
    " 'feature_27',\n",
    " 'feature_28',\n",
    " 'feature_29',\n",
    " 'feature_30',\n",
    " 'feature_31',\n",
    " 'feature_32',\n",
    " 'feature_33',\n",
    " 'feature_34',\n",
    " 'feature_35',\n",
    " 'feature_36',\n",
    " 'feature_37',\n",
    " 'feature_38',\n",
    " 'feature_39',\n",
    " 'feature_40',\n",
    " 'feature_41',\n",
    " 'feature_42',\n",
    " 'feature_43',\n",
    " 'feature_44',\n",
    " 'feature_45',\n",
    " 'feature_46',\n",
    " 'feature_47',\n",
    " 'feature_48',\n",
    " 'feature_49',\n",
    " 'feature_50',\n",
    " 'feature_51',\n",
    " 'feature_52',\n",
    " 'feature_53',\n",
    " 'feature_54',\n",
    " 'feature_55',\n",
    " 'feature_56',\n",
    " 'feature_57',\n",
    " 'feature_58',\n",
    " 'feature_59',\n",
    " 'feature_60',\n",
    " 'feature_61',\n",
    " 'feature_62',\n",
    " 'feature_63',\n",
    " 'feature_64',\n",
    " 'feature_65',\n",
    " 'feature_66',\n",
    " 'feature_67',\n",
    " 'feature_68',\n",
    " 'feature_69',\n",
    " 'feature_70',\n",
    " 'feature_71',\n",
    " 'feature_72',\n",
    " 'feature_73',\n",
    " 'feature_74',\n",
    " 'feature_75',\n",
    " 'feature_76',\n",
    " 'feature_77',\n",
    " 'feature_78',\n",
    " 'responder_0_lag',\n",
    " 'responder_1_lag',\n",
    " 'responder_2_lag',\n",
    " 'responder_3_lag',\n",
    " 'responder_4_lag',\n",
    " 'responder_5_lag',\n",
    " 'responder_6_lag',\n",
    " 'responder_7_lag',\n",
    " 'responder_8_lag']\n",
    "responder_names = ['responder_0',\n",
    " 'responder_1',\n",
    " 'responder_2',\n",
    " 'responder_3',\n",
    " 'responder_4',\n",
    " 'responder_5',\n",
    " 'responder_6',\n",
    " 'responder_7',\n",
    " 'responder_8']\n"
   ]
  },
  {
   "cell_type": "code",
   "execution_count": 6,
   "id": "9b5ca5ae",
   "metadata": {
    "execution": {
     "iopub.execute_input": "2025-01-01T03:02:48.387323Z",
     "iopub.status.busy": "2025-01-01T03:02:48.386922Z",
     "iopub.status.idle": "2025-01-01T03:02:48.394581Z",
     "shell.execute_reply": "2025-01-01T03:02:48.393439Z"
    },
    "papermill": {
     "duration": 0.015146,
     "end_time": "2025-01-01T03:02:48.396558",
     "exception": false,
     "start_time": "2025-01-01T03:02:48.381412",
     "status": "completed"
    },
    "tags": []
   },
   "outputs": [],
   "source": [
    "def train_online_model(past_df, num_iterations = 15, batch_size = 50000):\n",
    "    print(\"training new model\")\n",
    "    model = keras.models.load_model('/kaggle/input/js-prediction-training-1/fitted.keras', custom_objects={\n",
    "        'r2_loss': r2_loss\n",
    "    })\n",
    "    model.optimizer.learning_rate.assign(1e-4)\n",
    "\n",
    "    if past_df is None or past_df.shape[0] == 0:\n",
    "        return model\n",
    "\n",
    "    past_df = past_df.sample(min(past_df.shape[0], batch_size))\n",
    "\n",
    "    x_train = format_data(chunk_features(past_df), chunk_lags(past_df))\n",
    "    y_train = past_df[target]\n",
    "    model.fit(x=x_train, y=y_train, batch_size=past_df.shape[0], epochs=num_iterations)\n",
    "\n",
    "    return model"
   ]
  },
  {
   "cell_type": "code",
   "execution_count": 7,
   "id": "bdbed50f",
   "metadata": {
    "execution": {
     "iopub.execute_input": "2025-01-01T03:02:48.405991Z",
     "iopub.status.busy": "2025-01-01T03:02:48.405605Z",
     "iopub.status.idle": "2025-01-01T03:02:48.417440Z",
     "shell.execute_reply": "2025-01-01T03:02:48.416440Z"
    },
    "papermill": {
     "duration": 0.019163,
     "end_time": "2025-01-01T03:02:48.419634",
     "exception": false,
     "start_time": "2025-01-01T03:02:48.400471",
     "status": "completed"
    },
    "tags": []
   },
   "outputs": [],
   "source": [
    "past_data_cols = feature_names + ['date_id', 'time_id', 'symbol_id']\n",
    "past_responder_cols = responder_names + ['date_id', 'time_id', 'symbol_id']\n",
    "past_df_cols = feature_names + responder_names + ['date_id', 'time_id', 'symbol_id']\n",
    "\n",
    "class PastStorage:\n",
    "    def __init__(self, max_size = 100000):\n",
    "        self.past_df = None\n",
    "        self.last_day_data = None\n",
    "        self.max_size = max_size\n",
    "    def reformat_lags(lags: pl.DataFrame | None):\n",
    "        if lags is None:\n",
    "            return None\n",
    "\n",
    "        last_day_ans = lags\n",
    "        for i in range(9):\n",
    "            for j in [col for col in last_day_ans.columns if re.search(f'responder_{i}', col)]:\n",
    "                last_day_ans = last_day_ans.rename({j: f\"responder_{i}\"})\n",
    "        return last_day_ans\n",
    "    def append_to(df: pl.DataFrame | None, chunk: pl.DataFrame | None):\n",
    "        if chunk is None:\n",
    "            return df\n",
    "        if df is None:\n",
    "            return chunk\n",
    "        return pl.concat([df, chunk])\n",
    "        \n",
    "    def data_inc(self, test_full: pl.DataFrame, lags: pl.DataFrame | None):\n",
    "        global past_data_cols, past_responder_cols\n",
    "        \n",
    "        # use the data from the previous day for today's information\n",
    "        if lags is not None:\n",
    "            if self.last_day_data is not None:\n",
    "                last_day_ans = PastStorage.reformat_lags(lags)\n",
    "                to_append = self.last_day_data.join(last_day_ans, ['date_id', 'time_id', 'symbol_id'], how='left')\n",
    "                for i in range(9):\n",
    "                    to_append = to_append.filter(to_append[f'responder_{i}'].is_not_nan() & to_append[f'responder_{i}'].is_not_null())\n",
    "    \n",
    "                self.past_df = PastStorage.append_to(self.past_df, to_append[past_df_cols])\n",
    "                print(\"Check for past dataframe cleanness:\", self.past_df.shape, self.past_df['responder_0'].is_null().sum())\n",
    "    \n",
    "                self.last_day_data = None\n",
    "\n",
    "        # append the data to the previous day... should always be the same as last_day_id\n",
    "        if test_full is not None:\n",
    "            self.last_day_data = PastStorage.append_to(self.last_day_data, test_full[past_data_cols])\n",
    "\n",
    "        if self.past_df is not None:\n",
    "            self.past_df = self.past_df.tail(self.max_size)\n",
    "        if self.last_day_data is not None:\n",
    "            self.last_day_data = self.last_day_data.tail(self.max_size)"
   ]
  },
  {
   "cell_type": "code",
   "execution_count": 8,
   "id": "9d842c73",
   "metadata": {
    "execution": {
     "iopub.execute_input": "2025-01-01T03:02:48.430358Z",
     "iopub.status.busy": "2025-01-01T03:02:48.429477Z",
     "iopub.status.idle": "2025-01-01T03:02:48.443491Z",
     "shell.execute_reply": "2025-01-01T03:02:48.442301Z"
    },
    "papermill": {
     "duration": 0.021889,
     "end_time": "2025-01-01T03:02:48.445716",
     "exception": false,
     "start_time": "2025-01-01T03:02:48.423827",
     "status": "completed"
    },
    "tags": []
   },
   "outputs": [],
   "source": [
    "lags_ : pl.DataFrame | None = None\n",
    "storage = PastStorage()\n",
    "days_per_update = 1\n",
    "cur_day = 0\n",
    "\n",
    "def reset_vars():\n",
    "    global lags_, storage, cur_day\n",
    "    lags_ = None\n",
    "    storage = PastStorage()\n",
    "    cur_day = 0\n",
    "    new_model = keras.models.load_model('/kaggle/input/js-prediction-training-1/fitted.keras', custom_objects={\n",
    "        'r2_loss': r2_loss\n",
    "    })\n",
    "\n",
    "# Replace this function with your inference code.\n",
    "# You can return either a Pandas or Polars dataframe, though Polars is recommended.\n",
    "# Each batch of predictions (except the very first) must be returned within 1 minute of the batch features being provided.\n",
    "def predict(test: pl.DataFrame, lags: pl.DataFrame | None) -> pl.DataFrame | pd.DataFrame:\n",
    "    global lags_, storage, old_model, new_model, cur_day, days_per_update\n",
    "    \n",
    "    if lags is not None:\n",
    "        lags_ = lags\n",
    "        \n",
    "    if lags_ is not None:\n",
    "        last_reading = lags_.group_by(('date_id', 'symbol_id'), maintain_order=True).last()\n",
    "        for i in range(9):\n",
    "            for j in [col for col in last_reading.columns if re.search(f'responder_{i}', col)]:\n",
    "                last_reading = last_reading.rename({j: f\"responder_{i}_lag\"})\n",
    "\n",
    "        selected_cols = ['date_id', 'symbol_id'] + [i for i in last_reading.columns if re.fullmatch(lag_format, i)]\n",
    "        join_to = last_reading.with_columns(last_reading['date_id'] + 1)[selected_cols]\n",
    "        test_grouped = test.join(join_to, ['date_id', 'symbol_id'], how='left')\n",
    "    else:\n",
    "        test_grouped = test\n",
    "        for i in range(9):\n",
    "            test_grouped = test_grouped.with_columns(pl.lit(None).cast(pl.Float32).alias(f\"responder_{i}_lag\"))\n",
    "    \n",
    "    input_features = format_data(chunk_features(test_grouped), chunk_lags(test_grouped))\n",
    "    old_y = np.asarray(old_model.predict(input_features, verbose=0)).reshape((-1,))\n",
    "    new_y = np.asarray(new_model.predict(input_features, verbose=0)).reshape((-1,))\n",
    "    output_y = (old_y + new_y) / 2\n",
    "    predictions = pl.DataFrame({\n",
    "        \"row_id\": test['row_id'],\n",
    "        \"responder_6\": output_y\n",
    "    })\n",
    "\n",
    "    storage.data_inc(test_grouped, lags)\n",
    "    if lags is not None:\n",
    "        cur_day += 1\n",
    "        if cur_day == days_per_update:\n",
    "            new_model = train_online_model(storage.past_df)\n",
    "            storage.past_df = None\n",
    "        cur_day %= days_per_update\n",
    "\n",
    "    if isinstance(predictions, pl.DataFrame):\n",
    "        assert predictions.columns == ['row_id', 'responder_6']\n",
    "    elif isinstance(predictions, pd.DataFrame):\n",
    "        assert (predictions.columns == ['row_id', 'responder_6']).all()\n",
    "    else:\n",
    "        raise TypeError('The predict function must return a DataFrame')\n",
    "    # Confirm has as many rows as the test data.\n",
    "    assert len(predictions) == len(test)\n",
    "\n",
    "    return predictions"
   ]
  },
  {
   "cell_type": "markdown",
   "id": "79c9292b",
   "metadata": {
    "papermill": {
     "duration": 0.00359,
     "end_time": "2025-01-01T03:02:48.455271",
     "exception": false,
     "start_time": "2025-01-01T03:02:48.451681",
     "status": "completed"
    },
    "tags": []
   },
   "source": [
    "When your notebook is run on the hidden test set, inference_server.serve must be called within 15 minutes of the notebook starting or the gateway will throw an error. If you need more than 15 minutes to load your model you can do so during the very first `predict` call, which does not have the usual 1 minute response deadline."
   ]
  },
  {
   "cell_type": "code",
   "execution_count": 9,
   "id": "a8a17dd1",
   "metadata": {
    "execution": {
     "iopub.execute_input": "2025-01-01T03:02:48.465316Z",
     "iopub.status.busy": "2025-01-01T03:02:48.464405Z",
     "iopub.status.idle": "2025-01-01T03:02:48.469680Z",
     "shell.execute_reply": "2025-01-01T03:02:48.468607Z"
    },
    "papermill": {
     "duration": 0.012648,
     "end_time": "2025-01-01T03:02:48.471764",
     "exception": false,
     "start_time": "2025-01-01T03:02:48.459116",
     "status": "completed"
    },
    "tags": []
   },
   "outputs": [],
   "source": [
    "base_path = Path(\"/kaggle/input/jane-street-real-time-market-data-forecasting/\")"
   ]
  },
  {
   "cell_type": "code",
   "execution_count": 10,
   "id": "fce1a13a",
   "metadata": {
    "execution": {
     "iopub.execute_input": "2025-01-01T03:02:48.482554Z",
     "iopub.status.busy": "2025-01-01T03:02:48.481568Z",
     "iopub.status.idle": "2025-01-01T03:02:49.727932Z",
     "shell.execute_reply": "2025-01-01T03:02:49.726786Z"
    },
    "papermill": {
     "duration": 1.254898,
     "end_time": "2025-01-01T03:02:49.730861",
     "exception": false,
     "start_time": "2025-01-01T03:02:48.475963",
     "status": "completed"
    },
    "tags": []
   },
   "outputs": [
    {
     "data": {
      "text/html": [
       "<div><style>\n",
       ".dataframe > thead > tr,\n",
       ".dataframe > tbody > tr {\n",
       "  text-align: right;\n",
       "  white-space: pre-wrap;\n",
       "}\n",
       "</style>\n",
       "<small>shape: (5, 2)</small><table border=\"1\" class=\"dataframe\"><thead><tr><th>row_id</th><th>responder_6</th></tr><tr><td>i64</td><td>f32</td></tr></thead><tbody><tr><td>0</td><td>-0.005609</td></tr><tr><td>1</td><td>-0.005609</td></tr><tr><td>2</td><td>-0.005609</td></tr><tr><td>3</td><td>-0.005609</td></tr><tr><td>4</td><td>-0.005609</td></tr></tbody></table></div>"
      ],
      "text/plain": [
       "shape: (5, 2)\n",
       "┌────────┬─────────────┐\n",
       "│ row_id ┆ responder_6 │\n",
       "│ ---    ┆ ---         │\n",
       "│ i64    ┆ f32         │\n",
       "╞════════╪═════════════╡\n",
       "│ 0      ┆ -0.005609   │\n",
       "│ 1      ┆ -0.005609   │\n",
       "│ 2      ┆ -0.005609   │\n",
       "│ 3      ┆ -0.005609   │\n",
       "│ 4      ┆ -0.005609   │\n",
       "└────────┴─────────────┘"
      ]
     },
     "execution_count": 10,
     "metadata": {},
     "output_type": "execute_result"
    }
   ],
   "source": [
    "reset_vars()\n",
    "predict(pl.read_parquet(base_path / Path(\"test.parquet\")), None).head()"
   ]
  },
  {
   "cell_type": "code",
   "execution_count": 11,
   "id": "ce907a84",
   "metadata": {
    "execution": {
     "iopub.execute_input": "2025-01-01T03:02:49.741606Z",
     "iopub.status.busy": "2025-01-01T03:02:49.741123Z",
     "iopub.status.idle": "2025-01-01T03:02:50.180090Z",
     "shell.execute_reply": "2025-01-01T03:02:50.178651Z"
    },
    "papermill": {
     "duration": 0.447684,
     "end_time": "2025-01-01T03:02:50.182881",
     "exception": false,
     "start_time": "2025-01-01T03:02:49.735197",
     "status": "completed"
    },
    "tags": []
   },
   "outputs": [
    {
     "name": "stdout",
     "output_type": "stream",
     "text": [
      "training new model\n"
     ]
    },
    {
     "data": {
      "text/html": [
       "<div><style>\n",
       ".dataframe > thead > tr,\n",
       ".dataframe > tbody > tr {\n",
       "  text-align: right;\n",
       "  white-space: pre-wrap;\n",
       "}\n",
       "</style>\n",
       "<small>shape: (5, 2)</small><table border=\"1\" class=\"dataframe\"><thead><tr><th>row_id</th><th>responder_6</th></tr><tr><td>i64</td><td>f32</td></tr></thead><tbody><tr><td>0</td><td>-0.015311</td></tr><tr><td>1</td><td>-0.019428</td></tr><tr><td>2</td><td>-0.023928</td></tr><tr><td>3</td><td>-0.006346</td></tr><tr><td>4</td><td>-0.009307</td></tr></tbody></table></div>"
      ],
      "text/plain": [
       "shape: (5, 2)\n",
       "┌────────┬─────────────┐\n",
       "│ row_id ┆ responder_6 │\n",
       "│ ---    ┆ ---         │\n",
       "│ i64    ┆ f32         │\n",
       "╞════════╪═════════════╡\n",
       "│ 0      ┆ -0.015311   │\n",
       "│ 1      ┆ -0.019428   │\n",
       "│ 2      ┆ -0.023928   │\n",
       "│ 3      ┆ -0.006346   │\n",
       "│ 4      ┆ -0.009307   │\n",
       "└────────┴─────────────┘"
      ]
     },
     "execution_count": 11,
     "metadata": {},
     "output_type": "execute_result"
    }
   ],
   "source": [
    "reset_vars()\n",
    "\n",
    "sample_lags = pl.read_parquet(base_path / Path('lags.parquet'))\n",
    "sample_lags = sample_lags.with_columns(sample_lags['date_id'] - 1)\n",
    "predict(pl.read_parquet(base_path / Path(\"test.parquet\")), sample_lags).head()"
   ]
  },
  {
   "cell_type": "code",
   "execution_count": 12,
   "id": "05c1422a",
   "metadata": {
    "_cell_guid": "b1076dfc-b9ad-4769-8c92-a6c4dae69d19",
    "_uuid": "8f2839f25d086af736a60e9eeb907d3b93b6e0e5",
    "execution": {
     "iopub.execute_input": "2025-01-01T03:02:50.195229Z",
     "iopub.status.busy": "2025-01-01T03:02:50.194723Z",
     "iopub.status.idle": "2025-01-01T03:02:50.892480Z",
     "shell.execute_reply": "2025-01-01T03:02:50.891027Z"
    },
    "papermill": {
     "duration": 0.707195,
     "end_time": "2025-01-01T03:02:50.895118",
     "exception": false,
     "start_time": "2025-01-01T03:02:50.187923",
     "status": "completed"
    },
    "tags": []
   },
   "outputs": [
    {
     "name": "stdout",
     "output_type": "stream",
     "text": [
      "training new model\n"
     ]
    }
   ],
   "source": [
    "reset_vars()\n",
    "inference_server = kaggle_evaluation.jane_street_inference_server.JSInferenceServer(predict)\n",
    "\n",
    "if os.getenv('KAGGLE_IS_COMPETITION_RERUN'):\n",
    "    inference_server.serve()\n",
    "else:\n",
    "    inference_server.run_local_gateway(\n",
    "        (\n",
    "            '/kaggle/input/jane-street-real-time-market-data-forecasting/test.parquet',\n",
    "            '/kaggle/input/jane-street-real-time-market-data-forecasting/lags.parquet',\n",
    "        )\n",
    "    )"
   ]
  },
  {
   "cell_type": "code",
   "execution_count": null,
   "id": "923ea97d",
   "metadata": {
    "papermill": {
     "duration": 0.006647,
     "end_time": "2025-01-01T03:02:50.911580",
     "exception": false,
     "start_time": "2025-01-01T03:02:50.904933",
     "status": "completed"
    },
    "tags": []
   },
   "outputs": [],
   "source": []
  }
 ],
 "metadata": {
  "kaggle": {
   "accelerator": "none",
   "dataSources": [
    {
     "databundleVersionId": 9871156,
     "sourceId": 84493,
     "sourceType": "competition"
    },
    {
     "sourceId": 215096796,
     "sourceType": "kernelVersion"
    },
    {
     "sourceId": 215453457,
     "sourceType": "kernelVersion"
    }
   ],
   "dockerImageVersionId": 30786,
   "isGpuEnabled": false,
   "isInternetEnabled": false,
   "language": "python",
   "sourceType": "notebook"
  },
  "kernelspec": {
   "display_name": "Python 3",
   "language": "python",
   "name": "python3"
  },
  "language_info": {
   "codemirror_mode": {
    "name": "ipython",
    "version": 3
   },
   "file_extension": ".py",
   "mimetype": "text/x-python",
   "name": "python",
   "nbconvert_exporter": "python",
   "pygments_lexer": "ipython3",
   "version": "3.10.14"
  },
  "papermill": {
   "default_parameters": {},
   "duration": 25.975937,
   "end_time": "2025-01-01T03:02:54.027636",
   "environment_variables": {},
   "exception": null,
   "input_path": "__notebook__.ipynb",
   "output_path": "__notebook__.ipynb",
   "parameters": {},
   "start_time": "2025-01-01T03:02:28.051699",
   "version": "2.6.0"
  }
 },
 "nbformat": 4,
 "nbformat_minor": 5
}
