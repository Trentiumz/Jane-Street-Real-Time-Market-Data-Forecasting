{
 "cells": [
  {
   "cell_type": "code",
   "execution_count": 1,
   "id": "a0c861c1",
   "metadata": {
    "_cell_guid": "b1076dfc-b9ad-4769-8c92-a6c4dae69d19",
    "_uuid": "8f2839f25d086af736a60e9eeb907d3b93b6e0e5",
    "execution": {
     "iopub.execute_input": "2024-12-19T14:21:14.843528Z",
     "iopub.status.busy": "2024-12-19T14:21:14.842976Z",
     "iopub.status.idle": "2024-12-19T14:21:32.687107Z",
     "shell.execute_reply": "2024-12-19T14:21:32.685549Z"
    },
    "papermill": {
     "duration": 17.851607,
     "end_time": "2024-12-19T14:21:32.689748",
     "exception": false,
     "start_time": "2024-12-19T14:21:14.838141",
     "status": "completed"
    },
    "tags": []
   },
   "outputs": [],
   "source": [
    "# This Python 3 environment comes with many helpful analytics libraries installed\n",
    "# It is defined by the kaggle/python Docker image: https://github.com/kaggle/docker-python\n",
    "# For example, here's several helpful packages to load\n",
    "\n",
    "import numpy as np # linear algebra\n",
    "import polars as pl # data processing, CSV file I/O (e.g. pd.read_csv)\n",
    "import pandas as pd\n",
    "import os\n",
    "from pathlib import Path\n",
    "import tensorflow as tf\n",
    "from tensorflow import keras\n",
    "from tensorflow.keras import layers\n",
    "\n",
    "# Input data files are available in the read-only \"../input/\" directory\n",
    "# For example, running this (by clicking run or pressing Shift+Enter) will list all files under the input directory\n",
    "\n",
    "# You can write up to 20GB to the current directory (/kaggle/working/) that gets preserved as output when you create a version using \"Save & Run All\" \n",
    "# You can also write temporary files to /kaggle/temp/, but they won't be saved outside of the current session\n",
    "\n",
    "import kaggle_evaluation.jane_street_inference_server"
   ]
  },
  {
   "cell_type": "markdown",
   "id": "905c1251",
   "metadata": {
    "papermill": {
     "duration": 0.002205,
     "end_time": "2024-12-19T14:21:32.695006",
     "exception": false,
     "start_time": "2024-12-19T14:21:32.692801",
     "status": "completed"
    },
    "tags": []
   },
   "source": [
    "The evaluation API requires that you set up a server which will respond to inference requests. We have already defined the server; you just need write the predict function. When we evaluate your submission on the hidden test set the client defined in `jane_street_gateway` will run in a different container with direct access to the hidden test set and hand off the data timestep by timestep.\n",
    "\n",
    "\n",
    "\n",
    "Your code will always have access to the published copies of the files."
   ]
  },
  {
   "cell_type": "code",
   "execution_count": 2,
   "id": "f4d0e06d",
   "metadata": {
    "execution": {
     "iopub.execute_input": "2024-12-19T14:21:32.701694Z",
     "iopub.status.busy": "2024-12-19T14:21:32.701037Z",
     "iopub.status.idle": "2024-12-19T14:21:32.942437Z",
     "shell.execute_reply": "2024-12-19T14:21:32.941246Z"
    },
    "papermill": {
     "duration": 0.247565,
     "end_time": "2024-12-19T14:21:32.944978",
     "exception": false,
     "start_time": "2024-12-19T14:21:32.697413",
     "status": "completed"
    },
    "tags": []
   },
   "outputs": [],
   "source": [
    "means = np.asarray(pl.read_csv('/kaggle/input/js-prediction-training-1/means.csv')).reshape((79,))\n",
    "model = keras.models.load_model('/kaggle/input/js-prediction-training-1/fitted.keras')\n",
    "\n",
    "def chunk_features(chunk):\n",
    "    return chunk[[i for i in chunk.columns if i.startswith(\"feature_\")]]\n",
    "\n",
    "def clean_data(features):\n",
    "    return tf.where(\n",
    "        tf.logical_or(tf.math.is_nan(features), tf.math.is_inf(features)), \n",
    "        means, \n",
    "        features)"
   ]
  },
  {
   "cell_type": "code",
   "execution_count": 3,
   "id": "2837427d",
   "metadata": {
    "_cell_guid": "b1076dfc-b9ad-4769-8c92-a6c4dae69d19",
    "_uuid": "8f2839f25d086af736a60e9eeb907d3b93b6e0e5",
    "execution": {
     "iopub.execute_input": "2024-12-19T14:21:32.951904Z",
     "iopub.status.busy": "2024-12-19T14:21:32.951514Z",
     "iopub.status.idle": "2024-12-19T14:21:32.959444Z",
     "shell.execute_reply": "2024-12-19T14:21:32.958394Z"
    },
    "papermill": {
     "duration": 0.014059,
     "end_time": "2024-12-19T14:21:32.961710",
     "exception": false,
     "start_time": "2024-12-19T14:21:32.947651",
     "status": "completed"
    },
    "tags": []
   },
   "outputs": [],
   "source": [
    "# Replace this function with your inference code.\n",
    "# You can return either a Pandas or Polars dataframe, though Polars is recommended.\n",
    "# Each batch of predictions (except the very first) must be returned within 1 minute of the batch features being provided.\n",
    "def predict(test: pl.DataFrame, lags: pl.DataFrame | None) -> pl.DataFrame | pd.DataFrame:\n",
    "    \"\"\"Make a prediction.\"\"\"\n",
    "    # All the responders from the previous day are passed in at time_id == 0. We save them in a global variable for access at every time_id.\n",
    "    # Use them as extra features, if you like.\n",
    "\n",
    "    # Replace this section with your own predictions\n",
    "    input_features = clean_data(chunk_features(test))\n",
    "    output_y = np.asarray(model.predict(input_features)).reshape((-1,))\n",
    "    predictions = pl.DataFrame({\n",
    "        \"row_id\": test['row_id'],\n",
    "        \"responder_6\": output_y\n",
    "    })\n",
    "    \n",
    "\n",
    "    if isinstance(predictions, pl.DataFrame):\n",
    "        assert predictions.columns == ['row_id', 'responder_6']\n",
    "    elif isinstance(predictions, pd.DataFrame):\n",
    "        assert (predictions.columns == ['row_id', 'responder_6']).all()\n",
    "    else:\n",
    "        raise TypeError('The predict function must return a DataFrame')\n",
    "    # Confirm has as many rows as the test data.\n",
    "    assert len(predictions) == len(test)\n",
    "\n",
    "    return predictions"
   ]
  },
  {
   "cell_type": "markdown",
   "id": "65d6a4e2",
   "metadata": {
    "papermill": {
     "duration": 0.002309,
     "end_time": "2024-12-19T14:21:32.966675",
     "exception": false,
     "start_time": "2024-12-19T14:21:32.964366",
     "status": "completed"
    },
    "tags": []
   },
   "source": [
    "When your notebook is run on the hidden test set, inference_server.serve must be called within 15 minutes of the notebook starting or the gateway will throw an error. If you need more than 15 minutes to load your model you can do so during the very first `predict` call, which does not have the usual 1 minute response deadline."
   ]
  },
  {
   "cell_type": "code",
   "execution_count": 4,
   "id": "493e9efb",
   "metadata": {
    "execution": {
     "iopub.execute_input": "2024-12-19T14:21:32.973113Z",
     "iopub.status.busy": "2024-12-19T14:21:32.972731Z",
     "iopub.status.idle": "2024-12-19T14:21:33.360596Z",
     "shell.execute_reply": "2024-12-19T14:21:33.359332Z"
    },
    "papermill": {
     "duration": 0.393878,
     "end_time": "2024-12-19T14:21:33.362964",
     "exception": false,
     "start_time": "2024-12-19T14:21:32.969086",
     "status": "completed"
    },
    "tags": []
   },
   "outputs": [
    {
     "name": "stdout",
     "output_type": "stream",
     "text": [
      "\u001b[1m2/2\u001b[0m \u001b[32m━━━━━━━━━━━━━━━━━━━━\u001b[0m\u001b[37m\u001b[0m \u001b[1m0s\u001b[0m 19ms/step\n"
     ]
    },
    {
     "data": {
      "text/html": [
       "<div><style>\n",
       ".dataframe > thead > tr,\n",
       ".dataframe > tbody > tr {\n",
       "  text-align: right;\n",
       "  white-space: pre-wrap;\n",
       "}\n",
       "</style>\n",
       "<small>shape: (5, 2)</small><table border=\"1\" class=\"dataframe\"><thead><tr><th>row_id</th><th>responder_6</th></tr><tr><td>i64</td><td>f32</td></tr></thead><tbody><tr><td>0</td><td>-0.083366</td></tr><tr><td>1</td><td>-0.083366</td></tr><tr><td>2</td><td>-0.083366</td></tr><tr><td>3</td><td>-0.083366</td></tr><tr><td>4</td><td>-0.083366</td></tr></tbody></table></div>"
      ],
      "text/plain": [
       "shape: (5, 2)\n",
       "┌────────┬─────────────┐\n",
       "│ row_id ┆ responder_6 │\n",
       "│ ---    ┆ ---         │\n",
       "│ i64    ┆ f32         │\n",
       "╞════════╪═════════════╡\n",
       "│ 0      ┆ -0.083366   │\n",
       "│ 1      ┆ -0.083366   │\n",
       "│ 2      ┆ -0.083366   │\n",
       "│ 3      ┆ -0.083366   │\n",
       "│ 4      ┆ -0.083366   │\n",
       "└────────┴─────────────┘"
      ]
     },
     "execution_count": 4,
     "metadata": {},
     "output_type": "execute_result"
    }
   ],
   "source": [
    "predict(pl.read_parquet(Path(\"/kaggle/input/jane-street-real-time-market-data-forecasting/\") / Path(\"test.parquet/date_id=0/part-0.parquet\")), None).head()"
   ]
  },
  {
   "cell_type": "code",
   "execution_count": 5,
   "id": "e2f1b0fa",
   "metadata": {
    "_cell_guid": "b1076dfc-b9ad-4769-8c92-a6c4dae69d19",
    "_uuid": "8f2839f25d086af736a60e9eeb907d3b93b6e0e5",
    "execution": {
     "iopub.execute_input": "2024-12-19T14:21:33.370363Z",
     "iopub.status.busy": "2024-12-19T14:21:33.369954Z",
     "iopub.status.idle": "2024-12-19T14:21:33.682803Z",
     "shell.execute_reply": "2024-12-19T14:21:33.681688Z"
    },
    "papermill": {
     "duration": 0.319405,
     "end_time": "2024-12-19T14:21:33.685256",
     "exception": false,
     "start_time": "2024-12-19T14:21:33.365851",
     "status": "completed"
    },
    "tags": []
   },
   "outputs": [
    {
     "name": "stdout",
     "output_type": "stream",
     "text": [
      "\u001b[1m2/2\u001b[0m \u001b[32m━━━━━━━━━━━━━━━━━━━━\u001b[0m\u001b[37m\u001b[0m \u001b[1m0s\u001b[0m 3ms/step \n"
     ]
    }
   ],
   "source": [
    "inference_server = kaggle_evaluation.jane_street_inference_server.JSInferenceServer(predict)\n",
    "\n",
    "if os.getenv('KAGGLE_IS_COMPETITION_RERUN'):\n",
    "    inference_server.serve()\n",
    "else:\n",
    "    inference_server.run_local_gateway(\n",
    "        (\n",
    "            '/kaggle/input/jane-street-real-time-market-data-forecasting/test.parquet',\n",
    "            '/kaggle/input/jane-street-real-time-market-data-forecasting/lags.parquet',\n",
    "        )\n",
    "    )"
   ]
  },
  {
   "cell_type": "code",
   "execution_count": null,
   "id": "d5622d90",
   "metadata": {
    "papermill": {
     "duration": 0.002682,
     "end_time": "2024-12-19T14:21:33.691135",
     "exception": false,
     "start_time": "2024-12-19T14:21:33.688453",
     "status": "completed"
    },
    "tags": []
   },
   "outputs": [],
   "source": []
  }
 ],
 "metadata": {
  "kaggle": {
   "accelerator": "none",
   "dataSources": [
    {
     "databundleVersionId": 9871156,
     "sourceId": 84493,
     "sourceType": "competition"
    },
    {
     "sourceId": 213789561,
     "sourceType": "kernelVersion"
    }
   ],
   "dockerImageVersionId": 30786,
   "isGpuEnabled": false,
   "isInternetEnabled": false,
   "language": "python",
   "sourceType": "notebook"
  },
  "kernelspec": {
   "display_name": "Python 3",
   "language": "python",
   "name": "python3"
  },
  "language_info": {
   "codemirror_mode": {
    "name": "ipython",
    "version": 3
   },
   "file_extension": ".py",
   "mimetype": "text/x-python",
   "name": "python",
   "nbconvert_exporter": "python",
   "pygments_lexer": "ipython3",
   "version": "3.10.14"
  },
  "papermill": {
   "default_parameters": {},
   "duration": 24.043468,
   "end_time": "2024-12-19T14:21:35.223409",
   "environment_variables": {},
   "exception": null,
   "input_path": "__notebook__.ipynb",
   "output_path": "__notebook__.ipynb",
   "parameters": {},
   "start_time": "2024-12-19T14:21:11.179941",
   "version": "2.6.0"
  }
 },
 "nbformat": 4,
 "nbformat_minor": 5
}
