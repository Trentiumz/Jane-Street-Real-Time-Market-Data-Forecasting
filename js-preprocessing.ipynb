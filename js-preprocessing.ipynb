{
 "cells": [
  {
   "cell_type": "code",
   "execution_count": 1,
   "id": "f0f883b8",
   "metadata": {
    "_cell_guid": "b1076dfc-b9ad-4769-8c92-a6c4dae69d19",
    "_uuid": "8f2839f25d086af736a60e9eeb907d3b93b6e0e5",
    "execution": {
     "iopub.execute_input": "2024-12-24T23:37:02.240364Z",
     "iopub.status.busy": "2024-12-24T23:37:02.239895Z",
     "iopub.status.idle": "2024-12-24T23:37:03.027422Z",
     "shell.execute_reply": "2024-12-24T23:37:03.025925Z"
    },
    "papermill": {
     "duration": 0.794802,
     "end_time": "2024-12-24T23:37:03.029595",
     "exception": false,
     "start_time": "2024-12-24T23:37:02.234793",
     "status": "completed"
    },
    "tags": []
   },
   "outputs": [],
   "source": [
    "import numpy as np # linear algebra\n",
    "import polars as pl # data processing, CSV file I/O (e.g. pd.read_csv)\n",
    "import pandas as pd\n",
    "import os\n",
    "from pathlib import Path\n",
    "import sys\n",
    "import matplotlib as plt\n",
    "from matplotlib import pyplot\n",
    "import gc"
   ]
  },
  {
   "cell_type": "markdown",
   "id": "37d509bc",
   "metadata": {
    "papermill": {
     "duration": 0.00249,
     "end_time": "2024-12-24T23:37:03.035453",
     "exception": false,
     "start_time": "2024-12-24T23:37:03.032963",
     "status": "completed"
    },
    "tags": []
   },
   "source": [
    "## Adding Lags"
   ]
  },
  {
   "cell_type": "code",
   "execution_count": 2,
   "id": "bd0d7238",
   "metadata": {
    "execution": {
     "iopub.execute_input": "2024-12-24T23:37:03.042247Z",
     "iopub.status.busy": "2024-12-24T23:37:03.041614Z",
     "iopub.status.idle": "2024-12-24T23:39:49.976846Z",
     "shell.execute_reply": "2024-12-24T23:39:49.975243Z"
    },
    "papermill": {
     "duration": 166.941734,
     "end_time": "2024-12-24T23:39:49.979633",
     "exception": false,
     "start_time": "2024-12-24T23:37:03.037899",
     "status": "completed"
    },
    "tags": []
   },
   "outputs": [
    {
     "name": "stdout",
     "output_type": "stream",
     "text": [
      "shapes for 0:  (1944210, 101) (1944210, 92)\n",
      "shapes for 1:  (2804247, 101) (2804247, 92)\n",
      "shapes for 2:  (3036873, 101) (3036873, 92)\n",
      "shapes for 3:  (4016784, 101) (4016784, 92)\n",
      "shapes for 4:  (5022952, 101) (5022952, 92)\n",
      "shapes for 5:  (5348200, 101) (5348200, 92)\n",
      "shapes for 6:  (6203912, 101) (6203912, 92)\n",
      "shapes for 7:  (6335560, 101) (6335560, 92)\n",
      "shapes for 8:  (6140024, 101) (6140024, 92)\n",
      "shapes for 9:  (6274576, 101) (6274576, 92)\n"
     ]
    }
   ],
   "source": [
    "base_path = Path(\"/kaggle/input/jane-street-real-time-market-data-forecasting/\")\n",
    "train_path = base_path / Path(\"train.parquet/\")\n",
    "\n",
    "for i in range(10):\n",
    "    path = train_path / Path(f\"partition_id={i}/part-0.parquet\")\n",
    "    df = pl.read_parquet(path)\n",
    "    responders = [i for i in df.columns if i.startswith('responder')]\n",
    "    \n",
    "    last_reading = df.group_by(('date_id', 'symbol_id'), maintain_order=True).last()\n",
    "    join_to = last_reading.with_columns(last_reading['date_id'] + 1)[['date_id', 'symbol_id'] + responders]\n",
    "    \n",
    "    df_grouped = df.join(join_to, ['date_id', 'symbol_id'], how='left', suffix='_lag')\n",
    "    \n",
    "    print(f\"shapes for {i}: \", df_grouped.shape, df.shape)\n",
    "    del df\n",
    "    gc.collect()\n",
    "    \n",
    "    partition_dir = f\"train/partition_id={i}\"\n",
    "    os.makedirs(partition_dir, exist_ok=True)\n",
    "    df_grouped.write_parquet(os.path.join(partition_dir, \"part-0.parquet\"))"
   ]
  },
  {
   "cell_type": "markdown",
   "id": "227dc461",
   "metadata": {
    "papermill": {
     "duration": 0.0111,
     "end_time": "2024-12-24T23:39:49.996810",
     "exception": false,
     "start_time": "2024-12-24T23:39:49.985710",
     "status": "completed"
    },
    "tags": []
   },
   "source": [
    "## Calculate Means"
   ]
  },
  {
   "cell_type": "code",
   "execution_count": 3,
   "id": "d625b62a",
   "metadata": {
    "execution": {
     "iopub.execute_input": "2024-12-24T23:39:50.016737Z",
     "iopub.status.busy": "2024-12-24T23:39:50.016088Z",
     "iopub.status.idle": "2024-12-24T23:40:25.778190Z",
     "shell.execute_reply": "2024-12-24T23:40:25.776932Z"
    },
    "papermill": {
     "duration": 35.77532,
     "end_time": "2024-12-24T23:40:25.780768",
     "exception": false,
     "start_time": "2024-12-24T23:39:50.005448",
     "status": "completed"
    },
    "tags": []
   },
   "outputs": [],
   "source": [
    "train_read_paths = [train_path / Path(f\"partition_id={i}/part-0.parquet\") for i in [0, 1, 2, 3, 4, 5, 6, 7]]\n",
    "df = pl.concat([pl.read_parquet(path) for path in train_read_paths])\n",
    "features = [i for i in df.columns if i.startswith('feature_')]"
   ]
  },
  {
   "cell_type": "code",
   "execution_count": 4,
   "id": "72679bbb",
   "metadata": {
    "execution": {
     "iopub.execute_input": "2024-12-24T23:40:25.789883Z",
     "iopub.status.busy": "2024-12-24T23:40:25.789403Z",
     "iopub.status.idle": "2024-12-24T23:41:56.654772Z",
     "shell.execute_reply": "2024-12-24T23:41:56.653298Z"
    },
    "papermill": {
     "duration": 90.872452,
     "end_time": "2024-12-24T23:41:56.657242",
     "exception": false,
     "start_time": "2024-12-24T23:40:25.784790",
     "status": "completed"
    },
    "tags": []
   },
   "outputs": [],
   "source": [
    "median_before = [df[i].quantile(0.5) for i in features]\n",
    "stds_before = [df[i].std() for i in features]\n",
    "\n",
    "outlier_low = [median - 3 * std for median, std in zip(median_before, stds_before)]\n",
    "outlier_high = [median + 3 * std for median, std in zip(median_before, stds_before)]"
   ]
  },
  {
   "cell_type": "code",
   "execution_count": 5,
   "id": "85c80397",
   "metadata": {
    "execution": {
     "iopub.execute_input": "2024-12-24T23:41:56.665925Z",
     "iopub.status.busy": "2024-12-24T23:41:56.665589Z",
     "iopub.status.idle": "2024-12-24T23:42:13.840897Z",
     "shell.execute_reply": "2024-12-24T23:42:13.839642Z"
    },
    "papermill": {
     "duration": 17.181913,
     "end_time": "2024-12-24T23:42:13.843125",
     "exception": false,
     "start_time": "2024-12-24T23:41:56.661212",
     "status": "completed"
    },
    "tags": []
   },
   "outputs": [],
   "source": [
    "for name, lo, hi in zip(features, outlier_low, outlier_high):\n",
    "    if df.schema[name] == pl.Int8:\n",
    "        lo = max(lo, -127)\n",
    "        hi = min(hi, 127)\n",
    "    df = df.with_columns(df[name].clip(lo, hi))"
   ]
  },
  {
   "cell_type": "code",
   "execution_count": 6,
   "id": "7982b163",
   "metadata": {
    "execution": {
     "iopub.execute_input": "2024-12-24T23:42:13.851596Z",
     "iopub.status.busy": "2024-12-24T23:42:13.851228Z",
     "iopub.status.idle": "2024-12-24T23:42:26.705973Z",
     "shell.execute_reply": "2024-12-24T23:42:26.703244Z"
    },
    "papermill": {
     "duration": 12.861812,
     "end_time": "2024-12-24T23:42:26.708705",
     "exception": false,
     "start_time": "2024-12-24T23:42:13.846893",
     "status": "completed"
    },
    "tags": []
   },
   "outputs": [],
   "source": [
    "means = [df[i].mean() for i in features]\n",
    "stds = [df[i].std() for i in features]"
   ]
  },
  {
   "cell_type": "code",
   "execution_count": 7,
   "id": "2bba6d8e",
   "metadata": {
    "execution": {
     "iopub.execute_input": "2024-12-24T23:42:26.722284Z",
     "iopub.status.busy": "2024-12-24T23:42:26.721684Z",
     "iopub.status.idle": "2024-12-24T23:42:26.749696Z",
     "shell.execute_reply": "2024-12-24T23:42:26.742634Z"
    },
    "papermill": {
     "duration": 0.038202,
     "end_time": "2024-12-24T23:42:26.752833",
     "exception": false,
     "start_time": "2024-12-24T23:42:26.714631",
     "status": "completed"
    },
    "tags": []
   },
   "outputs": [],
   "source": [
    "pl.DataFrame({\n",
    "    'name': features,\n",
    "    'mean': means,\n",
    "    'std': stds,\n",
    "    'lo': outlier_low,\n",
    "    'hi': outlier_high\n",
    "}).write_csv('feature_data.csv')"
   ]
  },
  {
   "cell_type": "code",
   "execution_count": null,
   "id": "eb679339",
   "metadata": {
    "papermill": {
     "duration": 0.005431,
     "end_time": "2024-12-24T23:42:26.768239",
     "exception": false,
     "start_time": "2024-12-24T23:42:26.762808",
     "status": "completed"
    },
    "tags": []
   },
   "outputs": [],
   "source": []
  }
 ],
 "metadata": {
  "kaggle": {
   "accelerator": "none",
   "dataSources": [
    {
     "databundleVersionId": 9871156,
     "sourceId": 84493,
     "sourceType": "competition"
    }
   ],
   "dockerImageVersionId": 30822,
   "isGpuEnabled": false,
   "isInternetEnabled": true,
   "language": "python",
   "sourceType": "notebook"
  },
  "kernelspec": {
   "display_name": "Python 3",
   "language": "python",
   "name": "python3"
  },
  "language_info": {
   "codemirror_mode": {
    "name": "ipython",
    "version": 3
   },
   "file_extension": ".py",
   "mimetype": "text/x-python",
   "name": "python",
   "nbconvert_exporter": "python",
   "pygments_lexer": "ipython3",
   "version": "3.10.12"
  },
  "papermill": {
   "default_parameters": {},
   "duration": 332.97032,
   "end_time": "2024-12-24T23:42:32.806513",
   "environment_variables": {},
   "exception": null,
   "input_path": "__notebook__.ipynb",
   "output_path": "__notebook__.ipynb",
   "parameters": {},
   "start_time": "2024-12-24T23:36:59.836193",
   "version": "2.6.0"
  }
 },
 "nbformat": 4,
 "nbformat_minor": 5
}
