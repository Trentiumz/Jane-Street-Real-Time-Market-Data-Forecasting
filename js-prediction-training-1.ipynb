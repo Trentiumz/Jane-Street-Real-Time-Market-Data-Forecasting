{
 "cells": [
  {
   "cell_type": "code",
   "execution_count": 1,
   "id": "86f0853f",
   "metadata": {
    "execution": {
     "iopub.execute_input": "2024-12-25T00:49:39.678172Z",
     "iopub.status.busy": "2024-12-25T00:49:39.677063Z",
     "iopub.status.idle": "2024-12-25T00:49:54.994746Z",
     "shell.execute_reply": "2024-12-25T00:49:54.993473Z"
    },
    "papermill": {
     "duration": 15.32659,
     "end_time": "2024-12-25T00:49:54.997236",
     "exception": false,
     "start_time": "2024-12-25T00:49:39.670646",
     "status": "completed"
    },
    "tags": []
   },
   "outputs": [],
   "source": [
    "# This Python 3 environment comes with many helpful analytics libraries installed\n",
    "# It is defined by the kaggle/python Docker image: https://github.com/kaggle/docker-python\n",
    "# For example, here's several helpful packages to load\n",
    "\n",
    "import numpy as np # linear algebra\n",
    "import polars as pl # data processing, CSV file I/O (e.g. pd.read_csv)\n",
    "import pandas as pd\n",
    "import os\n",
    "from pathlib import Path\n",
    "import tensorflow as tf\n",
    "from tensorflow import keras\n",
    "from tensorflow.keras import layers\n",
    "import gc\n",
    "import re\n",
    "\n",
    "# Input data files are available in the read-only \"../input/\" directory\n",
    "# For example, running this (by clicking run or pressing Shift+Enter) will list all files under the input directory\n",
    "\n",
    "# You can write up to 20GB to the current directory (/kaggle/working/) that gets preserved as output when you create a version using \"Save & Run All\" \n",
    "# You can also write temporary files to /kaggle/temp/, but they won't be saved outside of the current session"
   ]
  },
  {
   "cell_type": "markdown",
   "id": "5ba009eb",
   "metadata": {
    "papermill": {
     "duration": 0.003867,
     "end_time": "2024-12-25T00:49:55.005618",
     "exception": false,
     "start_time": "2024-12-25T00:49:55.001751",
     "status": "completed"
    },
    "tags": []
   },
   "source": [
    "## Read Input"
   ]
  },
  {
   "cell_type": "code",
   "execution_count": 2,
   "id": "6f58d669",
   "metadata": {
    "execution": {
     "iopub.execute_input": "2024-12-25T00:49:55.015487Z",
     "iopub.status.busy": "2024-12-25T00:49:55.014738Z",
     "iopub.status.idle": "2024-12-25T00:49:55.022130Z",
     "shell.execute_reply": "2024-12-25T00:49:55.021080Z"
    },
    "papermill": {
     "duration": 0.01464,
     "end_time": "2024-12-25T00:49:55.024190",
     "exception": false,
     "start_time": "2024-12-25T00:49:55.009550",
     "status": "completed"
    },
    "tags": []
   },
   "outputs": [],
   "source": [
    "base_path = Path(\"/kaggle/input/jane-street-real-time-market-data-forecasting/\")\n",
    "preprocess_path = Path('/kaggle/input/js-preprocessing/')\n",
    "train_path = preprocess_path / Path(\"train/\")\n",
    "train_read_paths = [train_path / Path(f\"partition_id={i}/part-0.parquet\") for i in [0, 1, 2, 3, 4, 5, 6, 7]]\n",
    "val_read_paths = [train_path / Path(f\"partition_id={i}/part-0.parquet\") for i in [8]]\n",
    "test_read_paths = [train_path / Path(f\"partition_id={i}/part-0.parquet\") for i in [9]]\n",
    "\n",
    "data_base_path = Path(\"/kaggle/input/js-preprocessing/\")\n",
    "feature_data_path = data_base_path / Path(\"feature_data.csv\")\n",
    "\n",
    "target = \"responder_6\""
   ]
  },
  {
   "cell_type": "code",
   "execution_count": 3,
   "id": "e21f73c2",
   "metadata": {
    "execution": {
     "iopub.execute_input": "2024-12-25T00:49:55.034034Z",
     "iopub.status.busy": "2024-12-25T00:49:55.033656Z",
     "iopub.status.idle": "2024-12-25T00:49:55.040967Z",
     "shell.execute_reply": "2024-12-25T00:49:55.040034Z"
    },
    "papermill": {
     "duration": 0.014709,
     "end_time": "2024-12-25T00:49:55.043090",
     "exception": false,
     "start_time": "2024-12-25T00:49:55.028381",
     "status": "completed"
    },
    "tags": []
   },
   "outputs": [],
   "source": [
    "class Config:\n",
    "    input_format = {\n",
    "        \"date_id\": tf.TensorSpec(shape=(None,), dtype=tf.float32),\n",
    "        \"time_id\": tf.TensorSpec(shape=(None,), dtype=tf.float32),\n",
    "        \"symbol_id\": tf.TensorSpec(shape=(None,), dtype=tf.float32),\n",
    "        \"weight\": tf.TensorSpec(shape=(None,), dtype=tf.float32),\n",
    "        \"features\": tf.TensorSpec(shape=(None, 79), dtype=tf.float32),\n",
    "        \"responders\": tf.TensorSpec(shape=(None, 9), dtype=tf.float32),\n",
    "        \"lags\": tf.TensorSpec(shape=(None, 9), dtype=tf.float32),\n",
    "        \"target\": tf.TensorSpec(shape=(None,), dtype=tf.float32)\n",
    "    }\n",
    "    train_batch_size = 32768\n",
    "\n",
    "config = Config()"
   ]
  },
  {
   "cell_type": "code",
   "execution_count": 4,
   "id": "07d8cc0f",
   "metadata": {
    "execution": {
     "iopub.execute_input": "2024-12-25T00:49:55.052649Z",
     "iopub.status.busy": "2024-12-25T00:49:55.052191Z",
     "iopub.status.idle": "2024-12-25T00:49:55.209103Z",
     "shell.execute_reply": "2024-12-25T00:49:55.207997Z"
    },
    "papermill": {
     "duration": 0.164432,
     "end_time": "2024-12-25T00:49:55.211551",
     "exception": false,
     "start_time": "2024-12-25T00:49:55.047119",
     "status": "completed"
    },
    "tags": []
   },
   "outputs": [],
   "source": [
    "feature_format = 'feature_\\d\\d'\n",
    "responder_format = 'responder_\\d'\n",
    "lag_format = 'responder_\\d_lag'\n",
    "\n",
    "def chunk_features(chunk):\n",
    "    return chunk[[i for i in chunk.columns if re.fullmatch(feature_format, i)]]\n",
    "def chunk_lags(chunk):\n",
    "    return chunk[[i for i in chunk.columns if re.fullmatch(lag_format, i)]]\n",
    "\n",
    "def from_files(paths):\n",
    "    def to_ret():\n",
    "        for filepath in paths:\n",
    "            chunk = pl.read_parquet(filepath)\n",
    "            yield {\n",
    "                \"date_id\": chunk[\"date_id\"],\n",
    "                \"time_id\": chunk[\"time_id\"],\n",
    "                \"symbol_id\": chunk[\"symbol_id\"],\n",
    "                \"weight\": chunk[\"weight\"],\n",
    "                \"features\": chunk_features(chunk),\n",
    "                \"responders\": chunk[[i for i in chunk.columns if re.fullmatch(responder_format, i)]],\n",
    "                \"lags\": chunk_lags(chunk),\n",
    "                \"target\": chunk[target]\n",
    "            }\n",
    "    return to_ret\n",
    "\n",
    "train_raw = tf.data.Dataset.from_generator(\n",
    "    from_files(train_read_paths),\n",
    "    output_signature=config.input_format\n",
    ").prefetch(tf.data.AUTOTUNE).cache()\n",
    "\n",
    "val_raw = tf.data.Dataset.from_generator(\n",
    "    from_files(val_read_paths),\n",
    "    output_signature=config.input_format\n",
    ").cache()\n",
    "\n",
    "test_raw = tf.data.Dataset.from_generator(\n",
    "    from_files(test_read_paths),\n",
    "    output_signature=config.input_format\n",
    ")"
   ]
  },
  {
   "cell_type": "code",
   "execution_count": 5,
   "id": "4791663f",
   "metadata": {
    "execution": {
     "iopub.execute_input": "2024-12-25T00:49:55.222457Z",
     "iopub.status.busy": "2024-12-25T00:49:55.222051Z",
     "iopub.status.idle": "2024-12-25T00:49:55.230463Z",
     "shell.execute_reply": "2024-12-25T00:49:55.229406Z"
    },
    "papermill": {
     "duration": 0.016844,
     "end_time": "2024-12-25T00:49:55.232545",
     "exception": false,
     "start_time": "2024-12-25T00:49:55.215701",
     "status": "completed"
    },
    "tags": []
   },
   "outputs": [
    {
     "data": {
      "text/plain": [
       "{'date_id': TensorSpec(shape=(None,), dtype=tf.float32, name=None),\n",
       " 'time_id': TensorSpec(shape=(None,), dtype=tf.float32, name=None),\n",
       " 'symbol_id': TensorSpec(shape=(None,), dtype=tf.float32, name=None),\n",
       " 'weight': TensorSpec(shape=(None,), dtype=tf.float32, name=None),\n",
       " 'features': TensorSpec(shape=(None, 79), dtype=tf.float32, name=None),\n",
       " 'responders': TensorSpec(shape=(None, 9), dtype=tf.float32, name=None),\n",
       " 'lags': TensorSpec(shape=(None, 9), dtype=tf.float32, name=None),\n",
       " 'target': TensorSpec(shape=(None,), dtype=tf.float32, name=None)}"
      ]
     },
     "execution_count": 5,
     "metadata": {},
     "output_type": "execute_result"
    }
   ],
   "source": [
    "train_raw.element_spec"
   ]
  },
  {
   "cell_type": "markdown",
   "id": "37b2f5b1",
   "metadata": {
    "papermill": {
     "duration": 0.00387,
     "end_time": "2024-12-25T00:49:55.240591",
     "exception": false,
     "start_time": "2024-12-25T00:49:55.236721",
     "status": "completed"
    },
    "tags": []
   },
   "source": [
    "## Filter, Clean, Normalize Data"
   ]
  },
  {
   "cell_type": "code",
   "execution_count": 6,
   "id": "b9634578",
   "metadata": {
    "execution": {
     "iopub.execute_input": "2024-12-25T00:49:55.250357Z",
     "iopub.status.busy": "2024-12-25T00:49:55.249953Z",
     "iopub.status.idle": "2024-12-25T00:49:55.350027Z",
     "shell.execute_reply": "2024-12-25T00:49:55.348636Z"
    },
    "papermill": {
     "duration": 0.107839,
     "end_time": "2024-12-25T00:49:55.352549",
     "exception": false,
     "start_time": "2024-12-25T00:49:55.244710",
     "status": "completed"
    },
    "tags": []
   },
   "outputs": [],
   "source": [
    "feature_data_df = pl.read_csv(feature_data_path)\n",
    "means = np.asarray(feature_data_df['mean']).astype('float32')\n",
    "stds = np.asarray(feature_data_df['std']).astype('float32')"
   ]
  },
  {
   "cell_type": "code",
   "execution_count": 7,
   "id": "6938b0cd",
   "metadata": {
    "execution": {
     "iopub.execute_input": "2024-12-25T00:49:55.363027Z",
     "iopub.status.busy": "2024-12-25T00:49:55.362667Z",
     "iopub.status.idle": "2024-12-25T00:49:55.592756Z",
     "shell.execute_reply": "2024-12-25T00:49:55.591581Z"
    },
    "papermill": {
     "duration": 0.238386,
     "end_time": "2024-12-25T00:49:55.595492",
     "exception": false,
     "start_time": "2024-12-25T00:49:55.357106",
     "status": "completed"
    },
    "tags": []
   },
   "outputs": [],
   "source": [
    "def clean_features(features):\n",
    "    return tf.where(\n",
    "        tf.logical_or(tf.math.is_nan(features), tf.math.is_inf(features)), \n",
    "        means, \n",
    "        features)\n",
    "\n",
    "def normalize_features(features):\n",
    "    return (features - means) / tf.math.maximum(1.0, stds)\n",
    "\n",
    "def clean_lags(lags):\n",
    "    return tf.where(\n",
    "        tf.logical_or(tf.math.is_nan(lags), tf.math.is_inf(lags)), \n",
    "        0.0, \n",
    "        lags)\n",
    "\n",
    "def format_data(features, lags):\n",
    "    return {\n",
    "        'feature': normalize_features(clean_features(features)),\n",
    "        'lags': clean_lags(lags)\n",
    "    }\n",
    "\n",
    "train_ds = train_raw.map(lambda i: (\n",
    "                        format_data(i['features'], i['lags']),\n",
    "                        i['target']\n",
    "                        )).unbatch().shuffle(10000).batch(config.train_batch_size)\n",
    "val_ds = val_raw.map(lambda i: (\n",
    "    format_data(i['features'], i['lags']),\n",
    "    i['target']\n",
    "))"
   ]
  },
  {
   "cell_type": "markdown",
   "id": "34bc6857",
   "metadata": {
    "execution": {
     "iopub.execute_input": "2024-12-18T04:06:27.478694Z",
     "iopub.status.busy": "2024-12-18T04:06:27.477500Z",
     "iopub.status.idle": "2024-12-18T04:06:27.485848Z",
     "shell.execute_reply": "2024-12-18T04:06:27.484622Z",
     "shell.execute_reply.started": "2024-12-18T04:06:27.478647Z"
    },
    "papermill": {
     "duration": 0.003815,
     "end_time": "2024-12-25T00:49:55.603558",
     "exception": false,
     "start_time": "2024-12-25T00:49:55.599743",
     "status": "completed"
    },
    "tags": []
   },
   "source": [
    "## Train a Model"
   ]
  },
  {
   "cell_type": "code",
   "execution_count": 8,
   "id": "69e9f4e1",
   "metadata": {
    "execution": {
     "iopub.execute_input": "2024-12-25T00:49:55.613230Z",
     "iopub.status.busy": "2024-12-25T00:49:55.612833Z",
     "iopub.status.idle": "2024-12-25T00:49:55.705971Z",
     "shell.execute_reply": "2024-12-25T00:49:55.704781Z"
    },
    "papermill": {
     "duration": 0.100867,
     "end_time": "2024-12-25T00:49:55.708515",
     "exception": false,
     "start_time": "2024-12-25T00:49:55.607648",
     "status": "completed"
    },
    "tags": []
   },
   "outputs": [],
   "source": [
    "feat_layer = keras.Input(shape=(79,), name='feature')\n",
    "lag_layer = keras.Input(shape=(9,), name='lags')\n",
    "inp = keras.layers.Concatenate()([feat_layer, lag_layer])\n",
    "x = layers.Dropout(rate=0.2)(inp)\n",
    "x = layers.Dense(units=40, activation=\"relu\", kernel_regularizer=\"l1l2\")(x)\n",
    "x = layers.Dense(units=30, activation=\"relu\", kernel_regularizer=\"l1l2\")(x)\n",
    "x = layers.Dropout(rate=0.2)(x)\n",
    "x = layers.Dense(units=20, activation=\"relu\", kernel_regularizer=\"l1l2\")(x)\n",
    "x = layers.Dense(units=10, activation=\"relu\")(x)\n",
    "x = layers.Dense(units=5, activation=\"relu\")(x)\n",
    "x = layers.Dense(units=1)(x)\n",
    "model = keras.Model(inputs=[feat_layer, lag_layer], outputs=x)"
   ]
  },
  {
   "cell_type": "code",
   "execution_count": 9,
   "id": "30ef10d6",
   "metadata": {
    "execution": {
     "iopub.execute_input": "2024-12-25T00:49:55.718628Z",
     "iopub.status.busy": "2024-12-25T00:49:55.718219Z",
     "iopub.status.idle": "2024-12-25T00:49:55.737206Z",
     "shell.execute_reply": "2024-12-25T00:49:55.736111Z"
    },
    "papermill": {
     "duration": 0.027117,
     "end_time": "2024-12-25T00:49:55.740000",
     "exception": false,
     "start_time": "2024-12-25T00:49:55.712883",
     "status": "completed"
    },
    "tags": []
   },
   "outputs": [],
   "source": [
    "def r2_loss(y_true, y_pred):\n",
    "    return tf.math.reduce_sum((y_true - y_pred) ** 2) / tf.math.reduce_sum(y_true ** 2)\n",
    "\n",
    "model.compile(optimizer=\"rmsprop\", loss=\"mse\", metrics=[keras.metrics.MeanAbsoluteError(), keras.metrics.R2Score()])"
   ]
  },
  {
   "cell_type": "code",
   "execution_count": 10,
   "id": "b08ee437",
   "metadata": {
    "execution": {
     "iopub.execute_input": "2024-12-25T00:49:55.749973Z",
     "iopub.status.busy": "2024-12-25T00:49:55.749586Z",
     "iopub.status.idle": "2024-12-25T01:27:38.535186Z",
     "shell.execute_reply": "2024-12-25T01:27:38.533509Z"
    },
    "papermill": {
     "duration": 2262.793852,
     "end_time": "2024-12-25T01:27:38.538077",
     "exception": false,
     "start_time": "2024-12-25T00:49:55.744225",
     "status": "completed"
    },
    "tags": []
   },
   "outputs": [
    {
     "name": "stdout",
     "output_type": "stream",
     "text": [
      "Epoch 1/10\n",
      "   1059/Unknown \u001b[1m229s\u001b[0m 209ms/step - loss: 0.8506 - mean_absolute_error: 0.6041 - r2_score: -0.0100"
     ]
    },
    {
     "name": "stderr",
     "output_type": "stream",
     "text": [
      "/opt/conda/lib/python3.10/contextlib.py:153: UserWarning: Your input ran out of data; interrupting training. Make sure that your dataset or generator can generate at least `steps_per_epoch * epochs` batches. You may need to use the `.repeat()` function when building your dataset.\n",
      "  self.gen.throw(typ, value, traceback)\n"
     ]
    },
    {
     "name": "stdout",
     "output_type": "stream",
     "text": [
      "\u001b[1m1060/1060\u001b[0m \u001b[32m━━━━━━━━━━━━━━━━━━━━\u001b[0m\u001b[37m\u001b[0m \u001b[1m249s\u001b[0m 227ms/step - loss: 0.8506 - mean_absolute_error: 0.6041 - r2_score: -0.0099 - val_loss: 0.7473 - val_mean_absolute_error: 0.5569 - val_r2_score: 0.0067 - learning_rate: 9.5000e-04\n",
      "Epoch 2/10\n",
      "\u001b[1m1060/1060\u001b[0m \u001b[32m━━━━━━━━━━━━━━━━━━━━\u001b[0m\u001b[37m\u001b[0m \u001b[1m217s\u001b[0m 200ms/step - loss: 0.8360 - mean_absolute_error: 0.5964 - r2_score: 0.0087 - val_loss: 0.7460 - val_mean_absolute_error: 0.5564 - val_r2_score: 0.0084 - learning_rate: 9.0250e-04\n",
      "Epoch 3/10\n",
      "\u001b[1m1060/1060\u001b[0m \u001b[32m━━━━━━━━━━━━━━━━━━━━\u001b[0m\u001b[37m\u001b[0m \u001b[1m226s\u001b[0m 209ms/step - loss: 0.8347 - mean_absolute_error: 0.5960 - r2_score: 0.0101 - val_loss: 0.7457 - val_mean_absolute_error: 0.5562 - val_r2_score: 0.0089 - learning_rate: 8.5737e-04\n",
      "Epoch 4/10\n",
      "\u001b[1m1060/1060\u001b[0m \u001b[32m━━━━━━━━━━━━━━━━━━━━\u001b[0m\u001b[37m\u001b[0m \u001b[1m218s\u001b[0m 202ms/step - loss: 0.8341 - mean_absolute_error: 0.5958 - r2_score: 0.0109 - val_loss: 0.7455 - val_mean_absolute_error: 0.5560 - val_r2_score: 0.0091 - learning_rate: 8.1451e-04\n",
      "Epoch 5/10\n",
      "\u001b[1m1060/1060\u001b[0m \u001b[32m━━━━━━━━━━━━━━━━━━━━\u001b[0m\u001b[37m\u001b[0m \u001b[1m231s\u001b[0m 215ms/step - loss: 0.8337 - mean_absolute_error: 0.5957 - r2_score: 0.0114 - val_loss: 0.7450 - val_mean_absolute_error: 0.5559 - val_r2_score: 0.0098 - learning_rate: 7.7378e-04\n",
      "Epoch 6/10\n",
      "\u001b[1m1060/1060\u001b[0m \u001b[32m━━━━━━━━━━━━━━━━━━━━\u001b[0m\u001b[37m\u001b[0m \u001b[1m218s\u001b[0m 202ms/step - loss: 0.8335 - mean_absolute_error: 0.5956 - r2_score: 0.0116 - val_loss: 0.7446 - val_mean_absolute_error: 0.5558 - val_r2_score: 0.0103 - learning_rate: 7.3509e-04\n",
      "Epoch 7/10\n",
      "\u001b[1m1060/1060\u001b[0m \u001b[32m━━━━━━━━━━━━━━━━━━━━\u001b[0m\u001b[37m\u001b[0m \u001b[1m225s\u001b[0m 209ms/step - loss: 0.8332 - mean_absolute_error: 0.5956 - r2_score: 0.0120 - val_loss: 0.7443 - val_mean_absolute_error: 0.5557 - val_r2_score: 0.0107 - learning_rate: 6.9834e-04\n",
      "Epoch 8/10\n",
      "\u001b[1m1060/1060\u001b[0m \u001b[32m━━━━━━━━━━━━━━━━━━━━\u001b[0m\u001b[37m\u001b[0m \u001b[1m229s\u001b[0m 212ms/step - loss: 0.8331 - mean_absolute_error: 0.5955 - r2_score: 0.0121 - val_loss: 0.7442 - val_mean_absolute_error: 0.5557 - val_r2_score: 0.0108 - learning_rate: 6.6342e-04\n",
      "Epoch 9/10\n",
      "\u001b[1m1060/1060\u001b[0m \u001b[32m━━━━━━━━━━━━━━━━━━━━\u001b[0m\u001b[37m\u001b[0m \u001b[1m212s\u001b[0m 197ms/step - loss: 0.8328 - mean_absolute_error: 0.5954 - r2_score: 0.0125 - val_loss: 0.7439 - val_mean_absolute_error: 0.5557 - val_r2_score: 0.0112 - learning_rate: 6.3025e-04\n",
      "Epoch 10/10\n",
      "\u001b[1m1060/1060\u001b[0m \u001b[32m━━━━━━━━━━━━━━━━━━━━\u001b[0m\u001b[37m\u001b[0m \u001b[1m237s\u001b[0m 220ms/step - loss: 0.8327 - mean_absolute_error: 0.5954 - r2_score: 0.0125 - val_loss: 0.7438 - val_mean_absolute_error: 0.5556 - val_r2_score: 0.0113 - learning_rate: 5.9874e-04\n"
     ]
    }
   ],
   "source": [
    "callbacks = [\n",
    "    keras.callbacks.ModelCheckpoint('/kaggle/working/fitted.keras', save_best_only=True),\n",
    "    keras.callbacks.ModelCheckpoint('/kaggle/working/intermediate.keras', save_best_only=False),\n",
    "    keras.callbacks.LearningRateScheduler(lambda epoch, lr: lr * 0.95),\n",
    "    keras.callbacks.EarlyStopping(patience=2)\n",
    "]\n",
    "\n",
    "history = model.fit(x=train_ds, validation_data=val_ds, epochs=10, callbacks = callbacks)"
   ]
  },
  {
   "cell_type": "markdown",
   "id": "f8fbda5b",
   "metadata": {
    "execution": {
     "iopub.execute_input": "2024-12-19T21:16:33.404263Z",
     "iopub.status.busy": "2024-12-19T21:16:33.403835Z",
     "iopub.status.idle": "2024-12-19T21:16:41.038672Z",
     "shell.execute_reply": "2024-12-19T21:16:41.037480Z",
     "shell.execute_reply.started": "2024-12-19T21:16:33.404225Z"
    },
    "papermill": {
     "duration": 0.690223,
     "end_time": "2024-12-25T01:27:39.854205",
     "exception": false,
     "start_time": "2024-12-25T01:27:39.163982",
     "status": "completed"
    },
    "tags": []
   },
   "source": [
    "## Evaluate Model"
   ]
  },
  {
   "cell_type": "code",
   "execution_count": 11,
   "id": "cce3c316",
   "metadata": {
    "execution": {
     "iopub.execute_input": "2024-12-25T01:27:41.152255Z",
     "iopub.status.busy": "2024-12-25T01:27:41.150572Z",
     "iopub.status.idle": "2024-12-25T01:27:41.212174Z",
     "shell.execute_reply": "2024-12-25T01:27:41.210395Z"
    },
    "papermill": {
     "duration": 0.750329,
     "end_time": "2024-12-25T01:27:41.214690",
     "exception": false,
     "start_time": "2024-12-25T01:27:40.464361",
     "status": "completed"
    },
    "tags": []
   },
   "outputs": [],
   "source": [
    "test_ds = test_raw.map(lambda i: (\n",
    "                        format_data(i['features'], i['lags']),\n",
    "                        i['target']\n",
    "                        ))"
   ]
  },
  {
   "cell_type": "code",
   "execution_count": 12,
   "id": "53062ea8",
   "metadata": {
    "execution": {
     "iopub.execute_input": "2024-12-25T01:27:42.526185Z",
     "iopub.status.busy": "2024-12-25T01:27:42.525743Z",
     "iopub.status.idle": "2024-12-25T01:27:42.650980Z",
     "shell.execute_reply": "2024-12-25T01:27:42.650025Z"
    },
    "papermill": {
     "duration": 0.822487,
     "end_time": "2024-12-25T01:27:42.653486",
     "exception": false,
     "start_time": "2024-12-25T01:27:41.830999",
     "status": "completed"
    },
    "tags": []
   },
   "outputs": [],
   "source": [
    "model = keras.models.load_model('/kaggle/working/fitted.keras', custom_objects={\n",
    "    'r2_loss': r2_loss\n",
    "})"
   ]
  },
  {
   "cell_type": "code",
   "execution_count": 13,
   "id": "336e29f1",
   "metadata": {
    "execution": {
     "iopub.execute_input": "2024-12-25T01:27:43.917077Z",
     "iopub.status.busy": "2024-12-25T01:27:43.916146Z",
     "iopub.status.idle": "2024-12-25T01:28:02.836061Z",
     "shell.execute_reply": "2024-12-25T01:28:02.834874Z"
    },
    "papermill": {
     "duration": 19.540924,
     "end_time": "2024-12-25T01:28:02.838605",
     "exception": false,
     "start_time": "2024-12-25T01:27:43.297681",
     "status": "completed"
    },
    "tags": []
   },
   "outputs": [
    {
     "name": "stdout",
     "output_type": "stream",
     "text": [
      "\u001b[1m1/1\u001b[0m \u001b[32m━━━━━━━━━━━━━━━━━━━━\u001b[0m\u001b[37m\u001b[0m \u001b[1m19s\u001b[0m 19s/step - loss: 0.6586 - mean_absolute_error: 0.5332 - r2_score: 0.0065\n"
     ]
    },
    {
     "data": {
      "text/plain": [
       "[0.6585510969161987, 0.5331693291664124, 0.006452441215515137]"
      ]
     },
     "execution_count": 13,
     "metadata": {},
     "output_type": "execute_result"
    }
   ],
   "source": [
    "model.evaluate(x=test_ds)"
   ]
  },
  {
   "cell_type": "code",
   "execution_count": null,
   "id": "849b366c",
   "metadata": {
    "papermill": {
     "duration": 0.616322,
     "end_time": "2024-12-25T01:28:04.156884",
     "exception": false,
     "start_time": "2024-12-25T01:28:03.540562",
     "status": "completed"
    },
    "tags": []
   },
   "outputs": [],
   "source": []
  }
 ],
 "metadata": {
  "kaggle": {
   "accelerator": "none",
   "dataSources": [
    {
     "databundleVersionId": 9871156,
     "sourceId": 84493,
     "sourceType": "competition"
    },
    {
     "sourceId": 214656673,
     "sourceType": "kernelVersion"
    }
   ],
   "dockerImageVersionId": 30805,
   "isGpuEnabled": false,
   "isInternetEnabled": false,
   "language": "python",
   "sourceType": "notebook"
  },
  "kernelspec": {
   "display_name": "Python 3",
   "language": "python",
   "name": "python3"
  },
  "language_info": {
   "codemirror_mode": {
    "name": "ipython",
    "version": 3
   },
   "file_extension": ".py",
   "mimetype": "text/x-python",
   "name": "python",
   "nbconvert_exporter": "python",
   "pygments_lexer": "ipython3",
   "version": "3.10.14"
  },
  "papermill": {
   "default_parameters": {},
   "duration": 2311.505324,
   "end_time": "2024-12-25T01:28:07.956534",
   "environment_variables": {},
   "exception": null,
   "input_path": "__notebook__.ipynb",
   "output_path": "__notebook__.ipynb",
   "parameters": {},
   "start_time": "2024-12-25T00:49:36.451210",
   "version": "2.6.0"
  }
 },
 "nbformat": 4,
 "nbformat_minor": 5
}
