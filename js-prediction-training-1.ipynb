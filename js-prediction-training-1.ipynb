{
 "cells": [
  {
   "cell_type": "code",
   "execution_count": 1,
   "id": "fd6d7412",
   "metadata": {
    "execution": {
     "iopub.execute_input": "2024-12-23T03:23:58.130044Z",
     "iopub.status.busy": "2024-12-23T03:23:58.129486Z",
     "iopub.status.idle": "2024-12-23T03:24:13.661383Z",
     "shell.execute_reply": "2024-12-23T03:24:13.660183Z"
    },
    "papermill": {
     "duration": 15.540527,
     "end_time": "2024-12-23T03:24:13.663964",
     "exception": false,
     "start_time": "2024-12-23T03:23:58.123437",
     "status": "completed"
    },
    "tags": []
   },
   "outputs": [],
   "source": [
    "# This Python 3 environment comes with many helpful analytics libraries installed\n",
    "# It is defined by the kaggle/python Docker image: https://github.com/kaggle/docker-python\n",
    "# For example, here's several helpful packages to load\n",
    "\n",
    "import numpy as np # linear algebra\n",
    "import polars as pl # data processing, CSV file I/O (e.g. pd.read_csv)\n",
    "import pandas as pd\n",
    "import os\n",
    "from pathlib import Path\n",
    "import tensorflow as tf\n",
    "from tensorflow import keras\n",
    "from tensorflow.keras import layers\n",
    "\n",
    "# Input data files are available in the read-only \"../input/\" directory\n",
    "# For example, running this (by clicking run or pressing Shift+Enter) will list all files under the input directory\n",
    "\n",
    "# You can write up to 20GB to the current directory (/kaggle/working/) that gets preserved as output when you create a version using \"Save & Run All\" \n",
    "# You can also write temporary files to /kaggle/temp/, but they won't be saved outside of the current session"
   ]
  },
  {
   "cell_type": "markdown",
   "id": "ec24e992",
   "metadata": {
    "papermill": {
     "duration": 0.003347,
     "end_time": "2024-12-23T03:24:13.671443",
     "exception": false,
     "start_time": "2024-12-23T03:24:13.668096",
     "status": "completed"
    },
    "tags": []
   },
   "source": [
    "## Read Input"
   ]
  },
  {
   "cell_type": "code",
   "execution_count": 2,
   "id": "6674eec6",
   "metadata": {
    "execution": {
     "iopub.execute_input": "2024-12-23T03:24:13.681053Z",
     "iopub.status.busy": "2024-12-23T03:24:13.679844Z",
     "iopub.status.idle": "2024-12-23T03:24:13.686806Z",
     "shell.execute_reply": "2024-12-23T03:24:13.685828Z"
    },
    "papermill": {
     "duration": 0.013671,
     "end_time": "2024-12-23T03:24:13.688722",
     "exception": false,
     "start_time": "2024-12-23T03:24:13.675051",
     "status": "completed"
    },
    "tags": []
   },
   "outputs": [],
   "source": [
    "base_path = Path(\"/kaggle/input/jane-street-real-time-market-data-forecasting/\")\n",
    "train_path = base_path / Path(\"train.parquet\")\n",
    "train_read_paths = [train_path / Path(f\"partition_id={i}/part-0.parquet\") for i in [0, 1, 2, 3, 4, 5, 6, 7]]\n",
    "val_read_paths = [train_path / Path(f\"partition_id={i}/part-0.parquet\") for i in [8]]\n",
    "test_read_paths = [train_path / Path(f\"partition_id={i}/part-0.parquet\") for i in [9]]\n",
    "\n",
    "data_base_path = Path(\"/kaggle/input/js-feature-exploration/\")\n",
    "feature_data_path = data_base_path / Path(\"feature_data.csv\")\n",
    "\n",
    "target = \"responder_6\""
   ]
  },
  {
   "cell_type": "code",
   "execution_count": 3,
   "id": "55b5710a",
   "metadata": {
    "execution": {
     "iopub.execute_input": "2024-12-23T03:24:13.698232Z",
     "iopub.status.busy": "2024-12-23T03:24:13.697567Z",
     "iopub.status.idle": "2024-12-23T03:24:13.703962Z",
     "shell.execute_reply": "2024-12-23T03:24:13.703013Z"
    },
    "papermill": {
     "duration": 0.013175,
     "end_time": "2024-12-23T03:24:13.705987",
     "exception": false,
     "start_time": "2024-12-23T03:24:13.692812",
     "status": "completed"
    },
    "tags": []
   },
   "outputs": [],
   "source": [
    "class Config:\n",
    "    input_format = {\n",
    "        \"date_id\": tf.TensorSpec(shape=(None,), dtype=tf.float32),\n",
    "        \"time_id\": tf.TensorSpec(shape=(None,), dtype=tf.float32),\n",
    "        \"symbol_id\": tf.TensorSpec(shape=(None,), dtype=tf.float32),\n",
    "        \"weight\": tf.TensorSpec(shape=(None,), dtype=tf.float32),\n",
    "        \"features\": tf.TensorSpec(shape=(None, 79), dtype=tf.float32),\n",
    "        \"responders\": tf.TensorSpec(shape=(None, 9), dtype=tf.float32),\n",
    "        \"target\": tf.TensorSpec(shape=(None,), dtype=tf.float32)\n",
    "    }\n",
    "    train_batch_size = 32\n",
    "\n",
    "config = Config()"
   ]
  },
  {
   "cell_type": "code",
   "execution_count": 4,
   "id": "dbb30f2a",
   "metadata": {
    "execution": {
     "iopub.execute_input": "2024-12-23T03:24:13.715283Z",
     "iopub.status.busy": "2024-12-23T03:24:13.714423Z",
     "iopub.status.idle": "2024-12-23T03:24:13.866697Z",
     "shell.execute_reply": "2024-12-23T03:24:13.865888Z"
    },
    "papermill": {
     "duration": 0.159308,
     "end_time": "2024-12-23T03:24:13.869093",
     "exception": false,
     "start_time": "2024-12-23T03:24:13.709785",
     "status": "completed"
    },
    "tags": []
   },
   "outputs": [],
   "source": [
    "def chunk_features(chunk):\n",
    "    return chunk[[i for i in chunk.columns if i.startswith(\"feature_\")]]\n",
    "\n",
    "def from_files(paths):\n",
    "    def to_ret():\n",
    "        for filepath in paths:\n",
    "            chunk = pl.read_parquet(filepath)\n",
    "            yield {\n",
    "                \"date_id\": chunk[\"date_id\"],\n",
    "                \"time_id\": chunk[\"time_id\"],\n",
    "                \"symbol_id\": chunk[\"symbol_id\"],\n",
    "                \"weight\": chunk[\"weight\"],\n",
    "                \"features\": chunk_features(chunk),\n",
    "                \"responders\": chunk[[i for i in chunk.columns if i.startswith(\"responder_\")]],\n",
    "                \"target\": chunk[target]\n",
    "            }\n",
    "    return to_ret\n",
    "\n",
    "train_raw = tf.data.Dataset.from_generator(\n",
    "    from_files(train_read_paths),\n",
    "    output_signature=config.input_format\n",
    ").prefetch(tf.data.AUTOTUNE).cache()\n",
    "\n",
    "val_raw = tf.data.Dataset.from_generator(\n",
    "    from_files(val_read_paths),\n",
    "    output_signature=config.input_format\n",
    ").cache()\n",
    "\n",
    "test_raw = tf.data.Dataset.from_generator(\n",
    "    from_files(test_read_paths),\n",
    "    output_signature=config.input_format\n",
    ")"
   ]
  },
  {
   "cell_type": "code",
   "execution_count": 5,
   "id": "ef0f5243",
   "metadata": {
    "execution": {
     "iopub.execute_input": "2024-12-23T03:24:13.878317Z",
     "iopub.status.busy": "2024-12-23T03:24:13.877877Z",
     "iopub.status.idle": "2024-12-23T03:24:13.885690Z",
     "shell.execute_reply": "2024-12-23T03:24:13.884659Z"
    },
    "papermill": {
     "duration": 0.014597,
     "end_time": "2024-12-23T03:24:13.887476",
     "exception": false,
     "start_time": "2024-12-23T03:24:13.872879",
     "status": "completed"
    },
    "tags": []
   },
   "outputs": [
    {
     "data": {
      "text/plain": [
       "{'date_id': TensorSpec(shape=(None,), dtype=tf.float32, name=None),\n",
       " 'time_id': TensorSpec(shape=(None,), dtype=tf.float32, name=None),\n",
       " 'symbol_id': TensorSpec(shape=(None,), dtype=tf.float32, name=None),\n",
       " 'weight': TensorSpec(shape=(None,), dtype=tf.float32, name=None),\n",
       " 'features': TensorSpec(shape=(None, 79), dtype=tf.float32, name=None),\n",
       " 'responders': TensorSpec(shape=(None, 9), dtype=tf.float32, name=None),\n",
       " 'target': TensorSpec(shape=(None,), dtype=tf.float32, name=None)}"
      ]
     },
     "execution_count": 5,
     "metadata": {},
     "output_type": "execute_result"
    }
   ],
   "source": [
    "train_raw.element_spec"
   ]
  },
  {
   "cell_type": "markdown",
   "id": "5b9a9b40",
   "metadata": {
    "papermill": {
     "duration": 0.003342,
     "end_time": "2024-12-23T03:24:13.895701",
     "exception": false,
     "start_time": "2024-12-23T03:24:13.892359",
     "status": "completed"
    },
    "tags": []
   },
   "source": [
    "## Filter, Clean, Normalize Data"
   ]
  },
  {
   "cell_type": "code",
   "execution_count": 6,
   "id": "fd4ed98a",
   "metadata": {
    "execution": {
     "iopub.execute_input": "2024-12-23T03:24:13.904307Z",
     "iopub.status.busy": "2024-12-23T03:24:13.903900Z",
     "iopub.status.idle": "2024-12-23T03:24:14.008760Z",
     "shell.execute_reply": "2024-12-23T03:24:14.007680Z"
    },
    "papermill": {
     "duration": 0.111914,
     "end_time": "2024-12-23T03:24:14.011152",
     "exception": false,
     "start_time": "2024-12-23T03:24:13.899238",
     "status": "completed"
    },
    "tags": []
   },
   "outputs": [],
   "source": [
    "feature_data_df = pl.read_csv(feature_data_path)\n",
    "means = np.asarray(feature_data_df['mean']).astype('float32')\n",
    "stds = np.asarray(feature_data_df['std']).astype('float32')"
   ]
  },
  {
   "cell_type": "code",
   "execution_count": 7,
   "id": "532d95f8",
   "metadata": {
    "execution": {
     "iopub.execute_input": "2024-12-23T03:24:14.019872Z",
     "iopub.status.busy": "2024-12-23T03:24:14.019519Z",
     "iopub.status.idle": "2024-12-23T03:24:14.188976Z",
     "shell.execute_reply": "2024-12-23T03:24:14.187868Z"
    },
    "papermill": {
     "duration": 0.176283,
     "end_time": "2024-12-23T03:24:14.191292",
     "exception": false,
     "start_time": "2024-12-23T03:24:14.015009",
     "status": "completed"
    },
    "tags": []
   },
   "outputs": [],
   "source": [
    "def clean_data(features):\n",
    "    return tf.where(\n",
    "        tf.logical_or(tf.math.is_nan(features), tf.math.is_inf(features)), \n",
    "        means, \n",
    "        features)\n",
    "\n",
    "def normalize_data(features):\n",
    "    return (features - means) / tf.math.maximum(1.0, stds)\n",
    "\n",
    "def format_data(features):\n",
    "    return normalize_data(clean_data(features))\n",
    "\n",
    "train_ds = train_raw.map(lambda i: (\n",
    "                        format_data(i['features']),\n",
    "                        i['target']\n",
    "                        )).unbatch().shuffle(10000).batch(config.train_batch_size)\n",
    "val_ds = val_raw.map(lambda i: (\n",
    "    format_data(i['features']),\n",
    "    i['target']\n",
    "))"
   ]
  },
  {
   "cell_type": "markdown",
   "id": "3c2eabf3",
   "metadata": {
    "execution": {
     "iopub.execute_input": "2024-12-18T04:06:27.478694Z",
     "iopub.status.busy": "2024-12-18T04:06:27.477500Z",
     "iopub.status.idle": "2024-12-18T04:06:27.485848Z",
     "shell.execute_reply": "2024-12-18T04:06:27.484622Z",
     "shell.execute_reply.started": "2024-12-18T04:06:27.478647Z"
    },
    "papermill": {
     "duration": 0.003388,
     "end_time": "2024-12-23T03:24:14.198388",
     "exception": false,
     "start_time": "2024-12-23T03:24:14.195000",
     "status": "completed"
    },
    "tags": []
   },
   "source": [
    "## Train a Model"
   ]
  },
  {
   "cell_type": "code",
   "execution_count": 8,
   "id": "bcfcbfee",
   "metadata": {
    "execution": {
     "iopub.execute_input": "2024-12-23T03:24:14.207420Z",
     "iopub.status.busy": "2024-12-23T03:24:14.206509Z",
     "iopub.status.idle": "2024-12-23T03:24:14.300632Z",
     "shell.execute_reply": "2024-12-23T03:24:14.299387Z"
    },
    "papermill": {
     "duration": 0.101153,
     "end_time": "2024-12-23T03:24:14.303041",
     "exception": false,
     "start_time": "2024-12-23T03:24:14.201888",
     "status": "completed"
    },
    "tags": []
   },
   "outputs": [],
   "source": [
    "inp = keras.Input(shape=(79,))\n",
    "x = layers.Dropout(rate=0.2)(inp)\n",
    "x = layers.Dense(units=40, activation=\"relu\", kernel_regularizer=\"l1l2\")(x)\n",
    "x = layers.Dropout(rate=0.2)(x)\n",
    "x = layers.Dense(units=30, activation=\"relu\", kernel_regularizer=\"l1l2\")(x)\n",
    "x = layers.Dropout(rate=0.2)(x)\n",
    "x = layers.Dense(units=20, activation=\"relu\", kernel_regularizer=\"l1l2\")(x)\n",
    "x = layers.Dropout(rate=0.2)(x)\n",
    "x = layers.Dense(units=10, activation=\"relu\", kernel_regularizer=\"l1l2\")(x)\n",
    "x = layers.Dense(units=5, activation=\"relu\")(x)\n",
    "x = layers.Dense(units=3, activation=\"relu\")(x)\n",
    "x = layers.Dense(units=1)(x)\n",
    "model = keras.Model(inputs=inp, outputs=x)"
   ]
  },
  {
   "cell_type": "code",
   "execution_count": 9,
   "id": "cea4e2d6",
   "metadata": {
    "execution": {
     "iopub.execute_input": "2024-12-23T03:24:14.312312Z",
     "iopub.status.busy": "2024-12-23T03:24:14.311477Z",
     "iopub.status.idle": "2024-12-23T03:24:14.329339Z",
     "shell.execute_reply": "2024-12-23T03:24:14.328311Z"
    },
    "papermill": {
     "duration": 0.024872,
     "end_time": "2024-12-23T03:24:14.331652",
     "exception": false,
     "start_time": "2024-12-23T03:24:14.306780",
     "status": "completed"
    },
    "tags": []
   },
   "outputs": [],
   "source": [
    "def r2_loss(y_true, y_pred):\n",
    "    return tf.math.reduce_sum((y_true - y_pred) ** 2) / tf.math.reduce_sum(y_true ** 2)\n",
    "\n",
    "model.compile(optimizer=\"rmsprop\", loss=tf.keras.losses.MeanSquaredError(), metrics=[keras.metrics.MeanAbsoluteError(), keras.metrics.R2Score()])"
   ]
  },
  {
   "cell_type": "code",
   "execution_count": 10,
   "id": "e83ba6ed",
   "metadata": {
    "execution": {
     "iopub.execute_input": "2024-12-23T03:24:14.340333Z",
     "iopub.status.busy": "2024-12-23T03:24:14.340010Z",
     "iopub.status.idle": "2024-12-23T04:31:13.725644Z",
     "shell.execute_reply": "2024-12-23T04:31:13.724159Z"
    },
    "papermill": {
     "duration": 4019.393645,
     "end_time": "2024-12-23T04:31:13.729083",
     "exception": false,
     "start_time": "2024-12-23T03:24:14.335438",
     "status": "completed"
    },
    "tags": []
   },
   "outputs": [
    {
     "name": "stdout",
     "output_type": "stream",
     "text": [
      "Epoch 1/10\n",
      "1084752/Unknown \u001b[1m2006s\u001b[0m 2ms/step - loss: 0.8297 - mean_absolute_error: 0.5952 - r2_score: 0.0159"
     ]
    },
    {
     "name": "stderr",
     "output_type": "stream",
     "text": [
      "/opt/conda/lib/python3.10/contextlib.py:153: UserWarning: Your input ran out of data; interrupting training. Make sure that your dataset or generator can generate at least `steps_per_epoch * epochs` batches. You may need to use the `.repeat()` function when building your dataset.\n",
      "  self.gen.throw(typ, value, traceback)\n"
     ]
    },
    {
     "name": "stdout",
     "output_type": "stream",
     "text": [
      "\u001b[1m1084774/1084774\u001b[0m \u001b[32m━━━━━━━━━━━━━━━━━━━━\u001b[0m\u001b[37m\u001b[0m \u001b[1m2025s\u001b[0m 2ms/step - loss: 0.8297 - mean_absolute_error: 0.5952 - r2_score: 0.0159 - val_loss: 0.7484 - val_mean_absolute_error: 0.5557 - val_r2_score: 0.0052\n",
      "Epoch 2/10\n",
      "\u001b[1m1084774/1084774\u001b[0m \u001b[32m━━━━━━━━━━━━━━━━━━━━\u001b[0m\u001b[37m\u001b[0m \u001b[1m1995s\u001b[0m 2ms/step - loss: 0.8332 - mean_absolute_error: 0.5959 - r2_score: 0.0118 - val_loss: 0.7487 - val_mean_absolute_error: 0.5556 - val_r2_score: 0.0048\n"
     ]
    }
   ],
   "source": [
    "callbacks = [\n",
    "    keras.callbacks.ModelCheckpoint('/kaggle/working/fitted.keras', save_best_only=True),\n",
    "    keras.callbacks.ModelCheckpoint('/kaggle/working/intermediate.keras', save_best_only=False),\n",
    "    keras.callbacks.EarlyStopping(patience=1)\n",
    "]\n",
    "\n",
    "history = model.fit(x=train_ds, validation_data=val_ds, epochs=10, callbacks = callbacks)"
   ]
  },
  {
   "cell_type": "markdown",
   "id": "6c7af5fa",
   "metadata": {
    "execution": {
     "iopub.execute_input": "2024-12-19T21:16:33.404263Z",
     "iopub.status.busy": "2024-12-19T21:16:33.403835Z",
     "iopub.status.idle": "2024-12-19T21:16:41.038672Z",
     "shell.execute_reply": "2024-12-19T21:16:41.037480Z",
     "shell.execute_reply.started": "2024-12-19T21:16:33.404225Z"
    },
    "papermill": {
     "duration": 4.718981,
     "end_time": "2024-12-23T04:31:23.117587",
     "exception": false,
     "start_time": "2024-12-23T04:31:18.398606",
     "status": "completed"
    },
    "tags": []
   },
   "source": [
    "## Evaluate Model"
   ]
  },
  {
   "cell_type": "code",
   "execution_count": 11,
   "id": "794c2a80",
   "metadata": {
    "execution": {
     "iopub.execute_input": "2024-12-23T04:31:32.525064Z",
     "iopub.status.busy": "2024-12-23T04:31:32.524650Z",
     "iopub.status.idle": "2024-12-23T04:31:32.568223Z",
     "shell.execute_reply": "2024-12-23T04:31:32.567166Z"
    },
    "papermill": {
     "duration": 4.798198,
     "end_time": "2024-12-23T04:31:32.570623",
     "exception": false,
     "start_time": "2024-12-23T04:31:27.772425",
     "status": "completed"
    },
    "tags": []
   },
   "outputs": [],
   "source": [
    "test_ds = test_raw.map(lambda i: (\n",
    "    normalize_data(clean_data(i['features'])),\n",
    "    i['target']\n",
    "))"
   ]
  },
  {
   "cell_type": "code",
   "execution_count": 12,
   "id": "4f90a8b0",
   "metadata": {
    "execution": {
     "iopub.execute_input": "2024-12-23T04:31:41.816565Z",
     "iopub.status.busy": "2024-12-23T04:31:41.816166Z",
     "iopub.status.idle": "2024-12-23T04:31:59.389914Z",
     "shell.execute_reply": "2024-12-23T04:31:59.388877Z"
    },
    "papermill": {
     "duration": 22.201596,
     "end_time": "2024-12-23T04:31:59.392103",
     "exception": false,
     "start_time": "2024-12-23T04:31:37.190507",
     "status": "completed"
    },
    "tags": []
   },
   "outputs": [
    {
     "name": "stdout",
     "output_type": "stream",
     "text": [
      "\u001b[1m1/1\u001b[0m \u001b[32m━━━━━━━━━━━━━━━━━━━━\u001b[0m\u001b[37m\u001b[0m \u001b[1m18s\u001b[0m 18s/step - loss: 0.6604 - mean_absolute_error: 0.5324 - r2_score: 0.0036\n"
     ]
    },
    {
     "data": {
      "text/plain": [
       "[0.660424530506134, 0.5323982238769531, 0.003626108169555664]"
      ]
     },
     "execution_count": 12,
     "metadata": {},
     "output_type": "execute_result"
    }
   ],
   "source": [
    "model.evaluate(x=test_ds)"
   ]
  },
  {
   "cell_type": "code",
   "execution_count": null,
   "id": "7706e457",
   "metadata": {
    "papermill": {
     "duration": 4.652863,
     "end_time": "2024-12-23T04:32:08.691601",
     "exception": false,
     "start_time": "2024-12-23T04:32:04.038738",
     "status": "completed"
    },
    "tags": []
   },
   "outputs": [],
   "source": []
  }
 ],
 "metadata": {
  "kaggle": {
   "accelerator": "none",
   "dataSources": [
    {
     "databundleVersionId": 9871156,
     "sourceId": 84493,
     "sourceType": "competition"
    },
    {
     "sourceId": 214372757,
     "sourceType": "kernelVersion"
    }
   ],
   "dockerImageVersionId": 30805,
   "isGpuEnabled": false,
   "isInternetEnabled": false,
   "language": "python",
   "sourceType": "notebook"
  },
  "kernelspec": {
   "display_name": "Python 3",
   "language": "python",
   "name": "python3"
  },
  "language_info": {
   "codemirror_mode": {
    "name": "ipython",
    "version": 3
   },
   "file_extension": ".py",
   "mimetype": "text/x-python",
   "name": "python",
   "nbconvert_exporter": "python",
   "pygments_lexer": "ipython3",
   "version": "3.10.14"
  },
  "papermill": {
   "default_parameters": {},
   "duration": 4101.534375,
   "end_time": "2024-12-23T04:32:16.469969",
   "environment_variables": {},
   "exception": null,
   "input_path": "__notebook__.ipynb",
   "output_path": "__notebook__.ipynb",
   "parameters": {},
   "start_time": "2024-12-23T03:23:54.935594",
   "version": "2.6.0"
  }
 },
 "nbformat": 4,
 "nbformat_minor": 5
}
