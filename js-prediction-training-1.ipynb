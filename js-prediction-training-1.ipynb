{
 "cells": [
  {
   "cell_type": "code",
   "execution_count": 1,
   "id": "e97068c1",
   "metadata": {
    "execution": {
     "iopub.execute_input": "2024-12-20T02:01:04.988779Z",
     "iopub.status.busy": "2024-12-20T02:01:04.988280Z",
     "iopub.status.idle": "2024-12-20T02:01:22.192771Z",
     "shell.execute_reply": "2024-12-20T02:01:22.191450Z"
    },
    "papermill": {
     "duration": 17.21499,
     "end_time": "2024-12-20T02:01:22.195640",
     "exception": false,
     "start_time": "2024-12-20T02:01:04.980650",
     "status": "completed"
    },
    "tags": []
   },
   "outputs": [],
   "source": [
    "# This Python 3 environment comes with many helpful analytics libraries installed\n",
    "# It is defined by the kaggle/python Docker image: https://github.com/kaggle/docker-python\n",
    "# For example, here's several helpful packages to load\n",
    "\n",
    "import numpy as np # linear algebra\n",
    "import polars as pl # data processing, CSV file I/O (e.g. pd.read_csv)\n",
    "import pandas as pd\n",
    "import os\n",
    "from pathlib import Path\n",
    "import tensorflow as tf\n",
    "from tensorflow import keras\n",
    "from tensorflow.keras import layers\n",
    "\n",
    "# Input data files are available in the read-only \"../input/\" directory\n",
    "# For example, running this (by clicking run or pressing Shift+Enter) will list all files under the input directory\n",
    "\n",
    "# You can write up to 20GB to the current directory (/kaggle/working/) that gets preserved as output when you create a version using \"Save & Run All\" \n",
    "# You can also write temporary files to /kaggle/temp/, but they won't be saved outside of the current session"
   ]
  },
  {
   "cell_type": "markdown",
   "id": "41f5742a",
   "metadata": {
    "papermill": {
     "duration": 0.004512,
     "end_time": "2024-12-20T02:01:22.205740",
     "exception": false,
     "start_time": "2024-12-20T02:01:22.201228",
     "status": "completed"
    },
    "tags": []
   },
   "source": [
    "## Read Input"
   ]
  },
  {
   "cell_type": "code",
   "execution_count": 2,
   "id": "8dd7a9b2",
   "metadata": {
    "execution": {
     "iopub.execute_input": "2024-12-20T02:01:22.217879Z",
     "iopub.status.busy": "2024-12-20T02:01:22.217206Z",
     "iopub.status.idle": "2024-12-20T02:01:22.225026Z",
     "shell.execute_reply": "2024-12-20T02:01:22.223444Z"
    },
    "papermill": {
     "duration": 0.016682,
     "end_time": "2024-12-20T02:01:22.227513",
     "exception": false,
     "start_time": "2024-12-20T02:01:22.210831",
     "status": "completed"
    },
    "tags": []
   },
   "outputs": [],
   "source": [
    "base_path = Path(\"/kaggle/input/jane-street-real-time-market-data-forecasting/\")\n",
    "train_path = base_path / Path(\"train.parquet\")\n",
    "train_read_paths = [train_path / Path(f\"partition_id={i}/part-0.parquet\") for i in [0, 1, 2, 3, 4, 5, 6, 7]]\n",
    "val_read_paths = [train_path / Path(f\"partition_id={i}/part-0.parquet\") for i in [8]]\n",
    "test_read_paths = [train_path / Path(f\"partition_id={i}/part-0.parquet\") for i in [9]]\n",
    "target = \"responder_6\""
   ]
  },
  {
   "cell_type": "code",
   "execution_count": 3,
   "id": "803c3311",
   "metadata": {
    "execution": {
     "iopub.execute_input": "2024-12-20T02:01:22.240661Z",
     "iopub.status.busy": "2024-12-20T02:01:22.240267Z",
     "iopub.status.idle": "2024-12-20T02:01:22.248088Z",
     "shell.execute_reply": "2024-12-20T02:01:22.246693Z"
    },
    "papermill": {
     "duration": 0.016875,
     "end_time": "2024-12-20T02:01:22.250684",
     "exception": false,
     "start_time": "2024-12-20T02:01:22.233809",
     "status": "completed"
    },
    "tags": []
   },
   "outputs": [],
   "source": [
    "class Config:\n",
    "    input_format = {\n",
    "        \"date_id\": tf.TensorSpec(shape=(None,), dtype=tf.float32),\n",
    "        \"time_id\": tf.TensorSpec(shape=(None,), dtype=tf.float32),\n",
    "        \"symbol_id\": tf.TensorSpec(shape=(None,), dtype=tf.float32),\n",
    "        \"weight\": tf.TensorSpec(shape=(None,), dtype=tf.float32),\n",
    "        \"features\": tf.TensorSpec(shape=(None, 79), dtype=tf.float32),\n",
    "        \"responders\": tf.TensorSpec(shape=(None, 9), dtype=tf.float32),\n",
    "        \"target\": tf.TensorSpec(shape=(None,), dtype=tf.float32)\n",
    "    }\n",
    "    train_batch_size = 32768\n",
    "\n",
    "config = Config()"
   ]
  },
  {
   "cell_type": "code",
   "execution_count": 4,
   "id": "d674c89f",
   "metadata": {
    "execution": {
     "iopub.execute_input": "2024-12-20T02:01:22.262260Z",
     "iopub.status.busy": "2024-12-20T02:01:22.261851Z",
     "iopub.status.idle": "2024-12-20T02:01:22.430061Z",
     "shell.execute_reply": "2024-12-20T02:01:22.428987Z"
    },
    "papermill": {
     "duration": 0.176964,
     "end_time": "2024-12-20T02:01:22.432622",
     "exception": false,
     "start_time": "2024-12-20T02:01:22.255658",
     "status": "completed"
    },
    "tags": []
   },
   "outputs": [],
   "source": [
    "def chunk_features(chunk):\n",
    "    return chunk[[i for i in chunk.columns if i.startswith(\"feature_\")]]\n",
    "\n",
    "def from_files(paths):\n",
    "    def to_ret():\n",
    "        for filepath in paths:\n",
    "            chunk = pl.read_parquet(filepath)\n",
    "            yield {\n",
    "                \"date_id\": chunk[\"date_id\"],\n",
    "                \"time_id\": chunk[\"time_id\"],\n",
    "                \"symbol_id\": chunk[\"symbol_id\"],\n",
    "                \"weight\": chunk[\"weight\"],\n",
    "                \"features\": chunk_features(chunk),\n",
    "                \"responders\": chunk[[i for i in chunk.columns if i.startswith(\"responder_\")]],\n",
    "                \"target\": chunk[target]\n",
    "            }\n",
    "    return to_ret\n",
    "\n",
    "train_raw = tf.data.Dataset.from_generator(\n",
    "    from_files(train_read_paths),\n",
    "    output_signature=config.input_format\n",
    ").prefetch(tf.data.AUTOTUNE).cache()\n",
    "\n",
    "val_raw = tf.data.Dataset.from_generator(\n",
    "    from_files(val_read_paths),\n",
    "    output_signature=config.input_format\n",
    ").cache()\n",
    "\n",
    "test_raw = tf.data.Dataset.from_generator(\n",
    "    from_files(test_read_paths),\n",
    "    output_signature=config.input_format\n",
    ")"
   ]
  },
  {
   "cell_type": "code",
   "execution_count": 5,
   "id": "33aaf3c9",
   "metadata": {
    "execution": {
     "iopub.execute_input": "2024-12-20T02:01:22.444277Z",
     "iopub.status.busy": "2024-12-20T02:01:22.443871Z",
     "iopub.status.idle": "2024-12-20T02:01:22.453182Z",
     "shell.execute_reply": "2024-12-20T02:01:22.451999Z"
    },
    "papermill": {
     "duration": 0.017814,
     "end_time": "2024-12-20T02:01:22.455339",
     "exception": false,
     "start_time": "2024-12-20T02:01:22.437525",
     "status": "completed"
    },
    "tags": []
   },
   "outputs": [
    {
     "data": {
      "text/plain": [
       "{'date_id': TensorSpec(shape=(None,), dtype=tf.float32, name=None),\n",
       " 'time_id': TensorSpec(shape=(None,), dtype=tf.float32, name=None),\n",
       " 'symbol_id': TensorSpec(shape=(None,), dtype=tf.float32, name=None),\n",
       " 'weight': TensorSpec(shape=(None,), dtype=tf.float32, name=None),\n",
       " 'features': TensorSpec(shape=(None, 79), dtype=tf.float32, name=None),\n",
       " 'responders': TensorSpec(shape=(None, 9), dtype=tf.float32, name=None),\n",
       " 'target': TensorSpec(shape=(None,), dtype=tf.float32, name=None)}"
      ]
     },
     "execution_count": 5,
     "metadata": {},
     "output_type": "execute_result"
    }
   ],
   "source": [
    "train_raw.element_spec"
   ]
  },
  {
   "cell_type": "markdown",
   "id": "569f11bb",
   "metadata": {
    "papermill": {
     "duration": 0.005146,
     "end_time": "2024-12-20T02:01:22.465538",
     "exception": false,
     "start_time": "2024-12-20T02:01:22.460392",
     "status": "completed"
    },
    "tags": []
   },
   "source": [
    "## Filter Data"
   ]
  },
  {
   "cell_type": "code",
   "execution_count": 6,
   "id": "e1d669e2",
   "metadata": {
    "execution": {
     "iopub.execute_input": "2024-12-20T02:01:22.478856Z",
     "iopub.status.busy": "2024-12-20T02:01:22.478444Z",
     "iopub.status.idle": "2024-12-20T02:05:06.762656Z",
     "shell.execute_reply": "2024-12-20T02:05:06.761407Z"
    },
    "papermill": {
     "duration": 224.295187,
     "end_time": "2024-12-20T02:05:06.765790",
     "exception": false,
     "start_time": "2024-12-20T02:01:22.470603",
     "status": "completed"
    },
    "tags": []
   },
   "outputs": [],
   "source": [
    "def get_mean(dataset):\n",
    "    batched_ds = dataset.batch(10000)\n",
    "    def step(acc, value):\n",
    "        num_non_nan = tf.reduce_sum(tf.cast(tf.math.is_nan(value['features']) == False, tf.float32), axis=0)\n",
    "        sum_non_nan = tf.reduce_sum(tf.where(tf.math.is_nan(value['features']), tf.zeros_like(value['features']), value['features']), axis=0)\n",
    "        return (acc[0] + sum_non_nan, acc[1] + num_non_nan)\n",
    "    \n",
    "    sum_, rows = batched_ds.reduce((tf.zeros(shape=(79,)), tf.constant(0.0)), step)\n",
    "    return sum_ / tf.maximum(rows, tf.ones_like(rows))\n",
    "\n",
    "means = get_mean(train_raw.unbatch())"
   ]
  },
  {
   "cell_type": "code",
   "execution_count": 7,
   "id": "e78675c6",
   "metadata": {
    "execution": {
     "iopub.execute_input": "2024-12-20T02:05:06.778300Z",
     "iopub.status.busy": "2024-12-20T02:05:06.777914Z",
     "iopub.status.idle": "2024-12-20T02:05:06.861175Z",
     "shell.execute_reply": "2024-12-20T02:05:06.859680Z"
    },
    "papermill": {
     "duration": 0.093332,
     "end_time": "2024-12-20T02:05:06.864690",
     "exception": false,
     "start_time": "2024-12-20T02:05:06.771358",
     "status": "completed"
    },
    "tags": []
   },
   "outputs": [],
   "source": [
    "def clean_data(features):\n",
    "    return tf.where(\n",
    "        tf.logical_or(tf.math.is_nan(features), tf.math.is_inf(features)), \n",
    "        means, \n",
    "        features)\n",
    "\n",
    "train_vals = train_raw.map(lambda i: (\n",
    "                        clean_data(i['features']),\n",
    "                        i['target']\n",
    "                        ))"
   ]
  },
  {
   "cell_type": "code",
   "execution_count": 8,
   "id": "a08643b0",
   "metadata": {
    "execution": {
     "iopub.execute_input": "2024-12-20T02:05:06.885295Z",
     "iopub.status.busy": "2024-12-20T02:05:06.884761Z",
     "iopub.status.idle": "2024-12-20T02:06:00.855349Z",
     "shell.execute_reply": "2024-12-20T02:06:00.853173Z"
    },
    "papermill": {
     "duration": 53.986752,
     "end_time": "2024-12-20T02:06:00.860671",
     "exception": false,
     "start_time": "2024-12-20T02:05:06.873919",
     "status": "completed"
    },
    "tags": []
   },
   "outputs": [],
   "source": [
    "def get_std(dataset):\n",
    "    batched_ds = dataset.batch(10000)\n",
    "    def step(acc, val):\n",
    "        return (acc[0] + tf.math.reduce_std(val[0], axis=0), acc[1] + 1)\n",
    "    sum_, samples = batched_ds.reduce((tf.zeros(shape=(79,)), tf.constant(0.0)), step)\n",
    "    return sum_ / samples\n",
    "\n",
    "stds = get_std(train_vals.unbatch())"
   ]
  },
  {
   "cell_type": "code",
   "execution_count": 9,
   "id": "a48b57da",
   "metadata": {
    "execution": {
     "iopub.execute_input": "2024-12-20T02:06:00.878210Z",
     "iopub.status.busy": "2024-12-20T02:06:00.877712Z",
     "iopub.status.idle": "2024-12-20T02:06:01.234867Z",
     "shell.execute_reply": "2024-12-20T02:06:01.233625Z"
    },
    "papermill": {
     "duration": 0.368187,
     "end_time": "2024-12-20T02:06:01.237811",
     "exception": false,
     "start_time": "2024-12-20T02:06:00.869624",
     "status": "completed"
    },
    "tags": []
   },
   "outputs": [],
   "source": [
    "def normalize_data(features):\n",
    "    return (features - means) / tf.math.maximum(1.0, stds)\n",
    "\n",
    "train_ds = train_vals.map(lambda feat, tar: (normalize_data(feat), tar)).unbatch().shuffle(10000).batch(config.train_batch_size)"
   ]
  },
  {
   "cell_type": "markdown",
   "id": "ff442adc",
   "metadata": {
    "execution": {
     "iopub.execute_input": "2024-12-18T04:06:27.478694Z",
     "iopub.status.busy": "2024-12-18T04:06:27.477500Z",
     "iopub.status.idle": "2024-12-18T04:06:27.485848Z",
     "shell.execute_reply": "2024-12-18T04:06:27.484622Z",
     "shell.execute_reply.started": "2024-12-18T04:06:27.478647Z"
    },
    "papermill": {
     "duration": 0.005451,
     "end_time": "2024-12-20T02:06:01.249437",
     "exception": false,
     "start_time": "2024-12-20T02:06:01.243986",
     "status": "completed"
    },
    "tags": []
   },
   "source": [
    "## Train a Model"
   ]
  },
  {
   "cell_type": "code",
   "execution_count": 10,
   "id": "5bcbbdfb",
   "metadata": {
    "execution": {
     "iopub.execute_input": "2024-12-20T02:06:01.262828Z",
     "iopub.status.busy": "2024-12-20T02:06:01.262404Z",
     "iopub.status.idle": "2024-12-20T02:06:01.302130Z",
     "shell.execute_reply": "2024-12-20T02:06:01.300953Z"
    },
    "papermill": {
     "duration": 0.049603,
     "end_time": "2024-12-20T02:06:01.304829",
     "exception": false,
     "start_time": "2024-12-20T02:06:01.255226",
     "status": "completed"
    },
    "tags": []
   },
   "outputs": [],
   "source": [
    "inp = keras.Input(shape=(79,))\n",
    "x = layers.Dense(units=1)(inp)\n",
    "model = keras.Model(inputs=inp, outputs=x)"
   ]
  },
  {
   "cell_type": "code",
   "execution_count": 11,
   "id": "2fb70ad7",
   "metadata": {
    "execution": {
     "iopub.execute_input": "2024-12-20T02:06:01.319113Z",
     "iopub.status.busy": "2024-12-20T02:06:01.318698Z",
     "iopub.status.idle": "2024-12-20T02:06:01.340512Z",
     "shell.execute_reply": "2024-12-20T02:06:01.339106Z"
    },
    "papermill": {
     "duration": 0.031072,
     "end_time": "2024-12-20T02:06:01.343294",
     "exception": false,
     "start_time": "2024-12-20T02:06:01.312222",
     "status": "completed"
    },
    "tags": []
   },
   "outputs": [],
   "source": [
    "def r2_loss(y_true, y_pred):\n",
    "    return tf.math.reduce_sum((y_true - y_pred) ** 2) / tf.math.reduce_sum((y_true - tf.reduce_mean(y_true)) ** 2)\n",
    "\n",
    "model.compile(optimizer=\"rmsprop\", loss=r2_loss, metrics=[keras.metrics.MeanAbsoluteError(), keras.metrics.R2Score()])"
   ]
  },
  {
   "cell_type": "code",
   "execution_count": 12,
   "id": "57b38458",
   "metadata": {
    "execution": {
     "iopub.execute_input": "2024-12-20T02:06:01.356776Z",
     "iopub.status.busy": "2024-12-20T02:06:01.356327Z",
     "iopub.status.idle": "2024-12-20T02:13:49.543850Z",
     "shell.execute_reply": "2024-12-20T02:13:49.542739Z"
    },
    "papermill": {
     "duration": 468.197036,
     "end_time": "2024-12-20T02:13:49.546274",
     "exception": false,
     "start_time": "2024-12-20T02:06:01.349238",
     "status": "completed"
    },
    "tags": []
   },
   "outputs": [
    {
     "name": "stdout",
     "output_type": "stream",
     "text": [
      "Epoch 1/3\n",
      "\u001b[1m1060/1060\u001b[0m \u001b[32m━━━━━━━━━━━━━━━━━━━━\u001b[0m\u001b[37m\u001b[0m \u001b[1m163s\u001b[0m 145ms/step - loss: 1.8071 - mean_absolute_error: 0.8188 - r2_score: -0.7253\n",
      "Epoch 2/3\n"
     ]
    },
    {
     "name": "stderr",
     "output_type": "stream",
     "text": [
      "/opt/conda/lib/python3.10/contextlib.py:153: UserWarning: Your input ran out of data; interrupting training. Make sure that your dataset or generator can generate at least `steps_per_epoch * epochs` batches. You may need to use the `.repeat()` function when building your dataset.\n",
      "  self.gen.throw(typ, value, traceback)\n"
     ]
    },
    {
     "name": "stdout",
     "output_type": "stream",
     "text": [
      "\u001b[1m1060/1060\u001b[0m \u001b[32m━━━━━━━━━━━━━━━━━━━━\u001b[0m\u001b[37m\u001b[0m \u001b[1m155s\u001b[0m 139ms/step - loss: 0.9933 - mean_absolute_error: 0.5967 - r2_score: 0.0074\n",
      "Epoch 3/3\n",
      "\u001b[1m1060/1060\u001b[0m \u001b[32m━━━━━━━━━━━━━━━━━━━━\u001b[0m\u001b[37m\u001b[0m \u001b[1m150s\u001b[0m 134ms/step - loss: 0.9917 - mean_absolute_error: 0.5961 - r2_score: 0.0088\n"
     ]
    }
   ],
   "source": [
    "history = model.fit(x=train_ds, epochs=3)"
   ]
  },
  {
   "cell_type": "markdown",
   "id": "1a3d8ff2",
   "metadata": {
    "papermill": {
     "duration": 0.189363,
     "end_time": "2024-12-20T02:13:49.924505",
     "exception": false,
     "start_time": "2024-12-20T02:13:49.735142",
     "status": "completed"
    },
    "tags": []
   },
   "source": [
    "## Save model & Data"
   ]
  },
  {
   "cell_type": "code",
   "execution_count": 13,
   "id": "b60de345",
   "metadata": {
    "execution": {
     "iopub.execute_input": "2024-12-20T02:13:50.300147Z",
     "iopub.status.busy": "2024-12-20T02:13:50.299676Z",
     "iopub.status.idle": "2024-12-20T02:13:50.321387Z",
     "shell.execute_reply": "2024-12-20T02:13:50.320065Z"
    },
    "papermill": {
     "duration": 0.211364,
     "end_time": "2024-12-20T02:13:50.323874",
     "exception": false,
     "start_time": "2024-12-20T02:13:50.112510",
     "status": "completed"
    },
    "tags": []
   },
   "outputs": [],
   "source": [
    "pl.DataFrame({'means': np.asarray(means)}).write_csv('means.csv')"
   ]
  },
  {
   "cell_type": "code",
   "execution_count": 14,
   "id": "137e1ee2",
   "metadata": {
    "execution": {
     "iopub.execute_input": "2024-12-20T02:13:50.762946Z",
     "iopub.status.busy": "2024-12-20T02:13:50.762538Z",
     "iopub.status.idle": "2024-12-20T02:13:50.810608Z",
     "shell.execute_reply": "2024-12-20T02:13:50.809379Z"
    },
    "papermill": {
     "duration": 0.236772,
     "end_time": "2024-12-20T02:13:50.813184",
     "exception": false,
     "start_time": "2024-12-20T02:13:50.576412",
     "status": "completed"
    },
    "tags": []
   },
   "outputs": [],
   "source": [
    "model.save('fitted.keras')"
   ]
  },
  {
   "cell_type": "code",
   "execution_count": 15,
   "id": "16b93295",
   "metadata": {
    "execution": {
     "iopub.execute_input": "2024-12-20T02:13:51.183683Z",
     "iopub.status.busy": "2024-12-20T02:13:51.183295Z",
     "iopub.status.idle": "2024-12-20T02:13:51.189114Z",
     "shell.execute_reply": "2024-12-20T02:13:51.187996Z"
    },
    "papermill": {
     "duration": 0.193756,
     "end_time": "2024-12-20T02:13:51.191777",
     "exception": false,
     "start_time": "2024-12-20T02:13:50.998021",
     "status": "completed"
    },
    "tags": []
   },
   "outputs": [],
   "source": [
    "pl.DataFrame({'stds': np.asarray(stds)}).write_csv('stds.csv')"
   ]
  },
  {
   "cell_type": "markdown",
   "id": "322327be",
   "metadata": {
    "execution": {
     "iopub.execute_input": "2024-12-19T21:16:33.404263Z",
     "iopub.status.busy": "2024-12-19T21:16:33.403835Z",
     "iopub.status.idle": "2024-12-19T21:16:41.038672Z",
     "shell.execute_reply": "2024-12-19T21:16:41.037480Z",
     "shell.execute_reply.started": "2024-12-19T21:16:33.404225Z"
    },
    "papermill": {
     "duration": 0.186121,
     "end_time": "2024-12-20T02:13:51.562458",
     "exception": false,
     "start_time": "2024-12-20T02:13:51.376337",
     "status": "completed"
    },
    "tags": []
   },
   "source": [
    "## Evaluate Model"
   ]
  },
  {
   "cell_type": "code",
   "execution_count": 16,
   "id": "ce11bf4e",
   "metadata": {
    "execution": {
     "iopub.execute_input": "2024-12-20T02:13:51.927744Z",
     "iopub.status.busy": "2024-12-20T02:13:51.927363Z",
     "iopub.status.idle": "2024-12-20T02:13:51.970959Z",
     "shell.execute_reply": "2024-12-20T02:13:51.969726Z"
    },
    "papermill": {
     "duration": 0.230357,
     "end_time": "2024-12-20T02:13:51.973413",
     "exception": false,
     "start_time": "2024-12-20T02:13:51.743056",
     "status": "completed"
    },
    "tags": []
   },
   "outputs": [],
   "source": [
    "test_ds = test_raw.map(lambda i: (\n",
    "    normalize_data(clean_data(i['features'])),\n",
    "    i['target']\n",
    "))"
   ]
  },
  {
   "cell_type": "code",
   "execution_count": 17,
   "id": "7ec1ba1d",
   "metadata": {
    "execution": {
     "iopub.execute_input": "2024-12-20T02:13:52.347955Z",
     "iopub.status.busy": "2024-12-20T02:13:52.346901Z",
     "iopub.status.idle": "2024-12-20T02:14:06.814691Z",
     "shell.execute_reply": "2024-12-20T02:14:06.813574Z"
    },
    "papermill": {
     "duration": 14.656289,
     "end_time": "2024-12-20T02:14:06.816959",
     "exception": false,
     "start_time": "2024-12-20T02:13:52.160670",
     "status": "completed"
    },
    "tags": []
   },
   "outputs": [
    {
     "name": "stdout",
     "output_type": "stream",
     "text": [
      "\u001b[1m1/1\u001b[0m \u001b[32m━━━━━━━━━━━━━━━━━━━━\u001b[0m\u001b[37m\u001b[0m \u001b[1m14s\u001b[0m 14s/step - loss: 0.9976 - mean_absolute_error: 0.5340 - r2_score: 0.0024\n"
     ]
    },
    {
     "data": {
      "text/plain": [
       "[0.9975757598876953, 0.533985435962677, 0.0024241209030151367]"
      ]
     },
     "execution_count": 17,
     "metadata": {},
     "output_type": "execute_result"
    }
   ],
   "source": [
    "model.evaluate(x=test_ds)"
   ]
  },
  {
   "cell_type": "code",
   "execution_count": null,
   "id": "a74e91a1",
   "metadata": {
    "papermill": {
     "duration": 0.185665,
     "end_time": "2024-12-20T02:14:07.274908",
     "exception": false,
     "start_time": "2024-12-20T02:14:07.089243",
     "status": "completed"
    },
    "tags": []
   },
   "outputs": [],
   "source": []
  }
 ],
 "metadata": {
  "kaggle": {
   "accelerator": "none",
   "dataSources": [
    {
     "databundleVersionId": 9871156,
     "sourceId": 84493,
     "sourceType": "competition"
    }
   ],
   "dockerImageVersionId": 30805,
   "isGpuEnabled": false,
   "isInternetEnabled": false,
   "language": "python",
   "sourceType": "notebook"
  },
  "kernelspec": {
   "display_name": "Python 3",
   "language": "python",
   "name": "python3"
  },
  "language_info": {
   "codemirror_mode": {
    "name": "ipython",
    "version": 3
   },
   "file_extension": ".py",
   "mimetype": "text/x-python",
   "name": "python",
   "nbconvert_exporter": "python",
   "pygments_lexer": "ipython3",
   "version": "3.10.14"
  },
  "papermill": {
   "default_parameters": {},
   "duration": 789.368456,
   "end_time": "2024-12-20T02:14:10.585244",
   "environment_variables": {},
   "exception": null,
   "input_path": "__notebook__.ipynb",
   "output_path": "__notebook__.ipynb",
   "parameters": {},
   "start_time": "2024-12-20T02:01:01.216788",
   "version": "2.6.0"
  }
 },
 "nbformat": 4,
 "nbformat_minor": 5
}
