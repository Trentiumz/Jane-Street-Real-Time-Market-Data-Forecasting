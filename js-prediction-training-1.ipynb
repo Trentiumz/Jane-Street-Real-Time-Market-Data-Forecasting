{
 "cells": [
  {
   "cell_type": "code",
   "execution_count": 1,
   "id": "b6ddcd9d",
   "metadata": {
    "execution": {
     "iopub.execute_input": "2024-12-19T22:33:37.961252Z",
     "iopub.status.busy": "2024-12-19T22:33:37.960877Z",
     "iopub.status.idle": "2024-12-19T22:33:50.545186Z",
     "shell.execute_reply": "2024-12-19T22:33:50.544167Z"
    },
    "papermill": {
     "duration": 12.593016,
     "end_time": "2024-12-19T22:33:50.547449",
     "exception": false,
     "start_time": "2024-12-19T22:33:37.954433",
     "status": "completed"
    },
    "tags": []
   },
   "outputs": [],
   "source": [
    "# This Python 3 environment comes with many helpful analytics libraries installed\n",
    "# It is defined by the kaggle/python Docker image: https://github.com/kaggle/docker-python\n",
    "# For example, here's several helpful packages to load\n",
    "\n",
    "import numpy as np # linear algebra\n",
    "import polars as pl # data processing, CSV file I/O (e.g. pd.read_csv)\n",
    "import pandas as pd\n",
    "import os\n",
    "from pathlib import Path\n",
    "import tensorflow as tf\n",
    "from tensorflow import keras\n",
    "from tensorflow.keras import layers\n",
    "\n",
    "# Input data files are available in the read-only \"../input/\" directory\n",
    "# For example, running this (by clicking run or pressing Shift+Enter) will list all files under the input directory\n",
    "\n",
    "# You can write up to 20GB to the current directory (/kaggle/working/) that gets preserved as output when you create a version using \"Save & Run All\" \n",
    "# You can also write temporary files to /kaggle/temp/, but they won't be saved outside of the current session"
   ]
  },
  {
   "cell_type": "markdown",
   "id": "c3203b8e",
   "metadata": {
    "papermill": {
     "duration": 0.004097,
     "end_time": "2024-12-19T22:33:50.556251",
     "exception": false,
     "start_time": "2024-12-19T22:33:50.552154",
     "status": "completed"
    },
    "tags": []
   },
   "source": [
    "## Read Input"
   ]
  },
  {
   "cell_type": "code",
   "execution_count": 2,
   "id": "193804b7",
   "metadata": {
    "execution": {
     "iopub.execute_input": "2024-12-19T22:33:50.566489Z",
     "iopub.status.busy": "2024-12-19T22:33:50.565443Z",
     "iopub.status.idle": "2024-12-19T22:33:50.571057Z",
     "shell.execute_reply": "2024-12-19T22:33:50.570220Z"
    },
    "papermill": {
     "duration": 0.012671,
     "end_time": "2024-12-19T22:33:50.573004",
     "exception": false,
     "start_time": "2024-12-19T22:33:50.560333",
     "status": "completed"
    },
    "tags": []
   },
   "outputs": [],
   "source": [
    "base_path = Path(\"/kaggle/input/jane-street-real-time-market-data-forecasting/\")\n",
    "train_path = base_path / Path(\"train.parquet\")\n",
    "train_read_paths = [train_path / Path(f\"partition_id={i}/part-0.parquet\") for i in [0, 1, 2, 3, 4, 5, 6, 7]]\n",
    "val_read_paths = [train_path / Path(f\"partition_id={i}/part-0.parquet\") for i in [8]]\n",
    "test_read_paths = [train_path / Path(f\"partition_id={i}/part-0.parquet\") for i in [9]]\n",
    "target = \"responder_6\""
   ]
  },
  {
   "cell_type": "code",
   "execution_count": 3,
   "id": "b4a3f827",
   "metadata": {
    "execution": {
     "iopub.execute_input": "2024-12-19T22:33:50.583634Z",
     "iopub.status.busy": "2024-12-19T22:33:50.583033Z",
     "iopub.status.idle": "2024-12-19T22:33:50.588418Z",
     "shell.execute_reply": "2024-12-19T22:33:50.587670Z"
    },
    "papermill": {
     "duration": 0.011666,
     "end_time": "2024-12-19T22:33:50.589981",
     "exception": false,
     "start_time": "2024-12-19T22:33:50.578315",
     "status": "completed"
    },
    "tags": []
   },
   "outputs": [],
   "source": [
    "class Config:\n",
    "    input_format = {\n",
    "        \"date_id\": tf.TensorSpec(shape=(None,), dtype=tf.float32),\n",
    "        \"time_id\": tf.TensorSpec(shape=(None,), dtype=tf.float32),\n",
    "        \"symbol_id\": tf.TensorSpec(shape=(None,), dtype=tf.float32),\n",
    "        \"weight\": tf.TensorSpec(shape=(None,), dtype=tf.float32),\n",
    "        \"features\": tf.TensorSpec(shape=(None, 79), dtype=tf.float32),\n",
    "        \"responders\": tf.TensorSpec(shape=(None, 9), dtype=tf.float32),\n",
    "        \"target\": tf.TensorSpec(shape=(None,), dtype=tf.float32)\n",
    "    }\n",
    "    train_batch_size = 32\n",
    "\n",
    "config = Config()"
   ]
  },
  {
   "cell_type": "code",
   "execution_count": 4,
   "id": "d7be183d",
   "metadata": {
    "execution": {
     "iopub.execute_input": "2024-12-19T22:33:50.599575Z",
     "iopub.status.busy": "2024-12-19T22:33:50.599326Z",
     "iopub.status.idle": "2024-12-19T22:33:50.727963Z",
     "shell.execute_reply": "2024-12-19T22:33:50.727005Z"
    },
    "papermill": {
     "duration": 0.136013,
     "end_time": "2024-12-19T22:33:50.730185",
     "exception": false,
     "start_time": "2024-12-19T22:33:50.594172",
     "status": "completed"
    },
    "tags": []
   },
   "outputs": [],
   "source": [
    "def chunk_features(chunk):\n",
    "    return chunk[[i for i in chunk.columns if i.startswith(\"feature_\")]]\n",
    "\n",
    "def from_files(paths):\n",
    "    def to_ret():\n",
    "        for filepath in paths:\n",
    "            chunk = pl.read_parquet(filepath)\n",
    "            yield {\n",
    "                \"date_id\": chunk[\"date_id\"],\n",
    "                \"time_id\": chunk[\"time_id\"],\n",
    "                \"symbol_id\": chunk[\"symbol_id\"],\n",
    "                \"weight\": chunk[\"weight\"],\n",
    "                \"features\": chunk_features(chunk),\n",
    "                \"responders\": chunk[[i for i in chunk.columns if i.startswith(\"responder_\")]],\n",
    "                \"target\": chunk[target]\n",
    "            }\n",
    "    return to_ret\n",
    "\n",
    "train_raw = tf.data.Dataset.from_generator(\n",
    "    from_files(train_read_paths),\n",
    "    output_signature=config.input_format\n",
    ").prefetch(tf.data.AUTOTUNE).cache()\n",
    "\n",
    "val_raw = tf.data.Dataset.from_generator(\n",
    "    from_files(val_read_paths),\n",
    "    output_signature=config.input_format\n",
    ").cache()\n",
    "\n",
    "test_raw = tf.data.Dataset.from_generator(\n",
    "    from_files(test_read_paths),\n",
    "    output_signature=config.input_format\n",
    ")"
   ]
  },
  {
   "cell_type": "code",
   "execution_count": 5,
   "id": "998b4e68",
   "metadata": {
    "execution": {
     "iopub.execute_input": "2024-12-19T22:33:50.739785Z",
     "iopub.status.busy": "2024-12-19T22:33:50.739444Z",
     "iopub.status.idle": "2024-12-19T22:33:50.745807Z",
     "shell.execute_reply": "2024-12-19T22:33:50.744885Z"
    },
    "papermill": {
     "duration": 0.013098,
     "end_time": "2024-12-19T22:33:50.747637",
     "exception": false,
     "start_time": "2024-12-19T22:33:50.734539",
     "status": "completed"
    },
    "tags": []
   },
   "outputs": [
    {
     "data": {
      "text/plain": [
       "{'date_id': TensorSpec(shape=(None,), dtype=tf.float32, name=None),\n",
       " 'time_id': TensorSpec(shape=(None,), dtype=tf.float32, name=None),\n",
       " 'symbol_id': TensorSpec(shape=(None,), dtype=tf.float32, name=None),\n",
       " 'weight': TensorSpec(shape=(None,), dtype=tf.float32, name=None),\n",
       " 'features': TensorSpec(shape=(None, 79), dtype=tf.float32, name=None),\n",
       " 'responders': TensorSpec(shape=(None, 9), dtype=tf.float32, name=None),\n",
       " 'target': TensorSpec(shape=(None,), dtype=tf.float32, name=None)}"
      ]
     },
     "execution_count": 5,
     "metadata": {},
     "output_type": "execute_result"
    }
   ],
   "source": [
    "train_raw.element_spec"
   ]
  },
  {
   "cell_type": "markdown",
   "id": "55a25f34",
   "metadata": {
    "papermill": {
     "duration": 0.004129,
     "end_time": "2024-12-19T22:33:50.756325",
     "exception": false,
     "start_time": "2024-12-19T22:33:50.752196",
     "status": "completed"
    },
    "tags": []
   },
   "source": [
    "## Filter Data"
   ]
  },
  {
   "cell_type": "code",
   "execution_count": 6,
   "id": "9f6ddce0",
   "metadata": {
    "execution": {
     "iopub.execute_input": "2024-12-19T22:33:50.766733Z",
     "iopub.status.busy": "2024-12-19T22:33:50.766427Z",
     "iopub.status.idle": "2024-12-19T22:34:05.599296Z",
     "shell.execute_reply": "2024-12-19T22:34:05.598297Z"
    },
    "papermill": {
     "duration": 14.84077,
     "end_time": "2024-12-19T22:34:05.601420",
     "exception": false,
     "start_time": "2024-12-19T22:33:50.760650",
     "status": "completed"
    },
    "tags": []
   },
   "outputs": [],
   "source": [
    "def get_mean(dataset):\n",
    "    batched_ds = dataset.batch(10000)\n",
    "    def step(acc, value):\n",
    "        num_non_nan = tf.reduce_sum(tf.cast(tf.math.is_nan(value['features']) == False, tf.float32), axis=0)\n",
    "        sum_non_nan = tf.reduce_sum(tf.where(tf.math.is_nan(value['features']), tf.zeros_like(value['features']), value['features']), axis=0)\n",
    "        return (acc[0] + sum_non_nan, acc[1] + num_non_nan)\n",
    "    \n",
    "    sum_, rows = batched_ds.reduce((tf.zeros(shape=(79,)), tf.constant(0.0)), step)\n",
    "    return sum_ / tf.maximum(rows, tf.ones_like(rows))\n",
    "\n",
    "means = get_mean(train_raw.unbatch().shuffle(10000).take(1000000))"
   ]
  },
  {
   "cell_type": "code",
   "execution_count": 7,
   "id": "4d4b8cb8",
   "metadata": {
    "execution": {
     "iopub.execute_input": "2024-12-19T22:34:05.612887Z",
     "iopub.status.busy": "2024-12-19T22:34:05.612597Z",
     "iopub.status.idle": "2024-12-19T22:34:05.671040Z",
     "shell.execute_reply": "2024-12-19T22:34:05.670151Z"
    },
    "papermill": {
     "duration": 0.065577,
     "end_time": "2024-12-19T22:34:05.673069",
     "exception": false,
     "start_time": "2024-12-19T22:34:05.607492",
     "status": "completed"
    },
    "tags": []
   },
   "outputs": [],
   "source": [
    "def clean_data(features):\n",
    "    return tf.where(\n",
    "        tf.logical_or(tf.math.is_nan(features), tf.math.is_inf(features)), \n",
    "        means, \n",
    "        features)\n",
    "\n",
    "train_vals = train_raw.map(lambda i: (\n",
    "                        clean_data(i['features']),\n",
    "                        i['target']\n",
    "                        ))"
   ]
  },
  {
   "cell_type": "code",
   "execution_count": 8,
   "id": "c69e2a8c",
   "metadata": {
    "execution": {
     "iopub.execute_input": "2024-12-19T22:34:05.682791Z",
     "iopub.status.busy": "2024-12-19T22:34:05.682509Z",
     "iopub.status.idle": "2024-12-19T22:34:19.293701Z",
     "shell.execute_reply": "2024-12-19T22:34:19.292895Z"
    },
    "papermill": {
     "duration": 13.618263,
     "end_time": "2024-12-19T22:34:19.295844",
     "exception": false,
     "start_time": "2024-12-19T22:34:05.677581",
     "status": "completed"
    },
    "tags": []
   },
   "outputs": [],
   "source": [
    "def get_std(dataset):\n",
    "    batched_ds = dataset.batch(10000)\n",
    "    def step(acc, val):\n",
    "        return (acc[0] + tf.math.reduce_std(val[0], axis=0), acc[1] + 1)\n",
    "    sum_, samples = batched_ds.reduce((tf.zeros(shape=(79,)), tf.constant(0.0)), step)\n",
    "    return sum_ / samples\n",
    "\n",
    "stds = get_std(train_vals.unbatch().shuffle(10000).take(1000000))"
   ]
  },
  {
   "cell_type": "code",
   "execution_count": 9,
   "id": "477d6504",
   "metadata": {
    "execution": {
     "iopub.execute_input": "2024-12-19T22:34:19.306913Z",
     "iopub.status.busy": "2024-12-19T22:34:19.305974Z",
     "iopub.status.idle": "2024-12-19T22:34:19.550218Z",
     "shell.execute_reply": "2024-12-19T22:34:19.549240Z"
    },
    "papermill": {
     "duration": 0.251738,
     "end_time": "2024-12-19T22:34:19.552400",
     "exception": false,
     "start_time": "2024-12-19T22:34:19.300662",
     "status": "completed"
    },
    "tags": []
   },
   "outputs": [],
   "source": [
    "def normalize_data(features):\n",
    "    return (features - means) / tf.math.maximum(0.001, stds)\n",
    "\n",
    "train_ds = train_vals.map(lambda feat, tar: (normalize_data(feat), tar)).unbatch().shuffle(10000).batch(config.train_batch_size)"
   ]
  },
  {
   "cell_type": "markdown",
   "id": "99fa191e",
   "metadata": {
    "execution": {
     "iopub.execute_input": "2024-12-18T04:06:27.478694Z",
     "iopub.status.busy": "2024-12-18T04:06:27.477500Z",
     "iopub.status.idle": "2024-12-18T04:06:27.485848Z",
     "shell.execute_reply": "2024-12-18T04:06:27.484622Z",
     "shell.execute_reply.started": "2024-12-18T04:06:27.478647Z"
    },
    "papermill": {
     "duration": 0.004168,
     "end_time": "2024-12-19T22:34:19.561263",
     "exception": false,
     "start_time": "2024-12-19T22:34:19.557095",
     "status": "completed"
    },
    "tags": []
   },
   "source": [
    "## Train a Model"
   ]
  },
  {
   "cell_type": "code",
   "execution_count": 10,
   "id": "60233667",
   "metadata": {
    "execution": {
     "iopub.execute_input": "2024-12-19T22:34:19.571629Z",
     "iopub.status.busy": "2024-12-19T22:34:19.571262Z",
     "iopub.status.idle": "2024-12-19T22:34:19.596092Z",
     "shell.execute_reply": "2024-12-19T22:34:19.595434Z"
    },
    "papermill": {
     "duration": 0.032297,
     "end_time": "2024-12-19T22:34:19.597859",
     "exception": false,
     "start_time": "2024-12-19T22:34:19.565562",
     "status": "completed"
    },
    "tags": []
   },
   "outputs": [],
   "source": [
    "inp = keras.Input(shape=(79,))\n",
    "x = layers.Dense(units=1)(inp)\n",
    "model = keras.Model(inputs=inp, outputs=x)"
   ]
  },
  {
   "cell_type": "code",
   "execution_count": 11,
   "id": "b5f5a669",
   "metadata": {
    "execution": {
     "iopub.execute_input": "2024-12-19T22:34:19.607163Z",
     "iopub.status.busy": "2024-12-19T22:34:19.606838Z",
     "iopub.status.idle": "2024-12-19T22:34:19.621745Z",
     "shell.execute_reply": "2024-12-19T22:34:19.621070Z"
    },
    "papermill": {
     "duration": 0.021363,
     "end_time": "2024-12-19T22:34:19.623391",
     "exception": false,
     "start_time": "2024-12-19T22:34:19.602028",
     "status": "completed"
    },
    "tags": []
   },
   "outputs": [],
   "source": [
    "def r2_loss(y_true, y_pred):\n",
    "    return tf.math.reduce_sum((y_true - y_pred) ** 2) / tf.math.reduce_sum((y_true - tf.reduce_mean(y_true)) ** 2)\n",
    "\n",
    "model.compile(optimizer=\"rmsprop\", loss=r2_loss, metrics=[keras.metrics.MeanAbsoluteError(), keras.metrics.R2Score()])"
   ]
  },
  {
   "cell_type": "code",
   "execution_count": 12,
   "id": "83011a7e",
   "metadata": {
    "execution": {
     "iopub.execute_input": "2024-12-19T22:34:19.632684Z",
     "iopub.status.busy": "2024-12-19T22:34:19.632404Z",
     "iopub.status.idle": "2024-12-19T22:42:25.625412Z",
     "shell.execute_reply": "2024-12-19T22:42:25.624282Z"
    },
    "papermill": {
     "duration": 486.000245,
     "end_time": "2024-12-19T22:42:25.627759",
     "exception": false,
     "start_time": "2024-12-19T22:34:19.627514",
     "status": "completed"
    },
    "tags": []
   },
   "outputs": [
    {
     "name": "stdout",
     "output_type": "stream",
     "text": [
      "Epoch 1/2\n",
      "\u001b[1m243292/243292\u001b[0m \u001b[32m━━━━━━━━━━━━━━━━━━━━\u001b[0m\u001b[37m\u001b[0m \u001b[1m241s\u001b[0m 980us/step - loss: 19.7412 - mean_absolute_error: 0.7811 - r2_score: -12.3637\n",
      "Epoch 2/2\n"
     ]
    },
    {
     "name": "stderr",
     "output_type": "stream",
     "text": [
      "/opt/conda/lib/python3.10/contextlib.py:153: UserWarning: Your input ran out of data; interrupting training. Make sure that your dataset or generator can generate at least `steps_per_epoch * epochs` batches. You may need to use the `.repeat()` function when building your dataset.\n",
      "  self.gen.throw(typ, value, traceback)\n"
     ]
    },
    {
     "name": "stdout",
     "output_type": "stream",
     "text": [
      "\u001b[1m243292/243292\u001b[0m \u001b[32m━━━━━━━━━━━━━━━━━━━━\u001b[0m\u001b[37m\u001b[0m \u001b[1m245s\u001b[0m 997us/step - loss: 2.4059 - mean_absolute_error: 0.7242 - r2_score: -0.9090\n"
     ]
    }
   ],
   "source": [
    "history = model.fit(x=train_ds, epochs=2)"
   ]
  },
  {
   "cell_type": "markdown",
   "id": "1fc2ff75",
   "metadata": {
    "papermill": {
     "duration": 0.46724,
     "end_time": "2024-12-19T22:42:26.624846",
     "exception": false,
     "start_time": "2024-12-19T22:42:26.157606",
     "status": "completed"
    },
    "tags": []
   },
   "source": [
    "## Save model & Data"
   ]
  },
  {
   "cell_type": "code",
   "execution_count": 13,
   "id": "504fa2b8",
   "metadata": {
    "execution": {
     "iopub.execute_input": "2024-12-19T22:42:27.620653Z",
     "iopub.status.busy": "2024-12-19T22:42:27.620208Z",
     "iopub.status.idle": "2024-12-19T22:42:27.641604Z",
     "shell.execute_reply": "2024-12-19T22:42:27.640681Z"
    },
    "papermill": {
     "duration": 0.543349,
     "end_time": "2024-12-19T22:42:27.643288",
     "exception": false,
     "start_time": "2024-12-19T22:42:27.099939",
     "status": "completed"
    },
    "tags": []
   },
   "outputs": [],
   "source": [
    "pl.DataFrame({'means': np.asarray(means)}).write_csv('means.csv')"
   ]
  },
  {
   "cell_type": "code",
   "execution_count": 14,
   "id": "a1a11cf3",
   "metadata": {
    "execution": {
     "iopub.execute_input": "2024-12-19T22:42:28.649758Z",
     "iopub.status.busy": "2024-12-19T22:42:28.649380Z",
     "iopub.status.idle": "2024-12-19T22:42:28.695131Z",
     "shell.execute_reply": "2024-12-19T22:42:28.694408Z"
    },
    "papermill": {
     "duration": 0.579257,
     "end_time": "2024-12-19T22:42:28.697053",
     "exception": false,
     "start_time": "2024-12-19T22:42:28.117796",
     "status": "completed"
    },
    "tags": []
   },
   "outputs": [],
   "source": [
    "model.save('fitted.keras')"
   ]
  },
  {
   "cell_type": "markdown",
   "id": "affcdf80",
   "metadata": {
    "execution": {
     "iopub.execute_input": "2024-12-19T21:16:33.404263Z",
     "iopub.status.busy": "2024-12-19T21:16:33.403835Z",
     "iopub.status.idle": "2024-12-19T21:16:41.038672Z",
     "shell.execute_reply": "2024-12-19T21:16:41.037480Z",
     "shell.execute_reply.started": "2024-12-19T21:16:33.404225Z"
    },
    "papermill": {
     "duration": 0.470809,
     "end_time": "2024-12-19T22:42:29.655365",
     "exception": false,
     "start_time": "2024-12-19T22:42:29.184556",
     "status": "completed"
    },
    "tags": []
   },
   "source": [
    "## Evaluate Model"
   ]
  },
  {
   "cell_type": "code",
   "execution_count": 15,
   "id": "3ad07b40",
   "metadata": {
    "execution": {
     "iopub.execute_input": "2024-12-19T22:42:30.660518Z",
     "iopub.status.busy": "2024-12-19T22:42:30.660166Z",
     "iopub.status.idle": "2024-12-19T22:42:30.706136Z",
     "shell.execute_reply": "2024-12-19T22:42:30.705415Z"
    },
    "papermill": {
     "duration": 0.519998,
     "end_time": "2024-12-19T22:42:30.708135",
     "exception": false,
     "start_time": "2024-12-19T22:42:30.188137",
     "status": "completed"
    },
    "tags": []
   },
   "outputs": [],
   "source": [
    "test_ds = test_raw.map(lambda i: (\n",
    "    clean_data(i['features']),\n",
    "    i['target']\n",
    ")).unbatch().shuffle(10000).batch(10000)"
   ]
  },
  {
   "cell_type": "code",
   "execution_count": 16,
   "id": "24c9e163",
   "metadata": {
    "execution": {
     "iopub.execute_input": "2024-12-19T22:42:31.735440Z",
     "iopub.status.busy": "2024-12-19T22:42:31.734549Z",
     "iopub.status.idle": "2024-12-19T22:42:34.329820Z",
     "shell.execute_reply": "2024-12-19T22:42:34.329010Z"
    },
    "papermill": {
     "duration": 3.084419,
     "end_time": "2024-12-19T22:42:34.332029",
     "exception": false,
     "start_time": "2024-12-19T22:42:31.247610",
     "status": "completed"
    },
    "tags": []
   },
   "outputs": [],
   "source": [
    "things = list(train_ds.take(1))"
   ]
  },
  {
   "cell_type": "code",
   "execution_count": 17,
   "id": "bb8c5f2f",
   "metadata": {
    "execution": {
     "iopub.execute_input": "2024-12-19T22:42:35.344169Z",
     "iopub.status.busy": "2024-12-19T22:42:35.343814Z",
     "iopub.status.idle": "2024-12-19T22:42:35.352369Z",
     "shell.execute_reply": "2024-12-19T22:42:35.351475Z"
    },
    "papermill": {
     "duration": 0.487143,
     "end_time": "2024-12-19T22:42:35.354055",
     "exception": false,
     "start_time": "2024-12-19T22:42:34.866912",
     "status": "completed"
    },
    "tags": []
   },
   "outputs": [
    {
     "data": {
      "text/plain": [
       "<tf.Tensor: shape=(32,), dtype=float32, numpy=\n",
       "array([-1.3857414 ,  0.10496062, -0.80286175, -0.6141356 , -0.77112967,\n",
       "       -0.24363782,  0.55797035, -0.14081085,  0.06840395, -1.2486206 ,\n",
       "       -0.6227452 ,  0.10696081, -0.61470485, -1.4635842 , -0.279434  ,\n",
       "        0.5952133 ,  1.9122165 ,  0.24084902,  0.009936  , -0.05589488,\n",
       "       -0.1335626 ,  0.42882118,  0.14508979,  0.08125888,  0.3668349 ,\n",
       "        0.09700895,  0.22243963,  0.9787967 , -0.07213939,  3.6378021 ,\n",
       "        1.0665159 , -0.28765768], dtype=float32)>"
      ]
     },
     "execution_count": 17,
     "metadata": {},
     "output_type": "execute_result"
    }
   ],
   "source": [
    "things[0][1]"
   ]
  },
  {
   "cell_type": "code",
   "execution_count": 18,
   "id": "31df25b9",
   "metadata": {
    "execution": {
     "iopub.execute_input": "2024-12-19T22:42:36.363826Z",
     "iopub.status.busy": "2024-12-19T22:42:36.363460Z",
     "iopub.status.idle": "2024-12-19T22:42:36.458785Z",
     "shell.execute_reply": "2024-12-19T22:42:36.458074Z"
    },
    "papermill": {
     "duration": 0.630875,
     "end_time": "2024-12-19T22:42:36.460558",
     "exception": false,
     "start_time": "2024-12-19T22:42:35.829683",
     "status": "completed"
    },
    "tags": []
   },
   "outputs": [
    {
     "name": "stdout",
     "output_type": "stream",
     "text": [
      "\u001b[1m1/1\u001b[0m \u001b[32m━━━━━━━━━━━━━━━━━━━━\u001b[0m\u001b[37m\u001b[0m \u001b[1m0s\u001b[0m 40ms/step\n"
     ]
    }
   ],
   "source": [
    "predicted = model.predict(x=things[0][0])"
   ]
  },
  {
   "cell_type": "code",
   "execution_count": 19,
   "id": "5cf5655d",
   "metadata": {
    "execution": {
     "iopub.execute_input": "2024-12-19T22:42:37.481383Z",
     "iopub.status.busy": "2024-12-19T22:42:37.480511Z",
     "iopub.status.idle": "2024-12-19T22:42:37.486800Z",
     "shell.execute_reply": "2024-12-19T22:42:37.485969Z"
    },
    "papermill": {
     "duration": 0.538025,
     "end_time": "2024-12-19T22:42:37.488740",
     "exception": false,
     "start_time": "2024-12-19T22:42:36.950715",
     "status": "completed"
    },
    "tags": []
   },
   "outputs": [
    {
     "data": {
      "text/plain": [
       "array([[ 0.048156  ],\n",
       "       [-0.03995498],\n",
       "       [-0.18460995],\n",
       "       [-0.00418468],\n",
       "       [-0.00944228],\n",
       "       [ 0.07527417],\n",
       "       [-0.28977314],\n",
       "       [-0.15699604],\n",
       "       [-0.2557582 ],\n",
       "       [ 0.219018  ],\n",
       "       [ 0.10528067],\n",
       "       [ 0.10541701],\n",
       "       [-0.10136357],\n",
       "       [-0.37444228],\n",
       "       [ 0.02466806],\n",
       "       [-0.1985296 ],\n",
       "       [ 0.05252327],\n",
       "       [ 0.00206452],\n",
       "       [ 0.00274004],\n",
       "       [-0.21594317],\n",
       "       [-0.12671106],\n",
       "       [ 0.15607932],\n",
       "       [ 0.11340681],\n",
       "       [-0.07798735],\n",
       "       [-0.23898488],\n",
       "       [-0.07673861],\n",
       "       [-0.01977007],\n",
       "       [-0.23559093],\n",
       "       [-0.1216125 ],\n",
       "       [-0.62952375],\n",
       "       [-0.0232045 ],\n",
       "       [ 0.09192108]], dtype=float32)"
      ]
     },
     "execution_count": 19,
     "metadata": {},
     "output_type": "execute_result"
    }
   ],
   "source": [
    "predicted"
   ]
  },
  {
   "cell_type": "code",
   "execution_count": 20,
   "id": "7527194d",
   "metadata": {
    "execution": {
     "iopub.execute_input": "2024-12-19T22:42:38.448275Z",
     "iopub.status.busy": "2024-12-19T22:42:38.447537Z",
     "iopub.status.idle": "2024-12-19T22:42:38.453992Z",
     "shell.execute_reply": "2024-12-19T22:42:38.453146Z"
    },
    "papermill": {
     "duration": 0.491582,
     "end_time": "2024-12-19T22:42:38.455739",
     "exception": false,
     "start_time": "2024-12-19T22:42:37.964157",
     "status": "completed"
    },
    "tags": []
   },
   "outputs": [
    {
     "data": {
      "text/plain": [
       "<tf.Tensor: shape=(32,), dtype=float32, numpy=\n",
       "array([-1.3857414 ,  0.10496062, -0.80286175, -0.6141356 , -0.77112967,\n",
       "       -0.24363782,  0.55797035, -0.14081085,  0.06840395, -1.2486206 ,\n",
       "       -0.6227452 ,  0.10696081, -0.61470485, -1.4635842 , -0.279434  ,\n",
       "        0.5952133 ,  1.9122165 ,  0.24084902,  0.009936  , -0.05589488,\n",
       "       -0.1335626 ,  0.42882118,  0.14508979,  0.08125888,  0.3668349 ,\n",
       "        0.09700895,  0.22243963,  0.9787967 , -0.07213939,  3.6378021 ,\n",
       "        1.0665159 , -0.28765768], dtype=float32)>"
      ]
     },
     "execution_count": 20,
     "metadata": {},
     "output_type": "execute_result"
    }
   ],
   "source": [
    "things[0][1]"
   ]
  },
  {
   "cell_type": "code",
   "execution_count": 21,
   "id": "c96ec4de",
   "metadata": {
    "execution": {
     "iopub.execute_input": "2024-12-19T22:42:39.458967Z",
     "iopub.status.busy": "2024-12-19T22:42:39.458139Z",
     "iopub.status.idle": "2024-12-19T22:42:39.483924Z",
     "shell.execute_reply": "2024-12-19T22:42:39.482948Z"
    },
    "papermill": {
     "duration": 0.500584,
     "end_time": "2024-12-19T22:42:39.485963",
     "exception": false,
     "start_time": "2024-12-19T22:42:38.985379",
     "status": "completed"
    },
    "tags": []
   },
   "outputs": [
    {
     "data": {
      "text/plain": [
       "<tf.Tensor: shape=(), dtype=float32, numpy=-0.21236193>"
      ]
     },
     "execution_count": 21,
     "metadata": {},
     "output_type": "execute_result"
    }
   ],
   "source": [
    "y_true = np.asarray(things[0][1]).reshape((-1, 1))\n",
    "y_pred = predicted\n",
    "metric = keras.metrics.R2Score()\n",
    "metric.update_state(y_true, y_pred)\n",
    "metric.result()"
   ]
  },
  {
   "cell_type": "code",
   "execution_count": 22,
   "id": "f3f92615",
   "metadata": {
    "execution": {
     "iopub.execute_input": "2024-12-19T22:42:40.507275Z",
     "iopub.status.busy": "2024-12-19T22:42:40.506881Z",
     "iopub.status.idle": "2024-12-19T22:43:12.217019Z",
     "shell.execute_reply": "2024-12-19T22:43:12.216003Z"
    },
    "papermill": {
     "duration": 32.200828,
     "end_time": "2024-12-19T22:43:12.218923",
     "exception": false,
     "start_time": "2024-12-19T22:42:40.018095",
     "status": "completed"
    },
    "tags": []
   },
   "outputs": [
    {
     "name": "stdout",
     "output_type": "stream",
     "text": [
      "\u001b[1m628/628\u001b[0m \u001b[32m━━━━━━━━━━━━━━━━━━━━\u001b[0m\u001b[37m\u001b[0m \u001b[1m32s\u001b[0m 29ms/step - loss: 3.9909 - mean_absolute_error: 1.1571 - r2_score: -2.4921\n"
     ]
    },
    {
     "data": {
      "text/plain": [
       "[3.9319047927856445, 1.168842077255249, -2.5282986164093018]"
      ]
     },
     "execution_count": 22,
     "metadata": {},
     "output_type": "execute_result"
    }
   ],
   "source": [
    "model.evaluate(x=test_ds)"
   ]
  },
  {
   "cell_type": "code",
   "execution_count": null,
   "id": "b5444c9b",
   "metadata": {
    "papermill": {
     "duration": 0.493517,
     "end_time": "2024-12-19T22:43:13.276859",
     "exception": false,
     "start_time": "2024-12-19T22:43:12.783342",
     "status": "completed"
    },
    "tags": []
   },
   "outputs": [],
   "source": []
  }
 ],
 "metadata": {
  "kaggle": {
   "accelerator": "none",
   "dataSources": [
    {
     "databundleVersionId": 9871156,
     "sourceId": 84493,
     "sourceType": "competition"
    }
   ],
   "dockerImageVersionId": 30805,
   "isGpuEnabled": false,
   "isInternetEnabled": false,
   "language": "python",
   "sourceType": "notebook"
  },
  "kernelspec": {
   "display_name": "Python 3",
   "language": "python",
   "name": "python3"
  },
  "language_info": {
   "codemirror_mode": {
    "name": "ipython",
    "version": 3
   },
   "file_extension": ".py",
   "mimetype": "text/x-python",
   "name": "python",
   "nbconvert_exporter": "python",
   "pygments_lexer": "ipython3",
   "version": "3.10.14"
  },
  "papermill": {
   "default_parameters": {},
   "duration": 581.256157,
   "end_time": "2024-12-19T22:43:16.616374",
   "environment_variables": {},
   "exception": null,
   "input_path": "__notebook__.ipynb",
   "output_path": "__notebook__.ipynb",
   "parameters": {},
   "start_time": "2024-12-19T22:33:35.360217",
   "version": "2.6.0"
  }
 },
 "nbformat": 4,
 "nbformat_minor": 5
}
