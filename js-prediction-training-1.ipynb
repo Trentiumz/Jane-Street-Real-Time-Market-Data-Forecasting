{
 "cells": [
  {
   "cell_type": "code",
   "execution_count": 1,
   "id": "617cbbe0",
   "metadata": {
    "execution": {
     "iopub.execute_input": "2024-12-19T04:01:20.463467Z",
     "iopub.status.busy": "2024-12-19T04:01:20.463122Z",
     "iopub.status.idle": "2024-12-19T04:01:32.917780Z",
     "shell.execute_reply": "2024-12-19T04:01:32.917030Z"
    },
    "papermill": {
     "duration": 12.462199,
     "end_time": "2024-12-19T04:01:32.919880",
     "exception": false,
     "start_time": "2024-12-19T04:01:20.457681",
     "status": "completed"
    },
    "tags": []
   },
   "outputs": [],
   "source": [
    "# This Python 3 environment comes with many helpful analytics libraries installed\n",
    "# It is defined by the kaggle/python Docker image: https://github.com/kaggle/docker-python\n",
    "# For example, here's several helpful packages to load\n",
    "\n",
    "import numpy as np # linear algebra\n",
    "import polars as pl # data processing, CSV file I/O (e.g. pd.read_csv)\n",
    "import pandas as pd\n",
    "import os\n",
    "from pathlib import Path\n",
    "import tensorflow as tf\n",
    "from tensorflow import keras\n",
    "from tensorflow.keras import layers\n",
    "\n",
    "# Input data files are available in the read-only \"../input/\" directory\n",
    "# For example, running this (by clicking run or pressing Shift+Enter) will list all files under the input directory\n",
    "\n",
    "# You can write up to 20GB to the current directory (/kaggle/working/) that gets preserved as output when you create a version using \"Save & Run All\" \n",
    "# You can also write temporary files to /kaggle/temp/, but they won't be saved outside of the current session"
   ]
  },
  {
   "cell_type": "markdown",
   "id": "09a9a4fa",
   "metadata": {
    "papermill": {
     "duration": 0.003189,
     "end_time": "2024-12-19T04:01:32.926852",
     "exception": false,
     "start_time": "2024-12-19T04:01:32.923663",
     "status": "completed"
    },
    "tags": []
   },
   "source": [
    "## Read Input"
   ]
  },
  {
   "cell_type": "code",
   "execution_count": 2,
   "id": "e2c59951",
   "metadata": {
    "execution": {
     "iopub.execute_input": "2024-12-19T04:01:32.935160Z",
     "iopub.status.busy": "2024-12-19T04:01:32.934304Z",
     "iopub.status.idle": "2024-12-19T04:01:32.939890Z",
     "shell.execute_reply": "2024-12-19T04:01:32.938917Z"
    },
    "papermill": {
     "duration": 0.011603,
     "end_time": "2024-12-19T04:01:32.941718",
     "exception": false,
     "start_time": "2024-12-19T04:01:32.930115",
     "status": "completed"
    },
    "tags": []
   },
   "outputs": [],
   "source": [
    "base_path = Path(\"/kaggle/input/jane-street-real-time-market-data-forecasting/\")\n",
    "train_path = base_path / Path(\"train.parquet\")\n",
    "train_read_paths = [train_path / Path(f\"partition_id={i}/part-0.parquet\") for i in [0, 1, 2, 3, 4, 5, 6, 7]]\n",
    "val_read_paths = [train_path / Path(f\"partition_id={i}/part-0.parquet\") for i in [8]]\n",
    "test_read_paths = [train_path / Path(f\"partition_id={i}/part-0.parquet\") for i in [9]]\n",
    "target = \"responder_6\""
   ]
  },
  {
   "cell_type": "code",
   "execution_count": 3,
   "id": "158b90c5",
   "metadata": {
    "execution": {
     "iopub.execute_input": "2024-12-19T04:01:32.950429Z",
     "iopub.status.busy": "2024-12-19T04:01:32.950159Z",
     "iopub.status.idle": "2024-12-19T04:01:32.955846Z",
     "shell.execute_reply": "2024-12-19T04:01:32.955002Z"
    },
    "papermill": {
     "duration": 0.012305,
     "end_time": "2024-12-19T04:01:32.957353",
     "exception": false,
     "start_time": "2024-12-19T04:01:32.945048",
     "status": "completed"
    },
    "tags": []
   },
   "outputs": [],
   "source": [
    "class Config:\n",
    "    input_format = {\n",
    "        \"date_id\": tf.TensorSpec(shape=(None,), dtype=tf.float32),\n",
    "        \"time_id\": tf.TensorSpec(shape=(None,), dtype=tf.float32),\n",
    "        \"symbol_id\": tf.TensorSpec(shape=(None,), dtype=tf.float32),\n",
    "        \"weight\": tf.TensorSpec(shape=(None,), dtype=tf.float32),\n",
    "        \"features\": tf.TensorSpec(shape=(None, 79), dtype=tf.float32),\n",
    "        \"responders\": tf.TensorSpec(shape=(None, 9), dtype=tf.float32),\n",
    "        \"target\": tf.TensorSpec(shape=(None,), dtype=tf.float32)\n",
    "    }\n",
    "    train_batch_size = 32\n",
    "\n",
    "config = Config()"
   ]
  },
  {
   "cell_type": "code",
   "execution_count": 4,
   "id": "6245e864",
   "metadata": {
    "execution": {
     "iopub.execute_input": "2024-12-19T04:01:32.965107Z",
     "iopub.status.busy": "2024-12-19T04:01:32.964401Z",
     "iopub.status.idle": "2024-12-19T04:01:33.781772Z",
     "shell.execute_reply": "2024-12-19T04:01:33.780728Z"
    },
    "papermill": {
     "duration": 0.823336,
     "end_time": "2024-12-19T04:01:33.783873",
     "exception": false,
     "start_time": "2024-12-19T04:01:32.960537",
     "status": "completed"
    },
    "tags": []
   },
   "outputs": [],
   "source": [
    "def chunk_features(chunk):\n",
    "    return chunk[[i for i in chunk.columns if i.startswith(\"feature_\")]]\n",
    "\n",
    "def from_files(paths):\n",
    "    def to_ret():\n",
    "        for filepath in paths:\n",
    "            chunk = pl.read_parquet(filepath)\n",
    "            yield {\n",
    "                \"date_id\": chunk[\"date_id\"],\n",
    "                \"time_id\": chunk[\"time_id\"],\n",
    "                \"symbol_id\": chunk[\"symbol_id\"],\n",
    "                \"weight\": chunk[\"weight\"],\n",
    "                \"features\": chunk_features(chunk),\n",
    "                \"responders\": chunk[[i for i in chunk.columns if i.startswith(\"responder_\")]],\n",
    "                \"target\": chunk[target]\n",
    "            }\n",
    "    return to_ret\n",
    "\n",
    "train_raw = tf.data.Dataset.from_generator(\n",
    "    from_files(train_read_paths),\n",
    "    output_signature=config.input_format\n",
    ").prefetch(tf.data.AUTOTUNE).cache()\n",
    "\n",
    "val_raw = tf.data.Dataset.from_generator(\n",
    "    from_files(val_read_paths),\n",
    "    output_signature=config.input_format\n",
    ").cache()\n",
    "\n",
    "test_raw = tf.data.Dataset.from_generator(\n",
    "    from_files(test_read_paths),\n",
    "    output_signature=config.input_format\n",
    ")"
   ]
  },
  {
   "cell_type": "code",
   "execution_count": 5,
   "id": "a26daf39",
   "metadata": {
    "execution": {
     "iopub.execute_input": "2024-12-19T04:01:33.792111Z",
     "iopub.status.busy": "2024-12-19T04:01:33.791814Z",
     "iopub.status.idle": "2024-12-19T04:01:33.797906Z",
     "shell.execute_reply": "2024-12-19T04:01:33.797123Z"
    },
    "papermill": {
     "duration": 0.012036,
     "end_time": "2024-12-19T04:01:33.799498",
     "exception": false,
     "start_time": "2024-12-19T04:01:33.787462",
     "status": "completed"
    },
    "tags": []
   },
   "outputs": [
    {
     "data": {
      "text/plain": [
       "{'date_id': TensorSpec(shape=(None,), dtype=tf.float32, name=None),\n",
       " 'time_id': TensorSpec(shape=(None,), dtype=tf.float32, name=None),\n",
       " 'symbol_id': TensorSpec(shape=(None,), dtype=tf.float32, name=None),\n",
       " 'weight': TensorSpec(shape=(None,), dtype=tf.float32, name=None),\n",
       " 'features': TensorSpec(shape=(None, 79), dtype=tf.float32, name=None),\n",
       " 'responders': TensorSpec(shape=(None, 9), dtype=tf.float32, name=None),\n",
       " 'target': TensorSpec(shape=(None,), dtype=tf.float32, name=None)}"
      ]
     },
     "execution_count": 5,
     "metadata": {},
     "output_type": "execute_result"
    }
   ],
   "source": [
    "train_raw.element_spec"
   ]
  },
  {
   "cell_type": "markdown",
   "id": "af770236",
   "metadata": {
    "papermill": {
     "duration": 0.003223,
     "end_time": "2024-12-19T04:01:33.806270",
     "exception": false,
     "start_time": "2024-12-19T04:01:33.803047",
     "status": "completed"
    },
    "tags": []
   },
   "source": [
    "## Filter Data"
   ]
  },
  {
   "cell_type": "code",
   "execution_count": 6,
   "id": "9fda3318",
   "metadata": {
    "execution": {
     "iopub.execute_input": "2024-12-19T04:01:33.815023Z",
     "iopub.status.busy": "2024-12-19T04:01:33.814249Z",
     "iopub.status.idle": "2024-12-19T04:01:49.559824Z",
     "shell.execute_reply": "2024-12-19T04:01:49.559076Z"
    },
    "papermill": {
     "duration": 15.752091,
     "end_time": "2024-12-19T04:01:49.561980",
     "exception": false,
     "start_time": "2024-12-19T04:01:33.809889",
     "status": "completed"
    },
    "tags": []
   },
   "outputs": [
    {
     "name": "stdout",
     "output_type": "stream",
     "text": [
      "tf.Tensor(\n",
      "[      0.       0.       0.       0.       0. 1000000. 1000000. 1000000.\n",
      "  999155. 1000000. 1000000. 1000000. 1000000. 1000000. 1000000.  971538.\n",
      "  999944.  995195.  999946.  999946. 1000000.       0. 1000000. 1000000.\n",
      " 1000000. 1000000.       0.       0. 1000000. 1000000. 1000000.       0.\n",
      "  988717.  988717. 1000000. 1000000. 1000000. 1000000. 1000000.  826738.\n",
      "  973869.  943836.  826738.  973869.  943836.  888286.  888286.  999913.\n",
      " 1000000. 1000000.  848707.  998817.  966886.  848707.  998817.  966886.\n",
      "  999946.  999946.  988722. 1000000. 1000000. 1000000.  894922.  906767.\n",
      "  904973.  888286.  888286. 1000000. 1000000. 1000000. 1000000. 1000000.\n",
      " 1000000.  988722.  988722.  999984.  999984. 1000000. 1000000.], shape=(79,), dtype=float32)\n"
     ]
    }
   ],
   "source": [
    "def get_mean(dataset):\n",
    "    batched_ds = dataset.batch(10000)\n",
    "    def step(acc, value):\n",
    "        num_non_nan = tf.reduce_sum(tf.cast(tf.math.is_nan(value['features']) == False, tf.float32), axis=0)\n",
    "        sum_non_nan = tf.reduce_sum(tf.where(tf.math.is_nan(value['features']), tf.zeros_like(value['features']), value['features']), axis=0)\n",
    "        return (acc[0] + sum_non_nan, acc[1] + num_non_nan)\n",
    "    \n",
    "    sum_, rows = batched_ds.reduce((tf.zeros(shape=(79,)), tf.constant(0.0)), step)\n",
    "    print(rows)\n",
    "    return sum_ / tf.maximum(rows, tf.ones_like(rows))\n",
    "\n",
    "means = get_mean(train_raw.unbatch().shuffle(10000).take(1000000))"
   ]
  },
  {
   "cell_type": "code",
   "execution_count": 7,
   "id": "fce4558d",
   "metadata": {
    "execution": {
     "iopub.execute_input": "2024-12-19T04:01:49.570989Z",
     "iopub.status.busy": "2024-12-19T04:01:49.570702Z",
     "iopub.status.idle": "2024-12-19T04:01:49.639026Z",
     "shell.execute_reply": "2024-12-19T04:01:49.638065Z"
    },
    "papermill": {
     "duration": 0.0752,
     "end_time": "2024-12-19T04:01:49.641129",
     "exception": false,
     "start_time": "2024-12-19T04:01:49.565929",
     "status": "completed"
    },
    "tags": []
   },
   "outputs": [],
   "source": [
    "def clean_data(features):\n",
    "    return tf.where(\n",
    "        tf.logical_or(tf.math.is_nan(features), tf.math.is_inf(features)), \n",
    "        means, \n",
    "        features)\n",
    "\n",
    "train_ds = train_raw.map(lambda i: (\n",
    "                        clean_data(i['features']),\n",
    "                        i['target']\n",
    "                        ))\n",
    "\n",
    "\n",
    "train_ds = train_ds.unbatch().shuffle(10000).batch(config.train_batch_size)"
   ]
  },
  {
   "cell_type": "code",
   "execution_count": 8,
   "id": "f9f3156b",
   "metadata": {
    "execution": {
     "iopub.execute_input": "2024-12-19T04:01:49.650502Z",
     "iopub.status.busy": "2024-12-19T04:01:49.649858Z",
     "iopub.status.idle": "2024-12-19T04:01:49.655440Z",
     "shell.execute_reply": "2024-12-19T04:01:49.654690Z"
    },
    "papermill": {
     "duration": 0.012008,
     "end_time": "2024-12-19T04:01:49.657134",
     "exception": false,
     "start_time": "2024-12-19T04:01:49.645126",
     "status": "completed"
    },
    "tags": []
   },
   "outputs": [
    {
     "data": {
      "text/plain": [
       "<_BatchDataset element_spec=(TensorSpec(shape=(None, 79), dtype=tf.float32, name=None), TensorSpec(shape=(None,), dtype=tf.float32, name=None))>"
      ]
     },
     "execution_count": 8,
     "metadata": {},
     "output_type": "execute_result"
    }
   ],
   "source": [
    "train_ds"
   ]
  },
  {
   "cell_type": "markdown",
   "id": "dc2b2dc9",
   "metadata": {
    "execution": {
     "iopub.execute_input": "2024-12-18T04:06:27.478694Z",
     "iopub.status.busy": "2024-12-18T04:06:27.477500Z",
     "iopub.status.idle": "2024-12-18T04:06:27.485848Z",
     "shell.execute_reply": "2024-12-18T04:06:27.484622Z",
     "shell.execute_reply.started": "2024-12-18T04:06:27.478647Z"
    },
    "papermill": {
     "duration": 0.003451,
     "end_time": "2024-12-19T04:01:49.664443",
     "exception": false,
     "start_time": "2024-12-19T04:01:49.660992",
     "status": "completed"
    },
    "tags": []
   },
   "source": [
    "## Train a Model"
   ]
  },
  {
   "cell_type": "code",
   "execution_count": 9,
   "id": "9aceb71a",
   "metadata": {
    "execution": {
     "iopub.execute_input": "2024-12-19T04:01:49.673347Z",
     "iopub.status.busy": "2024-12-19T04:01:49.672575Z",
     "iopub.status.idle": "2024-12-19T04:01:49.709428Z",
     "shell.execute_reply": "2024-12-19T04:01:49.708747Z"
    },
    "papermill": {
     "duration": 0.044194,
     "end_time": "2024-12-19T04:01:49.712214",
     "exception": false,
     "start_time": "2024-12-19T04:01:49.668020",
     "status": "completed"
    },
    "tags": []
   },
   "outputs": [],
   "source": [
    "input = keras.Input(shape=(79,))\n",
    "x = layers.Dense(units=1)(input)\n",
    "model = keras.Model(inputs=input, outputs=x)"
   ]
  },
  {
   "cell_type": "code",
   "execution_count": 10,
   "id": "191a6846",
   "metadata": {
    "execution": {
     "iopub.execute_input": "2024-12-19T04:01:49.726427Z",
     "iopub.status.busy": "2024-12-19T04:01:49.726091Z",
     "iopub.status.idle": "2024-12-19T04:01:49.741892Z",
     "shell.execute_reply": "2024-12-19T04:01:49.740890Z"
    },
    "papermill": {
     "duration": 0.022818,
     "end_time": "2024-12-19T04:01:49.743996",
     "exception": false,
     "start_time": "2024-12-19T04:01:49.721178",
     "status": "completed"
    },
    "tags": []
   },
   "outputs": [],
   "source": [
    "model.compile(optimizer=\"rmsprop\", loss=keras.losses.MeanSquaredError(), metrics=[keras.metrics.MeanAbsoluteError()])"
   ]
  },
  {
   "cell_type": "code",
   "execution_count": 11,
   "id": "237f71ed",
   "metadata": {
    "execution": {
     "iopub.execute_input": "2024-12-19T04:01:49.753238Z",
     "iopub.status.busy": "2024-12-19T04:01:49.752441Z",
     "iopub.status.idle": "2024-12-19T04:23:04.705041Z",
     "shell.execute_reply": "2024-12-19T04:23:04.703957Z"
    },
    "papermill": {
     "duration": 1274.958926,
     "end_time": "2024-12-19T04:23:04.706870",
     "exception": false,
     "start_time": "2024-12-19T04:01:49.747944",
     "status": "completed"
    },
    "tags": []
   },
   "outputs": [
    {
     "name": "stderr",
     "output_type": "stream",
     "text": [
      "WARNING: All log messages before absl::InitializeLog() is called are written to STDERR\n",
      "I0000 00:00:1734580913.625708      66 service.cc:145] XLA service 0x5a33500c32a0 initialized for platform CUDA (this does not guarantee that XLA will be used). Devices:\n",
      "I0000 00:00:1734580913.625800      66 service.cc:153]   StreamExecutor device (0): Tesla P100-PCIE-16GB, Compute Capability 6.0\n"
     ]
    },
    {
     "name": "stdout",
     "output_type": "stream",
     "text": [
      "    116/Unknown \u001b[1m4s\u001b[0m 1ms/step - loss: 461.7396 - mean_absolute_error: 13.0067"
     ]
    },
    {
     "name": "stderr",
     "output_type": "stream",
     "text": [
      "I0000 00:00:1734580913.995834      66 device_compiler.h:188] Compiled cluster using XLA!  This line is logged at most once for the lifetime of the process.\n"
     ]
    },
    {
     "name": "stdout",
     "output_type": "stream",
     "text": [
      "\u001b[1m1084774/1084774\u001b[0m \u001b[32m━━━━━━━━━━━━━━━━━━━━\u001b[0m\u001b[37m\u001b[0m \u001b[1m1275s\u001b[0m 1ms/step - loss: 1.2805 - mean_absolute_error: 0.6354\n"
     ]
    },
    {
     "name": "stderr",
     "output_type": "stream",
     "text": [
      "/opt/conda/lib/python3.10/contextlib.py:153: UserWarning: Your input ran out of data; interrupting training. Make sure that your dataset or generator can generate at least `steps_per_epoch * epochs` batches. You may need to use the `.repeat()` function when building your dataset.\n",
      "  self.gen.throw(typ, value, traceback)\n"
     ]
    }
   ],
   "source": [
    "history = model.fit(x=train_ds, epochs=1)"
   ]
  },
  {
   "cell_type": "markdown",
   "id": "7048827b",
   "metadata": {
    "papermill": {
     "duration": 1.14198,
     "end_time": "2024-12-19T04:23:07.158594",
     "exception": false,
     "start_time": "2024-12-19T04:23:06.016614",
     "status": "completed"
    },
    "tags": []
   },
   "source": [
    "## First Submission!!"
   ]
  },
  {
   "cell_type": "code",
   "execution_count": 12,
   "id": "f76b2e53",
   "metadata": {
    "execution": {
     "iopub.execute_input": "2024-12-19T04:23:09.605575Z",
     "iopub.status.busy": "2024-12-19T04:23:09.605182Z",
     "iopub.status.idle": "2024-12-19T04:23:09.790770Z",
     "shell.execute_reply": "2024-12-19T04:23:09.790015Z"
    },
    "papermill": {
     "duration": 1.438323,
     "end_time": "2024-12-19T04:23:09.792749",
     "exception": false,
     "start_time": "2024-12-19T04:23:08.354426",
     "status": "completed"
    },
    "tags": []
   },
   "outputs": [],
   "source": [
    "import kaggle_evaluation.jane_street_inference_server"
   ]
  },
  {
   "cell_type": "code",
   "execution_count": 13,
   "id": "e0e11f2e",
   "metadata": {
    "execution": {
     "iopub.execute_input": "2024-12-19T04:23:12.116908Z",
     "iopub.status.busy": "2024-12-19T04:23:12.116539Z",
     "iopub.status.idle": "2024-12-19T04:23:12.123323Z",
     "shell.execute_reply": "2024-12-19T04:23:12.122559Z"
    },
    "papermill": {
     "duration": 1.197017,
     "end_time": "2024-12-19T04:23:12.124837",
     "exception": false,
     "start_time": "2024-12-19T04:23:10.927820",
     "status": "completed"
    },
    "tags": []
   },
   "outputs": [],
   "source": [
    "# Replace this function with your inference code.\n",
    "# You can return either a Pandas or Polars dataframe, though Polars is recommended.\n",
    "# Each batch of predictions (except the very first) must be returned within 1 minute of the batch features being provided.\n",
    "def predict(test: pl.DataFrame, lags: pl.DataFrame | None) -> pl.DataFrame | pd.DataFrame:\n",
    "    \"\"\"Make a prediction.\"\"\"\n",
    "    # All the responders from the previous day are passed in at time_id == 0. We save them in a global variable for access at every time_id.\n",
    "    # Use them as extra features, if you like.\n",
    "\n",
    "    # Replace this section with your own predictions\n",
    "    input_features = clean_data(chunk_features(test))\n",
    "    output_y = np.asarray(model.predict(input_features))\n",
    "    predictions = pl.DataFrame({\n",
    "        \"row_id\": test['row_id'],\n",
    "        \"responder_6\": output_y\n",
    "    })\n",
    "\n",
    "    \n",
    "    \n",
    "\n",
    "    if isinstance(predictions, pl.DataFrame):\n",
    "        assert predictions.columns == ['row_id', 'responder_6']\n",
    "    elif isinstance(predictions, pd.DataFrame):\n",
    "        assert (predictions.columns == ['row_id', 'responder_6']).all()\n",
    "    else:\n",
    "        raise TypeError('The predict function must return a DataFrame')\n",
    "    # Confirm has as many rows as the test data.\n",
    "    assert len(predictions) == len(test)\n",
    "\n",
    "    return predictions"
   ]
  },
  {
   "cell_type": "code",
   "execution_count": 14,
   "id": "f5f23ef1",
   "metadata": {
    "execution": {
     "iopub.execute_input": "2024-12-19T04:23:14.499915Z",
     "iopub.status.busy": "2024-12-19T04:23:14.499539Z",
     "iopub.status.idle": "2024-12-19T04:23:15.217118Z",
     "shell.execute_reply": "2024-12-19T04:23:15.216292Z"
    },
    "papermill": {
     "duration": 1.847578,
     "end_time": "2024-12-19T04:23:15.218817",
     "exception": false,
     "start_time": "2024-12-19T04:23:13.371239",
     "status": "completed"
    },
    "tags": []
   },
   "outputs": [
    {
     "name": "stdout",
     "output_type": "stream",
     "text": [
      "\u001b[1m2/2\u001b[0m \u001b[32m━━━━━━━━━━━━━━━━━━━━\u001b[0m\u001b[37m\u001b[0m \u001b[1m0s\u001b[0m 65ms/step\n"
     ]
    },
    {
     "data": {
      "text/html": [
       "<div><style>\n",
       ".dataframe > thead > tr,\n",
       ".dataframe > tbody > tr {\n",
       "  text-align: right;\n",
       "  white-space: pre-wrap;\n",
       "}\n",
       "</style>\n",
       "<small>shape: (5, 2)</small><table border=\"1\" class=\"dataframe\"><thead><tr><th>row_id</th><th>responder_6</th></tr><tr><td>i64</td><td>array[f32, 1]</td></tr></thead><tbody><tr><td>0</td><td>[-0.071093]</td></tr><tr><td>1</td><td>[-0.071093]</td></tr><tr><td>2</td><td>[-0.071093]</td></tr><tr><td>3</td><td>[-0.071093]</td></tr><tr><td>4</td><td>[-0.071093]</td></tr></tbody></table></div>"
      ],
      "text/plain": [
       "shape: (5, 2)\n",
       "┌────────┬───────────────┐\n",
       "│ row_id ┆ responder_6   │\n",
       "│ ---    ┆ ---           │\n",
       "│ i64    ┆ array[f32, 1] │\n",
       "╞════════╪═══════════════╡\n",
       "│ 0      ┆ [-0.071093]   │\n",
       "│ 1      ┆ [-0.071093]   │\n",
       "│ 2      ┆ [-0.071093]   │\n",
       "│ 3      ┆ [-0.071093]   │\n",
       "│ 4      ┆ [-0.071093]   │\n",
       "└────────┴───────────────┘"
      ]
     },
     "execution_count": 14,
     "metadata": {},
     "output_type": "execute_result"
    }
   ],
   "source": [
    "predict(pl.read_parquet(base_path / Path(\"test.parquet/date_id=0/part-0.parquet\")), None).head()"
   ]
  },
  {
   "cell_type": "code",
   "execution_count": 15,
   "id": "87aff59a",
   "metadata": {
    "execution": {
     "iopub.execute_input": "2024-12-19T04:23:17.700567Z",
     "iopub.status.busy": "2024-12-19T04:23:17.699828Z",
     "iopub.status.idle": "2024-12-19T04:23:17.951529Z",
     "shell.execute_reply": "2024-12-19T04:23:17.950798Z"
    },
    "papermill": {
     "duration": 1.510692,
     "end_time": "2024-12-19T04:23:17.953324",
     "exception": false,
     "start_time": "2024-12-19T04:23:16.442632",
     "status": "completed"
    },
    "tags": []
   },
   "outputs": [
    {
     "name": "stdout",
     "output_type": "stream",
     "text": [
      "\u001b[1m2/2\u001b[0m \u001b[32m━━━━━━━━━━━━━━━━━━━━\u001b[0m\u001b[37m\u001b[0m \u001b[1m0s\u001b[0m 3ms/step \n"
     ]
    }
   ],
   "source": [
    "inference_server = kaggle_evaluation.jane_street_inference_server.JSInferenceServer(predict)\n",
    "\n",
    "if os.getenv('KAGGLE_IS_COMPETITION_RERUN'):\n",
    "    inference_server.serve()\n",
    "else:\n",
    "    inference_server.run_local_gateway(\n",
    "        (\n",
    "            '/kaggle/input/jane-street-real-time-market-data-forecasting/test.parquet',\n",
    "            '/kaggle/input/jane-street-real-time-market-data-forecasting/lags.parquet',\n",
    "        )\n",
    "    )"
   ]
  },
  {
   "cell_type": "code",
   "execution_count": null,
   "id": "057252f1",
   "metadata": {
    "papermill": {
     "duration": 1.181251,
     "end_time": "2024-12-19T04:23:20.261005",
     "exception": false,
     "start_time": "2024-12-19T04:23:19.079754",
     "status": "completed"
    },
    "tags": []
   },
   "outputs": [],
   "source": []
  }
 ],
 "metadata": {
  "kaggle": {
   "accelerator": "gpu",
   "dataSources": [
    {
     "databundleVersionId": 9871156,
     "sourceId": 84493,
     "sourceType": "competition"
    }
   ],
   "dockerImageVersionId": 30805,
   "isGpuEnabled": true,
   "isInternetEnabled": false,
   "language": "python",
   "sourceType": "notebook"
  },
  "kernelspec": {
   "display_name": "Python 3",
   "language": "python",
   "name": "python3"
  },
  "language_info": {
   "codemirror_mode": {
    "name": "ipython",
    "version": 3
   },
   "file_extension": ".py",
   "mimetype": "text/x-python",
   "name": "python",
   "nbconvert_exporter": "python",
   "pygments_lexer": "ipython3",
   "version": "3.10.14"
  },
  "papermill": {
   "default_parameters": {},
   "duration": 1326.552799,
   "end_time": "2024-12-19T04:23:24.528035",
   "environment_variables": {},
   "exception": null,
   "input_path": "__notebook__.ipynb",
   "output_path": "__notebook__.ipynb",
   "parameters": {},
   "start_time": "2024-12-19T04:01:17.975236",
   "version": "2.6.0"
  }
 },
 "nbformat": 4,
 "nbformat_minor": 5
}
