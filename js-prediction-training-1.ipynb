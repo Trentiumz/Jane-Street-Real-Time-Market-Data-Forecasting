{
 "cells": [
  {
   "cell_type": "code",
   "execution_count": 1,
   "id": "238336d3",
   "metadata": {
    "execution": {
     "iopub.execute_input": "2024-12-20T15:12:18.342514Z",
     "iopub.status.busy": "2024-12-20T15:12:18.341693Z",
     "iopub.status.idle": "2024-12-20T15:12:33.847199Z",
     "shell.execute_reply": "2024-12-20T15:12:33.846182Z"
    },
    "papermill": {
     "duration": 15.514589,
     "end_time": "2024-12-20T15:12:33.849653",
     "exception": false,
     "start_time": "2024-12-20T15:12:18.335064",
     "status": "completed"
    },
    "tags": []
   },
   "outputs": [],
   "source": [
    "# This Python 3 environment comes with many helpful analytics libraries installed\n",
    "# It is defined by the kaggle/python Docker image: https://github.com/kaggle/docker-python\n",
    "# For example, here's several helpful packages to load\n",
    "\n",
    "import numpy as np # linear algebra\n",
    "import polars as pl # data processing, CSV file I/O (e.g. pd.read_csv)\n",
    "import pandas as pd\n",
    "import os\n",
    "from pathlib import Path\n",
    "import tensorflow as tf\n",
    "from tensorflow import keras\n",
    "from tensorflow.keras import layers\n",
    "\n",
    "# Input data files are available in the read-only \"../input/\" directory\n",
    "# For example, running this (by clicking run or pressing Shift+Enter) will list all files under the input directory\n",
    "\n",
    "# You can write up to 20GB to the current directory (/kaggle/working/) that gets preserved as output when you create a version using \"Save & Run All\" \n",
    "# You can also write temporary files to /kaggle/temp/, but they won't be saved outside of the current session"
   ]
  },
  {
   "cell_type": "markdown",
   "id": "e27b4923",
   "metadata": {
    "papermill": {
     "duration": 0.00437,
     "end_time": "2024-12-20T15:12:33.858973",
     "exception": false,
     "start_time": "2024-12-20T15:12:33.854603",
     "status": "completed"
    },
    "tags": []
   },
   "source": [
    "## Read Input"
   ]
  },
  {
   "cell_type": "code",
   "execution_count": 2,
   "id": "a524f762",
   "metadata": {
    "execution": {
     "iopub.execute_input": "2024-12-20T15:12:33.870156Z",
     "iopub.status.busy": "2024-12-20T15:12:33.869513Z",
     "iopub.status.idle": "2024-12-20T15:12:33.876616Z",
     "shell.execute_reply": "2024-12-20T15:12:33.875581Z"
    },
    "papermill": {
     "duration": 0.015341,
     "end_time": "2024-12-20T15:12:33.878959",
     "exception": false,
     "start_time": "2024-12-20T15:12:33.863618",
     "status": "completed"
    },
    "tags": []
   },
   "outputs": [],
   "source": [
    "base_path = Path(\"/kaggle/input/jane-street-real-time-market-data-forecasting/\")\n",
    "train_path = base_path / Path(\"train.parquet\")\n",
    "train_read_paths = [train_path / Path(f\"partition_id={i}/part-0.parquet\") for i in [0, 1, 2, 3, 4, 5, 6, 7]]\n",
    "val_read_paths = [train_path / Path(f\"partition_id={i}/part-0.parquet\") for i in [8]]\n",
    "test_read_paths = [train_path / Path(f\"partition_id={i}/part-0.parquet\") for i in [9]]\n",
    "\n",
    "load_means_from_file = False\n",
    "means_path = \"/kaggle/working/means.csv\"\n",
    "load_stds_from_file = False\n",
    "stds_path = \"/kaggle/working/stds.csv\"\n",
    "\n",
    "target = \"responder_6\""
   ]
  },
  {
   "cell_type": "code",
   "execution_count": 3,
   "id": "e264d7e9",
   "metadata": {
    "execution": {
     "iopub.execute_input": "2024-12-20T15:12:33.891267Z",
     "iopub.status.busy": "2024-12-20T15:12:33.890822Z",
     "iopub.status.idle": "2024-12-20T15:12:33.898247Z",
     "shell.execute_reply": "2024-12-20T15:12:33.897056Z"
    },
    "papermill": {
     "duration": 0.017193,
     "end_time": "2024-12-20T15:12:33.900871",
     "exception": false,
     "start_time": "2024-12-20T15:12:33.883678",
     "status": "completed"
    },
    "tags": []
   },
   "outputs": [],
   "source": [
    "class Config:\n",
    "    input_format = {\n",
    "        \"date_id\": tf.TensorSpec(shape=(None,), dtype=tf.float32),\n",
    "        \"time_id\": tf.TensorSpec(shape=(None,), dtype=tf.float32),\n",
    "        \"symbol_id\": tf.TensorSpec(shape=(None,), dtype=tf.float32),\n",
    "        \"weight\": tf.TensorSpec(shape=(None,), dtype=tf.float32),\n",
    "        \"features\": tf.TensorSpec(shape=(None, 79), dtype=tf.float32),\n",
    "        \"responders\": tf.TensorSpec(shape=(None, 9), dtype=tf.float32),\n",
    "        \"target\": tf.TensorSpec(shape=(None,), dtype=tf.float32)\n",
    "    }\n",
    "    train_batch_size = 32768\n",
    "\n",
    "config = Config()"
   ]
  },
  {
   "cell_type": "code",
   "execution_count": 4,
   "id": "940265f7",
   "metadata": {
    "execution": {
     "iopub.execute_input": "2024-12-20T15:12:33.911735Z",
     "iopub.status.busy": "2024-12-20T15:12:33.911325Z",
     "iopub.status.idle": "2024-12-20T15:12:34.073310Z",
     "shell.execute_reply": "2024-12-20T15:12:34.072075Z"
    },
    "papermill": {
     "duration": 0.170857,
     "end_time": "2024-12-20T15:12:34.076255",
     "exception": false,
     "start_time": "2024-12-20T15:12:33.905398",
     "status": "completed"
    },
    "tags": []
   },
   "outputs": [],
   "source": [
    "def chunk_features(chunk):\n",
    "    return chunk[[i for i in chunk.columns if i.startswith(\"feature_\")]]\n",
    "\n",
    "def from_files(paths):\n",
    "    def to_ret():\n",
    "        for filepath in paths:\n",
    "            chunk = pl.read_parquet(filepath)\n",
    "            yield {\n",
    "                \"date_id\": chunk[\"date_id\"],\n",
    "                \"time_id\": chunk[\"time_id\"],\n",
    "                \"symbol_id\": chunk[\"symbol_id\"],\n",
    "                \"weight\": chunk[\"weight\"],\n",
    "                \"features\": chunk_features(chunk),\n",
    "                \"responders\": chunk[[i for i in chunk.columns if i.startswith(\"responder_\")]],\n",
    "                \"target\": chunk[target]\n",
    "            }\n",
    "    return to_ret\n",
    "\n",
    "train_raw = tf.data.Dataset.from_generator(\n",
    "    from_files(train_read_paths),\n",
    "    output_signature=config.input_format\n",
    ").prefetch(tf.data.AUTOTUNE).cache()\n",
    "\n",
    "val_raw = tf.data.Dataset.from_generator(\n",
    "    from_files(val_read_paths),\n",
    "    output_signature=config.input_format\n",
    ").cache()\n",
    "\n",
    "test_raw = tf.data.Dataset.from_generator(\n",
    "    from_files(test_read_paths),\n",
    "    output_signature=config.input_format\n",
    ")"
   ]
  },
  {
   "cell_type": "code",
   "execution_count": 5,
   "id": "cd5305a5",
   "metadata": {
    "execution": {
     "iopub.execute_input": "2024-12-20T15:12:34.087142Z",
     "iopub.status.busy": "2024-12-20T15:12:34.086572Z",
     "iopub.status.idle": "2024-12-20T15:12:34.094987Z",
     "shell.execute_reply": "2024-12-20T15:12:34.093811Z"
    },
    "papermill": {
     "duration": 0.016555,
     "end_time": "2024-12-20T15:12:34.097341",
     "exception": false,
     "start_time": "2024-12-20T15:12:34.080786",
     "status": "completed"
    },
    "tags": []
   },
   "outputs": [
    {
     "data": {
      "text/plain": [
       "{'date_id': TensorSpec(shape=(None,), dtype=tf.float32, name=None),\n",
       " 'time_id': TensorSpec(shape=(None,), dtype=tf.float32, name=None),\n",
       " 'symbol_id': TensorSpec(shape=(None,), dtype=tf.float32, name=None),\n",
       " 'weight': TensorSpec(shape=(None,), dtype=tf.float32, name=None),\n",
       " 'features': TensorSpec(shape=(None, 79), dtype=tf.float32, name=None),\n",
       " 'responders': TensorSpec(shape=(None, 9), dtype=tf.float32, name=None),\n",
       " 'target': TensorSpec(shape=(None,), dtype=tf.float32, name=None)}"
      ]
     },
     "execution_count": 5,
     "metadata": {},
     "output_type": "execute_result"
    }
   ],
   "source": [
    "train_raw.element_spec"
   ]
  },
  {
   "cell_type": "markdown",
   "id": "964406bd",
   "metadata": {
    "papermill": {
     "duration": 0.004349,
     "end_time": "2024-12-20T15:12:34.106553",
     "exception": false,
     "start_time": "2024-12-20T15:12:34.102204",
     "status": "completed"
    },
    "tags": []
   },
   "source": [
    "## Filter Data"
   ]
  },
  {
   "cell_type": "code",
   "execution_count": 6,
   "id": "4e85f842",
   "metadata": {
    "execution": {
     "iopub.execute_input": "2024-12-20T15:12:34.116990Z",
     "iopub.status.busy": "2024-12-20T15:12:34.116556Z",
     "iopub.status.idle": "2024-12-20T15:16:04.091922Z",
     "shell.execute_reply": "2024-12-20T15:16:04.091043Z"
    },
    "papermill": {
     "duration": 209.983642,
     "end_time": "2024-12-20T15:16:04.094625",
     "exception": false,
     "start_time": "2024-12-20T15:12:34.110983",
     "status": "completed"
    },
    "tags": []
   },
   "outputs": [],
   "source": [
    "def get_mean(dataset):\n",
    "    batched_ds = dataset.batch(10000)\n",
    "    def step(acc, value):\n",
    "        num_non_nan = tf.reduce_sum(tf.cast(tf.math.is_nan(value['features']) == False, tf.float32), axis=0)\n",
    "        sum_non_nan = tf.reduce_sum(tf.where(tf.math.is_nan(value['features']), tf.zeros_like(value['features']), value['features']), axis=0)\n",
    "        return (acc[0] + sum_non_nan, acc[1] + num_non_nan)\n",
    "    \n",
    "    sum_, rows = batched_ds.reduce((tf.zeros(shape=(79,)), tf.constant(0.0)), step)\n",
    "    return sum_ / tf.maximum(rows, tf.ones_like(rows))\n",
    "\n",
    "if load_means_from_file:\n",
    "    means = np.asarray(pl.read_csv(means_path)).astype('float32').reshape((-1,))\n",
    "else:\n",
    "    means = get_mean(train_raw.unbatch())"
   ]
  },
  {
   "cell_type": "code",
   "execution_count": 7,
   "id": "c336cb90",
   "metadata": {
    "execution": {
     "iopub.execute_input": "2024-12-20T15:16:04.106515Z",
     "iopub.status.busy": "2024-12-20T15:16:04.105695Z",
     "iopub.status.idle": "2024-12-20T15:16:04.178107Z",
     "shell.execute_reply": "2024-12-20T15:16:04.177213Z"
    },
    "papermill": {
     "duration": 0.080466,
     "end_time": "2024-12-20T15:16:04.180329",
     "exception": false,
     "start_time": "2024-12-20T15:16:04.099863",
     "status": "completed"
    },
    "tags": []
   },
   "outputs": [],
   "source": [
    "def clean_data(features):\n",
    "    return tf.where(\n",
    "        tf.logical_or(tf.math.is_nan(features), tf.math.is_inf(features)), \n",
    "        means, \n",
    "        features)\n",
    "\n",
    "train_vals = train_raw.map(lambda i: (\n",
    "                        clean_data(i['features']),\n",
    "                        i['target']\n",
    "                        ))"
   ]
  },
  {
   "cell_type": "code",
   "execution_count": 8,
   "id": "be76b6d5",
   "metadata": {
    "execution": {
     "iopub.execute_input": "2024-12-20T15:16:04.191334Z",
     "iopub.status.busy": "2024-12-20T15:16:04.190561Z",
     "iopub.status.idle": "2024-12-20T15:17:00.029377Z",
     "shell.execute_reply": "2024-12-20T15:17:00.028250Z"
    },
    "papermill": {
     "duration": 55.848242,
     "end_time": "2024-12-20T15:17:00.033110",
     "exception": false,
     "start_time": "2024-12-20T15:16:04.184868",
     "status": "completed"
    },
    "tags": []
   },
   "outputs": [],
   "source": [
    "def get_std(dataset):\n",
    "    batched_ds = dataset.batch(10000)\n",
    "    def step(acc, val):\n",
    "        return (acc[0] + tf.math.reduce_std(val[0], axis=0), acc[1] + 1)\n",
    "    sum_, samples = batched_ds.reduce((tf.zeros(shape=(79,)), tf.constant(0.0)), step)\n",
    "    return sum_ / samples\n",
    "\n",
    "if load_stds_from_file:\n",
    "    stds = np.asarray(pl.read_csv(stds_path)).astype('float32').reshape((-1,))\n",
    "else:\n",
    "    stds = get_std(train_vals.unbatch())"
   ]
  },
  {
   "cell_type": "code",
   "execution_count": 9,
   "id": "10821478",
   "metadata": {
    "execution": {
     "iopub.execute_input": "2024-12-20T15:17:00.045618Z",
     "iopub.status.busy": "2024-12-20T15:17:00.045198Z",
     "iopub.status.idle": "2024-12-20T15:17:00.370993Z",
     "shell.execute_reply": "2024-12-20T15:17:00.370112Z"
    },
    "papermill": {
     "duration": 0.334271,
     "end_time": "2024-12-20T15:17:00.373415",
     "exception": false,
     "start_time": "2024-12-20T15:17:00.039144",
     "status": "completed"
    },
    "tags": []
   },
   "outputs": [],
   "source": [
    "def normalize_data(features):\n",
    "    return (features - means) / tf.math.maximum(1.0, stds)\n",
    "\n",
    "train_ds = train_vals.map(lambda feat, tar: (normalize_data(feat), tar)).unbatch().shuffle(10000).batch(config.train_batch_size)\n",
    "val_ds = val_raw.map(lambda i: (normalize_data(clean_data(i['features'])), i['target']))"
   ]
  },
  {
   "cell_type": "markdown",
   "id": "38da3d10",
   "metadata": {
    "execution": {
     "iopub.execute_input": "2024-12-18T04:06:27.478694Z",
     "iopub.status.busy": "2024-12-18T04:06:27.477500Z",
     "iopub.status.idle": "2024-12-18T04:06:27.485848Z",
     "shell.execute_reply": "2024-12-18T04:06:27.484622Z",
     "shell.execute_reply.started": "2024-12-18T04:06:27.478647Z"
    },
    "papermill": {
     "duration": 0.004284,
     "end_time": "2024-12-20T15:17:00.382521",
     "exception": false,
     "start_time": "2024-12-20T15:17:00.378237",
     "status": "completed"
    },
    "tags": []
   },
   "source": [
    "## Train a Model"
   ]
  },
  {
   "cell_type": "code",
   "execution_count": 10,
   "id": "fe2bbea2",
   "metadata": {
    "execution": {
     "iopub.execute_input": "2024-12-20T15:17:00.393204Z",
     "iopub.status.busy": "2024-12-20T15:17:00.392774Z",
     "iopub.status.idle": "2024-12-20T15:17:00.458131Z",
     "shell.execute_reply": "2024-12-20T15:17:00.457239Z"
    },
    "papermill": {
     "duration": 0.073461,
     "end_time": "2024-12-20T15:17:00.460620",
     "exception": false,
     "start_time": "2024-12-20T15:17:00.387159",
     "status": "completed"
    },
    "tags": []
   },
   "outputs": [],
   "source": [
    "inp = keras.Input(shape=(79,))\n",
    "x = layers.Dense(units=40, activation=\"relu\")(inp)\n",
    "x = layers.Dense(units=30, activation=\"relu\")(x)\n",
    "x = layers.Dense(units=20, activation=\"relu\")(x)\n",
    "x = layers.Dense(units=10, activation=\"relu\")(x)\n",
    "x = layers.Dense(units=1)(x)\n",
    "model = keras.Model(inputs=inp, outputs=x)"
   ]
  },
  {
   "cell_type": "code",
   "execution_count": 11,
   "id": "3551205f",
   "metadata": {
    "execution": {
     "iopub.execute_input": "2024-12-20T15:17:00.471352Z",
     "iopub.status.busy": "2024-12-20T15:17:00.470955Z",
     "iopub.status.idle": "2024-12-20T15:17:00.489775Z",
     "shell.execute_reply": "2024-12-20T15:17:00.488681Z"
    },
    "papermill": {
     "duration": 0.026815,
     "end_time": "2024-12-20T15:17:00.492088",
     "exception": false,
     "start_time": "2024-12-20T15:17:00.465273",
     "status": "completed"
    },
    "tags": []
   },
   "outputs": [],
   "source": [
    "def r2_loss(y_true, y_pred):\n",
    "    return tf.math.reduce_sum((y_true - y_pred) ** 2) / tf.math.reduce_sum(y_true ** 2)\n",
    "\n",
    "model.compile(optimizer=\"rmsprop\", loss=r2_loss, metrics=[keras.metrics.MeanAbsoluteError(), keras.metrics.R2Score()])"
   ]
  },
  {
   "cell_type": "code",
   "execution_count": 12,
   "id": "2205a249",
   "metadata": {
    "execution": {
     "iopub.execute_input": "2024-12-20T15:17:00.502804Z",
     "iopub.status.busy": "2024-12-20T15:17:00.502373Z",
     "iopub.status.idle": "2024-12-20T15:28:07.200247Z",
     "shell.execute_reply": "2024-12-20T15:28:07.198698Z"
    },
    "papermill": {
     "duration": 666.950185,
     "end_time": "2024-12-20T15:28:07.446893",
     "exception": false,
     "start_time": "2024-12-20T15:17:00.496708",
     "status": "completed"
    },
    "tags": []
   },
   "outputs": [
    {
     "name": "stdout",
     "output_type": "stream",
     "text": [
      "Epoch 1/10\n",
      "   1060/Unknown \u001b[1m157s\u001b[0m 138ms/step - loss: 0.9974 - mean_absolute_error: 0.5989 - r2_score: 0.0030"
     ]
    },
    {
     "name": "stderr",
     "output_type": "stream",
     "text": [
      "/opt/conda/lib/python3.10/contextlib.py:153: UserWarning: Your input ran out of data; interrupting training. Make sure that your dataset or generator can generate at least `steps_per_epoch * epochs` batches. You may need to use the `.repeat()` function when building your dataset.\n",
      "  self.gen.throw(typ, value, traceback)\n"
     ]
    },
    {
     "name": "stdout",
     "output_type": "stream",
     "text": [
      "\u001b[1m1060/1060\u001b[0m \u001b[32m━━━━━━━━━━━━━━━━━━━━\u001b[0m\u001b[37m\u001b[0m \u001b[1m174s\u001b[0m 155ms/step - loss: 0.9974 - mean_absolute_error: 0.5989 - r2_score: 0.0030 - val_loss: 0.9904 - val_mean_absolute_error: 0.5559 - val_r2_score: 0.0096\n",
      "Epoch 2/10\n",
      "\u001b[1m1060/1060\u001b[0m \u001b[32m━━━━━━━━━━━━━━━━━━━━\u001b[0m\u001b[37m\u001b[0m \u001b[1m166s\u001b[0m 152ms/step - loss: 0.9867 - mean_absolute_error: 0.5950 - r2_score: 0.0132 - val_loss: 0.9888 - val_mean_absolute_error: 0.5552 - val_r2_score: 0.0112\n",
      "Epoch 3/10\n",
      "\u001b[1m1060/1060\u001b[0m \u001b[32m━━━━━━━━━━━━━━━━━━━━\u001b[0m\u001b[37m\u001b[0m \u001b[1m158s\u001b[0m 145ms/step - loss: 0.9850 - mean_absolute_error: 0.5946 - r2_score: 0.0149 - val_loss: 0.9880 - val_mean_absolute_error: 0.5550 - val_r2_score: 0.0120\n",
      "Epoch 4/10\n",
      "\u001b[1m1060/1060\u001b[0m \u001b[32m━━━━━━━━━━━━━━━━━━━━\u001b[0m\u001b[37m\u001b[0m \u001b[1m169s\u001b[0m 155ms/step - loss: 0.9841 - mean_absolute_error: 0.5944 - r2_score: 0.0158 - val_loss: 0.9881 - val_mean_absolute_error: 0.5549 - val_r2_score: 0.0119\n"
     ]
    }
   ],
   "source": [
    "callbacks = [\n",
    "    keras.callbacks.ModelCheckpoint('/kaggle/working/fitted.keras', save_best_only=True),\n",
    "    keras.callbacks.ModelCheckpoint('/kaggle/working/intermediate.keras', save_best_only=False),\n",
    "    keras.callbacks.EarlyStopping(patience=1)\n",
    "]\n",
    "\n",
    "history = model.fit(x=train_ds, validation_data=val_ds, epochs=10, callbacks = callbacks)"
   ]
  },
  {
   "cell_type": "markdown",
   "id": "378b1242",
   "metadata": {
    "papermill": {
     "duration": 0.245296,
     "end_time": "2024-12-20T15:28:07.936427",
     "exception": false,
     "start_time": "2024-12-20T15:28:07.691131",
     "status": "completed"
    },
    "tags": []
   },
   "source": [
    "## Save model & Data"
   ]
  },
  {
   "cell_type": "code",
   "execution_count": 13,
   "id": "1a7c701d",
   "metadata": {
    "execution": {
     "iopub.execute_input": "2024-12-20T15:28:08.483057Z",
     "iopub.status.busy": "2024-12-20T15:28:08.482594Z",
     "iopub.status.idle": "2024-12-20T15:28:08.505617Z",
     "shell.execute_reply": "2024-12-20T15:28:08.504392Z"
    },
    "papermill": {
     "duration": 0.269916,
     "end_time": "2024-12-20T15:28:08.508032",
     "exception": false,
     "start_time": "2024-12-20T15:28:08.238116",
     "status": "completed"
    },
    "tags": []
   },
   "outputs": [],
   "source": [
    "pl.DataFrame({'means': np.asarray(means)}).write_csv('means.csv')"
   ]
  },
  {
   "cell_type": "code",
   "execution_count": 14,
   "id": "af627229",
   "metadata": {
    "execution": {
     "iopub.execute_input": "2024-12-20T15:28:08.997451Z",
     "iopub.status.busy": "2024-12-20T15:28:08.997044Z",
     "iopub.status.idle": "2024-12-20T15:28:09.002591Z",
     "shell.execute_reply": "2024-12-20T15:28:09.001616Z"
    },
    "papermill": {
     "duration": 0.254213,
     "end_time": "2024-12-20T15:28:09.004821",
     "exception": false,
     "start_time": "2024-12-20T15:28:08.750608",
     "status": "completed"
    },
    "tags": []
   },
   "outputs": [],
   "source": [
    "pl.DataFrame({'stds': np.asarray(stds)}).write_csv('stds.csv')"
   ]
  },
  {
   "cell_type": "markdown",
   "id": "5f047f4d",
   "metadata": {
    "execution": {
     "iopub.execute_input": "2024-12-19T21:16:33.404263Z",
     "iopub.status.busy": "2024-12-19T21:16:33.403835Z",
     "iopub.status.idle": "2024-12-19T21:16:41.038672Z",
     "shell.execute_reply": "2024-12-19T21:16:41.037480Z",
     "shell.execute_reply.started": "2024-12-19T21:16:33.404225Z"
    },
    "papermill": {
     "duration": 0.245885,
     "end_time": "2024-12-20T15:28:09.495517",
     "exception": false,
     "start_time": "2024-12-20T15:28:09.249632",
     "status": "completed"
    },
    "tags": []
   },
   "source": [
    "## Evaluate Model"
   ]
  },
  {
   "cell_type": "code",
   "execution_count": 15,
   "id": "21c7aedc",
   "metadata": {
    "execution": {
     "iopub.execute_input": "2024-12-20T15:28:10.039544Z",
     "iopub.status.busy": "2024-12-20T15:28:10.039137Z",
     "iopub.status.idle": "2024-12-20T15:28:10.086696Z",
     "shell.execute_reply": "2024-12-20T15:28:10.085592Z"
    },
    "papermill": {
     "duration": 0.349654,
     "end_time": "2024-12-20T15:28:10.089263",
     "exception": false,
     "start_time": "2024-12-20T15:28:09.739609",
     "status": "completed"
    },
    "tags": []
   },
   "outputs": [],
   "source": [
    "test_ds = test_raw.map(lambda i: (\n",
    "    normalize_data(clean_data(i['features'])),\n",
    "    i['target']\n",
    "))"
   ]
  },
  {
   "cell_type": "code",
   "execution_count": 16,
   "id": "6f829c36",
   "metadata": {
    "execution": {
     "iopub.execute_input": "2024-12-20T15:28:10.581966Z",
     "iopub.status.busy": "2024-12-20T15:28:10.581517Z",
     "iopub.status.idle": "2024-12-20T15:28:27.887243Z",
     "shell.execute_reply": "2024-12-20T15:28:27.886109Z"
    },
    "papermill": {
     "duration": 17.556299,
     "end_time": "2024-12-20T15:28:27.889657",
     "exception": false,
     "start_time": "2024-12-20T15:28:10.333358",
     "status": "completed"
    },
    "tags": []
   },
   "outputs": [
    {
     "name": "stdout",
     "output_type": "stream",
     "text": [
      "\u001b[1m1/1\u001b[0m \u001b[32m━━━━━━━━━━━━━━━━━━━━\u001b[0m\u001b[37m\u001b[0m \u001b[1m17s\u001b[0m 17s/step - loss: 0.9936 - mean_absolute_error: 0.5331 - r2_score: 0.0064\n"
     ]
    },
    {
     "data": {
      "text/plain": [
       "[0.9936192631721497, 0.5330921411514282, 0.006359279155731201]"
      ]
     },
     "execution_count": 16,
     "metadata": {},
     "output_type": "execute_result"
    }
   ],
   "source": [
    "model.evaluate(x=test_ds)"
   ]
  }
 ],
 "metadata": {
  "kaggle": {
   "accelerator": "none",
   "dataSources": [
    {
     "databundleVersionId": 9871156,
     "sourceId": 84493,
     "sourceType": "competition"
    }
   ],
   "dockerImageVersionId": 30805,
   "isGpuEnabled": false,
   "isInternetEnabled": false,
   "language": "python",
   "sourceType": "notebook"
  },
  "kernelspec": {
   "display_name": "Python 3",
   "language": "python",
   "name": "python3"
  },
  "language_info": {
   "codemirror_mode": {
    "name": "ipython",
    "version": 3
   },
   "file_extension": ".py",
   "mimetype": "text/x-python",
   "name": "python",
   "nbconvert_exporter": "python",
   "pygments_lexer": "ipython3",
   "version": "3.10.14"
  },
  "papermill": {
   "default_parameters": {},
   "duration": 975.959721,
   "end_time": "2024-12-20T15:28:31.155610",
   "environment_variables": {},
   "exception": null,
   "input_path": "__notebook__.ipynb",
   "output_path": "__notebook__.ipynb",
   "parameters": {},
   "start_time": "2024-12-20T15:12:15.195889",
   "version": "2.6.0"
  }
 },
 "nbformat": 4,
 "nbformat_minor": 5
}
