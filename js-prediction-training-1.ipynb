{
 "cells": [
  {
   "cell_type": "code",
   "execution_count": 1,
   "id": "089af0c5",
   "metadata": {
    "execution": {
     "iopub.execute_input": "2024-12-25T15:34:44.781541Z",
     "iopub.status.busy": "2024-12-25T15:34:44.781203Z",
     "iopub.status.idle": "2024-12-25T15:34:56.511753Z",
     "shell.execute_reply": "2024-12-25T15:34:56.511031Z"
    },
    "papermill": {
     "duration": 11.737474,
     "end_time": "2024-12-25T15:34:56.513706",
     "exception": false,
     "start_time": "2024-12-25T15:34:44.776232",
     "status": "completed"
    },
    "tags": []
   },
   "outputs": [],
   "source": [
    "# This Python 3 environment comes with many helpful analytics libraries installed\n",
    "# It is defined by the kaggle/python Docker image: https://github.com/kaggle/docker-python\n",
    "# For example, here's several helpful packages to load\n",
    "\n",
    "import numpy as np # linear algebra\n",
    "import polars as pl # data processing, CSV file I/O (e.g. pd.read_csv)\n",
    "import pandas as pd\n",
    "import os\n",
    "from pathlib import Path\n",
    "import tensorflow as tf\n",
    "from tensorflow import keras\n",
    "from tensorflow.keras import layers\n",
    "import gc\n",
    "import re\n",
    "import random\n",
    "\n",
    "# Input data files are available in the read-only \"../input/\" directory\n",
    "# For example, running this (by clicking run or pressing Shift+Enter) will list all files under the input directory\n",
    "\n",
    "# You can write up to 20GB to the current directory (/kaggle/working/) that gets preserved as output when you create a version using \"Save & Run All\" \n",
    "# You can also write temporary files to /kaggle/temp/, but they won't be saved outside of the current session"
   ]
  },
  {
   "cell_type": "code",
   "execution_count": 2,
   "id": "501922f3",
   "metadata": {
    "execution": {
     "iopub.execute_input": "2024-12-25T15:34:56.522365Z",
     "iopub.status.busy": "2024-12-25T15:34:56.521160Z",
     "iopub.status.idle": "2024-12-25T15:34:56.526156Z",
     "shell.execute_reply": "2024-12-25T15:34:56.525499Z"
    },
    "papermill": {
     "duration": 0.010475,
     "end_time": "2024-12-25T15:34:56.527694",
     "exception": false,
     "start_time": "2024-12-25T15:34:56.517219",
     "status": "completed"
    },
    "tags": []
   },
   "outputs": [],
   "source": [
    "np.random.seed(15234)\n",
    "random.seed(15234)\n",
    "os.environ['PYTHONHASHSEED'] = '42'\n",
    "tf.random.set_seed(15234)"
   ]
  },
  {
   "cell_type": "markdown",
   "id": "9f090e99",
   "metadata": {
    "papermill": {
     "duration": 0.002889,
     "end_time": "2024-12-25T15:34:56.534719",
     "exception": false,
     "start_time": "2024-12-25T15:34:56.531830",
     "status": "completed"
    },
    "tags": []
   },
   "source": [
    "## Read Input"
   ]
  },
  {
   "cell_type": "code",
   "execution_count": 3,
   "id": "4d9a941e",
   "metadata": {
    "execution": {
     "iopub.execute_input": "2024-12-25T15:34:56.541889Z",
     "iopub.status.busy": "2024-12-25T15:34:56.541633Z",
     "iopub.status.idle": "2024-12-25T15:34:56.546880Z",
     "shell.execute_reply": "2024-12-25T15:34:56.546101Z"
    },
    "papermill": {
     "duration": 0.01064,
     "end_time": "2024-12-25T15:34:56.548400",
     "exception": false,
     "start_time": "2024-12-25T15:34:56.537760",
     "status": "completed"
    },
    "tags": []
   },
   "outputs": [],
   "source": [
    "base_path = Path(\"/kaggle/input/jane-street-real-time-market-data-forecasting/\")\n",
    "preprocess_path = Path('/kaggle/input/js-preprocessing/')\n",
    "train_path = preprocess_path / Path(\"train/\")\n",
    "train_read_paths = [train_path / Path(f\"partition_id={i}/part-0.parquet\") for i in [0, 1, 2, 3, 4, 5, 6, 7]]\n",
    "val_read_paths = [train_path / Path(f\"partition_id={i}/part-0.parquet\") for i in [8]]\n",
    "test_read_paths = [train_path / Path(f\"partition_id={i}/part-0.parquet\") for i in [9]]\n",
    "\n",
    "data_base_path = Path(\"/kaggle/input/js-preprocessing/\")\n",
    "feature_data_path = data_base_path / Path(\"feature_data.csv\")\n",
    "\n",
    "target = \"responder_6\""
   ]
  },
  {
   "cell_type": "code",
   "execution_count": 4,
   "id": "64a8c0cb",
   "metadata": {
    "execution": {
     "iopub.execute_input": "2024-12-25T15:34:56.555414Z",
     "iopub.status.busy": "2024-12-25T15:34:56.555199Z",
     "iopub.status.idle": "2024-12-25T15:34:56.560374Z",
     "shell.execute_reply": "2024-12-25T15:34:56.559611Z"
    },
    "papermill": {
     "duration": 0.010287,
     "end_time": "2024-12-25T15:34:56.561820",
     "exception": false,
     "start_time": "2024-12-25T15:34:56.551533",
     "status": "completed"
    },
    "tags": []
   },
   "outputs": [],
   "source": [
    "class Config:\n",
    "    input_format = {\n",
    "        \"date_id\": tf.TensorSpec(shape=(None,), dtype=tf.float32),\n",
    "        \"time_id\": tf.TensorSpec(shape=(None,), dtype=tf.float32),\n",
    "        \"symbol_id\": tf.TensorSpec(shape=(None,), dtype=tf.float32),\n",
    "        \"weight\": tf.TensorSpec(shape=(None,), dtype=tf.float32),\n",
    "        \"features\": tf.TensorSpec(shape=(None, 79), dtype=tf.float32),\n",
    "        \"responders\": tf.TensorSpec(shape=(None, 9), dtype=tf.float32),\n",
    "        \"lags\": tf.TensorSpec(shape=(None, 9), dtype=tf.float32),\n",
    "        \"target\": tf.TensorSpec(shape=(None,), dtype=tf.float32)\n",
    "    }\n",
    "    train_batch_size = 32768\n",
    "    val_batch_size = 512\n",
    "\n",
    "config = Config()"
   ]
  },
  {
   "cell_type": "code",
   "execution_count": 5,
   "id": "0e84b90d",
   "metadata": {
    "execution": {
     "iopub.execute_input": "2024-12-25T15:34:56.568742Z",
     "iopub.status.busy": "2024-12-25T15:34:56.568508Z",
     "iopub.status.idle": "2024-12-25T15:34:57.476751Z",
     "shell.execute_reply": "2024-12-25T15:34:57.476085Z"
    },
    "papermill": {
     "duration": 0.913908,
     "end_time": "2024-12-25T15:34:57.478787",
     "exception": false,
     "start_time": "2024-12-25T15:34:56.564879",
     "status": "completed"
    },
    "tags": []
   },
   "outputs": [],
   "source": [
    "feature_format = 'feature_\\d\\d'\n",
    "responder_format = 'responder_\\d'\n",
    "lag_format = 'responder_\\d_lag'\n",
    "\n",
    "def chunk_features(chunk):\n",
    "    return chunk[[i for i in chunk.columns if re.fullmatch(feature_format, i)]]\n",
    "def chunk_lags(chunk):\n",
    "    return chunk[[i for i in chunk.columns if re.fullmatch(lag_format, i)]]\n",
    "\n",
    "def from_files(paths):\n",
    "    def to_ret():\n",
    "        for filepath in paths:\n",
    "            chunk = pl.read_parquet(filepath)\n",
    "            yield {\n",
    "                \"date_id\": chunk[\"date_id\"],\n",
    "                \"time_id\": chunk[\"time_id\"],\n",
    "                \"symbol_id\": chunk[\"symbol_id\"],\n",
    "                \"weight\": chunk[\"weight\"],\n",
    "                \"features\": chunk_features(chunk),\n",
    "                \"responders\": chunk[[i for i in chunk.columns if re.fullmatch(responder_format, i)]],\n",
    "                \"lags\": chunk_lags(chunk),\n",
    "                \"target\": chunk[target]\n",
    "            }\n",
    "    return to_ret\n",
    "\n",
    "train_raw = tf.data.Dataset.from_generator(\n",
    "    from_files(train_read_paths),\n",
    "    output_signature=config.input_format\n",
    ").prefetch(tf.data.AUTOTUNE).cache()\n",
    "\n",
    "val_raw = tf.data.Dataset.from_generator(\n",
    "    from_files(val_read_paths),\n",
    "    output_signature=config.input_format\n",
    ").cache()\n",
    "\n",
    "test_raw = tf.data.Dataset.from_generator(\n",
    "    from_files(test_read_paths),\n",
    "    output_signature=config.input_format\n",
    ")"
   ]
  },
  {
   "cell_type": "code",
   "execution_count": 6,
   "id": "5a95fddc",
   "metadata": {
    "execution": {
     "iopub.execute_input": "2024-12-25T15:34:57.486498Z",
     "iopub.status.busy": "2024-12-25T15:34:57.486215Z",
     "iopub.status.idle": "2024-12-25T15:34:57.492116Z",
     "shell.execute_reply": "2024-12-25T15:34:57.491306Z"
    },
    "papermill": {
     "duration": 0.011432,
     "end_time": "2024-12-25T15:34:57.493675",
     "exception": false,
     "start_time": "2024-12-25T15:34:57.482243",
     "status": "completed"
    },
    "tags": []
   },
   "outputs": [
    {
     "data": {
      "text/plain": [
       "{'date_id': TensorSpec(shape=(None,), dtype=tf.float32, name=None),\n",
       " 'time_id': TensorSpec(shape=(None,), dtype=tf.float32, name=None),\n",
       " 'symbol_id': TensorSpec(shape=(None,), dtype=tf.float32, name=None),\n",
       " 'weight': TensorSpec(shape=(None,), dtype=tf.float32, name=None),\n",
       " 'features': TensorSpec(shape=(None, 79), dtype=tf.float32, name=None),\n",
       " 'responders': TensorSpec(shape=(None, 9), dtype=tf.float32, name=None),\n",
       " 'lags': TensorSpec(shape=(None, 9), dtype=tf.float32, name=None),\n",
       " 'target': TensorSpec(shape=(None,), dtype=tf.float32, name=None)}"
      ]
     },
     "execution_count": 6,
     "metadata": {},
     "output_type": "execute_result"
    }
   ],
   "source": [
    "train_raw.element_spec"
   ]
  },
  {
   "cell_type": "markdown",
   "id": "d82a2bd2",
   "metadata": {
    "papermill": {
     "duration": 0.003049,
     "end_time": "2024-12-25T15:34:57.499927",
     "exception": false,
     "start_time": "2024-12-25T15:34:57.496878",
     "status": "completed"
    },
    "tags": []
   },
   "source": [
    "## Filter, Clean, Normalize Data"
   ]
  },
  {
   "cell_type": "code",
   "execution_count": 7,
   "id": "ae3e46b8",
   "metadata": {
    "execution": {
     "iopub.execute_input": "2024-12-25T15:34:57.507076Z",
     "iopub.status.busy": "2024-12-25T15:34:57.506831Z",
     "iopub.status.idle": "2024-12-25T15:34:57.579879Z",
     "shell.execute_reply": "2024-12-25T15:34:57.579319Z"
    },
    "papermill": {
     "duration": 0.078452,
     "end_time": "2024-12-25T15:34:57.581464",
     "exception": false,
     "start_time": "2024-12-25T15:34:57.503012",
     "status": "completed"
    },
    "tags": []
   },
   "outputs": [],
   "source": [
    "feature_data_df = pl.read_csv(feature_data_path)\n",
    "means = np.asarray(feature_data_df['mean']).astype('float32')\n",
    "stds = np.asarray(feature_data_df['std']).astype('float32')"
   ]
  },
  {
   "cell_type": "code",
   "execution_count": 8,
   "id": "cc13b460",
   "metadata": {
    "execution": {
     "iopub.execute_input": "2024-12-25T15:34:57.589240Z",
     "iopub.status.busy": "2024-12-25T15:34:57.588699Z",
     "iopub.status.idle": "2024-12-25T15:34:59.189472Z",
     "shell.execute_reply": "2024-12-25T15:34:59.188535Z"
    },
    "papermill": {
     "duration": 1.606645,
     "end_time": "2024-12-25T15:34:59.191460",
     "exception": false,
     "start_time": "2024-12-25T15:34:57.584815",
     "status": "completed"
    },
    "tags": []
   },
   "outputs": [],
   "source": [
    "def clean_features(features):\n",
    "    return tf.where(\n",
    "        tf.logical_or(tf.math.is_nan(features), tf.math.is_inf(features)), \n",
    "        means, \n",
    "        features)\n",
    "\n",
    "def normalize_features(features):\n",
    "    return (features - means) / tf.math.maximum(1.0, stds)\n",
    "\n",
    "def clean_lags(lags):\n",
    "    return tf.where(\n",
    "        tf.logical_or(tf.math.is_nan(lags), tf.math.is_inf(lags)), \n",
    "        0.0, \n",
    "        lags)\n",
    "\n",
    "def format_data(features, lags):\n",
    "    return {\n",
    "        'feature': normalize_features(clean_features(features)),\n",
    "        'lags': clean_lags(lags)\n",
    "    }\n",
    "\n",
    "train_ds = train_raw.map(lambda i: (\n",
    "                        format_data(i['features'], i['lags']),\n",
    "                        i['target']\n",
    "                        )).unbatch().shuffle(10000).batch(config.train_batch_size)\n",
    "val_ds = val_raw.map(lambda i: (\n",
    "    format_data(i['features'], i['lags']),\n",
    "    i['target']\n",
    ")).unbatch().batch(config.val_batch_size)"
   ]
  },
  {
   "cell_type": "markdown",
   "id": "c4721288",
   "metadata": {
    "execution": {
     "iopub.execute_input": "2024-12-18T04:06:27.478694Z",
     "iopub.status.busy": "2024-12-18T04:06:27.477500Z",
     "iopub.status.idle": "2024-12-18T04:06:27.485848Z",
     "shell.execute_reply": "2024-12-18T04:06:27.484622Z",
     "shell.execute_reply.started": "2024-12-18T04:06:27.478647Z"
    },
    "papermill": {
     "duration": 0.003068,
     "end_time": "2024-12-25T15:34:59.197968",
     "exception": false,
     "start_time": "2024-12-25T15:34:59.194900",
     "status": "completed"
    },
    "tags": []
   },
   "source": [
    "## Train a Model"
   ]
  },
  {
   "cell_type": "code",
   "execution_count": 9,
   "id": "7b60059f",
   "metadata": {
    "execution": {
     "iopub.execute_input": "2024-12-25T15:34:59.205725Z",
     "iopub.status.busy": "2024-12-25T15:34:59.205444Z",
     "iopub.status.idle": "2024-12-25T15:34:59.293082Z",
     "shell.execute_reply": "2024-12-25T15:34:59.292446Z"
    },
    "papermill": {
     "duration": 0.093661,
     "end_time": "2024-12-25T15:34:59.294852",
     "exception": false,
     "start_time": "2024-12-25T15:34:59.201191",
     "status": "completed"
    },
    "tags": []
   },
   "outputs": [],
   "source": [
    "feat_layer = keras.Input(shape=(79,), name='feature')\n",
    "lag_layer = keras.Input(shape=(9,), name='lags')\n",
    "inp = keras.layers.Concatenate()([feat_layer, lag_layer])\n",
    "x = layers.Dropout(rate=0.2)(inp)\n",
    "x = layers.Dense(units=128, activation=\"relu\", kernel_regularizer=\"l1l2\")(x)\n",
    "x = layers.Dropout(rate=0.1)(x)\n",
    "x = layers.Dense(units=64, activation=\"relu\", kernel_regularizer=\"l1l2\")(x)\n",
    "x = layers.Dropout(rate=0.2)(x)\n",
    "x = layers.Dense(units=32, activation=\"relu\", kernel_regularizer=\"l1l2\")(x)\n",
    "x = layers.Dense(units=16, activation=\"relu\")(x)\n",
    "x = layers.Dense(units=4, activation=\"relu\")(x)\n",
    "x = layers.Dense(units=1)(x)\n",
    "model = keras.Model(inputs=[feat_layer, lag_layer], outputs=x)"
   ]
  },
  {
   "cell_type": "code",
   "execution_count": 10,
   "id": "958f73a5",
   "metadata": {
    "execution": {
     "iopub.execute_input": "2024-12-25T15:34:59.302440Z",
     "iopub.status.busy": "2024-12-25T15:34:59.302193Z",
     "iopub.status.idle": "2024-12-25T15:34:59.316714Z",
     "shell.execute_reply": "2024-12-25T15:34:59.316164Z"
    },
    "papermill": {
     "duration": 0.020096,
     "end_time": "2024-12-25T15:34:59.318336",
     "exception": false,
     "start_time": "2024-12-25T15:34:59.298240",
     "status": "completed"
    },
    "tags": []
   },
   "outputs": [],
   "source": [
    "def r2_loss(y_true, y_pred):\n",
    "    return tf.math.reduce_sum((y_true - y_pred) ** 2) / tf.math.reduce_sum(y_true ** 2)\n",
    "\n",
    "model.compile(optimizer=\"rmsprop\", loss=\"mse\", metrics=[keras.metrics.MeanAbsoluteError(), keras.metrics.R2Score()])"
   ]
  },
  {
   "cell_type": "code",
   "execution_count": 11,
   "id": "42ca58e0",
   "metadata": {
    "execution": {
     "iopub.execute_input": "2024-12-25T15:34:59.325968Z",
     "iopub.status.busy": "2024-12-25T15:34:59.325527Z",
     "iopub.status.idle": "2024-12-25T16:30:38.965196Z",
     "shell.execute_reply": "2024-12-25T16:30:38.964351Z"
    },
    "papermill": {
     "duration": 3341.028615,
     "end_time": "2024-12-25T16:30:40.350168",
     "exception": false,
     "start_time": "2024-12-25T15:34:59.321553",
     "status": "completed"
    },
    "tags": []
   },
   "outputs": [
    {
     "name": "stdout",
     "output_type": "stream",
     "text": [
      "Epoch 1/1000\n"
     ]
    },
    {
     "name": "stderr",
     "output_type": "stream",
     "text": [
      "WARNING: All log messages before absl::InitializeLog() is called are written to STDERR\n",
      "I0000 00:00:1735140905.913019      67 service.cc:145] XLA service 0x7d8d8c001d60 initialized for platform CUDA (this does not guarantee that XLA will be used). Devices:\n",
      "I0000 00:00:1735140905.913088      67 service.cc:153]   StreamExecutor device (0): Tesla T4, Compute Capability 7.5\n",
      "I0000 00:00:1735140905.913093      67 service.cc:153]   StreamExecutor device (1): Tesla T4, Compute Capability 7.5\n"
     ]
    },
    {
     "name": "stdout",
     "output_type": "stream",
     "text": [
      "      3/Unknown \u001b[1m14s\u001b[0m 81ms/step - loss: 2.0059 - mean_absolute_error: 1.0149 - r2_score: -1.8937"
     ]
    },
    {
     "name": "stderr",
     "output_type": "stream",
     "text": [
      "I0000 00:00:1735140913.197937      67 device_compiler.h:188] Compiled cluster using XLA!  This line is logged at most once for the lifetime of the process.\n"
     ]
    },
    {
     "name": "stdout",
     "output_type": "stream",
     "text": [
      "   1060/Unknown \u001b[1m154s\u001b[0m 133ms/step - loss: 0.8588 - mean_absolute_error: 0.6051 - r2_score: -0.0213"
     ]
    },
    {
     "name": "stderr",
     "output_type": "stream",
     "text": [
      "/opt/conda/lib/python3.10/contextlib.py:153: UserWarning: Your input ran out of data; interrupting training. Make sure that your dataset or generator can generate at least `steps_per_epoch * epochs` batches. You may need to use the `.repeat()` function when building your dataset.\n",
      "  self.gen.throw(typ, value, traceback)\n"
     ]
    },
    {
     "name": "stdout",
     "output_type": "stream",
     "text": [
      "\u001b[1m1060/1060\u001b[0m \u001b[32m━━━━━━━━━━━━━━━━━━━━\u001b[0m\u001b[37m\u001b[0m \u001b[1m185s\u001b[0m 162ms/step - loss: 0.8588 - mean_absolute_error: 0.6050 - r2_score: -0.0212 - val_loss: 0.7451 - val_mean_absolute_error: 0.5556 - val_r2_score: 0.0097 - learning_rate: 0.0010\n",
      "Epoch 2/1000\n",
      "\u001b[1m1060/1060\u001b[0m \u001b[32m━━━━━━━━━━━━━━━━━━━━\u001b[0m\u001b[37m\u001b[0m \u001b[1m135s\u001b[0m 124ms/step - loss: 0.8357 - mean_absolute_error: 0.5962 - r2_score: 0.0090 - val_loss: 0.7435 - val_mean_absolute_error: 0.5556 - val_r2_score: 0.0117 - learning_rate: 0.0010\n",
      "Epoch 3/1000\n",
      "\u001b[1m1060/1060\u001b[0m \u001b[32m━━━━━━━━━━━━━━━━━━━━\u001b[0m\u001b[37m\u001b[0m \u001b[1m138s\u001b[0m 127ms/step - loss: 0.8344 - mean_absolute_error: 0.5959 - r2_score: 0.0106 - val_loss: 0.7429 - val_mean_absolute_error: 0.5552 - val_r2_score: 0.0125 - learning_rate: 0.0010\n",
      "Epoch 4/1000\n",
      "\u001b[1m1060/1060\u001b[0m \u001b[32m━━━━━━━━━━━━━━━━━━━━\u001b[0m\u001b[37m\u001b[0m \u001b[1m136s\u001b[0m 125ms/step - loss: 0.8337 - mean_absolute_error: 0.5957 - r2_score: 0.0113 - val_loss: 0.7425 - val_mean_absolute_error: 0.5550 - val_r2_score: 0.0131 - learning_rate: 0.0010\n",
      "Epoch 5/1000\n",
      "\u001b[1m1060/1060\u001b[0m \u001b[32m━━━━━━━━━━━━━━━━━━━━\u001b[0m\u001b[37m\u001b[0m \u001b[1m138s\u001b[0m 127ms/step - loss: 0.8332 - mean_absolute_error: 0.5956 - r2_score: 0.0119 - val_loss: 0.7421 - val_mean_absolute_error: 0.5549 - val_r2_score: 0.0137 - learning_rate: 0.0010\n",
      "Epoch 6/1000\n",
      "\u001b[1m1060/1060\u001b[0m \u001b[32m━━━━━━━━━━━━━━━━━━━━\u001b[0m\u001b[37m\u001b[0m \u001b[1m138s\u001b[0m 127ms/step - loss: 0.8328 - mean_absolute_error: 0.5955 - r2_score: 0.0125 - val_loss: 0.7420 - val_mean_absolute_error: 0.5549 - val_r2_score: 0.0137 - learning_rate: 0.0010\n",
      "Epoch 7/1000\n",
      "\u001b[1m1060/1060\u001b[0m \u001b[32m━━━━━━━━━━━━━━━━━━━━\u001b[0m\u001b[37m\u001b[0m \u001b[1m137s\u001b[0m 125ms/step - loss: 0.8326 - mean_absolute_error: 0.5954 - r2_score: 0.0127 - val_loss: 0.7416 - val_mean_absolute_error: 0.5547 - val_r2_score: 0.0142 - learning_rate: 0.0010\n",
      "Epoch 8/1000\n",
      "\u001b[1m1060/1060\u001b[0m \u001b[32m━━━━━━━━━━━━━━━━━━━━\u001b[0m\u001b[37m\u001b[0m \u001b[1m139s\u001b[0m 128ms/step - loss: 0.8322 - mean_absolute_error: 0.5954 - r2_score: 0.0132 - val_loss: 0.7417 - val_mean_absolute_error: 0.5548 - val_r2_score: 0.0141 - learning_rate: 0.0010\n",
      "Epoch 9/1000\n",
      "\u001b[1m1060/1060\u001b[0m \u001b[32m━━━━━━━━━━━━━━━━━━━━\u001b[0m\u001b[37m\u001b[0m \u001b[1m139s\u001b[0m 128ms/step - loss: 0.8319 - mean_absolute_error: 0.5953 - r2_score: 0.0135 - val_loss: 0.7415 - val_mean_absolute_error: 0.5547 - val_r2_score: 0.0144 - learning_rate: 0.0010\n",
      "Epoch 10/1000\n",
      "\u001b[1m1060/1060\u001b[0m \u001b[32m━━━━━━━━━━━━━━━━━━━━\u001b[0m\u001b[37m\u001b[0m \u001b[1m143s\u001b[0m 132ms/step - loss: 0.8319 - mean_absolute_error: 0.5953 - r2_score: 0.0135 - val_loss: 0.7415 - val_mean_absolute_error: 0.5547 - val_r2_score: 0.0144 - learning_rate: 0.0010\n",
      "Epoch 11/1000\n",
      "\u001b[1m1060/1060\u001b[0m \u001b[32m━━━━━━━━━━━━━━━━━━━━\u001b[0m\u001b[37m\u001b[0m \u001b[1m124s\u001b[0m 114ms/step - loss: 0.8315 - mean_absolute_error: 0.5953 - r2_score: 0.0139 - val_loss: 0.7414 - val_mean_absolute_error: 0.5547 - val_r2_score: 0.0146 - learning_rate: 0.0010\n",
      "Epoch 12/1000\n",
      "\u001b[1m1060/1060\u001b[0m \u001b[32m━━━━━━━━━━━━━━━━━━━━\u001b[0m\u001b[37m\u001b[0m \u001b[1m128s\u001b[0m 117ms/step - loss: 0.8314 - mean_absolute_error: 0.5952 - r2_score: 0.0141 - val_loss: 0.7412 - val_mean_absolute_error: 0.5546 - val_r2_score: 0.0148 - learning_rate: 0.0010\n",
      "Epoch 13/1000\n",
      "\u001b[1m1060/1060\u001b[0m \u001b[32m━━━━━━━━━━━━━━━━━━━━\u001b[0m\u001b[37m\u001b[0m \u001b[1m138s\u001b[0m 127ms/step - loss: 0.8313 - mean_absolute_error: 0.5952 - r2_score: 0.0143 - val_loss: 0.7413 - val_mean_absolute_error: 0.5546 - val_r2_score: 0.0147 - learning_rate: 0.0010\n",
      "Epoch 14/1000\n",
      "\u001b[1m1060/1060\u001b[0m \u001b[32m━━━━━━━━━━━━━━━━━━━━\u001b[0m\u001b[37m\u001b[0m \u001b[1m138s\u001b[0m 127ms/step - loss: 0.8312 - mean_absolute_error: 0.5952 - r2_score: 0.0143 - val_loss: 0.7412 - val_mean_absolute_error: 0.5545 - val_r2_score: 0.0148 - learning_rate: 0.0010\n",
      "Epoch 15/1000\n",
      "\u001b[1m1060/1060\u001b[0m \u001b[32m━━━━━━━━━━━━━━━━━━━━\u001b[0m\u001b[37m\u001b[0m \u001b[1m141s\u001b[0m 130ms/step - loss: 0.8310 - mean_absolute_error: 0.5952 - r2_score: 0.0146 - val_loss: 0.7412 - val_mean_absolute_error: 0.5546 - val_r2_score: 0.0148 - learning_rate: 0.0010\n",
      "Epoch 16/1000\n",
      "\u001b[1m1060/1060\u001b[0m \u001b[32m━━━━━━━━━━━━━━━━━━━━\u001b[0m\u001b[37m\u001b[0m \u001b[1m133s\u001b[0m 122ms/step - loss: 0.8314 - mean_absolute_error: 0.5952 - r2_score: 0.0141 - val_loss: 0.7411 - val_mean_absolute_error: 0.5546 - val_r2_score: 0.0149 - learning_rate: 5.0000e-04\n",
      "Epoch 17/1000\n",
      "\u001b[1m1060/1060\u001b[0m \u001b[32m━━━━━━━━━━━━━━━━━━━━\u001b[0m\u001b[37m\u001b[0m \u001b[1m138s\u001b[0m 126ms/step - loss: 0.8309 - mean_absolute_error: 0.5951 - r2_score: 0.0147 - val_loss: 0.7412 - val_mean_absolute_error: 0.5546 - val_r2_score: 0.0148 - learning_rate: 5.0000e-04\n",
      "Epoch 18/1000\n",
      "\u001b[1m1060/1060\u001b[0m \u001b[32m━━━━━━━━━━━━━━━━━━━━\u001b[0m\u001b[37m\u001b[0m \u001b[1m137s\u001b[0m 126ms/step - loss: 0.8307 - mean_absolute_error: 0.5951 - r2_score: 0.0149 - val_loss: 0.7412 - val_mean_absolute_error: 0.5546 - val_r2_score: 0.0149 - learning_rate: 5.0000e-04\n",
      "Epoch 19/1000\n",
      "\u001b[1m1060/1060\u001b[0m \u001b[32m━━━━━━━━━━━━━━━━━━━━\u001b[0m\u001b[37m\u001b[0m \u001b[1m147s\u001b[0m 135ms/step - loss: 0.8306 - mean_absolute_error: 0.5951 - r2_score: 0.0150 - val_loss: 0.7413 - val_mean_absolute_error: 0.5546 - val_r2_score: 0.0147 - learning_rate: 5.0000e-04\n",
      "Epoch 20/1000\n",
      "\u001b[1m1060/1060\u001b[0m \u001b[32m━━━━━━━━━━━━━━━━━━━━\u001b[0m\u001b[37m\u001b[0m \u001b[1m135s\u001b[0m 124ms/step - loss: 0.8309 - mean_absolute_error: 0.5951 - r2_score: 0.0147 - val_loss: 0.7412 - val_mean_absolute_error: 0.5546 - val_r2_score: 0.0148 - learning_rate: 2.5000e-04\n",
      "Epoch 21/1000\n",
      "\u001b[1m1060/1060\u001b[0m \u001b[32m━━━━━━━━━━━━━━━━━━━━\u001b[0m\u001b[37m\u001b[0m \u001b[1m139s\u001b[0m 127ms/step - loss: 0.8307 - mean_absolute_error: 0.5950 - r2_score: 0.0149 - val_loss: 0.7413 - val_mean_absolute_error: 0.5546 - val_r2_score: 0.0147 - learning_rate: 2.5000e-04\n",
      "Epoch 22/1000\n",
      "\u001b[1m1060/1060\u001b[0m \u001b[32m━━━━━━━━━━━━━━━━━━━━\u001b[0m\u001b[37m\u001b[0m \u001b[1m138s\u001b[0m 127ms/step - loss: 0.8306 - mean_absolute_error: 0.5950 - r2_score: 0.0150 - val_loss: 0.7411 - val_mean_absolute_error: 0.5546 - val_r2_score: 0.0149 - learning_rate: 2.5000e-04\n",
      "Epoch 23/1000\n",
      "\u001b[1m1060/1060\u001b[0m \u001b[32m━━━━━━━━━━━━━━━━━━━━\u001b[0m\u001b[37m\u001b[0m \u001b[1m136s\u001b[0m 125ms/step - loss: 0.8310 - mean_absolute_error: 0.5950 - r2_score: 0.0146 - val_loss: 0.7412 - val_mean_absolute_error: 0.5547 - val_r2_score: 0.0148 - learning_rate: 1.2500e-04\n",
      "Epoch 24/1000\n",
      "\u001b[1m1060/1060\u001b[0m \u001b[32m━━━━━━━━━━━━━━━━━━━━\u001b[0m\u001b[37m\u001b[0m \u001b[1m138s\u001b[0m 126ms/step - loss: 0.8307 - mean_absolute_error: 0.5950 - r2_score: 0.0149 - val_loss: 0.7411 - val_mean_absolute_error: 0.5547 - val_r2_score: 0.0149 - learning_rate: 1.2500e-04\n"
     ]
    }
   ],
   "source": [
    "callbacks = [\n",
    "    keras.callbacks.ModelCheckpoint('/kaggle/working/fitted.keras', save_best_only=True),\n",
    "    keras.callbacks.ModelCheckpoint('/kaggle/working/intermediate.keras', save_best_only=False),\n",
    "    keras.callbacks.ReduceLROnPlateau(factor=0.5, patience=3, min_delta=5e-5),\n",
    "    keras.callbacks.EarlyStopping(patience=8)\n",
    "]\n",
    "\n",
    "history = model.fit(x=train_ds, validation_data=val_ds, epochs=1000, callbacks = callbacks)"
   ]
  },
  {
   "cell_type": "markdown",
   "id": "7b682bff",
   "metadata": {
    "execution": {
     "iopub.execute_input": "2024-12-19T21:16:33.404263Z",
     "iopub.status.busy": "2024-12-19T21:16:33.403835Z",
     "iopub.status.idle": "2024-12-19T21:16:41.038672Z",
     "shell.execute_reply": "2024-12-19T21:16:41.037480Z",
     "shell.execute_reply.started": "2024-12-19T21:16:33.404225Z"
    },
    "papermill": {
     "duration": 1.22117,
     "end_time": "2024-12-25T16:30:42.859320",
     "exception": false,
     "start_time": "2024-12-25T16:30:41.638150",
     "status": "completed"
    },
    "tags": []
   },
   "source": [
    "## Evaluate Model"
   ]
  },
  {
   "cell_type": "code",
   "execution_count": 12,
   "id": "6c9f21c7",
   "metadata": {
    "execution": {
     "iopub.execute_input": "2024-12-25T16:30:45.430727Z",
     "iopub.status.busy": "2024-12-25T16:30:45.430387Z",
     "iopub.status.idle": "2024-12-25T16:30:45.478872Z",
     "shell.execute_reply": "2024-12-25T16:30:45.478258Z"
    },
    "papermill": {
     "duration": 1.372668,
     "end_time": "2024-12-25T16:30:45.480590",
     "exception": false,
     "start_time": "2024-12-25T16:30:44.107922",
     "status": "completed"
    },
    "tags": []
   },
   "outputs": [],
   "source": [
    "test_ds = test_raw.map(lambda i: (\n",
    "                        format_data(i['features'], i['lags']),\n",
    "                        i['target']\n",
    "                        )).unbatch().batch(512)"
   ]
  },
  {
   "cell_type": "code",
   "execution_count": 13,
   "id": "3a214f91",
   "metadata": {
    "execution": {
     "iopub.execute_input": "2024-12-25T16:30:47.995018Z",
     "iopub.status.busy": "2024-12-25T16:30:47.994506Z",
     "iopub.status.idle": "2024-12-25T16:30:48.102320Z",
     "shell.execute_reply": "2024-12-25T16:30:48.101550Z"
    },
    "papermill": {
     "duration": 1.365938,
     "end_time": "2024-12-25T16:30:48.103903",
     "exception": false,
     "start_time": "2024-12-25T16:30:46.737965",
     "status": "completed"
    },
    "tags": []
   },
   "outputs": [],
   "source": [
    "model = keras.models.load_model('/kaggle/working/fitted.keras', custom_objects={\n",
    "    'r2_loss': r2_loss\n",
    "})"
   ]
  },
  {
   "cell_type": "code",
   "execution_count": 14,
   "id": "1475e003",
   "metadata": {
    "execution": {
     "iopub.execute_input": "2024-12-25T16:30:50.628372Z",
     "iopub.status.busy": "2024-12-25T16:30:50.627989Z",
     "iopub.status.idle": "2024-12-25T16:31:20.997050Z",
     "shell.execute_reply": "2024-12-25T16:31:20.996214Z"
    },
    "papermill": {
     "duration": 32.971032,
     "end_time": "2024-12-25T16:31:22.340048",
     "exception": false,
     "start_time": "2024-12-25T16:30:49.369016",
     "status": "completed"
    },
    "tags": []
   },
   "outputs": [
    {
     "name": "stdout",
     "output_type": "stream",
     "text": [
      "\u001b[1m12256/12256\u001b[0m \u001b[32m━━━━━━━━━━━━━━━━━━━━\u001b[0m\u001b[37m\u001b[0m \u001b[1m30s\u001b[0m 1ms/step - loss: 0.6663 - mean_absolute_error: 0.5288 - r2_score: 0.0083\n"
     ]
    },
    {
     "data": {
      "text/plain": [
       "[0.6576240658760071, 0.5324327349662781, 0.007851600646972656]"
      ]
     },
     "execution_count": 14,
     "metadata": {},
     "output_type": "execute_result"
    }
   ],
   "source": [
    "model.evaluate(x=test_ds)"
   ]
  },
  {
   "cell_type": "code",
   "execution_count": null,
   "id": "c0ff3bde",
   "metadata": {
    "papermill": {
     "duration": 1.269727,
     "end_time": "2024-12-25T16:31:24.899028",
     "exception": false,
     "start_time": "2024-12-25T16:31:23.629301",
     "status": "completed"
    },
    "tags": []
   },
   "outputs": [],
   "source": []
  }
 ],
 "metadata": {
  "kaggle": {
   "accelerator": "nvidiaTeslaT4",
   "dataSources": [
    {
     "databundleVersionId": 9871156,
     "sourceId": 84493,
     "sourceType": "competition"
    },
    {
     "sourceId": 214656673,
     "sourceType": "kernelVersion"
    }
   ],
   "dockerImageVersionId": 30805,
   "isGpuEnabled": true,
   "isInternetEnabled": false,
   "language": "python",
   "sourceType": "notebook"
  },
  "kernelspec": {
   "display_name": "Python 3",
   "language": "python",
   "name": "python3"
  },
  "language_info": {
   "codemirror_mode": {
    "name": "ipython",
    "version": 3
   },
   "file_extension": ".py",
   "mimetype": "text/x-python",
   "name": "python",
   "nbconvert_exporter": "python",
   "pygments_lexer": "ipython3",
   "version": "3.10.14"
  },
  "papermill": {
   "default_parameters": {},
   "duration": 3407.792829,
   "end_time": "2024-12-25T16:31:30.272027",
   "environment_variables": {},
   "exception": null,
   "input_path": "__notebook__.ipynb",
   "output_path": "__notebook__.ipynb",
   "parameters": {},
   "start_time": "2024-12-25T15:34:42.479198",
   "version": "2.6.0"
  }
 },
 "nbformat": 4,
 "nbformat_minor": 5
}
