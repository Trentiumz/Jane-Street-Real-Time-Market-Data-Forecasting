{
 "cells": [
  {
   "cell_type": "code",
   "execution_count": 1,
   "id": "f314cc0b",
   "metadata": {
    "execution": {
     "iopub.execute_input": "2024-12-20T01:29:10.172689Z",
     "iopub.status.busy": "2024-12-20T01:29:10.172139Z",
     "iopub.status.idle": "2024-12-20T01:29:26.373594Z",
     "shell.execute_reply": "2024-12-20T01:29:26.372318Z"
    },
    "papermill": {
     "duration": 16.211763,
     "end_time": "2024-12-20T01:29:26.376181",
     "exception": false,
     "start_time": "2024-12-20T01:29:10.164418",
     "status": "completed"
    },
    "tags": []
   },
   "outputs": [],
   "source": [
    "# This Python 3 environment comes with many helpful analytics libraries installed\n",
    "# It is defined by the kaggle/python Docker image: https://github.com/kaggle/docker-python\n",
    "# For example, here's several helpful packages to load\n",
    "\n",
    "import numpy as np # linear algebra\n",
    "import polars as pl # data processing, CSV file I/O (e.g. pd.read_csv)\n",
    "import pandas as pd\n",
    "import os\n",
    "from pathlib import Path\n",
    "import tensorflow as tf\n",
    "from tensorflow import keras\n",
    "from tensorflow.keras import layers\n",
    "\n",
    "# Input data files are available in the read-only \"../input/\" directory\n",
    "# For example, running this (by clicking run or pressing Shift+Enter) will list all files under the input directory\n",
    "\n",
    "# You can write up to 20GB to the current directory (/kaggle/working/) that gets preserved as output when you create a version using \"Save & Run All\" \n",
    "# You can also write temporary files to /kaggle/temp/, but they won't be saved outside of the current session"
   ]
  },
  {
   "cell_type": "markdown",
   "id": "050be57e",
   "metadata": {
    "papermill": {
     "duration": 0.004239,
     "end_time": "2024-12-20T01:29:26.385492",
     "exception": false,
     "start_time": "2024-12-20T01:29:26.381253",
     "status": "completed"
    },
    "tags": []
   },
   "source": [
    "## Read Input"
   ]
  },
  {
   "cell_type": "code",
   "execution_count": 2,
   "id": "166fc31d",
   "metadata": {
    "execution": {
     "iopub.execute_input": "2024-12-20T01:29:26.396274Z",
     "iopub.status.busy": "2024-12-20T01:29:26.395657Z",
     "iopub.status.idle": "2024-12-20T01:29:26.402393Z",
     "shell.execute_reply": "2024-12-20T01:29:26.401286Z"
    },
    "papermill": {
     "duration": 0.014861,
     "end_time": "2024-12-20T01:29:26.404761",
     "exception": false,
     "start_time": "2024-12-20T01:29:26.389900",
     "status": "completed"
    },
    "tags": []
   },
   "outputs": [],
   "source": [
    "base_path = Path(\"/kaggle/input/jane-street-real-time-market-data-forecasting/\")\n",
    "train_path = base_path / Path(\"train.parquet\")\n",
    "train_read_paths = [train_path / Path(f\"partition_id={i}/part-0.parquet\") for i in [0, 1, 2, 3, 4, 5, 6, 7]]\n",
    "val_read_paths = [train_path / Path(f\"partition_id={i}/part-0.parquet\") for i in [8]]\n",
    "test_read_paths = [train_path / Path(f\"partition_id={i}/part-0.parquet\") for i in [9]]\n",
    "target = \"responder_6\""
   ]
  },
  {
   "cell_type": "code",
   "execution_count": 3,
   "id": "f1f650c9",
   "metadata": {
    "execution": {
     "iopub.execute_input": "2024-12-20T01:29:26.416974Z",
     "iopub.status.busy": "2024-12-20T01:29:26.416551Z",
     "iopub.status.idle": "2024-12-20T01:29:26.423904Z",
     "shell.execute_reply": "2024-12-20T01:29:26.422774Z"
    },
    "papermill": {
     "duration": 0.015533,
     "end_time": "2024-12-20T01:29:26.426047",
     "exception": false,
     "start_time": "2024-12-20T01:29:26.410514",
     "status": "completed"
    },
    "tags": []
   },
   "outputs": [],
   "source": [
    "class Config:\n",
    "    input_format = {\n",
    "        \"date_id\": tf.TensorSpec(shape=(None,), dtype=tf.float32),\n",
    "        \"time_id\": tf.TensorSpec(shape=(None,), dtype=tf.float32),\n",
    "        \"symbol_id\": tf.TensorSpec(shape=(None,), dtype=tf.float32),\n",
    "        \"weight\": tf.TensorSpec(shape=(None,), dtype=tf.float32),\n",
    "        \"features\": tf.TensorSpec(shape=(None, 79), dtype=tf.float32),\n",
    "        \"responders\": tf.TensorSpec(shape=(None, 9), dtype=tf.float32),\n",
    "        \"target\": tf.TensorSpec(shape=(None,), dtype=tf.float32)\n",
    "    }\n",
    "    train_batch_size = 32768\n",
    "\n",
    "config = Config()"
   ]
  },
  {
   "cell_type": "code",
   "execution_count": 4,
   "id": "a9be3244",
   "metadata": {
    "execution": {
     "iopub.execute_input": "2024-12-20T01:29:26.437387Z",
     "iopub.status.busy": "2024-12-20T01:29:26.436993Z",
     "iopub.status.idle": "2024-12-20T01:29:26.608708Z",
     "shell.execute_reply": "2024-12-20T01:29:26.607551Z"
    },
    "papermill": {
     "duration": 0.18037,
     "end_time": "2024-12-20T01:29:26.611283",
     "exception": false,
     "start_time": "2024-12-20T01:29:26.430913",
     "status": "completed"
    },
    "tags": []
   },
   "outputs": [],
   "source": [
    "def chunk_features(chunk):\n",
    "    return chunk[[i for i in chunk.columns if i.startswith(\"feature_\")]]\n",
    "\n",
    "def from_files(paths):\n",
    "    def to_ret():\n",
    "        for filepath in paths:\n",
    "            chunk = pl.read_parquet(filepath)\n",
    "            yield {\n",
    "                \"date_id\": chunk[\"date_id\"],\n",
    "                \"time_id\": chunk[\"time_id\"],\n",
    "                \"symbol_id\": chunk[\"symbol_id\"],\n",
    "                \"weight\": chunk[\"weight\"],\n",
    "                \"features\": chunk_features(chunk),\n",
    "                \"responders\": chunk[[i for i in chunk.columns if i.startswith(\"responder_\")]],\n",
    "                \"target\": chunk[target]\n",
    "            }\n",
    "    return to_ret\n",
    "\n",
    "train_raw = tf.data.Dataset.from_generator(\n",
    "    from_files(train_read_paths),\n",
    "    output_signature=config.input_format\n",
    ").prefetch(tf.data.AUTOTUNE).cache()\n",
    "\n",
    "val_raw = tf.data.Dataset.from_generator(\n",
    "    from_files(val_read_paths),\n",
    "    output_signature=config.input_format\n",
    ").cache()\n",
    "\n",
    "test_raw = tf.data.Dataset.from_generator(\n",
    "    from_files(test_read_paths),\n",
    "    output_signature=config.input_format\n",
    ")"
   ]
  },
  {
   "cell_type": "code",
   "execution_count": 5,
   "id": "d0e08381",
   "metadata": {
    "execution": {
     "iopub.execute_input": "2024-12-20T01:29:26.622186Z",
     "iopub.status.busy": "2024-12-20T01:29:26.621742Z",
     "iopub.status.idle": "2024-12-20T01:29:26.630011Z",
     "shell.execute_reply": "2024-12-20T01:29:26.628852Z"
    },
    "papermill": {
     "duration": 0.016148,
     "end_time": "2024-12-20T01:29:26.632131",
     "exception": false,
     "start_time": "2024-12-20T01:29:26.615983",
     "status": "completed"
    },
    "tags": []
   },
   "outputs": [
    {
     "data": {
      "text/plain": [
       "{'date_id': TensorSpec(shape=(None,), dtype=tf.float32, name=None),\n",
       " 'time_id': TensorSpec(shape=(None,), dtype=tf.float32, name=None),\n",
       " 'symbol_id': TensorSpec(shape=(None,), dtype=tf.float32, name=None),\n",
       " 'weight': TensorSpec(shape=(None,), dtype=tf.float32, name=None),\n",
       " 'features': TensorSpec(shape=(None, 79), dtype=tf.float32, name=None),\n",
       " 'responders': TensorSpec(shape=(None, 9), dtype=tf.float32, name=None),\n",
       " 'target': TensorSpec(shape=(None,), dtype=tf.float32, name=None)}"
      ]
     },
     "execution_count": 5,
     "metadata": {},
     "output_type": "execute_result"
    }
   ],
   "source": [
    "train_raw.element_spec"
   ]
  },
  {
   "cell_type": "markdown",
   "id": "962fb5c9",
   "metadata": {
    "papermill": {
     "duration": 0.004356,
     "end_time": "2024-12-20T01:29:26.641556",
     "exception": false,
     "start_time": "2024-12-20T01:29:26.637200",
     "status": "completed"
    },
    "tags": []
   },
   "source": [
    "## Filter Data"
   ]
  },
  {
   "cell_type": "code",
   "execution_count": 6,
   "id": "ccd9f577",
   "metadata": {
    "execution": {
     "iopub.execute_input": "2024-12-20T01:29:26.652754Z",
     "iopub.status.busy": "2024-12-20T01:29:26.652327Z",
     "iopub.status.idle": "2024-12-20T01:33:21.134435Z",
     "shell.execute_reply": "2024-12-20T01:33:21.132264Z"
    },
    "papermill": {
     "duration": 234.493491,
     "end_time": "2024-12-20T01:33:21.139706",
     "exception": false,
     "start_time": "2024-12-20T01:29:26.646215",
     "status": "completed"
    },
    "tags": []
   },
   "outputs": [],
   "source": [
    "def get_mean(dataset):\n",
    "    batched_ds = dataset.batch(10000)\n",
    "    def step(acc, value):\n",
    "        num_non_nan = tf.reduce_sum(tf.cast(tf.math.is_nan(value['features']) == False, tf.float32), axis=0)\n",
    "        sum_non_nan = tf.reduce_sum(tf.where(tf.math.is_nan(value['features']), tf.zeros_like(value['features']), value['features']), axis=0)\n",
    "        return (acc[0] + sum_non_nan, acc[1] + num_non_nan)\n",
    "    \n",
    "    sum_, rows = batched_ds.reduce((tf.zeros(shape=(79,)), tf.constant(0.0)), step)\n",
    "    return sum_ / tf.maximum(rows, tf.ones_like(rows))\n",
    "\n",
    "means = get_mean(train_raw.unbatch())"
   ]
  },
  {
   "cell_type": "code",
   "execution_count": 7,
   "id": "9b656b73",
   "metadata": {
    "execution": {
     "iopub.execute_input": "2024-12-20T01:33:21.155205Z",
     "iopub.status.busy": "2024-12-20T01:33:21.154686Z",
     "iopub.status.idle": "2024-12-20T01:33:21.278437Z",
     "shell.execute_reply": "2024-12-20T01:33:21.277234Z"
    },
    "papermill": {
     "duration": 0.133708,
     "end_time": "2024-12-20T01:33:21.281110",
     "exception": false,
     "start_time": "2024-12-20T01:33:21.147402",
     "status": "completed"
    },
    "tags": []
   },
   "outputs": [],
   "source": [
    "def clean_data(features):\n",
    "    return tf.where(\n",
    "        tf.logical_or(tf.math.is_nan(features), tf.math.is_inf(features)), \n",
    "        means, \n",
    "        features)\n",
    "\n",
    "train_vals = train_raw.map(lambda i: (\n",
    "                        clean_data(i['features']),\n",
    "                        i['target']\n",
    "                        ))"
   ]
  },
  {
   "cell_type": "code",
   "execution_count": 8,
   "id": "79d9fb6a",
   "metadata": {
    "execution": {
     "iopub.execute_input": "2024-12-20T01:33:21.293342Z",
     "iopub.status.busy": "2024-12-20T01:33:21.292946Z",
     "iopub.status.idle": "2024-12-20T01:34:15.204250Z",
     "shell.execute_reply": "2024-12-20T01:34:15.202964Z"
    },
    "papermill": {
     "duration": 53.921249,
     "end_time": "2024-12-20T01:34:15.207339",
     "exception": false,
     "start_time": "2024-12-20T01:33:21.286090",
     "status": "completed"
    },
    "tags": []
   },
   "outputs": [],
   "source": [
    "def get_std(dataset):\n",
    "    batched_ds = dataset.batch(10000)\n",
    "    def step(acc, val):\n",
    "        return (acc[0] + tf.math.reduce_std(val[0], axis=0), acc[1] + 1)\n",
    "    sum_, samples = batched_ds.reduce((tf.zeros(shape=(79,)), tf.constant(0.0)), step)\n",
    "    return sum_ / samples\n",
    "\n",
    "stds = get_std(train_vals.unbatch())"
   ]
  },
  {
   "cell_type": "code",
   "execution_count": 9,
   "id": "1b8e740b",
   "metadata": {
    "execution": {
     "iopub.execute_input": "2024-12-20T01:34:15.219530Z",
     "iopub.status.busy": "2024-12-20T01:34:15.219110Z",
     "iopub.status.idle": "2024-12-20T01:34:15.588727Z",
     "shell.execute_reply": "2024-12-20T01:34:15.587504Z"
    },
    "papermill": {
     "duration": 0.378531,
     "end_time": "2024-12-20T01:34:15.591369",
     "exception": false,
     "start_time": "2024-12-20T01:34:15.212838",
     "status": "completed"
    },
    "tags": []
   },
   "outputs": [],
   "source": [
    "def normalize_data(features):\n",
    "    return (features - means) / tf.math.maximum(1.0, stds)\n",
    "\n",
    "train_ds = train_vals.map(lambda feat, tar: (normalize_data(feat), tar)).unbatch().shuffle(10000).batch(config.train_batch_size)"
   ]
  },
  {
   "cell_type": "markdown",
   "id": "0a9a2676",
   "metadata": {
    "execution": {
     "iopub.execute_input": "2024-12-18T04:06:27.478694Z",
     "iopub.status.busy": "2024-12-18T04:06:27.477500Z",
     "iopub.status.idle": "2024-12-18T04:06:27.485848Z",
     "shell.execute_reply": "2024-12-18T04:06:27.484622Z",
     "shell.execute_reply.started": "2024-12-18T04:06:27.478647Z"
    },
    "papermill": {
     "duration": 0.004431,
     "end_time": "2024-12-20T01:34:15.600705",
     "exception": false,
     "start_time": "2024-12-20T01:34:15.596274",
     "status": "completed"
    },
    "tags": []
   },
   "source": [
    "## Train a Model"
   ]
  },
  {
   "cell_type": "code",
   "execution_count": 10,
   "id": "b8b9a51a",
   "metadata": {
    "execution": {
     "iopub.execute_input": "2024-12-20T01:34:15.612342Z",
     "iopub.status.busy": "2024-12-20T01:34:15.611923Z",
     "iopub.status.idle": "2024-12-20T01:34:15.657736Z",
     "shell.execute_reply": "2024-12-20T01:34:15.656790Z"
    },
    "papermill": {
     "duration": 0.054859,
     "end_time": "2024-12-20T01:34:15.660184",
     "exception": false,
     "start_time": "2024-12-20T01:34:15.605325",
     "status": "completed"
    },
    "tags": []
   },
   "outputs": [],
   "source": [
    "inp = keras.Input(shape=(79,))\n",
    "x = layers.Dense(units=1)(inp)\n",
    "model = keras.Model(inputs=inp, outputs=x)"
   ]
  },
  {
   "cell_type": "code",
   "execution_count": 11,
   "id": "61f27b2e",
   "metadata": {
    "execution": {
     "iopub.execute_input": "2024-12-20T01:34:15.672073Z",
     "iopub.status.busy": "2024-12-20T01:34:15.671307Z",
     "iopub.status.idle": "2024-12-20T01:34:15.691918Z",
     "shell.execute_reply": "2024-12-20T01:34:15.690599Z"
    },
    "papermill": {
     "duration": 0.029218,
     "end_time": "2024-12-20T01:34:15.694367",
     "exception": false,
     "start_time": "2024-12-20T01:34:15.665149",
     "status": "completed"
    },
    "tags": []
   },
   "outputs": [],
   "source": [
    "def r2_loss(y_true, y_pred):\n",
    "    return tf.math.reduce_sum((y_true - y_pred) ** 2) / tf.math.reduce_sum((y_true - tf.reduce_mean(y_true)) ** 2)\n",
    "\n",
    "model.compile(optimizer=\"rmsprop\", loss=r2_loss, metrics=[keras.metrics.MeanAbsoluteError(), keras.metrics.R2Score()])"
   ]
  },
  {
   "cell_type": "code",
   "execution_count": 12,
   "id": "e00cf8f5",
   "metadata": {
    "execution": {
     "iopub.execute_input": "2024-12-20T01:34:15.705770Z",
     "iopub.status.busy": "2024-12-20T01:34:15.705310Z",
     "iopub.status.idle": "2024-12-20T01:41:45.551632Z",
     "shell.execute_reply": "2024-12-20T01:41:45.550222Z"
    },
    "papermill": {
     "duration": 449.855195,
     "end_time": "2024-12-20T01:41:45.554436",
     "exception": false,
     "start_time": "2024-12-20T01:34:15.699241",
     "status": "completed"
    },
    "tags": []
   },
   "outputs": [
    {
     "name": "stdout",
     "output_type": "stream",
     "text": [
      "Epoch 1/3\n",
      "\u001b[1m1060/1060\u001b[0m \u001b[32m━━━━━━━━━━━━━━━━━━━━\u001b[0m\u001b[37m\u001b[0m \u001b[1m142s\u001b[0m 131ms/step - loss: 1.4724 - mean_absolute_error: 0.7535 - r2_score: -0.4271\n",
      "Epoch 2/3\n"
     ]
    },
    {
     "name": "stderr",
     "output_type": "stream",
     "text": [
      "/opt/conda/lib/python3.10/contextlib.py:153: UserWarning: Your input ran out of data; interrupting training. Make sure that your dataset or generator can generate at least `steps_per_epoch * epochs` batches. You may need to use the `.repeat()` function when building your dataset.\n",
      "  self.gen.throw(typ, value, traceback)\n"
     ]
    },
    {
     "name": "stdout",
     "output_type": "stream",
     "text": [
      "\u001b[1m1060/1060\u001b[0m \u001b[32m━━━━━━━━━━━━━━━━━━━━\u001b[0m\u001b[37m\u001b[0m \u001b[1m148s\u001b[0m 132ms/step - loss: 0.9943 - mean_absolute_error: 0.5969 - r2_score: 0.0065\n",
      "Epoch 3/3\n",
      "\u001b[1m1060/1060\u001b[0m \u001b[32m━━━━━━━━━━━━━━━━━━━━\u001b[0m\u001b[37m\u001b[0m \u001b[1m159s\u001b[0m 145ms/step - loss: 0.9918 - mean_absolute_error: 0.5961 - r2_score: 0.0087\n"
     ]
    }
   ],
   "source": [
    "history = model.fit(x=train_ds, epochs=3)"
   ]
  },
  {
   "cell_type": "markdown",
   "id": "1b76d47b",
   "metadata": {
    "papermill": {
     "duration": 0.18321,
     "end_time": "2024-12-20T01:41:45.928457",
     "exception": false,
     "start_time": "2024-12-20T01:41:45.745247",
     "status": "completed"
    },
    "tags": []
   },
   "source": [
    "## Save model & Data"
   ]
  },
  {
   "cell_type": "code",
   "execution_count": 13,
   "id": "2d0bec13",
   "metadata": {
    "execution": {
     "iopub.execute_input": "2024-12-20T01:41:46.302205Z",
     "iopub.status.busy": "2024-12-20T01:41:46.301787Z",
     "iopub.status.idle": "2024-12-20T01:41:46.323872Z",
     "shell.execute_reply": "2024-12-20T01:41:46.322739Z"
    },
    "papermill": {
     "duration": 0.214095,
     "end_time": "2024-12-20T01:41:46.326345",
     "exception": false,
     "start_time": "2024-12-20T01:41:46.112250",
     "status": "completed"
    },
    "tags": []
   },
   "outputs": [],
   "source": [
    "pl.DataFrame({'means': np.asarray(means)}).write_csv('means.csv')"
   ]
  },
  {
   "cell_type": "code",
   "execution_count": 14,
   "id": "aacbdaa5",
   "metadata": {
    "execution": {
     "iopub.execute_input": "2024-12-20T01:41:46.757873Z",
     "iopub.status.busy": "2024-12-20T01:41:46.757305Z",
     "iopub.status.idle": "2024-12-20T01:41:46.821964Z",
     "shell.execute_reply": "2024-12-20T01:41:46.820738Z"
    },
    "papermill": {
     "duration": 0.253787,
     "end_time": "2024-12-20T01:41:46.824335",
     "exception": false,
     "start_time": "2024-12-20T01:41:46.570548",
     "status": "completed"
    },
    "tags": []
   },
   "outputs": [],
   "source": [
    "model.save('fitted.keras')"
   ]
  },
  {
   "cell_type": "markdown",
   "id": "b3c2f846",
   "metadata": {
    "execution": {
     "iopub.execute_input": "2024-12-19T21:16:33.404263Z",
     "iopub.status.busy": "2024-12-19T21:16:33.403835Z",
     "iopub.status.idle": "2024-12-19T21:16:41.038672Z",
     "shell.execute_reply": "2024-12-19T21:16:41.037480Z",
     "shell.execute_reply.started": "2024-12-19T21:16:33.404225Z"
    },
    "papermill": {
     "duration": 0.180087,
     "end_time": "2024-12-20T01:41:47.185964",
     "exception": false,
     "start_time": "2024-12-20T01:41:47.005877",
     "status": "completed"
    },
    "tags": []
   },
   "source": [
    "## Evaluate Model"
   ]
  },
  {
   "cell_type": "code",
   "execution_count": 15,
   "id": "84f6d637",
   "metadata": {
    "execution": {
     "iopub.execute_input": "2024-12-20T01:41:47.550902Z",
     "iopub.status.busy": "2024-12-20T01:41:47.549335Z",
     "iopub.status.idle": "2024-12-20T01:41:47.595376Z",
     "shell.execute_reply": "2024-12-20T01:41:47.594184Z"
    },
    "papermill": {
     "duration": 0.229538,
     "end_time": "2024-12-20T01:41:47.598028",
     "exception": false,
     "start_time": "2024-12-20T01:41:47.368490",
     "status": "completed"
    },
    "tags": []
   },
   "outputs": [],
   "source": [
    "test_ds = test_raw.map(lambda i: (\n",
    "    normalize_data(clean_data(i['features'])),\n",
    "    i['target']\n",
    "))"
   ]
  },
  {
   "cell_type": "code",
   "execution_count": 16,
   "id": "c46fdb2e",
   "metadata": {
    "execution": {
     "iopub.execute_input": "2024-12-20T01:41:47.967186Z",
     "iopub.status.busy": "2024-12-20T01:41:47.966768Z",
     "iopub.status.idle": "2024-12-20T01:42:04.816356Z",
     "shell.execute_reply": "2024-12-20T01:42:04.815032Z"
    },
    "papermill": {
     "duration": 17.036632,
     "end_time": "2024-12-20T01:42:04.818749",
     "exception": false,
     "start_time": "2024-12-20T01:41:47.782117",
     "status": "completed"
    },
    "tags": []
   },
   "outputs": [
    {
     "name": "stdout",
     "output_type": "stream",
     "text": [
      "\u001b[1m1/1\u001b[0m \u001b[32m━━━━━━━━━━━━━━━━━━━━\u001b[0m\u001b[37m\u001b[0m \u001b[1m17s\u001b[0m 17s/step - loss: 0.9976 - mean_absolute_error: 0.5340 - r2_score: 0.0024\n"
     ]
    },
    {
     "data": {
      "text/plain": [
       "[0.9975981116294861, 0.5339617133140564, 0.0024018287658691406]"
      ]
     },
     "execution_count": 16,
     "metadata": {},
     "output_type": "execute_result"
    }
   ],
   "source": [
    "model.evaluate(x=test_ds)"
   ]
  },
  {
   "cell_type": "code",
   "execution_count": null,
   "id": "fdff4e79",
   "metadata": {
    "papermill": {
     "duration": 0.182424,
     "end_time": "2024-12-20T01:42:05.181944",
     "exception": false,
     "start_time": "2024-12-20T01:42:04.999520",
     "status": "completed"
    },
    "tags": []
   },
   "outputs": [],
   "source": []
  }
 ],
 "metadata": {
  "kaggle": {
   "accelerator": "none",
   "dataSources": [
    {
     "databundleVersionId": 9871156,
     "sourceId": 84493,
     "sourceType": "competition"
    }
   ],
   "dockerImageVersionId": 30805,
   "isGpuEnabled": false,
   "isInternetEnabled": false,
   "language": "python",
   "sourceType": "notebook"
  },
  "kernelspec": {
   "display_name": "Python 3",
   "language": "python",
   "name": "python3"
  },
  "language_info": {
   "codemirror_mode": {
    "name": "ipython",
    "version": 3
   },
   "file_extension": ".py",
   "mimetype": "text/x-python",
   "name": "python",
   "nbconvert_exporter": "python",
   "pygments_lexer": "ipython3",
   "version": "3.10.14"
  },
  "papermill": {
   "default_parameters": {},
   "duration": 782.645287,
   "end_time": "2024-12-20T01:42:09.257691",
   "environment_variables": {},
   "exception": null,
   "input_path": "__notebook__.ipynb",
   "output_path": "__notebook__.ipynb",
   "parameters": {},
   "start_time": "2024-12-20T01:29:06.612404",
   "version": "2.6.0"
  }
 },
 "nbformat": 4,
 "nbformat_minor": 5
}
