{
 "cells": [
  {
   "cell_type": "code",
   "execution_count": 1,
   "id": "b41c815c",
   "metadata": {
    "execution": {
     "iopub.execute_input": "2024-12-25T17:58:48.451266Z",
     "iopub.status.busy": "2024-12-25T17:58:48.450622Z",
     "iopub.status.idle": "2024-12-25T17:59:00.768339Z",
     "shell.execute_reply": "2024-12-25T17:59:00.767642Z"
    },
    "papermill": {
     "duration": 12.324632,
     "end_time": "2024-12-25T17:59:00.770325",
     "exception": false,
     "start_time": "2024-12-25T17:58:48.445693",
     "status": "completed"
    },
    "tags": []
   },
   "outputs": [],
   "source": [
    "# This Python 3 environment comes with many helpful analytics libraries installed\n",
    "# It is defined by the kaggle/python Docker image: https://github.com/kaggle/docker-python\n",
    "# For example, here's several helpful packages to load\n",
    "\n",
    "import numpy as np # linear algebra\n",
    "import polars as pl # data processing, CSV file I/O (e.g. pd.read_csv)\n",
    "import pandas as pd\n",
    "import os\n",
    "from pathlib import Path\n",
    "import tensorflow as tf\n",
    "from tensorflow import keras\n",
    "from tensorflow.keras import layers\n",
    "import gc\n",
    "import re\n",
    "import random\n",
    "\n",
    "# Input data files are available in the read-only \"../input/\" directory\n",
    "# For example, running this (by clicking run or pressing Shift+Enter) will list all files under the input directory\n",
    "\n",
    "# You can write up to 20GB to the current directory (/kaggle/working/) that gets preserved as output when you create a version using \"Save & Run All\" \n",
    "# You can also write temporary files to /kaggle/temp/, but they won't be saved outside of the current session"
   ]
  },
  {
   "cell_type": "code",
   "execution_count": 2,
   "id": "32bc4b76",
   "metadata": {
    "execution": {
     "iopub.execute_input": "2024-12-25T17:59:00.778511Z",
     "iopub.status.busy": "2024-12-25T17:59:00.778059Z",
     "iopub.status.idle": "2024-12-25T17:59:00.782325Z",
     "shell.execute_reply": "2024-12-25T17:59:00.781565Z"
    },
    "papermill": {
     "duration": 0.009893,
     "end_time": "2024-12-25T17:59:00.783883",
     "exception": false,
     "start_time": "2024-12-25T17:59:00.773990",
     "status": "completed"
    },
    "tags": []
   },
   "outputs": [],
   "source": [
    "np.random.seed(15234)\n",
    "random.seed(15234)\n",
    "os.environ['PYTHONHASHSEED'] = '42'\n",
    "tf.random.set_seed(15234)"
   ]
  },
  {
   "cell_type": "markdown",
   "id": "2a8e5cde",
   "metadata": {
    "papermill": {
     "duration": 0.002982,
     "end_time": "2024-12-25T17:59:00.791058",
     "exception": false,
     "start_time": "2024-12-25T17:59:00.788076",
     "status": "completed"
    },
    "tags": []
   },
   "source": [
    "## Read Input"
   ]
  },
  {
   "cell_type": "code",
   "execution_count": 3,
   "id": "c2c2144a",
   "metadata": {
    "execution": {
     "iopub.execute_input": "2024-12-25T17:59:00.798246Z",
     "iopub.status.busy": "2024-12-25T17:59:00.798002Z",
     "iopub.status.idle": "2024-12-25T17:59:00.803079Z",
     "shell.execute_reply": "2024-12-25T17:59:00.802367Z"
    },
    "papermill": {
     "duration": 0.010367,
     "end_time": "2024-12-25T17:59:00.804542",
     "exception": false,
     "start_time": "2024-12-25T17:59:00.794175",
     "status": "completed"
    },
    "tags": []
   },
   "outputs": [],
   "source": [
    "base_path = Path(\"/kaggle/input/jane-street-real-time-market-data-forecasting/\")\n",
    "preprocess_path = Path('/kaggle/input/js-preprocessing/')\n",
    "train_path = preprocess_path / Path(\"train/\")\n",
    "train_read_paths = [train_path / Path(f\"partition_id={i}/part-0.parquet\") for i in [0, 1, 2, 3, 4, 5, 6, 7]]\n",
    "val_read_paths = [train_path / Path(f\"partition_id={i}/part-0.parquet\") for i in [8]]\n",
    "test_read_paths = [train_path / Path(f\"partition_id={i}/part-0.parquet\") for i in [9]]\n",
    "\n",
    "data_base_path = Path(\"/kaggle/input/js-preprocessing/\")\n",
    "feature_data_path = data_base_path / Path(\"feature_data.csv\")\n",
    "\n",
    "target = \"responder_6\""
   ]
  },
  {
   "cell_type": "code",
   "execution_count": 4,
   "id": "ab1ef338",
   "metadata": {
    "execution": {
     "iopub.execute_input": "2024-12-25T17:59:00.811749Z",
     "iopub.status.busy": "2024-12-25T17:59:00.811488Z",
     "iopub.status.idle": "2024-12-25T17:59:00.816611Z",
     "shell.execute_reply": "2024-12-25T17:59:00.815884Z"
    },
    "papermill": {
     "duration": 0.010431,
     "end_time": "2024-12-25T17:59:00.818164",
     "exception": false,
     "start_time": "2024-12-25T17:59:00.807733",
     "status": "completed"
    },
    "tags": []
   },
   "outputs": [],
   "source": [
    "class Config:\n",
    "    input_format = {\n",
    "        \"date_id\": tf.TensorSpec(shape=(None,), dtype=tf.float32),\n",
    "        \"time_id\": tf.TensorSpec(shape=(None,), dtype=tf.float32),\n",
    "        \"symbol_id\": tf.TensorSpec(shape=(None,), dtype=tf.float32),\n",
    "        \"weight\": tf.TensorSpec(shape=(None,), dtype=tf.float32),\n",
    "        \"features\": tf.TensorSpec(shape=(None, 79), dtype=tf.float32),\n",
    "        \"responders\": tf.TensorSpec(shape=(None, 9), dtype=tf.float32),\n",
    "        \"lags\": tf.TensorSpec(shape=(None, 9), dtype=tf.float32),\n",
    "        \"target\": tf.TensorSpec(shape=(None,), dtype=tf.float32)\n",
    "    }\n",
    "    train_batch_size = 16384\n",
    "    val_batch_size = 512\n",
    "\n",
    "config = Config()"
   ]
  },
  {
   "cell_type": "code",
   "execution_count": 5,
   "id": "bf09eda8",
   "metadata": {
    "execution": {
     "iopub.execute_input": "2024-12-25T17:59:00.825321Z",
     "iopub.status.busy": "2024-12-25T17:59:00.825075Z",
     "iopub.status.idle": "2024-12-25T17:59:01.634728Z",
     "shell.execute_reply": "2024-12-25T17:59:01.633811Z"
    },
    "papermill": {
     "duration": 0.815385,
     "end_time": "2024-12-25T17:59:01.636703",
     "exception": false,
     "start_time": "2024-12-25T17:59:00.821318",
     "status": "completed"
    },
    "tags": []
   },
   "outputs": [],
   "source": [
    "feature_format = 'feature_\\d\\d'\n",
    "responder_format = 'responder_\\d'\n",
    "lag_format = 'responder_\\d_lag'\n",
    "\n",
    "def chunk_features(chunk):\n",
    "    return chunk[[i for i in chunk.columns if re.fullmatch(feature_format, i)]]\n",
    "def chunk_lags(chunk):\n",
    "    return chunk[[i for i in chunk.columns if re.fullmatch(lag_format, i)]]\n",
    "\n",
    "def from_files(paths):\n",
    "    def to_ret():\n",
    "        for filepath in paths:\n",
    "            chunk = pl.read_parquet(filepath)\n",
    "            yield {\n",
    "                \"date_id\": chunk[\"date_id\"],\n",
    "                \"time_id\": chunk[\"time_id\"],\n",
    "                \"symbol_id\": chunk[\"symbol_id\"],\n",
    "                \"weight\": chunk[\"weight\"],\n",
    "                \"features\": chunk_features(chunk),\n",
    "                \"responders\": chunk[[i for i in chunk.columns if re.fullmatch(responder_format, i)]],\n",
    "                \"lags\": chunk_lags(chunk),\n",
    "                \"target\": chunk[target]\n",
    "            }\n",
    "    return to_ret\n",
    "\n",
    "train_raw = tf.data.Dataset.from_generator(\n",
    "    from_files(train_read_paths),\n",
    "    output_signature=config.input_format\n",
    ").prefetch(tf.data.AUTOTUNE).cache()\n",
    "\n",
    "val_raw = tf.data.Dataset.from_generator(\n",
    "    from_files(val_read_paths),\n",
    "    output_signature=config.input_format\n",
    ").cache()\n",
    "\n",
    "test_raw = tf.data.Dataset.from_generator(\n",
    "    from_files(test_read_paths),\n",
    "    output_signature=config.input_format\n",
    ")"
   ]
  },
  {
   "cell_type": "code",
   "execution_count": 6,
   "id": "d5a6a67a",
   "metadata": {
    "execution": {
     "iopub.execute_input": "2024-12-25T17:59:01.644643Z",
     "iopub.status.busy": "2024-12-25T17:59:01.644341Z",
     "iopub.status.idle": "2024-12-25T17:59:01.650106Z",
     "shell.execute_reply": "2024-12-25T17:59:01.649371Z"
    },
    "papermill": {
     "duration": 0.0116,
     "end_time": "2024-12-25T17:59:01.651759",
     "exception": false,
     "start_time": "2024-12-25T17:59:01.640159",
     "status": "completed"
    },
    "tags": []
   },
   "outputs": [
    {
     "data": {
      "text/plain": [
       "{'date_id': TensorSpec(shape=(None,), dtype=tf.float32, name=None),\n",
       " 'time_id': TensorSpec(shape=(None,), dtype=tf.float32, name=None),\n",
       " 'symbol_id': TensorSpec(shape=(None,), dtype=tf.float32, name=None),\n",
       " 'weight': TensorSpec(shape=(None,), dtype=tf.float32, name=None),\n",
       " 'features': TensorSpec(shape=(None, 79), dtype=tf.float32, name=None),\n",
       " 'responders': TensorSpec(shape=(None, 9), dtype=tf.float32, name=None),\n",
       " 'lags': TensorSpec(shape=(None, 9), dtype=tf.float32, name=None),\n",
       " 'target': TensorSpec(shape=(None,), dtype=tf.float32, name=None)}"
      ]
     },
     "execution_count": 6,
     "metadata": {},
     "output_type": "execute_result"
    }
   ],
   "source": [
    "train_raw.element_spec"
   ]
  },
  {
   "cell_type": "markdown",
   "id": "1a3fb346",
   "metadata": {
    "papermill": {
     "duration": 0.003019,
     "end_time": "2024-12-25T17:59:01.658029",
     "exception": false,
     "start_time": "2024-12-25T17:59:01.655010",
     "status": "completed"
    },
    "tags": []
   },
   "source": [
    "## Filter, Clean, Normalize Data"
   ]
  },
  {
   "cell_type": "code",
   "execution_count": 7,
   "id": "97dc0f2d",
   "metadata": {
    "execution": {
     "iopub.execute_input": "2024-12-25T17:59:01.665269Z",
     "iopub.status.busy": "2024-12-25T17:59:01.665027Z",
     "iopub.status.idle": "2024-12-25T17:59:01.745548Z",
     "shell.execute_reply": "2024-12-25T17:59:01.744968Z"
    },
    "papermill": {
     "duration": 0.085986,
     "end_time": "2024-12-25T17:59:01.747152",
     "exception": false,
     "start_time": "2024-12-25T17:59:01.661166",
     "status": "completed"
    },
    "tags": []
   },
   "outputs": [],
   "source": [
    "feature_data_df = pl.read_csv(feature_data_path)\n",
    "means = np.asarray(feature_data_df['mean']).astype('float32')\n",
    "stds = np.asarray(feature_data_df['std']).astype('float32')"
   ]
  },
  {
   "cell_type": "code",
   "execution_count": 8,
   "id": "7e123db2",
   "metadata": {
    "execution": {
     "iopub.execute_input": "2024-12-25T17:59:01.754713Z",
     "iopub.status.busy": "2024-12-25T17:59:01.754448Z",
     "iopub.status.idle": "2024-12-25T17:59:03.359360Z",
     "shell.execute_reply": "2024-12-25T17:59:03.358417Z"
    },
    "papermill": {
     "duration": 1.610943,
     "end_time": "2024-12-25T17:59:03.361361",
     "exception": false,
     "start_time": "2024-12-25T17:59:01.750418",
     "status": "completed"
    },
    "tags": []
   },
   "outputs": [],
   "source": [
    "def clean_features(features):\n",
    "    return tf.where(\n",
    "        tf.logical_or(tf.math.is_nan(features), tf.math.is_inf(features)), \n",
    "        means, \n",
    "        features)\n",
    "\n",
    "def normalize_features(features):\n",
    "    return (features - means) / tf.math.maximum(1.0, stds)\n",
    "\n",
    "def clean_lags(lags):\n",
    "    return tf.where(\n",
    "        tf.logical_or(tf.math.is_nan(lags), tf.math.is_inf(lags)), \n",
    "        0.0, \n",
    "        lags)\n",
    "\n",
    "def format_data(features, lags):\n",
    "    return {\n",
    "        'feature': normalize_features(clean_features(features)),\n",
    "        'lags': clean_lags(lags)\n",
    "    }\n",
    "\n",
    "train_ds = train_raw.map(lambda i: (\n",
    "                        format_data(i['features'], i['lags']),\n",
    "                        i['target']\n",
    "                        )).unbatch().shuffle(10000).batch(config.train_batch_size)\n",
    "val_ds = val_raw.map(lambda i: (\n",
    "    format_data(i['features'], i['lags']),\n",
    "    i['target']\n",
    ")).unbatch().batch(config.val_batch_size)"
   ]
  },
  {
   "cell_type": "markdown",
   "id": "c4164b73",
   "metadata": {
    "execution": {
     "iopub.execute_input": "2024-12-18T04:06:27.478694Z",
     "iopub.status.busy": "2024-12-18T04:06:27.477500Z",
     "iopub.status.idle": "2024-12-18T04:06:27.485848Z",
     "shell.execute_reply": "2024-12-18T04:06:27.484622Z",
     "shell.execute_reply.started": "2024-12-18T04:06:27.478647Z"
    },
    "papermill": {
     "duration": 0.005776,
     "end_time": "2024-12-25T17:59:03.370894",
     "exception": false,
     "start_time": "2024-12-25T17:59:03.365118",
     "status": "completed"
    },
    "tags": []
   },
   "source": [
    "## Train a Model"
   ]
  },
  {
   "cell_type": "code",
   "execution_count": 9,
   "id": "c67e2dbb",
   "metadata": {
    "execution": {
     "iopub.execute_input": "2024-12-25T17:59:03.382992Z",
     "iopub.status.busy": "2024-12-25T17:59:03.382706Z",
     "iopub.status.idle": "2024-12-25T17:59:03.484860Z",
     "shell.execute_reply": "2024-12-25T17:59:03.484180Z"
    },
    "papermill": {
     "duration": 0.111309,
     "end_time": "2024-12-25T17:59:03.486617",
     "exception": false,
     "start_time": "2024-12-25T17:59:03.375308",
     "status": "completed"
    },
    "tags": []
   },
   "outputs": [],
   "source": [
    "feat_layer = keras.Input(shape=(79,), name='feature')\n",
    "lag_layer = keras.Input(shape=(9,), name='lags')\n",
    "inp = keras.layers.Concatenate()([feat_layer, lag_layer])\n",
    "x = layers.Dropout(rate=0.2)(inp)\n",
    "x = layers.Dense(units=256, activation=\"silu\", kernel_regularizer=\"l1l2\")(x)\n",
    "x = layers.Dropout(rate=0.1)(x)\n",
    "x = layers.Dense(units=128, activation=\"silu\", kernel_regularizer=\"l1l2\")(x)\n",
    "x = layers.Dropout(rate=0.2)(x)\n",
    "x = layers.Dense(units=64, activation=\"silu\", kernel_regularizer=\"l1l2\")(x)\n",
    "x = layers.Dropout(rate=0.1)(x)\n",
    "x = layers.Dense(units=16, activation=\"silu\")(x)\n",
    "x = layers.Dense(units=4, activation=\"silu\")(x)\n",
    "x = layers.Dense(units=1)(x)\n",
    "model = keras.Model(inputs=[feat_layer, lag_layer], outputs=x)"
   ]
  },
  {
   "cell_type": "code",
   "execution_count": 10,
   "id": "14afce8c",
   "metadata": {
    "execution": {
     "iopub.execute_input": "2024-12-25T17:59:03.496367Z",
     "iopub.status.busy": "2024-12-25T17:59:03.495703Z",
     "iopub.status.idle": "2024-12-25T17:59:03.511304Z",
     "shell.execute_reply": "2024-12-25T17:59:03.510743Z"
    },
    "papermill": {
     "duration": 0.021709,
     "end_time": "2024-12-25T17:59:03.512882",
     "exception": false,
     "start_time": "2024-12-25T17:59:03.491173",
     "status": "completed"
    },
    "tags": []
   },
   "outputs": [],
   "source": [
    "def r2_loss(y_true, y_pred):\n",
    "    return tf.math.reduce_sum((y_true - y_pred) ** 2) / tf.math.reduce_sum(y_true ** 2)\n",
    "\n",
    "model.compile(optimizer=\"rmsprop\", loss=\"mse\", metrics=[keras.metrics.MeanAbsoluteError(), keras.metrics.R2Score()])"
   ]
  },
  {
   "cell_type": "code",
   "execution_count": 11,
   "id": "3ae2c209",
   "metadata": {
    "execution": {
     "iopub.execute_input": "2024-12-25T17:59:03.520647Z",
     "iopub.status.busy": "2024-12-25T17:59:03.520321Z",
     "iopub.status.idle": "2024-12-25T18:33:37.910025Z",
     "shell.execute_reply": "2024-12-25T18:33:37.909115Z"
    },
    "papermill": {
     "duration": 2075.507671,
     "end_time": "2024-12-25T18:33:39.023774",
     "exception": false,
     "start_time": "2024-12-25T17:59:03.516103",
     "status": "completed"
    },
    "tags": []
   },
   "outputs": [
    {
     "name": "stdout",
     "output_type": "stream",
     "text": [
      "Epoch 1/1000\n"
     ]
    },
    {
     "name": "stderr",
     "output_type": "stream",
     "text": [
      "WARNING: All log messages before absl::InitializeLog() is called are written to STDERR\n",
      "I0000 00:00:1735149550.059278      64 service.cc:145] XLA service 0x788cec006e00 initialized for platform CUDA (this does not guarantee that XLA will be used). Devices:\n",
      "I0000 00:00:1735149550.059354      64 service.cc:153]   StreamExecutor device (0): Tesla P100-PCIE-16GB, Compute Capability 6.0\n"
     ]
    },
    {
     "name": "stdout",
     "output_type": "stream",
     "text": [
      "      4/Unknown \u001b[1m14s\u001b[0m 52ms/step - loss: 0.6629 - mean_absolute_error: 0.5580 - r2_score: -0.0660"
     ]
    },
    {
     "name": "stderr",
     "output_type": "stream",
     "text": [
      "I0000 00:00:1735149557.955257      64 device_compiler.h:188] Compiled cluster using XLA!  This line is logged at most once for the lifetime of the process.\n"
     ]
    },
    {
     "name": "stdout",
     "output_type": "stream",
     "text": [
      "   2119/Unknown \u001b[1m152s\u001b[0m 65ms/step - loss: 0.8357 - mean_absolute_error: 0.5968 - r2_score: 0.0088"
     ]
    },
    {
     "name": "stderr",
     "output_type": "stream",
     "text": [
      "/opt/conda/lib/python3.10/contextlib.py:153: UserWarning: Your input ran out of data; interrupting training. Make sure that your dataset or generator can generate at least `steps_per_epoch * epochs` batches. You may need to use the `.repeat()` function when building your dataset.\n",
      "  self.gen.throw(typ, value, traceback)\n"
     ]
    },
    {
     "name": "stdout",
     "output_type": "stream",
     "text": [
      "\u001b[1m2119/2119\u001b[0m \u001b[32m━━━━━━━━━━━━━━━━━━━━\u001b[0m\u001b[37m\u001b[0m \u001b[1m185s\u001b[0m 81ms/step - loss: 0.8357 - mean_absolute_error: 0.5968 - r2_score: 0.0088 - val_loss: 0.7428 - val_mean_absolute_error: 0.5552 - val_r2_score: 0.0127 - learning_rate: 0.0010\n",
      "Epoch 2/1000\n",
      "\u001b[1m2119/2119\u001b[0m \u001b[32m━━━━━━━━━━━━━━━━━━━━\u001b[0m\u001b[37m\u001b[0m \u001b[1m115s\u001b[0m 53ms/step - loss: 0.8321 - mean_absolute_error: 0.5954 - r2_score: 0.0131 - val_loss: 0.7419 - val_mean_absolute_error: 0.5547 - val_r2_score: 0.0139 - learning_rate: 0.0010\n",
      "Epoch 3/1000\n",
      "\u001b[1m2119/2119\u001b[0m \u001b[32m━━━━━━━━━━━━━━━━━━━━\u001b[0m\u001b[37m\u001b[0m \u001b[1m128s\u001b[0m 59ms/step - loss: 0.8313 - mean_absolute_error: 0.5952 - r2_score: 0.0141 - val_loss: 0.7414 - val_mean_absolute_error: 0.5545 - val_r2_score: 0.0146 - learning_rate: 0.0010\n",
      "Epoch 4/1000\n",
      "\u001b[1m2119/2119\u001b[0m \u001b[32m━━━━━━━━━━━━━━━━━━━━\u001b[0m\u001b[37m\u001b[0m \u001b[1m127s\u001b[0m 58ms/step - loss: 0.8307 - mean_absolute_error: 0.5951 - r2_score: 0.0148 - val_loss: 0.7420 - val_mean_absolute_error: 0.5545 - val_r2_score: 0.0138 - learning_rate: 0.0010\n",
      "Epoch 5/1000\n",
      "\u001b[1m2119/2119\u001b[0m \u001b[32m━━━━━━━━━━━━━━━━━━━━\u001b[0m\u001b[37m\u001b[0m \u001b[1m127s\u001b[0m 58ms/step - loss: 0.8302 - mean_absolute_error: 0.5950 - r2_score: 0.0154 - val_loss: 0.7419 - val_mean_absolute_error: 0.5545 - val_r2_score: 0.0139 - learning_rate: 0.0010\n",
      "Epoch 6/1000\n",
      "\u001b[1m2119/2119\u001b[0m \u001b[32m━━━━━━━━━━━━━━━━━━━━\u001b[0m\u001b[37m\u001b[0m \u001b[1m128s\u001b[0m 59ms/step - loss: 0.8298 - mean_absolute_error: 0.5949 - r2_score: 0.0158 - val_loss: 0.7420 - val_mean_absolute_error: 0.5545 - val_r2_score: 0.0137 - learning_rate: 0.0010\n",
      "Epoch 7/1000\n",
      "\u001b[1m2119/2119\u001b[0m \u001b[32m━━━━━━━━━━━━━━━━━━━━\u001b[0m\u001b[37m\u001b[0m \u001b[1m138s\u001b[0m 64ms/step - loss: 0.8302 - mean_absolute_error: 0.5950 - r2_score: 0.0153 - val_loss: 0.7415 - val_mean_absolute_error: 0.5545 - val_r2_score: 0.0144 - learning_rate: 5.0000e-04\n",
      "Epoch 8/1000\n",
      "\u001b[1m2119/2119\u001b[0m \u001b[32m━━━━━━━━━━━━━━━━━━━━\u001b[0m\u001b[37m\u001b[0m \u001b[1m116s\u001b[0m 53ms/step - loss: 0.8296 - mean_absolute_error: 0.5948 - r2_score: 0.0161 - val_loss: 0.7412 - val_mean_absolute_error: 0.5545 - val_r2_score: 0.0147 - learning_rate: 5.0000e-04\n",
      "Epoch 9/1000\n",
      "\u001b[1m2119/2119\u001b[0m \u001b[32m━━━━━━━━━━━━━━━━━━━━\u001b[0m\u001b[37m\u001b[0m \u001b[1m126s\u001b[0m 58ms/step - loss: 0.8293 - mean_absolute_error: 0.5948 - r2_score: 0.0165 - val_loss: 0.7415 - val_mean_absolute_error: 0.5546 - val_r2_score: 0.0144 - learning_rate: 5.0000e-04\n",
      "Epoch 10/1000\n",
      "\u001b[1m2119/2119\u001b[0m \u001b[32m━━━━━━━━━━━━━━━━━━━━\u001b[0m\u001b[37m\u001b[0m \u001b[1m127s\u001b[0m 59ms/step - loss: 0.8292 - mean_absolute_error: 0.5947 - r2_score: 0.0166 - val_loss: 0.7413 - val_mean_absolute_error: 0.5545 - val_r2_score: 0.0146 - learning_rate: 5.0000e-04\n",
      "Epoch 11/1000\n",
      "\u001b[1m2119/2119\u001b[0m \u001b[32m━━━━━━━━━━━━━━━━━━━━\u001b[0m\u001b[37m\u001b[0m \u001b[1m112s\u001b[0m 51ms/step - loss: 0.8290 - mean_absolute_error: 0.5947 - r2_score: 0.0168 - val_loss: 0.7415 - val_mean_absolute_error: 0.5546 - val_r2_score: 0.0145 - learning_rate: 5.0000e-04\n",
      "Epoch 12/1000\n",
      "\u001b[1m2119/2119\u001b[0m \u001b[32m━━━━━━━━━━━━━━━━━━━━\u001b[0m\u001b[37m\u001b[0m \u001b[1m130s\u001b[0m 60ms/step - loss: 0.8294 - mean_absolute_error: 0.5948 - r2_score: 0.0163 - val_loss: 0.7418 - val_mean_absolute_error: 0.5546 - val_r2_score: 0.0140 - learning_rate: 2.5000e-04\n",
      "Epoch 13/1000\n",
      "\u001b[1m2119/2119\u001b[0m \u001b[32m━━━━━━━━━━━━━━━━━━━━\u001b[0m\u001b[37m\u001b[0m \u001b[1m130s\u001b[0m 60ms/step - loss: 0.8292 - mean_absolute_error: 0.5947 - r2_score: 0.0166 - val_loss: 0.7414 - val_mean_absolute_error: 0.5546 - val_r2_score: 0.0146 - learning_rate: 2.5000e-04\n",
      "Epoch 14/1000\n",
      "\u001b[1m2119/2119\u001b[0m \u001b[32m━━━━━━━━━━━━━━━━━━━━\u001b[0m\u001b[37m\u001b[0m \u001b[1m127s\u001b[0m 58ms/step - loss: 0.8291 - mean_absolute_error: 0.5947 - r2_score: 0.0168 - val_loss: 0.7415 - val_mean_absolute_error: 0.5546 - val_r2_score: 0.0145 - learning_rate: 2.5000e-04\n",
      "Epoch 15/1000\n",
      "\u001b[1m2119/2119\u001b[0m \u001b[32m━━━━━━━━━━━━━━━━━━━━\u001b[0m\u001b[37m\u001b[0m \u001b[1m129s\u001b[0m 59ms/step - loss: 0.8296 - mean_absolute_error: 0.5948 - r2_score: 0.0162 - val_loss: 0.7421 - val_mean_absolute_error: 0.5546 - val_r2_score: 0.0136 - learning_rate: 1.2500e-04\n",
      "Epoch 16/1000\n",
      "\u001b[1m2119/2119\u001b[0m \u001b[32m━━━━━━━━━━━━━━━━━━━━\u001b[0m\u001b[37m\u001b[0m \u001b[1m128s\u001b[0m 58ms/step - loss: 0.8293 - mean_absolute_error: 0.5947 - r2_score: 0.0165 - val_loss: 0.7422 - val_mean_absolute_error: 0.5546 - val_r2_score: 0.0135 - learning_rate: 1.2500e-04\n"
     ]
    }
   ],
   "source": [
    "callbacks = [\n",
    "    keras.callbacks.ModelCheckpoint('/kaggle/working/fitted.keras', save_best_only=True),\n",
    "    keras.callbacks.ModelCheckpoint('/kaggle/working/intermediate.keras', save_best_only=False),\n",
    "    keras.callbacks.ReduceLROnPlateau(factor=0.5, patience=3, min_delta=5e-5),\n",
    "    keras.callbacks.EarlyStopping(patience=8)\n",
    "]\n",
    "\n",
    "history = model.fit(x=train_ds, validation_data=val_ds, epochs=1000, callbacks = callbacks)"
   ]
  },
  {
   "cell_type": "markdown",
   "id": "6feb417a",
   "metadata": {
    "execution": {
     "iopub.execute_input": "2024-12-19T21:16:33.404263Z",
     "iopub.status.busy": "2024-12-19T21:16:33.403835Z",
     "iopub.status.idle": "2024-12-19T21:16:41.038672Z",
     "shell.execute_reply": "2024-12-19T21:16:41.037480Z",
     "shell.execute_reply.started": "2024-12-19T21:16:33.404225Z"
    },
    "papermill": {
     "duration": 1.012896,
     "end_time": "2024-12-25T18:33:41.043913",
     "exception": false,
     "start_time": "2024-12-25T18:33:40.031017",
     "status": "completed"
    },
    "tags": []
   },
   "source": [
    "## Evaluate Model"
   ]
  },
  {
   "cell_type": "code",
   "execution_count": 12,
   "id": "5eaf4e8b",
   "metadata": {
    "execution": {
     "iopub.execute_input": "2024-12-25T18:33:42.992107Z",
     "iopub.status.busy": "2024-12-25T18:33:42.991754Z",
     "iopub.status.idle": "2024-12-25T18:33:43.041118Z",
     "shell.execute_reply": "2024-12-25T18:33:43.040262Z"
    },
    "papermill": {
     "duration": 1.04696,
     "end_time": "2024-12-25T18:33:43.043152",
     "exception": false,
     "start_time": "2024-12-25T18:33:41.996192",
     "status": "completed"
    },
    "tags": []
   },
   "outputs": [],
   "source": [
    "test_ds = test_raw.map(lambda i: (\n",
    "                        format_data(i['features'], i['lags']),\n",
    "                        i['target']\n",
    "                        )).unbatch().batch(512)"
   ]
  },
  {
   "cell_type": "code",
   "execution_count": 13,
   "id": "b4327415",
   "metadata": {
    "execution": {
     "iopub.execute_input": "2024-12-25T18:33:45.060745Z",
     "iopub.status.busy": "2024-12-25T18:33:45.060135Z",
     "iopub.status.idle": "2024-12-25T18:33:45.171831Z",
     "shell.execute_reply": "2024-12-25T18:33:45.171033Z"
    },
    "papermill": {
     "duration": 1.099164,
     "end_time": "2024-12-25T18:33:45.173583",
     "exception": false,
     "start_time": "2024-12-25T18:33:44.074419",
     "status": "completed"
    },
    "tags": []
   },
   "outputs": [],
   "source": [
    "model = keras.models.load_model('/kaggle/working/fitted.keras', custom_objects={\n",
    "    'r2_loss': r2_loss\n",
    "})"
   ]
  },
  {
   "cell_type": "code",
   "execution_count": 14,
   "id": "e1c305da",
   "metadata": {
    "execution": {
     "iopub.execute_input": "2024-12-25T18:33:47.152284Z",
     "iopub.status.busy": "2024-12-25T18:33:47.151499Z",
     "iopub.status.idle": "2024-12-25T18:34:19.002235Z",
     "shell.execute_reply": "2024-12-25T18:34:19.001358Z"
    },
    "papermill": {
     "duration": 32.845554,
     "end_time": "2024-12-25T18:34:19.003955",
     "exception": false,
     "start_time": "2024-12-25T18:33:46.158401",
     "status": "completed"
    },
    "tags": []
   },
   "outputs": [
    {
     "name": "stdout",
     "output_type": "stream",
     "text": [
      "\u001b[1m12256/12256\u001b[0m \u001b[32m━━━━━━━━━━━━━━━━━━━━\u001b[0m\u001b[37m\u001b[0m \u001b[1m32s\u001b[0m 1ms/step - loss: 0.6664 - mean_absolute_error: 0.5289 - r2_score: 0.0082\n"
     ]
    },
    {
     "data": {
      "text/plain": [
       "[0.6578256487846375, 0.5326074361801147, 0.007547497749328613]"
      ]
     },
     "execution_count": 14,
     "metadata": {},
     "output_type": "execute_result"
    }
   ],
   "source": [
    "model.evaluate(x=test_ds)"
   ]
  },
  {
   "cell_type": "code",
   "execution_count": null,
   "id": "f035d599",
   "metadata": {
    "papermill": {
     "duration": 0.998895,
     "end_time": "2024-12-25T18:34:21.021518",
     "exception": false,
     "start_time": "2024-12-25T18:34:20.022623",
     "status": "completed"
    },
    "tags": []
   },
   "outputs": [],
   "source": []
  }
 ],
 "metadata": {
  "kaggle": {
   "accelerator": "gpu",
   "dataSources": [
    {
     "databundleVersionId": 9871156,
     "sourceId": 84493,
     "sourceType": "competition"
    },
    {
     "sourceId": 214656673,
     "sourceType": "kernelVersion"
    }
   ],
   "dockerImageVersionId": 30805,
   "isGpuEnabled": true,
   "isInternetEnabled": false,
   "language": "python",
   "sourceType": "notebook"
  },
  "kernelspec": {
   "display_name": "Python 3",
   "language": "python",
   "name": "python3"
  },
  "language_info": {
   "codemirror_mode": {
    "name": "ipython",
    "version": 3
   },
   "file_extension": ".py",
   "mimetype": "text/x-python",
   "name": "python",
   "nbconvert_exporter": "python",
   "pygments_lexer": "ipython3",
   "version": "3.10.14"
  },
  "papermill": {
   "default_parameters": {},
   "duration": 2139.140477,
   "end_time": "2024-12-25T18:34:25.198660",
   "environment_variables": {},
   "exception": null,
   "input_path": "__notebook__.ipynb",
   "output_path": "__notebook__.ipynb",
   "parameters": {},
   "start_time": "2024-12-25T17:58:46.058183",
   "version": "2.6.0"
  }
 },
 "nbformat": 4,
 "nbformat_minor": 5
}
