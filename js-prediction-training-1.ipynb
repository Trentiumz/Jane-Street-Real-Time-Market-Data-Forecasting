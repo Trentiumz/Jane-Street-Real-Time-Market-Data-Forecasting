{
 "cells": [
  {
   "cell_type": "code",
   "execution_count": 1,
   "id": "91fc68b0",
   "metadata": {
    "execution": {
     "iopub.execute_input": "2024-12-25T01:37:59.882606Z",
     "iopub.status.busy": "2024-12-25T01:37:59.882206Z",
     "iopub.status.idle": "2024-12-25T01:38:17.398043Z",
     "shell.execute_reply": "2024-12-25T01:38:17.396878Z"
    },
    "papermill": {
     "duration": 17.52566,
     "end_time": "2024-12-25T01:38:17.400656",
     "exception": false,
     "start_time": "2024-12-25T01:37:59.874996",
     "status": "completed"
    },
    "tags": []
   },
   "outputs": [],
   "source": [
    "# This Python 3 environment comes with many helpful analytics libraries installed\n",
    "# It is defined by the kaggle/python Docker image: https://github.com/kaggle/docker-python\n",
    "# For example, here's several helpful packages to load\n",
    "\n",
    "import numpy as np # linear algebra\n",
    "import polars as pl # data processing, CSV file I/O (e.g. pd.read_csv)\n",
    "import pandas as pd\n",
    "import os\n",
    "from pathlib import Path\n",
    "import tensorflow as tf\n",
    "from tensorflow import keras\n",
    "from tensorflow.keras import layers\n",
    "import gc\n",
    "import re\n",
    "\n",
    "# Input data files are available in the read-only \"../input/\" directory\n",
    "# For example, running this (by clicking run or pressing Shift+Enter) will list all files under the input directory\n",
    "\n",
    "# You can write up to 20GB to the current directory (/kaggle/working/) that gets preserved as output when you create a version using \"Save & Run All\" \n",
    "# You can also write temporary files to /kaggle/temp/, but they won't be saved outside of the current session"
   ]
  },
  {
   "cell_type": "markdown",
   "id": "45668b58",
   "metadata": {
    "papermill": {
     "duration": 0.003884,
     "end_time": "2024-12-25T01:38:17.409188",
     "exception": false,
     "start_time": "2024-12-25T01:38:17.405304",
     "status": "completed"
    },
    "tags": []
   },
   "source": [
    "## Read Input"
   ]
  },
  {
   "cell_type": "code",
   "execution_count": 2,
   "id": "c69cf6dc",
   "metadata": {
    "execution": {
     "iopub.execute_input": "2024-12-25T01:38:17.419462Z",
     "iopub.status.busy": "2024-12-25T01:38:17.418612Z",
     "iopub.status.idle": "2024-12-25T01:38:17.426421Z",
     "shell.execute_reply": "2024-12-25T01:38:17.425249Z"
    },
    "papermill": {
     "duration": 0.015632,
     "end_time": "2024-12-25T01:38:17.428807",
     "exception": false,
     "start_time": "2024-12-25T01:38:17.413175",
     "status": "completed"
    },
    "tags": []
   },
   "outputs": [],
   "source": [
    "base_path = Path(\"/kaggle/input/jane-street-real-time-market-data-forecasting/\")\n",
    "preprocess_path = Path('/kaggle/input/js-preprocessing/')\n",
    "train_path = preprocess_path / Path(\"train/\")\n",
    "train_read_paths = [train_path / Path(f\"partition_id={i}/part-0.parquet\") for i in [0, 1, 2, 3, 4, 5, 6, 7]]\n",
    "val_read_paths = [train_path / Path(f\"partition_id={i}/part-0.parquet\") for i in [8]]\n",
    "test_read_paths = [train_path / Path(f\"partition_id={i}/part-0.parquet\") for i in [9]]\n",
    "\n",
    "data_base_path = Path(\"/kaggle/input/js-preprocessing/\")\n",
    "feature_data_path = data_base_path / Path(\"feature_data.csv\")\n",
    "\n",
    "target = \"responder_6\""
   ]
  },
  {
   "cell_type": "code",
   "execution_count": 3,
   "id": "bffbc16f",
   "metadata": {
    "execution": {
     "iopub.execute_input": "2024-12-25T01:38:17.439350Z",
     "iopub.status.busy": "2024-12-25T01:38:17.438979Z",
     "iopub.status.idle": "2024-12-25T01:38:17.447132Z",
     "shell.execute_reply": "2024-12-25T01:38:17.445843Z"
    },
    "papermill": {
     "duration": 0.016324,
     "end_time": "2024-12-25T01:38:17.449414",
     "exception": false,
     "start_time": "2024-12-25T01:38:17.433090",
     "status": "completed"
    },
    "tags": []
   },
   "outputs": [],
   "source": [
    "class Config:\n",
    "    input_format = {\n",
    "        \"date_id\": tf.TensorSpec(shape=(None,), dtype=tf.float32),\n",
    "        \"time_id\": tf.TensorSpec(shape=(None,), dtype=tf.float32),\n",
    "        \"symbol_id\": tf.TensorSpec(shape=(None,), dtype=tf.float32),\n",
    "        \"weight\": tf.TensorSpec(shape=(None,), dtype=tf.float32),\n",
    "        \"features\": tf.TensorSpec(shape=(None, 79), dtype=tf.float32),\n",
    "        \"responders\": tf.TensorSpec(shape=(None, 9), dtype=tf.float32),\n",
    "        \"lags\": tf.TensorSpec(shape=(None, 9), dtype=tf.float32),\n",
    "        \"target\": tf.TensorSpec(shape=(None,), dtype=tf.float32)\n",
    "    }\n",
    "    train_batch_size = 32768\n",
    "\n",
    "config = Config()"
   ]
  },
  {
   "cell_type": "code",
   "execution_count": 4,
   "id": "0b9c2a4b",
   "metadata": {
    "execution": {
     "iopub.execute_input": "2024-12-25T01:38:17.459231Z",
     "iopub.status.busy": "2024-12-25T01:38:17.458827Z",
     "iopub.status.idle": "2024-12-25T01:38:17.631317Z",
     "shell.execute_reply": "2024-12-25T01:38:17.630043Z"
    },
    "papermill": {
     "duration": 0.180758,
     "end_time": "2024-12-25T01:38:17.634262",
     "exception": false,
     "start_time": "2024-12-25T01:38:17.453504",
     "status": "completed"
    },
    "tags": []
   },
   "outputs": [],
   "source": [
    "feature_format = 'feature_\\d\\d'\n",
    "responder_format = 'responder_\\d'\n",
    "lag_format = 'responder_\\d_lag'\n",
    "\n",
    "def chunk_features(chunk):\n",
    "    return chunk[[i for i in chunk.columns if re.fullmatch(feature_format, i)]]\n",
    "def chunk_lags(chunk):\n",
    "    return chunk[[i for i in chunk.columns if re.fullmatch(lag_format, i)]]\n",
    "\n",
    "def from_files(paths):\n",
    "    def to_ret():\n",
    "        for filepath in paths:\n",
    "            chunk = pl.read_parquet(filepath)\n",
    "            yield {\n",
    "                \"date_id\": chunk[\"date_id\"],\n",
    "                \"time_id\": chunk[\"time_id\"],\n",
    "                \"symbol_id\": chunk[\"symbol_id\"],\n",
    "                \"weight\": chunk[\"weight\"],\n",
    "                \"features\": chunk_features(chunk),\n",
    "                \"responders\": chunk[[i for i in chunk.columns if re.fullmatch(responder_format, i)]],\n",
    "                \"lags\": chunk_lags(chunk),\n",
    "                \"target\": chunk[target]\n",
    "            }\n",
    "    return to_ret\n",
    "\n",
    "train_raw = tf.data.Dataset.from_generator(\n",
    "    from_files(train_read_paths),\n",
    "    output_signature=config.input_format\n",
    ").prefetch(tf.data.AUTOTUNE).cache()\n",
    "\n",
    "val_raw = tf.data.Dataset.from_generator(\n",
    "    from_files(val_read_paths),\n",
    "    output_signature=config.input_format\n",
    ").cache()\n",
    "\n",
    "test_raw = tf.data.Dataset.from_generator(\n",
    "    from_files(test_read_paths),\n",
    "    output_signature=config.input_format\n",
    ")"
   ]
  },
  {
   "cell_type": "code",
   "execution_count": 5,
   "id": "655479ed",
   "metadata": {
    "execution": {
     "iopub.execute_input": "2024-12-25T01:38:17.647112Z",
     "iopub.status.busy": "2024-12-25T01:38:17.646645Z",
     "iopub.status.idle": "2024-12-25T01:38:17.655429Z",
     "shell.execute_reply": "2024-12-25T01:38:17.654164Z"
    },
    "papermill": {
     "duration": 0.01903,
     "end_time": "2024-12-25T01:38:17.657895",
     "exception": false,
     "start_time": "2024-12-25T01:38:17.638865",
     "status": "completed"
    },
    "tags": []
   },
   "outputs": [
    {
     "data": {
      "text/plain": [
       "{'date_id': TensorSpec(shape=(None,), dtype=tf.float32, name=None),\n",
       " 'time_id': TensorSpec(shape=(None,), dtype=tf.float32, name=None),\n",
       " 'symbol_id': TensorSpec(shape=(None,), dtype=tf.float32, name=None),\n",
       " 'weight': TensorSpec(shape=(None,), dtype=tf.float32, name=None),\n",
       " 'features': TensorSpec(shape=(None, 79), dtype=tf.float32, name=None),\n",
       " 'responders': TensorSpec(shape=(None, 9), dtype=tf.float32, name=None),\n",
       " 'lags': TensorSpec(shape=(None, 9), dtype=tf.float32, name=None),\n",
       " 'target': TensorSpec(shape=(None,), dtype=tf.float32, name=None)}"
      ]
     },
     "execution_count": 5,
     "metadata": {},
     "output_type": "execute_result"
    }
   ],
   "source": [
    "train_raw.element_spec"
   ]
  },
  {
   "cell_type": "markdown",
   "id": "241430a7",
   "metadata": {
    "papermill": {
     "duration": 0.004161,
     "end_time": "2024-12-25T01:38:17.666400",
     "exception": false,
     "start_time": "2024-12-25T01:38:17.662239",
     "status": "completed"
    },
    "tags": []
   },
   "source": [
    "## Filter, Clean, Normalize Data"
   ]
  },
  {
   "cell_type": "code",
   "execution_count": 6,
   "id": "db1a014f",
   "metadata": {
    "execution": {
     "iopub.execute_input": "2024-12-25T01:38:17.676711Z",
     "iopub.status.busy": "2024-12-25T01:38:17.676318Z",
     "iopub.status.idle": "2024-12-25T01:38:17.779239Z",
     "shell.execute_reply": "2024-12-25T01:38:17.777939Z"
    },
    "papermill": {
     "duration": 0.111264,
     "end_time": "2024-12-25T01:38:17.781908",
     "exception": false,
     "start_time": "2024-12-25T01:38:17.670644",
     "status": "completed"
    },
    "tags": []
   },
   "outputs": [],
   "source": [
    "feature_data_df = pl.read_csv(feature_data_path)\n",
    "means = np.asarray(feature_data_df['mean']).astype('float32')\n",
    "stds = np.asarray(feature_data_df['std']).astype('float32')"
   ]
  },
  {
   "cell_type": "code",
   "execution_count": 7,
   "id": "27e87e43",
   "metadata": {
    "execution": {
     "iopub.execute_input": "2024-12-25T01:38:17.792415Z",
     "iopub.status.busy": "2024-12-25T01:38:17.791990Z",
     "iopub.status.idle": "2024-12-25T01:38:18.039106Z",
     "shell.execute_reply": "2024-12-25T01:38:18.037722Z"
    },
    "papermill": {
     "duration": 0.255528,
     "end_time": "2024-12-25T01:38:18.041866",
     "exception": false,
     "start_time": "2024-12-25T01:38:17.786338",
     "status": "completed"
    },
    "tags": []
   },
   "outputs": [],
   "source": [
    "def clean_features(features):\n",
    "    return tf.where(\n",
    "        tf.logical_or(tf.math.is_nan(features), tf.math.is_inf(features)), \n",
    "        means, \n",
    "        features)\n",
    "\n",
    "def normalize_features(features):\n",
    "    return (features - means) / tf.math.maximum(1.0, stds)\n",
    "\n",
    "def clean_lags(lags):\n",
    "    return tf.where(\n",
    "        tf.logical_or(tf.math.is_nan(lags), tf.math.is_inf(lags)), \n",
    "        0.0, \n",
    "        lags)\n",
    "\n",
    "def format_data(features, lags):\n",
    "    return {\n",
    "        'feature': normalize_features(clean_features(features)),\n",
    "        'lags': clean_lags(lags)\n",
    "    }\n",
    "\n",
    "train_ds = train_raw.map(lambda i: (\n",
    "                        format_data(i['features'], i['lags']),\n",
    "                        i['target']\n",
    "                        )).unbatch().shuffle(10000).batch(config.train_batch_size)\n",
    "val_ds = val_raw.map(lambda i: (\n",
    "    format_data(i['features'], i['lags']),\n",
    "    i['target']\n",
    "))"
   ]
  },
  {
   "cell_type": "markdown",
   "id": "b6a20742",
   "metadata": {
    "execution": {
     "iopub.execute_input": "2024-12-18T04:06:27.478694Z",
     "iopub.status.busy": "2024-12-18T04:06:27.477500Z",
     "iopub.status.idle": "2024-12-18T04:06:27.485848Z",
     "shell.execute_reply": "2024-12-18T04:06:27.484622Z",
     "shell.execute_reply.started": "2024-12-18T04:06:27.478647Z"
    },
    "papermill": {
     "duration": 0.00398,
     "end_time": "2024-12-25T01:38:18.050327",
     "exception": false,
     "start_time": "2024-12-25T01:38:18.046347",
     "status": "completed"
    },
    "tags": []
   },
   "source": [
    "## Train a Model"
   ]
  },
  {
   "cell_type": "code",
   "execution_count": 8,
   "id": "ea4047c3",
   "metadata": {
    "execution": {
     "iopub.execute_input": "2024-12-25T01:38:18.060986Z",
     "iopub.status.busy": "2024-12-25T01:38:18.060537Z",
     "iopub.status.idle": "2024-12-25T01:38:18.157683Z",
     "shell.execute_reply": "2024-12-25T01:38:18.156539Z"
    },
    "papermill": {
     "duration": 0.105827,
     "end_time": "2024-12-25T01:38:18.160441",
     "exception": false,
     "start_time": "2024-12-25T01:38:18.054614",
     "status": "completed"
    },
    "tags": []
   },
   "outputs": [],
   "source": [
    "feat_layer = keras.Input(shape=(79,), name='feature')\n",
    "lag_layer = keras.Input(shape=(9,), name='lags')\n",
    "inp = keras.layers.Concatenate()([feat_layer, lag_layer])\n",
    "x = layers.Dropout(rate=0.2)(inp)\n",
    "x = layers.Dense(units=40, activation=\"relu\", kernel_regularizer=\"l1l2\")(x)\n",
    "x = layers.Dense(units=30, activation=\"relu\", kernel_regularizer=\"l1l2\")(x)\n",
    "x = layers.Dropout(rate=0.2)(x)\n",
    "x = layers.Dense(units=20, activation=\"relu\", kernel_regularizer=\"l1l2\")(x)\n",
    "x = layers.Dense(units=10, activation=\"relu\")(x)\n",
    "x = layers.Dense(units=5, activation=\"relu\")(x)\n",
    "x = layers.Dense(units=1)(x)\n",
    "model = keras.Model(inputs=[feat_layer, lag_layer], outputs=x)"
   ]
  },
  {
   "cell_type": "code",
   "execution_count": 9,
   "id": "68efaf7d",
   "metadata": {
    "execution": {
     "iopub.execute_input": "2024-12-25T01:38:18.171642Z",
     "iopub.status.busy": "2024-12-25T01:38:18.171236Z",
     "iopub.status.idle": "2024-12-25T01:38:18.192090Z",
     "shell.execute_reply": "2024-12-25T01:38:18.191036Z"
    },
    "papermill": {
     "duration": 0.029204,
     "end_time": "2024-12-25T01:38:18.194761",
     "exception": false,
     "start_time": "2024-12-25T01:38:18.165557",
     "status": "completed"
    },
    "tags": []
   },
   "outputs": [],
   "source": [
    "def r2_loss(y_true, y_pred):\n",
    "    return tf.math.reduce_sum((y_true - y_pred) ** 2) / tf.math.reduce_sum(y_true ** 2)\n",
    "\n",
    "model.compile(optimizer=\"rmsprop\", loss=\"mse\", metrics=[keras.metrics.MeanAbsoluteError(), keras.metrics.R2Score()])"
   ]
  },
  {
   "cell_type": "code",
   "execution_count": 10,
   "id": "e9ed2a43",
   "metadata": {
    "execution": {
     "iopub.execute_input": "2024-12-25T01:38:18.205604Z",
     "iopub.status.busy": "2024-12-25T01:38:18.205176Z",
     "iopub.status.idle": "2024-12-25T02:34:13.163571Z",
     "shell.execute_reply": "2024-12-25T02:34:13.160076Z"
    },
    "papermill": {
     "duration": 3354.967598,
     "end_time": "2024-12-25T02:34:13.167054",
     "exception": false,
     "start_time": "2024-12-25T01:38:18.199456",
     "status": "completed"
    },
    "tags": []
   },
   "outputs": [
    {
     "name": "stdout",
     "output_type": "stream",
     "text": [
      "Epoch 1/15\n",
      "   1059/Unknown \u001b[1m242s\u001b[0m 220ms/step - loss: 0.8585 - mean_absolute_error: 0.6091 - r2_score: -0.0202"
     ]
    },
    {
     "name": "stderr",
     "output_type": "stream",
     "text": [
      "/opt/conda/lib/python3.10/contextlib.py:153: UserWarning: Your input ran out of data; interrupting training. Make sure that your dataset or generator can generate at least `steps_per_epoch * epochs` batches. You may need to use the `.repeat()` function when building your dataset.\n",
      "  self.gen.throw(typ, value, traceback)\n"
     ]
    },
    {
     "name": "stdout",
     "output_type": "stream",
     "text": [
      "\u001b[1m1060/1060\u001b[0m \u001b[32m━━━━━━━━━━━━━━━━━━━━\u001b[0m\u001b[37m\u001b[0m \u001b[1m272s\u001b[0m 249ms/step - loss: 0.8585 - mean_absolute_error: 0.6091 - r2_score: -0.0202 - val_loss: 0.7475 - val_mean_absolute_error: 0.5565 - val_r2_score: 0.0065 - learning_rate: 9.7000e-04\n",
      "Epoch 2/15\n",
      "\u001b[1m1060/1060\u001b[0m \u001b[32m━━━━━━━━━━━━━━━━━━━━\u001b[0m\u001b[37m\u001b[0m \u001b[1m199s\u001b[0m 183ms/step - loss: 0.8360 - mean_absolute_error: 0.5964 - r2_score: 0.0086 - val_loss: 0.7462 - val_mean_absolute_error: 0.5561 - val_r2_score: 0.0082 - learning_rate: 9.4090e-04\n",
      "Epoch 3/15\n",
      "\u001b[1m1060/1060\u001b[0m \u001b[32m━━━━━━━━━━━━━━━━━━━━\u001b[0m\u001b[37m\u001b[0m \u001b[1m200s\u001b[0m 182ms/step - loss: 0.8346 - mean_absolute_error: 0.5960 - r2_score: 0.0103 - val_loss: 0.7457 - val_mean_absolute_error: 0.5560 - val_r2_score: 0.0088 - learning_rate: 9.1267e-04\n",
      "Epoch 4/15\n",
      "\u001b[1m1060/1060\u001b[0m \u001b[32m━━━━━━━━━━━━━━━━━━━━\u001b[0m\u001b[37m\u001b[0m \u001b[1m236s\u001b[0m 219ms/step - loss: 0.8339 - mean_absolute_error: 0.5958 - r2_score: 0.0111 - val_loss: 0.7452 - val_mean_absolute_error: 0.5558 - val_r2_score: 0.0095 - learning_rate: 8.8529e-04\n",
      "Epoch 5/15\n",
      "\u001b[1m1060/1060\u001b[0m \u001b[32m━━━━━━━━━━━━━━━━━━━━\u001b[0m\u001b[37m\u001b[0m \u001b[1m229s\u001b[0m 212ms/step - loss: 0.8335 - mean_absolute_error: 0.5956 - r2_score: 0.0116 - val_loss: 0.7449 - val_mean_absolute_error: 0.5558 - val_r2_score: 0.0099 - learning_rate: 8.5873e-04\n",
      "Epoch 6/15\n",
      "\u001b[1m1060/1060\u001b[0m \u001b[32m━━━━━━━━━━━━━━━━━━━━\u001b[0m\u001b[37m\u001b[0m \u001b[1m224s\u001b[0m 207ms/step - loss: 0.8333 - mean_absolute_error: 0.5956 - r2_score: 0.0119 - val_loss: 0.7445 - val_mean_absolute_error: 0.5556 - val_r2_score: 0.0104 - learning_rate: 8.3297e-04\n",
      "Epoch 7/15\n",
      "\u001b[1m1060/1060\u001b[0m \u001b[32m━━━━━━━━━━━━━━━━━━━━\u001b[0m\u001b[37m\u001b[0m \u001b[1m240s\u001b[0m 223ms/step - loss: 0.8330 - mean_absolute_error: 0.5955 - r2_score: 0.0121 - val_loss: 0.7445 - val_mean_absolute_error: 0.5556 - val_r2_score: 0.0105 - learning_rate: 8.0798e-04\n",
      "Epoch 8/15\n",
      "\u001b[1m1060/1060\u001b[0m \u001b[32m━━━━━━━━━━━━━━━━━━━━\u001b[0m\u001b[37m\u001b[0m \u001b[1m196s\u001b[0m 181ms/step - loss: 0.8330 - mean_absolute_error: 0.5955 - r2_score: 0.0122 - val_loss: 0.7444 - val_mean_absolute_error: 0.5556 - val_r2_score: 0.0105 - learning_rate: 7.8374e-04\n",
      "Epoch 9/15\n",
      "\u001b[1m1060/1060\u001b[0m \u001b[32m━━━━━━━━━━━━━━━━━━━━\u001b[0m\u001b[37m\u001b[0m \u001b[1m229s\u001b[0m 212ms/step - loss: 0.8327 - mean_absolute_error: 0.5954 - r2_score: 0.0125 - val_loss: 0.7442 - val_mean_absolute_error: 0.5556 - val_r2_score: 0.0109 - learning_rate: 7.6023e-04\n",
      "Epoch 10/15\n",
      "\u001b[1m1060/1060\u001b[0m \u001b[32m━━━━━━━━━━━━━━━━━━━━\u001b[0m\u001b[37m\u001b[0m \u001b[1m207s\u001b[0m 192ms/step - loss: 0.8327 - mean_absolute_error: 0.5954 - r2_score: 0.0126 - val_loss: 0.7441 - val_mean_absolute_error: 0.5555 - val_r2_score: 0.0109 - learning_rate: 7.3742e-04\n",
      "Epoch 11/15\n",
      "\u001b[1m1060/1060\u001b[0m \u001b[32m━━━━━━━━━━━━━━━━━━━━\u001b[0m\u001b[37m\u001b[0m \u001b[1m231s\u001b[0m 213ms/step - loss: 0.8325 - mean_absolute_error: 0.5954 - r2_score: 0.0128 - val_loss: 0.7440 - val_mean_absolute_error: 0.5555 - val_r2_score: 0.0111 - learning_rate: 7.1530e-04\n",
      "Epoch 12/15\n",
      "\u001b[1m1060/1060\u001b[0m \u001b[32m━━━━━━━━━━━━━━━━━━━━\u001b[0m\u001b[37m\u001b[0m \u001b[1m199s\u001b[0m 183ms/step - loss: 0.8325 - mean_absolute_error: 0.5954 - r2_score: 0.0128 - val_loss: 0.7438 - val_mean_absolute_error: 0.5555 - val_r2_score: 0.0114 - learning_rate: 6.9384e-04\n",
      "Epoch 13/15\n",
      "\u001b[1m1060/1060\u001b[0m \u001b[32m━━━━━━━━━━━━━━━━━━━━\u001b[0m\u001b[37m\u001b[0m \u001b[1m230s\u001b[0m 213ms/step - loss: 0.8325 - mean_absolute_error: 0.5954 - r2_score: 0.0128 - val_loss: 0.7437 - val_mean_absolute_error: 0.5554 - val_r2_score: 0.0115 - learning_rate: 6.7303e-04\n",
      "Epoch 14/15\n",
      "\u001b[1m1060/1060\u001b[0m \u001b[32m━━━━━━━━━━━━━━━━━━━━\u001b[0m\u001b[37m\u001b[0m \u001b[1m230s\u001b[0m 213ms/step - loss: 0.8322 - mean_absolute_error: 0.5953 - r2_score: 0.0132 - val_loss: 0.7436 - val_mean_absolute_error: 0.5554 - val_r2_score: 0.0116 - learning_rate: 6.5284e-04\n",
      "Epoch 15/15\n",
      "\u001b[1m1060/1060\u001b[0m \u001b[32m━━━━━━━━━━━━━━━━━━━━\u001b[0m\u001b[37m\u001b[0m \u001b[1m233s\u001b[0m 215ms/step - loss: 0.8322 - mean_absolute_error: 0.5953 - r2_score: 0.0131 - val_loss: 0.7436 - val_mean_absolute_error: 0.5554 - val_r2_score: 0.0116 - learning_rate: 6.3325e-04\n"
     ]
    }
   ],
   "source": [
    "callbacks = [\n",
    "    keras.callbacks.ModelCheckpoint('/kaggle/working/fitted.keras', save_best_only=True),\n",
    "    keras.callbacks.ModelCheckpoint('/kaggle/working/intermediate.keras', save_best_only=False),\n",
    "    keras.callbacks.LearningRateScheduler(lambda epoch, lr: lr * 0.97),\n",
    "    keras.callbacks.EarlyStopping(patience=2)\n",
    "]\n",
    "\n",
    "history = model.fit(x=train_ds, validation_data=val_ds, epochs=15, callbacks = callbacks)"
   ]
  },
  {
   "cell_type": "markdown",
   "id": "41a89dea",
   "metadata": {
    "execution": {
     "iopub.execute_input": "2024-12-19T21:16:33.404263Z",
     "iopub.status.busy": "2024-12-19T21:16:33.403835Z",
     "iopub.status.idle": "2024-12-19T21:16:41.038672Z",
     "shell.execute_reply": "2024-12-19T21:16:41.037480Z",
     "shell.execute_reply.started": "2024-12-19T21:16:33.404225Z"
    },
    "papermill": {
     "duration": 1.031313,
     "end_time": "2024-12-25T02:34:15.202691",
     "exception": false,
     "start_time": "2024-12-25T02:34:14.171378",
     "status": "completed"
    },
    "tags": []
   },
   "source": [
    "## Evaluate Model"
   ]
  },
  {
   "cell_type": "code",
   "execution_count": 11,
   "id": "5d003e77",
   "metadata": {
    "execution": {
     "iopub.execute_input": "2024-12-25T02:34:17.155306Z",
     "iopub.status.busy": "2024-12-25T02:34:17.154382Z",
     "iopub.status.idle": "2024-12-25T02:34:17.251129Z",
     "shell.execute_reply": "2024-12-25T02:34:17.249896Z"
    },
    "papermill": {
     "duration": 1.126509,
     "end_time": "2024-12-25T02:34:17.254046",
     "exception": false,
     "start_time": "2024-12-25T02:34:16.127537",
     "status": "completed"
    },
    "tags": []
   },
   "outputs": [],
   "source": [
    "test_ds = test_raw.map(lambda i: (\n",
    "                        format_data(i['features'], i['lags']),\n",
    "                        i['target']\n",
    "                        ))"
   ]
  },
  {
   "cell_type": "code",
   "execution_count": 12,
   "id": "c40bc07c",
   "metadata": {
    "execution": {
     "iopub.execute_input": "2024-12-25T02:34:19.285164Z",
     "iopub.status.busy": "2024-12-25T02:34:19.284459Z",
     "iopub.status.idle": "2024-12-25T02:34:19.440175Z",
     "shell.execute_reply": "2024-12-25T02:34:19.438932Z"
    },
    "papermill": {
     "duration": 1.173048,
     "end_time": "2024-12-25T02:34:19.442865",
     "exception": false,
     "start_time": "2024-12-25T02:34:18.269817",
     "status": "completed"
    },
    "tags": []
   },
   "outputs": [],
   "source": [
    "model = keras.models.load_model('/kaggle/working/fitted.keras', custom_objects={\n",
    "    'r2_loss': r2_loss\n",
    "})"
   ]
  },
  {
   "cell_type": "code",
   "execution_count": 13,
   "id": "c526ff68",
   "metadata": {
    "execution": {
     "iopub.execute_input": "2024-12-25T02:34:21.353414Z",
     "iopub.status.busy": "2024-12-25T02:34:21.352718Z",
     "iopub.status.idle": "2024-12-25T02:34:41.143345Z",
     "shell.execute_reply": "2024-12-25T02:34:41.141827Z"
    },
    "papermill": {
     "duration": 20.790951,
     "end_time": "2024-12-25T02:34:41.145865",
     "exception": false,
     "start_time": "2024-12-25T02:34:20.354914",
     "status": "completed"
    },
    "tags": []
   },
   "outputs": [
    {
     "name": "stdout",
     "output_type": "stream",
     "text": [
      "\u001b[1m1/1\u001b[0m \u001b[32m━━━━━━━━━━━━━━━━━━━━\u001b[0m\u001b[37m\u001b[0m \u001b[1m20s\u001b[0m 20s/step - loss: 0.6585 - mean_absolute_error: 0.5329 - r2_score: 0.0066\n"
     ]
    },
    {
     "data": {
      "text/plain": [
       "[0.6584630012512207, 0.5328649878501892, 0.006585359573364258]"
      ]
     },
     "execution_count": 13,
     "metadata": {},
     "output_type": "execute_result"
    }
   ],
   "source": [
    "model.evaluate(x=test_ds)"
   ]
  },
  {
   "cell_type": "code",
   "execution_count": null,
   "id": "8f566a1a",
   "metadata": {
    "papermill": {
     "duration": 0.955707,
     "end_time": "2024-12-25T02:34:43.112007",
     "exception": false,
     "start_time": "2024-12-25T02:34:42.156300",
     "status": "completed"
    },
    "tags": []
   },
   "outputs": [],
   "source": []
  }
 ],
 "metadata": {
  "kaggle": {
   "accelerator": "none",
   "dataSources": [
    {
     "databundleVersionId": 9871156,
     "sourceId": 84493,
     "sourceType": "competition"
    },
    {
     "sourceId": 214656673,
     "sourceType": "kernelVersion"
    }
   ],
   "dockerImageVersionId": 30805,
   "isGpuEnabled": false,
   "isInternetEnabled": false,
   "language": "python",
   "sourceType": "notebook"
  },
  "kernelspec": {
   "display_name": "Python 3",
   "language": "python",
   "name": "python3"
  },
  "language_info": {
   "codemirror_mode": {
    "name": "ipython",
    "version": 3
   },
   "file_extension": ".py",
   "mimetype": "text/x-python",
   "name": "python",
   "nbconvert_exporter": "python",
   "pygments_lexer": "ipython3",
   "version": "3.10.14"
  },
  "papermill": {
   "default_parameters": {},
   "duration": 3410.946863,
   "end_time": "2024-12-25T02:34:47.333460",
   "environment_variables": {},
   "exception": null,
   "input_path": "__notebook__.ipynb",
   "output_path": "__notebook__.ipynb",
   "parameters": {},
   "start_time": "2024-12-25T01:37:56.386597",
   "version": "2.6.0"
  }
 },
 "nbformat": 4,
 "nbformat_minor": 5
}
