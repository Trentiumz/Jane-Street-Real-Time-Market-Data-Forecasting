{
 "cells": [
  {
   "cell_type": "code",
   "execution_count": 1,
   "id": "583fe184",
   "metadata": {
    "execution": {
     "iopub.execute_input": "2024-12-19T04:32:34.852647Z",
     "iopub.status.busy": "2024-12-19T04:32:34.852097Z",
     "iopub.status.idle": "2024-12-19T04:32:50.849939Z",
     "shell.execute_reply": "2024-12-19T04:32:50.848722Z"
    },
    "papermill": {
     "duration": 16.007192,
     "end_time": "2024-12-19T04:32:50.852687",
     "exception": false,
     "start_time": "2024-12-19T04:32:34.845495",
     "status": "completed"
    },
    "tags": []
   },
   "outputs": [],
   "source": [
    "# This Python 3 environment comes with many helpful analytics libraries installed\n",
    "# It is defined by the kaggle/python Docker image: https://github.com/kaggle/docker-python\n",
    "# For example, here's several helpful packages to load\n",
    "\n",
    "import numpy as np # linear algebra\n",
    "import polars as pl # data processing, CSV file I/O (e.g. pd.read_csv)\n",
    "import pandas as pd\n",
    "import os\n",
    "from pathlib import Path\n",
    "import tensorflow as tf\n",
    "from tensorflow import keras\n",
    "from tensorflow.keras import layers\n",
    "\n",
    "# Input data files are available in the read-only \"../input/\" directory\n",
    "# For example, running this (by clicking run or pressing Shift+Enter) will list all files under the input directory\n",
    "\n",
    "# You can write up to 20GB to the current directory (/kaggle/working/) that gets preserved as output when you create a version using \"Save & Run All\" \n",
    "# You can also write temporary files to /kaggle/temp/, but they won't be saved outside of the current session"
   ]
  },
  {
   "cell_type": "markdown",
   "id": "250060bd",
   "metadata": {
    "papermill": {
     "duration": 0.003828,
     "end_time": "2024-12-19T04:32:50.860903",
     "exception": false,
     "start_time": "2024-12-19T04:32:50.857075",
     "status": "completed"
    },
    "tags": []
   },
   "source": [
    "## Read Input"
   ]
  },
  {
   "cell_type": "code",
   "execution_count": 2,
   "id": "3349e6c1",
   "metadata": {
    "execution": {
     "iopub.execute_input": "2024-12-19T04:32:50.871493Z",
     "iopub.status.busy": "2024-12-19T04:32:50.870815Z",
     "iopub.status.idle": "2024-12-19T04:32:50.878014Z",
     "shell.execute_reply": "2024-12-19T04:32:50.876789Z"
    },
    "papermill": {
     "duration": 0.015416,
     "end_time": "2024-12-19T04:32:50.880299",
     "exception": false,
     "start_time": "2024-12-19T04:32:50.864883",
     "status": "completed"
    },
    "tags": []
   },
   "outputs": [],
   "source": [
    "base_path = Path(\"/kaggle/input/jane-street-real-time-market-data-forecasting/\")\n",
    "train_path = base_path / Path(\"train.parquet\")\n",
    "train_read_paths = [train_path / Path(f\"partition_id={i}/part-0.parquet\") for i in [0, 1, 2, 3, 4, 5, 6, 7]]\n",
    "val_read_paths = [train_path / Path(f\"partition_id={i}/part-0.parquet\") for i in [8]]\n",
    "test_read_paths = [train_path / Path(f\"partition_id={i}/part-0.parquet\") for i in [9]]\n",
    "target = \"responder_6\""
   ]
  },
  {
   "cell_type": "code",
   "execution_count": 3,
   "id": "67b3011d",
   "metadata": {
    "execution": {
     "iopub.execute_input": "2024-12-19T04:32:50.890663Z",
     "iopub.status.busy": "2024-12-19T04:32:50.890253Z",
     "iopub.status.idle": "2024-12-19T04:32:50.897844Z",
     "shell.execute_reply": "2024-12-19T04:32:50.896522Z"
    },
    "papermill": {
     "duration": 0.015223,
     "end_time": "2024-12-19T04:32:50.900015",
     "exception": false,
     "start_time": "2024-12-19T04:32:50.884792",
     "status": "completed"
    },
    "tags": []
   },
   "outputs": [],
   "source": [
    "class Config:\n",
    "    input_format = {\n",
    "        \"date_id\": tf.TensorSpec(shape=(None,), dtype=tf.float32),\n",
    "        \"time_id\": tf.TensorSpec(shape=(None,), dtype=tf.float32),\n",
    "        \"symbol_id\": tf.TensorSpec(shape=(None,), dtype=tf.float32),\n",
    "        \"weight\": tf.TensorSpec(shape=(None,), dtype=tf.float32),\n",
    "        \"features\": tf.TensorSpec(shape=(None, 79), dtype=tf.float32),\n",
    "        \"responders\": tf.TensorSpec(shape=(None, 9), dtype=tf.float32),\n",
    "        \"target\": tf.TensorSpec(shape=(None,), dtype=tf.float32)\n",
    "    }\n",
    "    train_batch_size = 32\n",
    "\n",
    "config = Config()"
   ]
  },
  {
   "cell_type": "code",
   "execution_count": 4,
   "id": "69849d2f",
   "metadata": {
    "execution": {
     "iopub.execute_input": "2024-12-19T04:32:50.909960Z",
     "iopub.status.busy": "2024-12-19T04:32:50.909573Z",
     "iopub.status.idle": "2024-12-19T04:32:51.072275Z",
     "shell.execute_reply": "2024-12-19T04:32:51.071242Z"
    },
    "papermill": {
     "duration": 0.170538,
     "end_time": "2024-12-19T04:32:51.074765",
     "exception": false,
     "start_time": "2024-12-19T04:32:50.904227",
     "status": "completed"
    },
    "tags": []
   },
   "outputs": [],
   "source": [
    "def chunk_features(chunk):\n",
    "    return chunk[[i for i in chunk.columns if i.startswith(\"feature_\")]]\n",
    "\n",
    "def from_files(paths):\n",
    "    def to_ret():\n",
    "        for filepath in paths:\n",
    "            chunk = pl.read_parquet(filepath)\n",
    "            yield {\n",
    "                \"date_id\": chunk[\"date_id\"],\n",
    "                \"time_id\": chunk[\"time_id\"],\n",
    "                \"symbol_id\": chunk[\"symbol_id\"],\n",
    "                \"weight\": chunk[\"weight\"],\n",
    "                \"features\": chunk_features(chunk),\n",
    "                \"responders\": chunk[[i for i in chunk.columns if i.startswith(\"responder_\")]],\n",
    "                \"target\": chunk[target]\n",
    "            }\n",
    "    return to_ret\n",
    "\n",
    "train_raw = tf.data.Dataset.from_generator(\n",
    "    from_files(train_read_paths),\n",
    "    output_signature=config.input_format\n",
    ").prefetch(tf.data.AUTOTUNE).cache()\n",
    "\n",
    "val_raw = tf.data.Dataset.from_generator(\n",
    "    from_files(val_read_paths),\n",
    "    output_signature=config.input_format\n",
    ").cache()\n",
    "\n",
    "test_raw = tf.data.Dataset.from_generator(\n",
    "    from_files(test_read_paths),\n",
    "    output_signature=config.input_format\n",
    ")"
   ]
  },
  {
   "cell_type": "code",
   "execution_count": 5,
   "id": "b54b2734",
   "metadata": {
    "execution": {
     "iopub.execute_input": "2024-12-19T04:32:51.085736Z",
     "iopub.status.busy": "2024-12-19T04:32:51.085338Z",
     "iopub.status.idle": "2024-12-19T04:32:51.093166Z",
     "shell.execute_reply": "2024-12-19T04:32:51.091994Z"
    },
    "papermill": {
     "duration": 0.016466,
     "end_time": "2024-12-19T04:32:51.095285",
     "exception": false,
     "start_time": "2024-12-19T04:32:51.078819",
     "status": "completed"
    },
    "tags": []
   },
   "outputs": [
    {
     "data": {
      "text/plain": [
       "{'date_id': TensorSpec(shape=(None,), dtype=tf.float32, name=None),\n",
       " 'time_id': TensorSpec(shape=(None,), dtype=tf.float32, name=None),\n",
       " 'symbol_id': TensorSpec(shape=(None,), dtype=tf.float32, name=None),\n",
       " 'weight': TensorSpec(shape=(None,), dtype=tf.float32, name=None),\n",
       " 'features': TensorSpec(shape=(None, 79), dtype=tf.float32, name=None),\n",
       " 'responders': TensorSpec(shape=(None, 9), dtype=tf.float32, name=None),\n",
       " 'target': TensorSpec(shape=(None,), dtype=tf.float32, name=None)}"
      ]
     },
     "execution_count": 5,
     "metadata": {},
     "output_type": "execute_result"
    }
   ],
   "source": [
    "train_raw.element_spec"
   ]
  },
  {
   "cell_type": "markdown",
   "id": "95bb71c9",
   "metadata": {
    "papermill": {
     "duration": 0.003869,
     "end_time": "2024-12-19T04:32:51.103314",
     "exception": false,
     "start_time": "2024-12-19T04:32:51.099445",
     "status": "completed"
    },
    "tags": []
   },
   "source": [
    "## Filter Data"
   ]
  },
  {
   "cell_type": "code",
   "execution_count": 6,
   "id": "87c49da4",
   "metadata": {
    "execution": {
     "iopub.execute_input": "2024-12-19T04:32:51.113387Z",
     "iopub.status.busy": "2024-12-19T04:32:51.112974Z",
     "iopub.status.idle": "2024-12-19T04:33:09.481823Z",
     "shell.execute_reply": "2024-12-19T04:33:09.480493Z"
    },
    "papermill": {
     "duration": 18.376788,
     "end_time": "2024-12-19T04:33:09.484283",
     "exception": false,
     "start_time": "2024-12-19T04:32:51.107495",
     "status": "completed"
    },
    "tags": []
   },
   "outputs": [
    {
     "name": "stdout",
     "output_type": "stream",
     "text": [
      "tf.Tensor(\n",
      "[      0.       0.       0.       0.       0. 1000000. 1000000. 1000000.\n",
      "  999154. 1000000. 1000000. 1000000. 1000000. 1000000. 1000000.  971524.\n",
      "  999944.  995200.  999946.  999946. 1000000.       0. 1000000. 1000000.\n",
      " 1000000. 1000000.       0.       0. 1000000. 1000000. 1000000.       0.\n",
      "  988719.  988719. 1000000. 1000000. 1000000. 1000000. 1000000.  826734.\n",
      "  973876.  943841.  826734.  973876.  943841.  888280.  888280.  999913.\n",
      " 1000000. 1000000.  848700.  998823.  966888.  848700.  998823.  966888.\n",
      "  999946.  999946.  988724. 1000000. 1000000. 1000000.  894932.  906782.\n",
      "  904980.  888280.  888280. 1000000. 1000000. 1000000. 1000000. 1000000.\n",
      " 1000000.  988724.  988724.  999984.  999984. 1000000. 1000000.], shape=(79,), dtype=float32)\n"
     ]
    }
   ],
   "source": [
    "def get_mean(dataset):\n",
    "    batched_ds = dataset.batch(10000)\n",
    "    def step(acc, value):\n",
    "        num_non_nan = tf.reduce_sum(tf.cast(tf.math.is_nan(value['features']) == False, tf.float32), axis=0)\n",
    "        sum_non_nan = tf.reduce_sum(tf.where(tf.math.is_nan(value['features']), tf.zeros_like(value['features']), value['features']), axis=0)\n",
    "        return (acc[0] + sum_non_nan, acc[1] + num_non_nan)\n",
    "    \n",
    "    sum_, rows = batched_ds.reduce((tf.zeros(shape=(79,)), tf.constant(0.0)), step)\n",
    "    print(rows)\n",
    "    return sum_ / tf.maximum(rows, tf.ones_like(rows))\n",
    "\n",
    "means = get_mean(train_raw.unbatch().shuffle(10000).take(1000000))"
   ]
  },
  {
   "cell_type": "code",
   "execution_count": 7,
   "id": "660c8dd0",
   "metadata": {
    "execution": {
     "iopub.execute_input": "2024-12-19T04:33:09.494543Z",
     "iopub.status.busy": "2024-12-19T04:33:09.494127Z",
     "iopub.status.idle": "2024-12-19T04:33:09.581126Z",
     "shell.execute_reply": "2024-12-19T04:33:09.580017Z"
    },
    "papermill": {
     "duration": 0.09514,
     "end_time": "2024-12-19T04:33:09.583686",
     "exception": false,
     "start_time": "2024-12-19T04:33:09.488546",
     "status": "completed"
    },
    "tags": []
   },
   "outputs": [],
   "source": [
    "def clean_data(features):\n",
    "    return tf.where(\n",
    "        tf.logical_or(tf.math.is_nan(features), tf.math.is_inf(features)), \n",
    "        means, \n",
    "        features)\n",
    "\n",
    "train_ds = train_raw.map(lambda i: (\n",
    "                        clean_data(i['features']),\n",
    "                        i['target']\n",
    "                        ))\n",
    "\n",
    "\n",
    "train_ds = train_ds.unbatch().shuffle(10000).batch(config.train_batch_size)"
   ]
  },
  {
   "cell_type": "code",
   "execution_count": 8,
   "id": "4b318fa9",
   "metadata": {
    "execution": {
     "iopub.execute_input": "2024-12-19T04:33:09.594888Z",
     "iopub.status.busy": "2024-12-19T04:33:09.593792Z",
     "iopub.status.idle": "2024-12-19T04:33:09.601733Z",
     "shell.execute_reply": "2024-12-19T04:33:09.600537Z"
    },
    "papermill": {
     "duration": 0.016407,
     "end_time": "2024-12-19T04:33:09.604582",
     "exception": false,
     "start_time": "2024-12-19T04:33:09.588175",
     "status": "completed"
    },
    "tags": []
   },
   "outputs": [
    {
     "data": {
      "text/plain": [
       "<_BatchDataset element_spec=(TensorSpec(shape=(None, 79), dtype=tf.float32, name=None), TensorSpec(shape=(None,), dtype=tf.float32, name=None))>"
      ]
     },
     "execution_count": 8,
     "metadata": {},
     "output_type": "execute_result"
    }
   ],
   "source": [
    "train_ds"
   ]
  },
  {
   "cell_type": "markdown",
   "id": "548e851a",
   "metadata": {
    "execution": {
     "iopub.execute_input": "2024-12-18T04:06:27.478694Z",
     "iopub.status.busy": "2024-12-18T04:06:27.477500Z",
     "iopub.status.idle": "2024-12-18T04:06:27.485848Z",
     "shell.execute_reply": "2024-12-18T04:06:27.484622Z",
     "shell.execute_reply.started": "2024-12-18T04:06:27.478647Z"
    },
    "papermill": {
     "duration": 0.003921,
     "end_time": "2024-12-19T04:33:09.612842",
     "exception": false,
     "start_time": "2024-12-19T04:33:09.608921",
     "status": "completed"
    },
    "tags": []
   },
   "source": [
    "## Train a Model"
   ]
  },
  {
   "cell_type": "code",
   "execution_count": 9,
   "id": "090048c4",
   "metadata": {
    "execution": {
     "iopub.execute_input": "2024-12-19T04:33:09.624338Z",
     "iopub.status.busy": "2024-12-19T04:33:09.623288Z",
     "iopub.status.idle": "2024-12-19T04:33:09.657343Z",
     "shell.execute_reply": "2024-12-19T04:33:09.656144Z"
    },
    "papermill": {
     "duration": 0.042712,
     "end_time": "2024-12-19T04:33:09.659833",
     "exception": false,
     "start_time": "2024-12-19T04:33:09.617121",
     "status": "completed"
    },
    "tags": []
   },
   "outputs": [],
   "source": [
    "input = keras.Input(shape=(79,))\n",
    "x = layers.Dense(units=1)(input)\n",
    "model = keras.Model(inputs=input, outputs=x)"
   ]
  },
  {
   "cell_type": "code",
   "execution_count": 10,
   "id": "c5106c71",
   "metadata": {
    "execution": {
     "iopub.execute_input": "2024-12-19T04:33:09.670515Z",
     "iopub.status.busy": "2024-12-19T04:33:09.670121Z",
     "iopub.status.idle": "2024-12-19T04:33:09.687720Z",
     "shell.execute_reply": "2024-12-19T04:33:09.686784Z"
    },
    "papermill": {
     "duration": 0.025662,
     "end_time": "2024-12-19T04:33:09.690138",
     "exception": false,
     "start_time": "2024-12-19T04:33:09.664476",
     "status": "completed"
    },
    "tags": []
   },
   "outputs": [],
   "source": [
    "model.compile(optimizer=\"rmsprop\", loss=keras.losses.MeanSquaredError(), metrics=[keras.metrics.MeanAbsoluteError()])"
   ]
  },
  {
   "cell_type": "code",
   "execution_count": 11,
   "id": "1c45bc34",
   "metadata": {
    "execution": {
     "iopub.execute_input": "2024-12-19T04:33:09.700544Z",
     "iopub.status.busy": "2024-12-19T04:33:09.700141Z",
     "iopub.status.idle": "2024-12-19T04:54:54.025654Z",
     "shell.execute_reply": "2024-12-19T04:54:54.023176Z"
    },
    "papermill": {
     "duration": 1305.380081,
     "end_time": "2024-12-19T04:54:55.074748",
     "exception": false,
     "start_time": "2024-12-19T04:33:09.694667",
     "status": "completed"
    },
    "tags": []
   },
   "outputs": [
    {
     "name": "stdout",
     "output_type": "stream",
     "text": [
      "\u001b[1m1084774/1084774\u001b[0m \u001b[32m━━━━━━━━━━━━━━━━━━━━\u001b[0m\u001b[37m\u001b[0m \u001b[1m1304s\u001b[0m 1ms/step - loss: 0.9334 - mean_absolute_error: 0.6250\n"
     ]
    },
    {
     "name": "stderr",
     "output_type": "stream",
     "text": [
      "/opt/conda/lib/python3.10/contextlib.py:153: UserWarning: Your input ran out of data; interrupting training. Make sure that your dataset or generator can generate at least `steps_per_epoch * epochs` batches. You may need to use the `.repeat()` function when building your dataset.\n",
      "  self.gen.throw(typ, value, traceback)\n"
     ]
    }
   ],
   "source": [
    "history = model.fit(x=train_ds, epochs=1)"
   ]
  },
  {
   "cell_type": "markdown",
   "id": "b6addbab",
   "metadata": {
    "papermill": {
     "duration": 1.474698,
     "end_time": "2024-12-19T04:54:58.131793",
     "exception": false,
     "start_time": "2024-12-19T04:54:56.657095",
     "status": "completed"
    },
    "tags": []
   },
   "source": [
    "## Save model & Data"
   ]
  },
  {
   "cell_type": "code",
   "execution_count": 12,
   "id": "fdbed1fb",
   "metadata": {
    "execution": {
     "iopub.execute_input": "2024-12-19T04:55:01.157951Z",
     "iopub.status.busy": "2024-12-19T04:55:01.157475Z",
     "iopub.status.idle": "2024-12-19T04:55:01.191521Z",
     "shell.execute_reply": "2024-12-19T04:55:01.190259Z"
    },
    "papermill": {
     "duration": 1.482241,
     "end_time": "2024-12-19T04:55:01.194077",
     "exception": false,
     "start_time": "2024-12-19T04:54:59.711836",
     "status": "completed"
    },
    "tags": []
   },
   "outputs": [],
   "source": [
    "pl.DataFrame({'means': np.asarray(means)}).write_csv('means.csv')"
   ]
  },
  {
   "cell_type": "code",
   "execution_count": 13,
   "id": "a9b8641a",
   "metadata": {
    "execution": {
     "iopub.execute_input": "2024-12-19T04:55:04.271876Z",
     "iopub.status.busy": "2024-12-19T04:55:04.271416Z",
     "iopub.status.idle": "2024-12-19T04:55:04.364049Z",
     "shell.execute_reply": "2024-12-19T04:55:04.362882Z"
    },
    "papermill": {
     "duration": 1.612633,
     "end_time": "2024-12-19T04:55:04.366938",
     "exception": false,
     "start_time": "2024-12-19T04:55:02.754305",
     "status": "completed"
    },
    "tags": []
   },
   "outputs": [],
   "source": [
    "model.save('fitted.keras')"
   ]
  },
  {
   "cell_type": "code",
   "execution_count": null,
   "id": "a9770cf3",
   "metadata": {
    "papermill": {
     "duration": 1.564664,
     "end_time": "2024-12-19T04:55:07.354030",
     "exception": false,
     "start_time": "2024-12-19T04:55:05.789366",
     "status": "completed"
    },
    "tags": []
   },
   "outputs": [],
   "source": []
  }
 ],
 "metadata": {
  "kaggle": {
   "accelerator": "none",
   "dataSources": [
    {
     "databundleVersionId": 9871156,
     "sourceId": 84493,
     "sourceType": "competition"
    }
   ],
   "dockerImageVersionId": 30805,
   "isGpuEnabled": false,
   "isInternetEnabled": false,
   "language": "python",
   "sourceType": "notebook"
  },
  "kernelspec": {
   "display_name": "Python 3",
   "language": "python",
   "name": "python3"
  },
  "language_info": {
   "codemirror_mode": {
    "name": "ipython",
    "version": 3
   },
   "file_extension": ".py",
   "mimetype": "text/x-python",
   "name": "python",
   "nbconvert_exporter": "python",
   "pygments_lexer": "ipython3",
   "version": "3.10.14"
  },
  "papermill": {
   "default_parameters": {},
   "duration": 1360.190077,
   "end_time": "2024-12-19T04:55:11.721286",
   "environment_variables": {},
   "exception": null,
   "input_path": "__notebook__.ipynb",
   "output_path": "__notebook__.ipynb",
   "parameters": {},
   "start_time": "2024-12-19T04:32:31.531209",
   "version": "2.6.0"
  }
 },
 "nbformat": 4,
 "nbformat_minor": 5
}
