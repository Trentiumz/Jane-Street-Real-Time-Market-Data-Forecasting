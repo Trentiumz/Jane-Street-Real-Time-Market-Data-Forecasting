{
 "cells": [
  {
   "cell_type": "code",
   "execution_count": 1,
   "id": "9951196c",
   "metadata": {
    "execution": {
     "iopub.execute_input": "2024-12-26T00:28:16.966348Z",
     "iopub.status.busy": "2024-12-26T00:28:16.965710Z",
     "iopub.status.idle": "2024-12-26T00:28:29.301770Z",
     "shell.execute_reply": "2024-12-26T00:28:29.300851Z"
    },
    "papermill": {
     "duration": 12.343321,
     "end_time": "2024-12-26T00:28:29.303997",
     "exception": false,
     "start_time": "2024-12-26T00:28:16.960676",
     "status": "completed"
    },
    "tags": []
   },
   "outputs": [],
   "source": [
    "# This Python 3 environment comes with many helpful analytics libraries installed\n",
    "# It is defined by the kaggle/python Docker image: https://github.com/kaggle/docker-python\n",
    "# For example, here's several helpful packages to load\n",
    "\n",
    "import numpy as np # linear algebra\n",
    "import polars as pl # data processing, CSV file I/O (e.g. pd.read_csv)\n",
    "import pandas as pd\n",
    "import os\n",
    "from pathlib import Path\n",
    "import tensorflow as tf\n",
    "from tensorflow import keras\n",
    "from tensorflow.keras import layers\n",
    "import gc\n",
    "import re\n",
    "import random\n",
    "\n",
    "# Input data files are available in the read-only \"../input/\" directory\n",
    "# For example, running this (by clicking run or pressing Shift+Enter) will list all files under the input directory\n",
    "\n",
    "# You can write up to 20GB to the current directory (/kaggle/working/) that gets preserved as output when you create a version using \"Save & Run All\" \n",
    "# You can also write temporary files to /kaggle/temp/, but they won't be saved outside of the current session"
   ]
  },
  {
   "cell_type": "code",
   "execution_count": 2,
   "id": "82337972",
   "metadata": {
    "execution": {
     "iopub.execute_input": "2024-12-26T00:28:29.312072Z",
     "iopub.status.busy": "2024-12-26T00:28:29.311550Z",
     "iopub.status.idle": "2024-12-26T00:28:29.315990Z",
     "shell.execute_reply": "2024-12-26T00:28:29.315226Z"
    },
    "papermill": {
     "duration": 0.009981,
     "end_time": "2024-12-26T00:28:29.317545",
     "exception": false,
     "start_time": "2024-12-26T00:28:29.307564",
     "status": "completed"
    },
    "tags": []
   },
   "outputs": [],
   "source": [
    "np.random.seed(15234)\n",
    "random.seed(15234)\n",
    "os.environ['PYTHONHASHSEED'] = '42'\n",
    "tf.random.set_seed(15234)"
   ]
  },
  {
   "cell_type": "markdown",
   "id": "a53e6f14",
   "metadata": {
    "papermill": {
     "duration": 0.002816,
     "end_time": "2024-12-26T00:28:29.324674",
     "exception": false,
     "start_time": "2024-12-26T00:28:29.321858",
     "status": "completed"
    },
    "tags": []
   },
   "source": [
    "## Read Input"
   ]
  },
  {
   "cell_type": "code",
   "execution_count": 3,
   "id": "2df13ee1",
   "metadata": {
    "execution": {
     "iopub.execute_input": "2024-12-26T00:28:29.331939Z",
     "iopub.status.busy": "2024-12-26T00:28:29.331656Z",
     "iopub.status.idle": "2024-12-26T00:28:29.337006Z",
     "shell.execute_reply": "2024-12-26T00:28:29.336267Z"
    },
    "papermill": {
     "duration": 0.010604,
     "end_time": "2024-12-26T00:28:29.338488",
     "exception": false,
     "start_time": "2024-12-26T00:28:29.327884",
     "status": "completed"
    },
    "tags": []
   },
   "outputs": [],
   "source": [
    "base_path = Path(\"/kaggle/input/jane-street-real-time-market-data-forecasting/\")\n",
    "preprocess_path = Path('/kaggle/input/js-preprocessing/')\n",
    "train_path = preprocess_path / Path(\"train/\")\n",
    "train_read_paths = [train_path / Path(f\"partition_id={i}/part-0.parquet\") for i in [0, 1, 2, 3, 4, 5, 6, 7]]\n",
    "val_read_paths = [train_path / Path(f\"partition_id={i}/part-0.parquet\") for i in [8]]\n",
    "test_read_paths = [train_path / Path(f\"partition_id={i}/part-0.parquet\") for i in [9]]\n",
    "\n",
    "data_base_path = Path(\"/kaggle/input/js-preprocessing/\")\n",
    "feature_data_path = data_base_path / Path(\"feature_data.csv\")\n",
    "\n",
    "target = \"responder_6\""
   ]
  },
  {
   "cell_type": "code",
   "execution_count": 4,
   "id": "5aa607ae",
   "metadata": {
    "execution": {
     "iopub.execute_input": "2024-12-26T00:28:29.346152Z",
     "iopub.status.busy": "2024-12-26T00:28:29.345435Z",
     "iopub.status.idle": "2024-12-26T00:28:29.350829Z",
     "shell.execute_reply": "2024-12-26T00:28:29.350193Z"
    },
    "papermill": {
     "duration": 0.010705,
     "end_time": "2024-12-26T00:28:29.352287",
     "exception": false,
     "start_time": "2024-12-26T00:28:29.341582",
     "status": "completed"
    },
    "tags": []
   },
   "outputs": [],
   "source": [
    "class Config:\n",
    "    input_format = {\n",
    "        \"date_id\": tf.TensorSpec(shape=(None,), dtype=tf.float32),\n",
    "        \"time_id\": tf.TensorSpec(shape=(None,), dtype=tf.float32),\n",
    "        \"symbol_id\": tf.TensorSpec(shape=(None,), dtype=tf.float32),\n",
    "        \"weight\": tf.TensorSpec(shape=(None,), dtype=tf.float32),\n",
    "        \"features\": tf.TensorSpec(shape=(None, 79), dtype=tf.float32),\n",
    "        \"responders\": tf.TensorSpec(shape=(None, 9), dtype=tf.float32),\n",
    "        \"lags\": tf.TensorSpec(shape=(None, 9), dtype=tf.float32),\n",
    "        \"target\": tf.TensorSpec(shape=(None,), dtype=tf.float32)\n",
    "    }\n",
    "    train_batch_size = 32768\n",
    "    val_batch_size = 512\n",
    "\n",
    "config = Config()"
   ]
  },
  {
   "cell_type": "code",
   "execution_count": 5,
   "id": "584b3bbd",
   "metadata": {
    "execution": {
     "iopub.execute_input": "2024-12-26T00:28:29.359397Z",
     "iopub.status.busy": "2024-12-26T00:28:29.359152Z",
     "iopub.status.idle": "2024-12-26T00:28:30.153268Z",
     "shell.execute_reply": "2024-12-26T00:28:30.152596Z"
    },
    "papermill": {
     "duration": 0.799852,
     "end_time": "2024-12-26T00:28:30.155257",
     "exception": false,
     "start_time": "2024-12-26T00:28:29.355405",
     "status": "completed"
    },
    "tags": []
   },
   "outputs": [],
   "source": [
    "feature_format = 'feature_\\d\\d'\n",
    "responder_format = 'responder_\\d'\n",
    "lag_format = 'responder_\\d_lag'\n",
    "\n",
    "def chunk_features(chunk):\n",
    "    return chunk[[i for i in chunk.columns if re.fullmatch(feature_format, i)]]\n",
    "def chunk_lags(chunk):\n",
    "    return chunk[[i for i in chunk.columns if re.fullmatch(lag_format, i)]]\n",
    "\n",
    "def from_files(paths):\n",
    "    def to_ret():\n",
    "        for filepath in paths:\n",
    "            chunk = pl.read_parquet(filepath)\n",
    "            yield {\n",
    "                \"date_id\": chunk[\"date_id\"],\n",
    "                \"time_id\": chunk[\"time_id\"],\n",
    "                \"symbol_id\": chunk[\"symbol_id\"],\n",
    "                \"weight\": chunk[\"weight\"],\n",
    "                \"features\": chunk_features(chunk),\n",
    "                \"responders\": chunk[[i for i in chunk.columns if re.fullmatch(responder_format, i)]],\n",
    "                \"lags\": chunk_lags(chunk),\n",
    "                \"target\": chunk[target]\n",
    "            }\n",
    "    return to_ret\n",
    "\n",
    "train_raw = tf.data.Dataset.from_generator(\n",
    "    from_files(train_read_paths),\n",
    "    output_signature=config.input_format\n",
    ").prefetch(tf.data.AUTOTUNE).cache()\n",
    "\n",
    "val_raw = tf.data.Dataset.from_generator(\n",
    "    from_files(val_read_paths),\n",
    "    output_signature=config.input_format\n",
    ").cache()\n",
    "\n",
    "test_raw = tf.data.Dataset.from_generator(\n",
    "    from_files(test_read_paths),\n",
    "    output_signature=config.input_format\n",
    ")"
   ]
  },
  {
   "cell_type": "code",
   "execution_count": 6,
   "id": "9212a661",
   "metadata": {
    "execution": {
     "iopub.execute_input": "2024-12-26T00:28:30.163487Z",
     "iopub.status.busy": "2024-12-26T00:28:30.162840Z",
     "iopub.status.idle": "2024-12-26T00:28:30.168752Z",
     "shell.execute_reply": "2024-12-26T00:28:30.167989Z"
    },
    "papermill": {
     "duration": 0.01181,
     "end_time": "2024-12-26T00:28:30.170560",
     "exception": false,
     "start_time": "2024-12-26T00:28:30.158750",
     "status": "completed"
    },
    "tags": []
   },
   "outputs": [
    {
     "data": {
      "text/plain": [
       "{'date_id': TensorSpec(shape=(None,), dtype=tf.float32, name=None),\n",
       " 'time_id': TensorSpec(shape=(None,), dtype=tf.float32, name=None),\n",
       " 'symbol_id': TensorSpec(shape=(None,), dtype=tf.float32, name=None),\n",
       " 'weight': TensorSpec(shape=(None,), dtype=tf.float32, name=None),\n",
       " 'features': TensorSpec(shape=(None, 79), dtype=tf.float32, name=None),\n",
       " 'responders': TensorSpec(shape=(None, 9), dtype=tf.float32, name=None),\n",
       " 'lags': TensorSpec(shape=(None, 9), dtype=tf.float32, name=None),\n",
       " 'target': TensorSpec(shape=(None,), dtype=tf.float32, name=None)}"
      ]
     },
     "execution_count": 6,
     "metadata": {},
     "output_type": "execute_result"
    }
   ],
   "source": [
    "train_raw.element_spec"
   ]
  },
  {
   "cell_type": "markdown",
   "id": "f54d966b",
   "metadata": {
    "papermill": {
     "duration": 0.003025,
     "end_time": "2024-12-26T00:28:30.177070",
     "exception": false,
     "start_time": "2024-12-26T00:28:30.174045",
     "status": "completed"
    },
    "tags": []
   },
   "source": [
    "## Filter, Clean, Normalize Data"
   ]
  },
  {
   "cell_type": "code",
   "execution_count": 7,
   "id": "0502f6ae",
   "metadata": {
    "execution": {
     "iopub.execute_input": "2024-12-26T00:28:30.184333Z",
     "iopub.status.busy": "2024-12-26T00:28:30.184095Z",
     "iopub.status.idle": "2024-12-26T00:28:30.256431Z",
     "shell.execute_reply": "2024-12-26T00:28:30.255515Z"
    },
    "papermill": {
     "duration": 0.078197,
     "end_time": "2024-12-26T00:28:30.258376",
     "exception": false,
     "start_time": "2024-12-26T00:28:30.180179",
     "status": "completed"
    },
    "tags": []
   },
   "outputs": [],
   "source": [
    "feature_data_df = pl.read_csv(feature_data_path)\n",
    "means = np.asarray(feature_data_df['mean']).astype('float32')\n",
    "stds = np.asarray(feature_data_df['std']).astype('float32')"
   ]
  },
  {
   "cell_type": "code",
   "execution_count": 8,
   "id": "de806786",
   "metadata": {
    "execution": {
     "iopub.execute_input": "2024-12-26T00:28:30.266280Z",
     "iopub.status.busy": "2024-12-26T00:28:30.266022Z",
     "iopub.status.idle": "2024-12-26T00:28:31.864559Z",
     "shell.execute_reply": "2024-12-26T00:28:31.863607Z"
    },
    "papermill": {
     "duration": 1.604718,
     "end_time": "2024-12-26T00:28:31.866581",
     "exception": false,
     "start_time": "2024-12-26T00:28:30.261863",
     "status": "completed"
    },
    "tags": []
   },
   "outputs": [],
   "source": [
    "def clean_features(features):\n",
    "    return tf.where(\n",
    "        tf.logical_or(tf.math.is_nan(features), tf.math.is_inf(features)), \n",
    "        means, \n",
    "        features)\n",
    "\n",
    "def normalize_features(features):\n",
    "    return (features - means) / tf.math.maximum(1.0, stds)\n",
    "\n",
    "def clean_lags(lags):\n",
    "    return tf.where(\n",
    "        tf.logical_or(tf.math.is_nan(lags), tf.math.is_inf(lags)), \n",
    "        0.0, \n",
    "        lags)\n",
    "\n",
    "def format_data(features, lags):\n",
    "    return {\n",
    "        'feature': normalize_features(clean_features(features)),\n",
    "        'lags': clean_lags(lags)\n",
    "    }\n",
    "\n",
    "train_ds = train_raw.map(lambda i: (\n",
    "                        format_data(i['features'], i['lags']),\n",
    "                        i['target']\n",
    "                        )).unbatch().shuffle(10000).batch(config.train_batch_size)\n",
    "val_ds = val_raw.map(lambda i: (\n",
    "    format_data(i['features'], i['lags']),\n",
    "    i['target']\n",
    ")).unbatch().batch(config.val_batch_size)"
   ]
  },
  {
   "cell_type": "markdown",
   "id": "75937d9e",
   "metadata": {
    "execution": {
     "iopub.execute_input": "2024-12-18T04:06:27.478694Z",
     "iopub.status.busy": "2024-12-18T04:06:27.477500Z",
     "iopub.status.idle": "2024-12-18T04:06:27.485848Z",
     "shell.execute_reply": "2024-12-18T04:06:27.484622Z",
     "shell.execute_reply.started": "2024-12-18T04:06:27.478647Z"
    },
    "papermill": {
     "duration": 0.003071,
     "end_time": "2024-12-26T00:28:31.873162",
     "exception": false,
     "start_time": "2024-12-26T00:28:31.870091",
     "status": "completed"
    },
    "tags": []
   },
   "source": [
    "## Train a Model"
   ]
  },
  {
   "cell_type": "code",
   "execution_count": 9,
   "id": "6569f68f",
   "metadata": {
    "execution": {
     "iopub.execute_input": "2024-12-26T00:28:31.880592Z",
     "iopub.status.busy": "2024-12-26T00:28:31.880303Z",
     "iopub.status.idle": "2024-12-26T00:28:31.970440Z",
     "shell.execute_reply": "2024-12-26T00:28:31.969759Z"
    },
    "papermill": {
     "duration": 0.096183,
     "end_time": "2024-12-26T00:28:31.972437",
     "exception": false,
     "start_time": "2024-12-26T00:28:31.876254",
     "status": "completed"
    },
    "tags": []
   },
   "outputs": [],
   "source": [
    "feat_layer = keras.Input(shape=(79,), name='feature')\n",
    "lag_layer = keras.Input(shape=(9,), name='lags')\n",
    "inp = keras.layers.Concatenate()([feat_layer, lag_layer])\n",
    "x = layers.Dropout(rate=0.2)(inp)\n",
    "x = layers.Dense(units=128, activation=\"silu\", kernel_regularizer=\"l1l2\")(x)\n",
    "x = layers.Dropout(rate=0.1)(x)\n",
    "x = layers.Dense(units=64, activation=\"silu\", kernel_regularizer=\"l1l2\")(x)\n",
    "x = layers.Dropout(rate=0.2)(x)\n",
    "x = layers.Dense(units=32, activation=\"silu\", kernel_regularizer=\"l1l2\")(x)\n",
    "x = layers.Dense(units=16, activation=\"silu\")(x)\n",
    "x = layers.Dense(units=4, activation=\"silu\")(x)\n",
    "x = layers.Dense(units=1)(x)\n",
    "model = keras.Model(inputs=[feat_layer, lag_layer], outputs=x)"
   ]
  },
  {
   "cell_type": "code",
   "execution_count": 10,
   "id": "49f6a75a",
   "metadata": {
    "execution": {
     "iopub.execute_input": "2024-12-26T00:28:31.980267Z",
     "iopub.status.busy": "2024-12-26T00:28:31.979978Z",
     "iopub.status.idle": "2024-12-26T00:28:31.994680Z",
     "shell.execute_reply": "2024-12-26T00:28:31.994104Z"
    },
    "papermill": {
     "duration": 0.020306,
     "end_time": "2024-12-26T00:28:31.996239",
     "exception": false,
     "start_time": "2024-12-26T00:28:31.975933",
     "status": "completed"
    },
    "tags": []
   },
   "outputs": [],
   "source": [
    "def r2_loss(y_true, y_pred):\n",
    "    return tf.math.reduce_sum((y_true - y_pred) ** 2) / tf.math.reduce_sum(y_true ** 2)\n",
    "\n",
    "model.compile(optimizer=\"rmsprop\", loss=\"mse\", metrics=[keras.metrics.MeanAbsoluteError(), keras.metrics.R2Score()])"
   ]
  },
  {
   "cell_type": "code",
   "execution_count": 11,
   "id": "840a64ab",
   "metadata": {
    "execution": {
     "iopub.execute_input": "2024-12-26T00:28:32.007665Z",
     "iopub.status.busy": "2024-12-26T00:28:32.007027Z",
     "iopub.status.idle": "2024-12-26T01:20:56.943602Z",
     "shell.execute_reply": "2024-12-26T01:20:56.942790Z"
    },
    "papermill": {
     "duration": 3144.945177,
     "end_time": "2024-12-26T01:20:56.945369",
     "exception": false,
     "start_time": "2024-12-26T00:28:32.000192",
     "status": "completed"
    },
    "tags": []
   },
   "outputs": [
    {
     "name": "stdout",
     "output_type": "stream",
     "text": [
      "Epoch 1/1000\n"
     ]
    },
    {
     "name": "stderr",
     "output_type": "stream",
     "text": [
      "WARNING: All log messages before absl::InitializeLog() is called are written to STDERR\n",
      "I0000 00:00:1735172918.824839      66 service.cc:145] XLA service 0x79eae0008760 initialized for platform CUDA (this does not guarantee that XLA will be used). Devices:\n",
      "I0000 00:00:1735172918.824917      66 service.cc:153]   StreamExecutor device (0): Tesla P100-PCIE-16GB, Compute Capability 6.0\n"
     ]
    },
    {
     "name": "stdout",
     "output_type": "stream",
     "text": [
      "      1/Unknown \u001b[1m14s\u001b[0m 14s/step - loss: 1.2133 - mean_absolute_error: 0.6799 - r2_score: -0.8946"
     ]
    },
    {
     "name": "stderr",
     "output_type": "stream",
     "text": [
      "I0000 00:00:1735172925.630767      66 device_compiler.h:188] Compiled cluster using XLA!  This line is logged at most once for the lifetime of the process.\n"
     ]
    },
    {
     "name": "stdout",
     "output_type": "stream",
     "text": [
      "   1060/Unknown \u001b[1m172s\u001b[0m 149ms/step - loss: 0.8451 - mean_absolute_error: 0.5997 - r2_score: -0.0031"
     ]
    },
    {
     "name": "stderr",
     "output_type": "stream",
     "text": [
      "/opt/conda/lib/python3.10/contextlib.py:153: UserWarning: Your input ran out of data; interrupting training. Make sure that your dataset or generator can generate at least `steps_per_epoch * epochs` batches. You may need to use the `.repeat()` function when building your dataset.\n",
      "  self.gen.throw(typ, value, traceback)\n"
     ]
    },
    {
     "name": "stdout",
     "output_type": "stream",
     "text": [
      "\u001b[1m1060/1060\u001b[0m \u001b[32m━━━━━━━━━━━━━━━━━━━━\u001b[0m\u001b[37m\u001b[0m \u001b[1m203s\u001b[0m 179ms/step - loss: 0.8451 - mean_absolute_error: 0.5997 - r2_score: -0.0031 - val_loss: 0.7436 - val_mean_absolute_error: 0.5554 - val_r2_score: 0.0117 - learning_rate: 0.0010\n",
      "Epoch 2/1000\n",
      "\u001b[1m1060/1060\u001b[0m \u001b[32m━━━━━━━━━━━━━━━━━━━━\u001b[0m\u001b[37m\u001b[0m \u001b[1m146s\u001b[0m 134ms/step - loss: 0.8347 - mean_absolute_error: 0.5961 - r2_score: 0.0101 - val_loss: 0.7426 - val_mean_absolute_error: 0.5552 - val_r2_score: 0.0129 - learning_rate: 0.0010\n",
      "Epoch 3/1000\n",
      "\u001b[1m1060/1060\u001b[0m \u001b[32m━━━━━━━━━━━━━━━━━━━━\u001b[0m\u001b[37m\u001b[0m \u001b[1m155s\u001b[0m 143ms/step - loss: 0.8333 - mean_absolute_error: 0.5957 - r2_score: 0.0118 - val_loss: 0.7423 - val_mean_absolute_error: 0.5551 - val_r2_score: 0.0133 - learning_rate: 0.0010\n",
      "Epoch 4/1000\n",
      "\u001b[1m1060/1060\u001b[0m \u001b[32m━━━━━━━━━━━━━━━━━━━━\u001b[0m\u001b[37m\u001b[0m \u001b[1m154s\u001b[0m 142ms/step - loss: 0.8329 - mean_absolute_error: 0.5956 - r2_score: 0.0123 - val_loss: 0.7422 - val_mean_absolute_error: 0.5550 - val_r2_score: 0.0135 - learning_rate: 0.0010\n",
      "Epoch 5/1000\n",
      "\u001b[1m1060/1060\u001b[0m \u001b[32m━━━━━━━━━━━━━━━━━━━━\u001b[0m\u001b[37m\u001b[0m \u001b[1m156s\u001b[0m 144ms/step - loss: 0.8323 - mean_absolute_error: 0.5955 - r2_score: 0.0130 - val_loss: 0.7418 - val_mean_absolute_error: 0.5549 - val_r2_score: 0.0141 - learning_rate: 0.0010\n",
      "Epoch 6/1000\n",
      "\u001b[1m1060/1060\u001b[0m \u001b[32m━━━━━━━━━━━━━━━━━━━━\u001b[0m\u001b[37m\u001b[0m \u001b[1m163s\u001b[0m 151ms/step - loss: 0.8320 - mean_absolute_error: 0.5954 - r2_score: 0.0134 - val_loss: 0.7419 - val_mean_absolute_error: 0.5549 - val_r2_score: 0.0139 - learning_rate: 0.0010\n",
      "Epoch 7/1000\n",
      "\u001b[1m1060/1060\u001b[0m \u001b[32m━━━━━━━━━━━━━━━━━━━━\u001b[0m\u001b[37m\u001b[0m \u001b[1m162s\u001b[0m 150ms/step - loss: 0.8317 - mean_absolute_error: 0.5953 - r2_score: 0.0137 - val_loss: 0.7417 - val_mean_absolute_error: 0.5547 - val_r2_score: 0.0141 - learning_rate: 0.0010\n",
      "Epoch 8/1000\n",
      "\u001b[1m1060/1060\u001b[0m \u001b[32m━━━━━━━━━━━━━━━━━━━━\u001b[0m\u001b[37m\u001b[0m \u001b[1m158s\u001b[0m 146ms/step - loss: 0.8315 - mean_absolute_error: 0.5952 - r2_score: 0.0140 - val_loss: 0.7417 - val_mean_absolute_error: 0.5548 - val_r2_score: 0.0141 - learning_rate: 0.0010\n",
      "Epoch 9/1000\n",
      "\u001b[1m1060/1060\u001b[0m \u001b[32m━━━━━━━━━━━━━━━━━━━━\u001b[0m\u001b[37m\u001b[0m \u001b[1m161s\u001b[0m 148ms/step - loss: 0.8316 - mean_absolute_error: 0.5953 - r2_score: 0.0138 - val_loss: 0.7417 - val_mean_absolute_error: 0.5548 - val_r2_score: 0.0142 - learning_rate: 5.0000e-04\n",
      "Epoch 10/1000\n",
      "\u001b[1m1060/1060\u001b[0m \u001b[32m━━━━━━━━━━━━━━━━━━━━\u001b[0m\u001b[37m\u001b[0m \u001b[1m160s\u001b[0m 148ms/step - loss: 0.8314 - mean_absolute_error: 0.5952 - r2_score: 0.0141 - val_loss: 0.7416 - val_mean_absolute_error: 0.5548 - val_r2_score: 0.0143 - learning_rate: 5.0000e-04\n",
      "Epoch 11/1000\n",
      "\u001b[1m1060/1060\u001b[0m \u001b[32m━━━━━━━━━━━━━━━━━━━━\u001b[0m\u001b[37m\u001b[0m \u001b[1m161s\u001b[0m 148ms/step - loss: 0.8311 - mean_absolute_error: 0.5951 - r2_score: 0.0144 - val_loss: 0.7416 - val_mean_absolute_error: 0.5548 - val_r2_score: 0.0142 - learning_rate: 5.0000e-04\n",
      "Epoch 12/1000\n",
      "\u001b[1m1060/1060\u001b[0m \u001b[32m━━━━━━━━━━━━━━━━━━━━\u001b[0m\u001b[37m\u001b[0m \u001b[1m155s\u001b[0m 143ms/step - loss: 0.8310 - mean_absolute_error: 0.5951 - r2_score: 0.0146 - val_loss: 0.7415 - val_mean_absolute_error: 0.5547 - val_r2_score: 0.0144 - learning_rate: 5.0000e-04\n",
      "Epoch 13/1000\n",
      "\u001b[1m1060/1060\u001b[0m \u001b[32m━━━━━━━━━━━━━━━━━━━━\u001b[0m\u001b[37m\u001b[0m \u001b[1m160s\u001b[0m 148ms/step - loss: 0.8309 - mean_absolute_error: 0.5951 - r2_score: 0.0147 - val_loss: 0.7415 - val_mean_absolute_error: 0.5548 - val_r2_score: 0.0144 - learning_rate: 5.0000e-04\n",
      "Epoch 14/1000\n",
      "\u001b[1m1060/1060\u001b[0m \u001b[32m━━━━━━━━━━━━━━━━━━━━\u001b[0m\u001b[37m\u001b[0m \u001b[1m156s\u001b[0m 143ms/step - loss: 0.8308 - mean_absolute_error: 0.5951 - r2_score: 0.0148 - val_loss: 0.7416 - val_mean_absolute_error: 0.5547 - val_r2_score: 0.0143 - learning_rate: 5.0000e-04\n",
      "Epoch 15/1000\n",
      "\u001b[1m1060/1060\u001b[0m \u001b[32m━━━━━━━━━━━━━━━━━━━━\u001b[0m\u001b[37m\u001b[0m \u001b[1m154s\u001b[0m 142ms/step - loss: 0.8307 - mean_absolute_error: 0.5951 - r2_score: 0.0149 - val_loss: 0.7416 - val_mean_absolute_error: 0.5548 - val_r2_score: 0.0143 - learning_rate: 5.0000e-04\n",
      "Epoch 16/1000\n",
      "\u001b[1m1060/1060\u001b[0m \u001b[32m━━━━━━━━━━━━━━━━━━━━\u001b[0m\u001b[37m\u001b[0m \u001b[1m140s\u001b[0m 129ms/step - loss: 0.8311 - mean_absolute_error: 0.5951 - r2_score: 0.0144 - val_loss: 0.7416 - val_mean_absolute_error: 0.5547 - val_r2_score: 0.0143 - learning_rate: 2.5000e-04\n",
      "Epoch 17/1000\n",
      "\u001b[1m1060/1060\u001b[0m \u001b[32m━━━━━━━━━━━━━━━━━━━━\u001b[0m\u001b[37m\u001b[0m \u001b[1m145s\u001b[0m 133ms/step - loss: 0.8308 - mean_absolute_error: 0.5950 - r2_score: 0.0148 - val_loss: 0.7417 - val_mean_absolute_error: 0.5547 - val_r2_score: 0.0141 - learning_rate: 2.5000e-04\n",
      "Epoch 18/1000\n",
      "\u001b[1m1060/1060\u001b[0m \u001b[32m━━━━━━━━━━━━━━━━━━━━\u001b[0m\u001b[37m\u001b[0m \u001b[1m140s\u001b[0m 128ms/step - loss: 0.8306 - mean_absolute_error: 0.5950 - r2_score: 0.0150 - val_loss: 0.7416 - val_mean_absolute_error: 0.5547 - val_r2_score: 0.0143 - learning_rate: 2.5000e-04\n",
      "Epoch 19/1000\n",
      "\u001b[1m1060/1060\u001b[0m \u001b[32m━━━━━━━━━━━━━━━━━━━━\u001b[0m\u001b[37m\u001b[0m \u001b[1m158s\u001b[0m 145ms/step - loss: 0.8309 - mean_absolute_error: 0.5950 - r2_score: 0.0147 - val_loss: 0.7416 - val_mean_absolute_error: 0.5547 - val_r2_score: 0.0142 - learning_rate: 1.2500e-04\n",
      "Epoch 20/1000\n",
      "\u001b[1m1060/1060\u001b[0m \u001b[32m━━━━━━━━━━━━━━━━━━━━\u001b[0m\u001b[37m\u001b[0m \u001b[1m159s\u001b[0m 147ms/step - loss: 0.8308 - mean_absolute_error: 0.5950 - r2_score: 0.0148 - val_loss: 0.7415 - val_mean_absolute_error: 0.5546 - val_r2_score: 0.0144 - learning_rate: 1.2500e-04\n"
     ]
    }
   ],
   "source": [
    "callbacks = [\n",
    "    keras.callbacks.ModelCheckpoint('/kaggle/working/fitted.keras', save_best_only=True),\n",
    "    keras.callbacks.ModelCheckpoint('/kaggle/working/intermediate.keras', save_best_only=False),\n",
    "    keras.callbacks.ReduceLROnPlateau(factor=0.5, patience=3, min_delta=5e-5),\n",
    "    keras.callbacks.EarlyStopping(patience=8)\n",
    "]\n",
    "\n",
    "history = model.fit(x=train_ds, validation_data=val_ds, epochs=1000, callbacks = callbacks)"
   ]
  },
  {
   "cell_type": "markdown",
   "id": "17ddca37",
   "metadata": {
    "execution": {
     "iopub.execute_input": "2024-12-19T21:16:33.404263Z",
     "iopub.status.busy": "2024-12-19T21:16:33.403835Z",
     "iopub.status.idle": "2024-12-19T21:16:41.038672Z",
     "shell.execute_reply": "2024-12-19T21:16:41.037480Z",
     "shell.execute_reply.started": "2024-12-19T21:16:33.404225Z"
    },
    "papermill": {
     "duration": 1.078241,
     "end_time": "2024-12-26T01:20:59.102734",
     "exception": false,
     "start_time": "2024-12-26T01:20:58.024493",
     "status": "completed"
    },
    "tags": []
   },
   "source": [
    "## Evaluate Model"
   ]
  },
  {
   "cell_type": "code",
   "execution_count": 12,
   "id": "27454dc9",
   "metadata": {
    "execution": {
     "iopub.execute_input": "2024-12-26T01:21:01.235058Z",
     "iopub.status.busy": "2024-12-26T01:21:01.234264Z",
     "iopub.status.idle": "2024-12-26T01:21:01.281593Z",
     "shell.execute_reply": "2024-12-26T01:21:01.280935Z"
    },
    "papermill": {
     "duration": 1.119536,
     "end_time": "2024-12-26T01:21:01.283496",
     "exception": false,
     "start_time": "2024-12-26T01:21:00.163960",
     "status": "completed"
    },
    "tags": []
   },
   "outputs": [],
   "source": [
    "test_ds = test_raw.map(lambda i: (\n",
    "                        format_data(i['features'], i['lags']),\n",
    "                        i['target']\n",
    "                        )).unbatch().batch(512)"
   ]
  },
  {
   "cell_type": "code",
   "execution_count": 13,
   "id": "3811e6f8",
   "metadata": {
    "execution": {
     "iopub.execute_input": "2024-12-26T01:21:03.471140Z",
     "iopub.status.busy": "2024-12-26T01:21:03.470348Z",
     "iopub.status.idle": "2024-12-26T01:21:03.575336Z",
     "shell.execute_reply": "2024-12-26T01:21:03.574435Z"
    },
    "papermill": {
     "duration": 1.203056,
     "end_time": "2024-12-26T01:21:03.577831",
     "exception": false,
     "start_time": "2024-12-26T01:21:02.374775",
     "status": "completed"
    },
    "tags": []
   },
   "outputs": [],
   "source": [
    "model = keras.models.load_model('/kaggle/working/fitted.keras', custom_objects={\n",
    "    'r2_loss': r2_loss\n",
    "})"
   ]
  },
  {
   "cell_type": "code",
   "execution_count": 14,
   "id": "51c0ed7a",
   "metadata": {
    "execution": {
     "iopub.execute_input": "2024-12-26T01:21:05.641007Z",
     "iopub.status.busy": "2024-12-26T01:21:05.640301Z",
     "iopub.status.idle": "2024-12-26T01:21:36.957188Z",
     "shell.execute_reply": "2024-12-26T01:21:36.956304Z"
    },
    "papermill": {
     "duration": 32.46156,
     "end_time": "2024-12-26T01:21:37.096813",
     "exception": false,
     "start_time": "2024-12-26T01:21:04.635253",
     "status": "completed"
    },
    "tags": []
   },
   "outputs": [
    {
     "name": "stdout",
     "output_type": "stream",
     "text": [
      "\u001b[1m12256/12256\u001b[0m \u001b[32m━━━━━━━━━━━━━━━━━━━━\u001b[0m\u001b[37m\u001b[0m \u001b[1m31s\u001b[0m 2ms/step - loss: 0.6665 - mean_absolute_error: 0.5288 - r2_score: 0.0080\n"
     ]
    },
    {
     "data": {
      "text/plain": [
       "[0.6577849984169006, 0.5325245261192322, 0.007608771324157715]"
      ]
     },
     "execution_count": 14,
     "metadata": {},
     "output_type": "execute_result"
    }
   ],
   "source": [
    "model.evaluate(x=test_ds)"
   ]
  },
  {
   "cell_type": "code",
   "execution_count": null,
   "id": "8579ea17",
   "metadata": {
    "papermill": {
     "duration": 1.075027,
     "end_time": "2024-12-26T01:21:39.283432",
     "exception": false,
     "start_time": "2024-12-26T01:21:38.208405",
     "status": "completed"
    },
    "tags": []
   },
   "outputs": [],
   "source": []
  }
 ],
 "metadata": {
  "kaggle": {
   "accelerator": "gpu",
   "dataSources": [
    {
     "databundleVersionId": 9871156,
     "sourceId": 84493,
     "sourceType": "competition"
    },
    {
     "sourceId": 214656673,
     "sourceType": "kernelVersion"
    }
   ],
   "dockerImageVersionId": 30805,
   "isGpuEnabled": true,
   "isInternetEnabled": false,
   "language": "python",
   "sourceType": "notebook"
  },
  "kernelspec": {
   "display_name": "Python 3",
   "language": "python",
   "name": "python3"
  },
  "language_info": {
   "codemirror_mode": {
    "name": "ipython",
    "version": 3
   },
   "file_extension": ".py",
   "mimetype": "text/x-python",
   "name": "python",
   "nbconvert_exporter": "python",
   "pygments_lexer": "ipython3",
   "version": "3.10.14"
  },
  "papermill": {
   "default_parameters": {},
   "duration": 3209.066427,
   "end_time": "2024-12-26T01:21:43.604541",
   "environment_variables": {},
   "exception": null,
   "input_path": "__notebook__.ipynb",
   "output_path": "__notebook__.ipynb",
   "parameters": {},
   "start_time": "2024-12-26T00:28:14.538114",
   "version": "2.6.0"
  }
 },
 "nbformat": 4,
 "nbformat_minor": 5
}
