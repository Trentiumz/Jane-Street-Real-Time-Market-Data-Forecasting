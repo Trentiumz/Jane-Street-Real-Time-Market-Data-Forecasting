{
 "cells": [
  {
   "cell_type": "code",
   "execution_count": 1,
   "id": "28addcbd",
   "metadata": {
    "execution": {
     "iopub.execute_input": "2024-12-24T03:17:40.110461Z",
     "iopub.status.busy": "2024-12-24T03:17:40.109946Z",
     "iopub.status.idle": "2024-12-24T03:17:56.752796Z",
     "shell.execute_reply": "2024-12-24T03:17:56.751558Z"
    },
    "papermill": {
     "duration": 16.652073,
     "end_time": "2024-12-24T03:17:56.755388",
     "exception": false,
     "start_time": "2024-12-24T03:17:40.103315",
     "status": "completed"
    },
    "tags": []
   },
   "outputs": [],
   "source": [
    "# This Python 3 environment comes with many helpful analytics libraries installed\n",
    "# It is defined by the kaggle/python Docker image: https://github.com/kaggle/docker-python\n",
    "# For example, here's several helpful packages to load\n",
    "\n",
    "import numpy as np # linear algebra\n",
    "import polars as pl # data processing, CSV file I/O (e.g. pd.read_csv)\n",
    "import pandas as pd\n",
    "import os\n",
    "from pathlib import Path\n",
    "import tensorflow as tf\n",
    "from tensorflow import keras\n",
    "from tensorflow.keras import layers\n",
    "import gc\n",
    "\n",
    "# Input data files are available in the read-only \"../input/\" directory\n",
    "# For example, running this (by clicking run or pressing Shift+Enter) will list all files under the input directory\n",
    "\n",
    "# You can write up to 20GB to the current directory (/kaggle/working/) that gets preserved as output when you create a version using \"Save & Run All\" \n",
    "# You can also write temporary files to /kaggle/temp/, but they won't be saved outside of the current session"
   ]
  },
  {
   "cell_type": "markdown",
   "id": "be57868c",
   "metadata": {
    "papermill": {
     "duration": 0.004372,
     "end_time": "2024-12-24T03:17:56.764434",
     "exception": false,
     "start_time": "2024-12-24T03:17:56.760062",
     "status": "completed"
    },
    "tags": []
   },
   "source": [
    "## Read Input"
   ]
  },
  {
   "cell_type": "code",
   "execution_count": 2,
   "id": "155971d4",
   "metadata": {
    "execution": {
     "iopub.execute_input": "2024-12-24T03:17:56.776562Z",
     "iopub.status.busy": "2024-12-24T03:17:56.775264Z",
     "iopub.status.idle": "2024-12-24T03:17:56.782860Z",
     "shell.execute_reply": "2024-12-24T03:17:56.781375Z"
    },
    "papermill": {
     "duration": 0.015858,
     "end_time": "2024-12-24T03:17:56.785131",
     "exception": false,
     "start_time": "2024-12-24T03:17:56.769273",
     "status": "completed"
    },
    "tags": []
   },
   "outputs": [],
   "source": [
    "base_path = Path(\"/kaggle/input/jane-street-real-time-market-data-forecasting/\")\n",
    "train_path = base_path / Path(\"train.parquet\")\n",
    "train_read_paths = [train_path / Path(f\"partition_id={i}/part-0.parquet\") for i in [0, 1, 2, 3, 4, 5, 6, 7]]\n",
    "val_read_paths = [train_path / Path(f\"partition_id={i}/part-0.parquet\") for i in [8]]\n",
    "test_read_paths = [train_path / Path(f\"partition_id={i}/part-0.parquet\") for i in [9]]\n",
    "\n",
    "data_base_path = Path(\"/kaggle/input/js-feature-exploration/\")\n",
    "feature_data_path = data_base_path / Path(\"feature_data.csv\")\n",
    "\n",
    "target = \"responder_6\""
   ]
  },
  {
   "cell_type": "code",
   "execution_count": 3,
   "id": "a9bf13b8",
   "metadata": {
    "execution": {
     "iopub.execute_input": "2024-12-24T03:17:56.795610Z",
     "iopub.status.busy": "2024-12-24T03:17:56.795235Z",
     "iopub.status.idle": "2024-12-24T03:17:56.803096Z",
     "shell.execute_reply": "2024-12-24T03:17:56.801931Z"
    },
    "papermill": {
     "duration": 0.015857,
     "end_time": "2024-12-24T03:17:56.805488",
     "exception": false,
     "start_time": "2024-12-24T03:17:56.789631",
     "status": "completed"
    },
    "tags": []
   },
   "outputs": [],
   "source": [
    "class Config:\n",
    "    input_format = {\n",
    "        \"date_id\": tf.TensorSpec(shape=(None,), dtype=tf.float32),\n",
    "        \"time_id\": tf.TensorSpec(shape=(None,), dtype=tf.float32),\n",
    "        \"symbol_id\": tf.TensorSpec(shape=(None,), dtype=tf.float32),\n",
    "        \"weight\": tf.TensorSpec(shape=(None,), dtype=tf.float32),\n",
    "        \"features\": tf.TensorSpec(shape=(None, 79), dtype=tf.float32),\n",
    "        \"responders\": tf.TensorSpec(shape=(None, 9), dtype=tf.float32),\n",
    "        \"target\": tf.TensorSpec(shape=(None,), dtype=tf.float32)\n",
    "    }\n",
    "    train_batch_size = 32768\n",
    "\n",
    "config = Config()"
   ]
  },
  {
   "cell_type": "code",
   "execution_count": 4,
   "id": "f44fc95c",
   "metadata": {
    "execution": {
     "iopub.execute_input": "2024-12-24T03:17:56.815485Z",
     "iopub.status.busy": "2024-12-24T03:17:56.815092Z",
     "iopub.status.idle": "2024-12-24T03:17:56.998860Z",
     "shell.execute_reply": "2024-12-24T03:17:56.997781Z"
    },
    "papermill": {
     "duration": 0.191565,
     "end_time": "2024-12-24T03:17:57.001303",
     "exception": false,
     "start_time": "2024-12-24T03:17:56.809738",
     "status": "completed"
    },
    "tags": []
   },
   "outputs": [],
   "source": [
    "def chunk_features(chunk):\n",
    "    return chunk[[i for i in chunk.columns if i.startswith(\"feature_\")]]\n",
    "\n",
    "def from_files(paths):\n",
    "    def to_ret():\n",
    "        for filepath in paths:\n",
    "            chunk = pl.read_parquet(filepath)\n",
    "            yield {\n",
    "                \"date_id\": chunk[\"date_id\"],\n",
    "                \"time_id\": chunk[\"time_id\"],\n",
    "                \"symbol_id\": chunk[\"symbol_id\"],\n",
    "                \"weight\": chunk[\"weight\"],\n",
    "                \"features\": chunk_features(chunk),\n",
    "                \"responders\": chunk[[i for i in chunk.columns if i.startswith(\"responder_\")]],\n",
    "                \"target\": chunk[target]\n",
    "            }\n",
    "    return to_ret\n",
    "\n",
    "train_raw = tf.data.Dataset.from_generator(\n",
    "    from_files(train_read_paths),\n",
    "    output_signature=config.input_format\n",
    ").prefetch(tf.data.AUTOTUNE).cache()\n",
    "\n",
    "val_raw = tf.data.Dataset.from_generator(\n",
    "    from_files(val_read_paths),\n",
    "    output_signature=config.input_format\n",
    ").cache()\n",
    "\n",
    "test_raw = tf.data.Dataset.from_generator(\n",
    "    from_files(test_read_paths),\n",
    "    output_signature=config.input_format\n",
    ")"
   ]
  },
  {
   "cell_type": "code",
   "execution_count": 5,
   "id": "79302576",
   "metadata": {
    "execution": {
     "iopub.execute_input": "2024-12-24T03:17:57.013269Z",
     "iopub.status.busy": "2024-12-24T03:17:57.012847Z",
     "iopub.status.idle": "2024-12-24T03:17:57.021353Z",
     "shell.execute_reply": "2024-12-24T03:17:57.020249Z"
    },
    "papermill": {
     "duration": 0.017448,
     "end_time": "2024-12-24T03:17:57.023571",
     "exception": false,
     "start_time": "2024-12-24T03:17:57.006123",
     "status": "completed"
    },
    "tags": []
   },
   "outputs": [
    {
     "data": {
      "text/plain": [
       "{'date_id': TensorSpec(shape=(None,), dtype=tf.float32, name=None),\n",
       " 'time_id': TensorSpec(shape=(None,), dtype=tf.float32, name=None),\n",
       " 'symbol_id': TensorSpec(shape=(None,), dtype=tf.float32, name=None),\n",
       " 'weight': TensorSpec(shape=(None,), dtype=tf.float32, name=None),\n",
       " 'features': TensorSpec(shape=(None, 79), dtype=tf.float32, name=None),\n",
       " 'responders': TensorSpec(shape=(None, 9), dtype=tf.float32, name=None),\n",
       " 'target': TensorSpec(shape=(None,), dtype=tf.float32, name=None)}"
      ]
     },
     "execution_count": 5,
     "metadata": {},
     "output_type": "execute_result"
    }
   ],
   "source": [
    "train_raw.element_spec"
   ]
  },
  {
   "cell_type": "markdown",
   "id": "44bf30c1",
   "metadata": {
    "papermill": {
     "duration": 0.003995,
     "end_time": "2024-12-24T03:17:57.032190",
     "exception": false,
     "start_time": "2024-12-24T03:17:57.028195",
     "status": "completed"
    },
    "tags": []
   },
   "source": [
    "## Filter, Clean, Normalize Data"
   ]
  },
  {
   "cell_type": "code",
   "execution_count": 6,
   "id": "9bf4845a",
   "metadata": {
    "execution": {
     "iopub.execute_input": "2024-12-24T03:17:57.042857Z",
     "iopub.status.busy": "2024-12-24T03:17:57.042428Z",
     "iopub.status.idle": "2024-12-24T03:17:57.152185Z",
     "shell.execute_reply": "2024-12-24T03:17:57.150951Z"
    },
    "papermill": {
     "duration": 0.117917,
     "end_time": "2024-12-24T03:17:57.154695",
     "exception": false,
     "start_time": "2024-12-24T03:17:57.036778",
     "status": "completed"
    },
    "tags": []
   },
   "outputs": [],
   "source": [
    "feature_data_df = pl.read_csv(feature_data_path)\n",
    "means = np.asarray(feature_data_df['mean']).astype('float32')\n",
    "stds = np.asarray(feature_data_df['std']).astype('float32')"
   ]
  },
  {
   "cell_type": "code",
   "execution_count": 7,
   "id": "4f676174",
   "metadata": {
    "execution": {
     "iopub.execute_input": "2024-12-24T03:17:57.165494Z",
     "iopub.status.busy": "2024-12-24T03:17:57.165100Z",
     "iopub.status.idle": "2024-12-24T03:17:57.366486Z",
     "shell.execute_reply": "2024-12-24T03:17:57.365155Z"
    },
    "papermill": {
     "duration": 0.210538,
     "end_time": "2024-12-24T03:17:57.369599",
     "exception": false,
     "start_time": "2024-12-24T03:17:57.159061",
     "status": "completed"
    },
    "tags": []
   },
   "outputs": [],
   "source": [
    "def clean_data(features):\n",
    "    return tf.where(\n",
    "        tf.logical_or(tf.math.is_nan(features), tf.math.is_inf(features)), \n",
    "        means, \n",
    "        features)\n",
    "\n",
    "def normalize_data(features):\n",
    "    return (features - means) / tf.math.maximum(1.0, stds)\n",
    "\n",
    "def format_data(features):\n",
    "    return normalize_data(clean_data(features))\n",
    "\n",
    "train_ds = train_raw.map(lambda i: (\n",
    "                        format_data(i['features']),\n",
    "                        i['target']\n",
    "                        )).unbatch().shuffle(10000).batch(config.train_batch_size)\n",
    "val_ds = val_raw.map(lambda i: (\n",
    "    format_data(i['features']),\n",
    "    i['target']\n",
    "))"
   ]
  },
  {
   "cell_type": "markdown",
   "id": "8e23ab02",
   "metadata": {
    "execution": {
     "iopub.execute_input": "2024-12-18T04:06:27.478694Z",
     "iopub.status.busy": "2024-12-18T04:06:27.477500Z",
     "iopub.status.idle": "2024-12-18T04:06:27.485848Z",
     "shell.execute_reply": "2024-12-18T04:06:27.484622Z",
     "shell.execute_reply.started": "2024-12-18T04:06:27.478647Z"
    },
    "papermill": {
     "duration": 0.004266,
     "end_time": "2024-12-24T03:17:57.378436",
     "exception": false,
     "start_time": "2024-12-24T03:17:57.374170",
     "status": "completed"
    },
    "tags": []
   },
   "source": [
    "## Train a Model"
   ]
  },
  {
   "cell_type": "code",
   "execution_count": 8,
   "id": "8a83ce0d",
   "metadata": {
    "execution": {
     "iopub.execute_input": "2024-12-24T03:17:57.389705Z",
     "iopub.status.busy": "2024-12-24T03:17:57.388513Z",
     "iopub.status.idle": "2024-12-24T03:17:57.508182Z",
     "shell.execute_reply": "2024-12-24T03:17:57.506805Z"
    },
    "papermill": {
     "duration": 0.128726,
     "end_time": "2024-12-24T03:17:57.511509",
     "exception": false,
     "start_time": "2024-12-24T03:17:57.382783",
     "status": "completed"
    },
    "tags": []
   },
   "outputs": [],
   "source": [
    "inp = keras.Input(shape=(79,))\n",
    "x = layers.Dropout(rate=0.2)(inp)\n",
    "x = layers.Dense(units=40, activation=\"relu\", kernel_regularizer=\"l1l2\")(x)\n",
    "x = layers.Dense(units=30, activation=\"relu\", kernel_regularizer=\"l1l2\")(x)\n",
    "x = layers.Dropout(rate=0.2)(x)\n",
    "x = layers.Dense(units=20, activation=\"relu\", kernel_regularizer=\"l1l2\")(x)\n",
    "x = layers.Dense(units=10, activation=\"relu\")(x)\n",
    "x = layers.Dense(units=5, activation=\"relu\")(x)\n",
    "x = layers.Dense(units=1)(x)\n",
    "model = keras.Model(inputs=inp, outputs=x)"
   ]
  },
  {
   "cell_type": "code",
   "execution_count": 9,
   "id": "3c336136",
   "metadata": {
    "execution": {
     "iopub.execute_input": "2024-12-24T03:17:57.523111Z",
     "iopub.status.busy": "2024-12-24T03:17:57.522675Z",
     "iopub.status.idle": "2024-12-24T03:17:57.551237Z",
     "shell.execute_reply": "2024-12-24T03:17:57.549938Z"
    },
    "papermill": {
     "duration": 0.039615,
     "end_time": "2024-12-24T03:17:57.555775",
     "exception": false,
     "start_time": "2024-12-24T03:17:57.516160",
     "status": "completed"
    },
    "tags": []
   },
   "outputs": [],
   "source": [
    "def r2_loss(y_true, y_pred):\n",
    "    return tf.math.reduce_sum((y_true - y_pred) ** 2) / tf.math.reduce_sum(y_true ** 2)\n",
    "\n",
    "model.compile(optimizer=\"rmsprop\", loss=\"mse\", metrics=[keras.metrics.MeanAbsoluteError(), keras.metrics.R2Score()])"
   ]
  },
  {
   "cell_type": "code",
   "execution_count": 10,
   "id": "a817ff51",
   "metadata": {
    "execution": {
     "iopub.execute_input": "2024-12-24T03:17:57.567300Z",
     "iopub.status.busy": "2024-12-24T03:17:57.566860Z",
     "iopub.status.idle": "2024-12-24T03:46:49.902608Z",
     "shell.execute_reply": "2024-12-24T03:46:49.900576Z"
    },
    "papermill": {
     "duration": 1732.344931,
     "end_time": "2024-12-24T03:46:49.905472",
     "exception": false,
     "start_time": "2024-12-24T03:17:57.560541",
     "status": "completed"
    },
    "tags": []
   },
   "outputs": [
    {
     "name": "stdout",
     "output_type": "stream",
     "text": [
      "Epoch 1/10\n",
      "   1060/Unknown \u001b[1m183s\u001b[0m 164ms/step - loss: 0.8540 - mean_absolute_error: 0.6032 - r2_score: -0.0143"
     ]
    },
    {
     "name": "stderr",
     "output_type": "stream",
     "text": [
      "/opt/conda/lib/python3.10/contextlib.py:153: UserWarning: Your input ran out of data; interrupting training. Make sure that your dataset or generator can generate at least `steps_per_epoch * epochs` batches. You may need to use the `.repeat()` function when building your dataset.\n",
      "  self.gen.throw(typ, value, traceback)\n"
     ]
    },
    {
     "name": "stdout",
     "output_type": "stream",
     "text": [
      "\u001b[1m1060/1060\u001b[0m \u001b[32m━━━━━━━━━━━━━━━━━━━━\u001b[0m\u001b[37m\u001b[0m \u001b[1m198s\u001b[0m 179ms/step - loss: 0.8540 - mean_absolute_error: 0.6032 - r2_score: -0.0143 - val_loss: 0.7487 - val_mean_absolute_error: 0.5565 - val_r2_score: 0.0048 - learning_rate: 9.5000e-04\n",
      "Epoch 2/10\n",
      "\u001b[1m1060/1060\u001b[0m \u001b[32m━━━━━━━━━━━━━━━━━━━━\u001b[0m\u001b[37m\u001b[0m \u001b[1m169s\u001b[0m 156ms/step - loss: 0.8371 - mean_absolute_error: 0.5966 - r2_score: 0.0074 - val_loss: 0.7470 - val_mean_absolute_error: 0.5562 - val_r2_score: 0.0071 - learning_rate: 9.0250e-04\n",
      "Epoch 3/10\n",
      "\u001b[1m1060/1060\u001b[0m \u001b[32m━━━━━━━━━━━━━━━━━━━━\u001b[0m\u001b[37m\u001b[0m \u001b[1m168s\u001b[0m 155ms/step - loss: 0.8350 - mean_absolute_error: 0.5961 - r2_score: 0.0098 - val_loss: 0.7462 - val_mean_absolute_error: 0.5560 - val_r2_score: 0.0081 - learning_rate: 8.5737e-04\n",
      "Epoch 4/10\n",
      "\u001b[1m1060/1060\u001b[0m \u001b[32m━━━━━━━━━━━━━━━━━━━━\u001b[0m\u001b[37m\u001b[0m \u001b[1m165s\u001b[0m 153ms/step - loss: 0.8343 - mean_absolute_error: 0.5958 - r2_score: 0.0107 - val_loss: 0.7457 - val_mean_absolute_error: 0.5559 - val_r2_score: 0.0088 - learning_rate: 8.1451e-04\n",
      "Epoch 5/10\n",
      "\u001b[1m1060/1060\u001b[0m \u001b[32m━━━━━━━━━━━━━━━━━━━━\u001b[0m\u001b[37m\u001b[0m \u001b[1m181s\u001b[0m 168ms/step - loss: 0.8339 - mean_absolute_error: 0.5957 - r2_score: 0.0112 - val_loss: 0.7454 - val_mean_absolute_error: 0.5559 - val_r2_score: 0.0092 - learning_rate: 7.7378e-04\n",
      "Epoch 6/10\n",
      "\u001b[1m1060/1060\u001b[0m \u001b[32m━━━━━━━━━━━━━━━━━━━━\u001b[0m\u001b[37m\u001b[0m \u001b[1m169s\u001b[0m 155ms/step - loss: 0.8335 - mean_absolute_error: 0.5956 - r2_score: 0.0116 - val_loss: 0.7451 - val_mean_absolute_error: 0.5557 - val_r2_score: 0.0097 - learning_rate: 7.3509e-04\n",
      "Epoch 7/10\n",
      "\u001b[1m1060/1060\u001b[0m \u001b[32m━━━━━━━━━━━━━━━━━━━━\u001b[0m\u001b[37m\u001b[0m \u001b[1m167s\u001b[0m 154ms/step - loss: 0.8333 - mean_absolute_error: 0.5956 - r2_score: 0.0119 - val_loss: 0.7448 - val_mean_absolute_error: 0.5557 - val_r2_score: 0.0101 - learning_rate: 6.9834e-04\n",
      "Epoch 8/10\n",
      "\u001b[1m1060/1060\u001b[0m \u001b[32m━━━━━━━━━━━━━━━━━━━━\u001b[0m\u001b[37m\u001b[0m \u001b[1m172s\u001b[0m 159ms/step - loss: 0.8330 - mean_absolute_error: 0.5955 - r2_score: 0.0122 - val_loss: 0.7444 - val_mean_absolute_error: 0.5555 - val_r2_score: 0.0105 - learning_rate: 6.6342e-04\n",
      "Epoch 9/10\n",
      "\u001b[1m1060/1060\u001b[0m \u001b[32m━━━━━━━━━━━━━━━━━━━━\u001b[0m\u001b[37m\u001b[0m \u001b[1m175s\u001b[0m 162ms/step - loss: 0.8328 - mean_absolute_error: 0.5955 - r2_score: 0.0124 - val_loss: 0.7442 - val_mean_absolute_error: 0.5556 - val_r2_score: 0.0108 - learning_rate: 6.3025e-04\n",
      "Epoch 10/10\n",
      "\u001b[1m1060/1060\u001b[0m \u001b[32m━━━━━━━━━━━━━━━━━━━━\u001b[0m\u001b[37m\u001b[0m \u001b[1m169s\u001b[0m 156ms/step - loss: 0.8327 - mean_absolute_error: 0.5954 - r2_score: 0.0126 - val_loss: 0.7440 - val_mean_absolute_error: 0.5555 - val_r2_score: 0.0111 - learning_rate: 5.9874e-04\n"
     ]
    }
   ],
   "source": [
    "callbacks = [\n",
    "    keras.callbacks.ModelCheckpoint('/kaggle/working/fitted.keras', save_best_only=True),\n",
    "    keras.callbacks.ModelCheckpoint('/kaggle/working/intermediate.keras', save_best_only=False),\n",
    "    keras.callbacks.LearningRateScheduler(lambda epoch, lr: lr * 0.95),\n",
    "    keras.callbacks.EarlyStopping(patience=2)\n",
    "]\n",
    "\n",
    "history = model.fit(x=train_ds, validation_data=val_ds, epochs=10, callbacks = callbacks)"
   ]
  },
  {
   "cell_type": "markdown",
   "id": "34a62f21",
   "metadata": {
    "execution": {
     "iopub.execute_input": "2024-12-19T21:16:33.404263Z",
     "iopub.status.busy": "2024-12-19T21:16:33.403835Z",
     "iopub.status.idle": "2024-12-19T21:16:41.038672Z",
     "shell.execute_reply": "2024-12-19T21:16:41.037480Z",
     "shell.execute_reply.started": "2024-12-19T21:16:33.404225Z"
    },
    "papermill": {
     "duration": 0.692189,
     "end_time": "2024-12-24T03:46:51.229398",
     "exception": false,
     "start_time": "2024-12-24T03:46:50.537209",
     "status": "completed"
    },
    "tags": []
   },
   "source": [
    "## Evaluate Model"
   ]
  },
  {
   "cell_type": "code",
   "execution_count": 11,
   "id": "1a159e08",
   "metadata": {
    "execution": {
     "iopub.execute_input": "2024-12-24T03:46:52.528537Z",
     "iopub.status.busy": "2024-12-24T03:46:52.528063Z",
     "iopub.status.idle": "2024-12-24T03:46:52.594241Z",
     "shell.execute_reply": "2024-12-24T03:46:52.593045Z"
    },
    "papermill": {
     "duration": 0.748254,
     "end_time": "2024-12-24T03:46:52.597228",
     "exception": false,
     "start_time": "2024-12-24T03:46:51.848974",
     "status": "completed"
    },
    "tags": []
   },
   "outputs": [],
   "source": [
    "test_ds = test_raw.map(lambda i: (\n",
    "    normalize_data(clean_data(i['features'])),\n",
    "    i['target']\n",
    "))"
   ]
  },
  {
   "cell_type": "code",
   "execution_count": 12,
   "id": "f12a5549",
   "metadata": {
    "execution": {
     "iopub.execute_input": "2024-12-24T03:46:53.918127Z",
     "iopub.status.busy": "2024-12-24T03:46:53.917535Z",
     "iopub.status.idle": "2024-12-24T03:46:54.050039Z",
     "shell.execute_reply": "2024-12-24T03:46:54.048990Z"
    },
    "papermill": {
     "duration": 0.848309,
     "end_time": "2024-12-24T03:46:54.052598",
     "exception": false,
     "start_time": "2024-12-24T03:46:53.204289",
     "status": "completed"
    },
    "tags": []
   },
   "outputs": [],
   "source": [
    "model = keras.models.load_model('/kaggle/working/fitted.keras', custom_objects={\n",
    "    'r2_loss': r2_loss\n",
    "})"
   ]
  },
  {
   "cell_type": "code",
   "execution_count": 13,
   "id": "58fd4808",
   "metadata": {
    "execution": {
     "iopub.execute_input": "2024-12-24T03:46:55.345572Z",
     "iopub.status.busy": "2024-12-24T03:46:55.345012Z",
     "iopub.status.idle": "2024-12-24T03:47:11.961310Z",
     "shell.execute_reply": "2024-12-24T03:47:11.960257Z"
    },
    "papermill": {
     "duration": 17.304132,
     "end_time": "2024-12-24T03:47:11.964089",
     "exception": false,
     "start_time": "2024-12-24T03:46:54.659957",
     "status": "completed"
    },
    "tags": []
   },
   "outputs": [
    {
     "name": "stdout",
     "output_type": "stream",
     "text": [
      "\u001b[1m1/1\u001b[0m \u001b[32m━━━━━━━━━━━━━━━━━━━━\u001b[0m\u001b[37m\u001b[0m \u001b[1m17s\u001b[0m 17s/step - loss: 0.6585 - mean_absolute_error: 0.5330 - r2_score: 0.0065\n"
     ]
    },
    {
     "data": {
      "text/plain": [
       "[0.6585142016410828, 0.5329519510269165, 0.006508171558380127]"
      ]
     },
     "execution_count": 13,
     "metadata": {},
     "output_type": "execute_result"
    }
   ],
   "source": [
    "model.evaluate(x=test_ds)"
   ]
  },
  {
   "cell_type": "code",
   "execution_count": null,
   "id": "bd3749b9",
   "metadata": {
    "papermill": {
     "duration": 0.618658,
     "end_time": "2024-12-24T03:47:13.188385",
     "exception": false,
     "start_time": "2024-12-24T03:47:12.569727",
     "status": "completed"
    },
    "tags": []
   },
   "outputs": [],
   "source": []
  }
 ],
 "metadata": {
  "kaggle": {
   "accelerator": "none",
   "dataSources": [
    {
     "databundleVersionId": 9871156,
     "sourceId": 84493,
     "sourceType": "competition"
    },
    {
     "sourceId": 214372757,
     "sourceType": "kernelVersion"
    }
   ],
   "dockerImageVersionId": 30805,
   "isGpuEnabled": false,
   "isInternetEnabled": false,
   "language": "python",
   "sourceType": "notebook"
  },
  "kernelspec": {
   "display_name": "Python 3",
   "language": "python",
   "name": "python3"
  },
  "language_info": {
   "codemirror_mode": {
    "name": "ipython",
    "version": 3
   },
   "file_extension": ".py",
   "mimetype": "text/x-python",
   "name": "python",
   "nbconvert_exporter": "python",
   "pygments_lexer": "ipython3",
   "version": "3.10.14"
  },
  "papermill": {
   "default_parameters": {},
   "duration": 1781.146828,
   "end_time": "2024-12-24T03:47:17.822983",
   "environment_variables": {},
   "exception": null,
   "input_path": "__notebook__.ipynb",
   "output_path": "__notebook__.ipynb",
   "parameters": {},
   "start_time": "2024-12-24T03:17:36.676155",
   "version": "2.6.0"
  }
 },
 "nbformat": 4,
 "nbformat_minor": 5
}
