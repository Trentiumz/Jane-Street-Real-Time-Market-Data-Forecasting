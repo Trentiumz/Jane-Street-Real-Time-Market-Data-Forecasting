{
 "cells": [
  {
   "cell_type": "code",
   "execution_count": 1,
   "id": "ec6bcad5",
   "metadata": {
    "_cell_guid": "b1076dfc-b9ad-4769-8c92-a6c4dae69d19",
    "_uuid": "8f2839f25d086af736a60e9eeb907d3b93b6e0e5",
    "execution": {
     "iopub.execute_input": "2024-12-18T04:36:56.208647Z",
     "iopub.status.busy": "2024-12-18T04:36:56.207865Z",
     "iopub.status.idle": "2024-12-18T04:36:57.025407Z",
     "shell.execute_reply": "2024-12-18T04:36:57.024496Z"
    },
    "papermill": {
     "duration": 0.825095,
     "end_time": "2024-12-18T04:36:57.027419",
     "exception": false,
     "start_time": "2024-12-18T04:36:56.202324",
     "status": "completed"
    },
    "tags": []
   },
   "outputs": [],
   "source": [
    "# This Python 3 environment comes with many helpful analytics libraries installed\n",
    "# It is defined by the kaggle/python Docker image: https://github.com/kaggle/docker-python\n",
    "# For example, here's several helpful packages to load\n",
    "\n",
    "import numpy as np # linear algebra\n",
    "import polars as pl # data processing, CSV file I/O (e.g. pd.read_csv)\n",
    "import pandas as pd\n",
    "import os\n",
    "from pathlib import Path\n",
    "\n",
    "# Input data files are available in the read-only \"../input/\" directory\n",
    "# For example, running this (by clicking run or pressing Shift+Enter) will list all files under the input directory\n",
    "\n",
    "# You can write up to 20GB to the current directory (/kaggle/working/) that gets preserved as output when you create a version using \"Save & Run All\" \n",
    "# You can also write temporary files to /kaggle/temp/, but they won't be saved outside of the current session"
   ]
  },
  {
   "cell_type": "markdown",
   "id": "c1b4cb9c",
   "metadata": {
    "papermill": {
     "duration": 0.003181,
     "end_time": "2024-12-18T04:36:57.034265",
     "exception": false,
     "start_time": "2024-12-18T04:36:57.031084",
     "status": "completed"
    },
    "tags": []
   },
   "source": [
    "## Read Input"
   ]
  },
  {
   "cell_type": "code",
   "execution_count": 2,
   "id": "a7c8cf4c",
   "metadata": {
    "execution": {
     "iopub.execute_input": "2024-12-18T04:36:57.041809Z",
     "iopub.status.busy": "2024-12-18T04:36:57.041437Z",
     "iopub.status.idle": "2024-12-18T04:36:57.045923Z",
     "shell.execute_reply": "2024-12-18T04:36:57.045293Z"
    },
    "papermill": {
     "duration": 0.010136,
     "end_time": "2024-12-18T04:36:57.047537",
     "exception": false,
     "start_time": "2024-12-18T04:36:57.037401",
     "status": "completed"
    },
    "tags": []
   },
   "outputs": [],
   "source": [
    "base_path = Path(\"/kaggle/input/jane-street-real-time-market-data-forecasting/\")\n",
    "train_path = base_path / Path(\"train.parquet\")\n",
    "train_read_paths = [train_path / Path(f\"partition_id={i}/part-0.parquet\") for i in [0, 1, 2, 3, 4]]\n",
    "target = \"responder_6\""
   ]
  },
  {
   "cell_type": "code",
   "execution_count": 3,
   "id": "b784a91e",
   "metadata": {
    "execution": {
     "iopub.execute_input": "2024-12-18T04:36:57.056338Z",
     "iopub.status.busy": "2024-12-18T04:36:57.056084Z",
     "iopub.status.idle": "2024-12-18T04:37:22.258134Z",
     "shell.execute_reply": "2024-12-18T04:37:22.257431Z"
    },
    "papermill": {
     "duration": 25.209067,
     "end_time": "2024-12-18T04:37:22.259974",
     "exception": false,
     "start_time": "2024-12-18T04:36:57.050907",
     "status": "completed"
    },
    "tags": []
   },
   "outputs": [],
   "source": [
    "train_samples = []\n",
    "\n",
    "for file_path in train_read_paths:\n",
    "    chunk = pl.read_parquet(file_path)\n",
    "\n",
    "    train_samples.append(chunk)\n",
    "\n",
    "samples_df = pl.concat(train_samples)"
   ]
  },
  {
   "cell_type": "markdown",
   "id": "fb833cd1",
   "metadata": {
    "papermill": {
     "duration": 0.003197,
     "end_time": "2024-12-18T04:37:22.266720",
     "exception": false,
     "start_time": "2024-12-18T04:37:22.263523",
     "status": "completed"
    },
    "tags": []
   },
   "source": [
    "## Filter Data"
   ]
  },
  {
   "cell_type": "code",
   "execution_count": 4,
   "id": "e09bbab5",
   "metadata": {
    "execution": {
     "iopub.execute_input": "2024-12-18T04:37:22.274463Z",
     "iopub.status.busy": "2024-12-18T04:37:22.273880Z",
     "iopub.status.idle": "2024-12-18T04:37:22.295784Z",
     "shell.execute_reply": "2024-12-18T04:37:22.294929Z"
    },
    "papermill": {
     "duration": 0.027492,
     "end_time": "2024-12-18T04:37:22.297348",
     "exception": false,
     "start_time": "2024-12-18T04:37:22.269856",
     "status": "completed"
    },
    "tags": []
   },
   "outputs": [
    {
     "data": {
      "text/html": [
       "<div><style>\n",
       ".dataframe > thead > tr,\n",
       ".dataframe > tbody > tr {\n",
       "  text-align: right;\n",
       "  white-space: pre-wrap;\n",
       "}\n",
       "</style>\n",
       "<small>shape: (5, 92)</small><table border=\"1\" class=\"dataframe\"><thead><tr><th>date_id</th><th>time_id</th><th>symbol_id</th><th>weight</th><th>feature_00</th><th>feature_01</th><th>feature_02</th><th>feature_03</th><th>feature_04</th><th>feature_05</th><th>feature_06</th><th>feature_07</th><th>feature_08</th><th>feature_09</th><th>feature_10</th><th>feature_11</th><th>feature_12</th><th>feature_13</th><th>feature_14</th><th>feature_15</th><th>feature_16</th><th>feature_17</th><th>feature_18</th><th>feature_19</th><th>feature_20</th><th>feature_21</th><th>feature_22</th><th>feature_23</th><th>feature_24</th><th>feature_25</th><th>feature_26</th><th>feature_27</th><th>feature_28</th><th>feature_29</th><th>feature_30</th><th>feature_31</th><th>feature_32</th><th>&hellip;</th><th>feature_51</th><th>feature_52</th><th>feature_53</th><th>feature_54</th><th>feature_55</th><th>feature_56</th><th>feature_57</th><th>feature_58</th><th>feature_59</th><th>feature_60</th><th>feature_61</th><th>feature_62</th><th>feature_63</th><th>feature_64</th><th>feature_65</th><th>feature_66</th><th>feature_67</th><th>feature_68</th><th>feature_69</th><th>feature_70</th><th>feature_71</th><th>feature_72</th><th>feature_73</th><th>feature_74</th><th>feature_75</th><th>feature_76</th><th>feature_77</th><th>feature_78</th><th>responder_0</th><th>responder_1</th><th>responder_2</th><th>responder_3</th><th>responder_4</th><th>responder_5</th><th>responder_6</th><th>responder_7</th><th>responder_8</th></tr><tr><td>i16</td><td>i16</td><td>i8</td><td>f32</td><td>f32</td><td>f32</td><td>f32</td><td>f32</td><td>f32</td><td>f32</td><td>f32</td><td>f32</td><td>f32</td><td>i8</td><td>i8</td><td>i16</td><td>f32</td><td>f32</td><td>f32</td><td>f32</td><td>f32</td><td>f32</td><td>f32</td><td>f32</td><td>f32</td><td>f32</td><td>f32</td><td>f32</td><td>f32</td><td>f32</td><td>f32</td><td>f32</td><td>f32</td><td>f32</td><td>f32</td><td>f32</td><td>f32</td><td>&hellip;</td><td>f32</td><td>f32</td><td>f32</td><td>f32</td><td>f32</td><td>f32</td><td>f32</td><td>f32</td><td>f32</td><td>f32</td><td>f32</td><td>f32</td><td>f32</td><td>f32</td><td>f32</td><td>f32</td><td>f32</td><td>f32</td><td>f32</td><td>f32</td><td>f32</td><td>f32</td><td>f32</td><td>f32</td><td>f32</td><td>f32</td><td>f32</td><td>f32</td><td>f32</td><td>f32</td><td>f32</td><td>f32</td><td>f32</td><td>f32</td><td>f32</td><td>f32</td><td>f32</td></tr></thead><tbody><tr><td>0</td><td>0</td><td>1</td><td>3.889038</td><td>null</td><td>null</td><td>null</td><td>null</td><td>null</td><td>0.851033</td><td>0.242971</td><td>0.2634</td><td>-0.891687</td><td>11</td><td>7</td><td>76</td><td>-0.883028</td><td>0.003067</td><td>-0.744703</td><td>null</td><td>-0.169586</td><td>null</td><td>-1.335938</td><td>-1.707803</td><td>0.91013</td><td>null</td><td>1.636431</td><td>1.522133</td><td>-1.551398</td><td>-0.229627</td><td>null</td><td>null</td><td>1.378301</td><td>-0.283712</td><td>0.123196</td><td>null</td><td>null</td><td>&hellip;</td><td>0.204797</td><td>null</td><td>null</td><td>-0.808103</td><td>null</td><td>-2.037683</td><td>0.727661</td><td>null</td><td>-0.989118</td><td>-0.345213</td><td>-1.36224</td><td>null</td><td>null</td><td>null</td><td>null</td><td>null</td><td>-1.251104</td><td>-0.110252</td><td>-0.491157</td><td>-1.02269</td><td>0.152241</td><td>-0.659864</td><td>null</td><td>null</td><td>-0.261412</td><td>-0.211486</td><td>-0.335556</td><td>-0.281498</td><td>0.738489</td><td>-0.069556</td><td>1.380875</td><td>2.005353</td><td>0.186018</td><td>1.218368</td><td>0.775981</td><td>0.346999</td><td>0.095504</td></tr><tr><td>0</td><td>0</td><td>7</td><td>1.370613</td><td>null</td><td>null</td><td>null</td><td>null</td><td>null</td><td>0.676961</td><td>0.151984</td><td>0.192465</td><td>-0.521729</td><td>11</td><td>7</td><td>76</td><td>-0.865307</td><td>-0.225629</td><td>-0.582163</td><td>null</td><td>0.317467</td><td>null</td><td>-1.250016</td><td>-1.682929</td><td>1.412757</td><td>null</td><td>0.520378</td><td>0.744132</td><td>-0.788658</td><td>0.641776</td><td>null</td><td>null</td><td>0.2272</td><td>0.580907</td><td>1.128879</td><td>null</td><td>null</td><td>&hellip;</td><td>1.172836</td><td>null</td><td>null</td><td>-1.625862</td><td>null</td><td>-1.410017</td><td>1.063013</td><td>null</td><td>0.888355</td><td>0.467994</td><td>-1.36224</td><td>null</td><td>null</td><td>null</td><td>null</td><td>null</td><td>-1.065759</td><td>0.013322</td><td>-0.592855</td><td>-1.052685</td><td>-0.393726</td><td>-0.741603</td><td>null</td><td>null</td><td>-0.281207</td><td>-0.182894</td><td>-0.245565</td><td>-0.302441</td><td>2.965889</td><td>1.190077</td><td>-0.523998</td><td>3.849921</td><td>2.626981</td><td>5.0</td><td>0.703665</td><td>0.216683</td><td>0.778639</td></tr><tr><td>0</td><td>0</td><td>9</td><td>2.285698</td><td>null</td><td>null</td><td>null</td><td>null</td><td>null</td><td>1.056285</td><td>0.187227</td><td>0.249901</td><td>-0.77305</td><td>11</td><td>7</td><td>76</td><td>-0.675719</td><td>-0.199404</td><td>-0.586798</td><td>null</td><td>-0.814909</td><td>null</td><td>-1.296782</td><td>-2.040234</td><td>0.639589</td><td>null</td><td>1.597359</td><td>0.657514</td><td>-1.350148</td><td>0.364215</td><td>null</td><td>null</td><td>-0.017751</td><td>-0.317361</td><td>-0.122379</td><td>null</td><td>null</td><td>&hellip;</td><td>0.535897</td><td>null</td><td>null</td><td>-0.72542</td><td>null</td><td>-2.29417</td><td>1.764551</td><td>null</td><td>-0.120789</td><td>-0.063458</td><td>-1.36224</td><td>null</td><td>null</td><td>null</td><td>null</td><td>null</td><td>-0.882604</td><td>-0.072482</td><td>-0.617934</td><td>-0.86323</td><td>-0.241892</td><td>-0.709919</td><td>null</td><td>null</td><td>0.377131</td><td>0.300724</td><td>-0.106842</td><td>-0.096792</td><td>-0.864488</td><td>-0.280303</td><td>-0.326697</td><td>0.375781</td><td>1.271291</td><td>0.099793</td><td>2.109352</td><td>0.670881</td><td>0.772828</td></tr><tr><td>0</td><td>0</td><td>10</td><td>0.690606</td><td>null</td><td>null</td><td>null</td><td>null</td><td>null</td><td>1.139366</td><td>0.273328</td><td>0.306549</td><td>-1.262223</td><td>42</td><td>5</td><td>150</td><td>-0.694008</td><td>3.004091</td><td>0.114809</td><td>null</td><td>-0.251882</td><td>null</td><td>-1.902009</td><td>-0.979447</td><td>0.241165</td><td>null</td><td>-0.392359</td><td>-0.224699</td><td>-2.129397</td><td>-0.855287</td><td>null</td><td>null</td><td>0.404142</td><td>-0.578156</td><td>0.105702</td><td>null</td><td>null</td><td>&hellip;</td><td>2.413415</td><td>null</td><td>null</td><td>1.313203</td><td>null</td><td>-0.810125</td><td>2.939022</td><td>null</td><td>3.988801</td><td>1.834661</td><td>-1.36224</td><td>null</td><td>null</td><td>null</td><td>null</td><td>null</td><td>-0.697595</td><td>1.074309</td><td>-0.206929</td><td>-0.530602</td><td>4.765215</td><td>0.571554</td><td>null</td><td>null</td><td>-0.226891</td><td>-0.251412</td><td>-0.215522</td><td>-0.296244</td><td>0.408499</td><td>0.223992</td><td>2.294888</td><td>1.097444</td><td>1.225872</td><td>1.225376</td><td>1.114137</td><td>0.775199</td><td>-1.379516</td></tr><tr><td>0</td><td>0</td><td>14</td><td>0.44057</td><td>null</td><td>null</td><td>null</td><td>null</td><td>null</td><td>0.9552</td><td>0.262404</td><td>0.344457</td><td>-0.613813</td><td>44</td><td>3</td><td>16</td><td>-0.947351</td><td>-0.030018</td><td>-0.502379</td><td>null</td><td>0.646086</td><td>null</td><td>-1.844685</td><td>-1.58656</td><td>-0.182024</td><td>null</td><td>-0.969949</td><td>-0.673813</td><td>-1.282132</td><td>-1.399894</td><td>null</td><td>null</td><td>0.043815</td><td>-0.320225</td><td>-0.031713</td><td>null</td><td>null</td><td>&hellip;</td><td>1.253902</td><td>null</td><td>null</td><td>0.476195</td><td>null</td><td>-0.771732</td><td>2.843421</td><td>null</td><td>1.379815</td><td>0.411827</td><td>-1.36224</td><td>null</td><td>null</td><td>null</td><td>null</td><td>null</td><td>-0.948601</td><td>-0.136814</td><td>-0.447704</td><td>-1.141761</td><td>0.099631</td><td>-0.661928</td><td>null</td><td>null</td><td>3.678076</td><td>2.793581</td><td>2.61825</td><td>3.418133</td><td>-0.373387</td><td>-0.502764</td><td>-0.348021</td><td>-3.928148</td><td>-1.591366</td><td>-5.0</td><td>-3.57282</td><td>-1.089123</td><td>-5.0</td></tr></tbody></table></div>"
      ],
      "text/plain": [
       "shape: (5, 92)\n",
       "┌─────────┬─────────┬───────────┬──────────┬───┬────────────┬────────────┬────────────┬────────────┐\n",
       "│ date_id ┆ time_id ┆ symbol_id ┆ weight   ┆ … ┆ responder_ ┆ responder_ ┆ responder_ ┆ responder_ │\n",
       "│ ---     ┆ ---     ┆ ---       ┆ ---      ┆   ┆ 5          ┆ 6          ┆ 7          ┆ 8          │\n",
       "│ i16     ┆ i16     ┆ i8        ┆ f32      ┆   ┆ ---        ┆ ---        ┆ ---        ┆ ---        │\n",
       "│         ┆         ┆           ┆          ┆   ┆ f32        ┆ f32        ┆ f32        ┆ f32        │\n",
       "╞═════════╪═════════╪═══════════╪══════════╪═══╪════════════╪════════════╪════════════╪════════════╡\n",
       "│ 0       ┆ 0       ┆ 1         ┆ 3.889038 ┆ … ┆ 1.218368   ┆ 0.775981   ┆ 0.346999   ┆ 0.095504   │\n",
       "│ 0       ┆ 0       ┆ 7         ┆ 1.370613 ┆ … ┆ 5.0        ┆ 0.703665   ┆ 0.216683   ┆ 0.778639   │\n",
       "│ 0       ┆ 0       ┆ 9         ┆ 2.285698 ┆ … ┆ 0.099793   ┆ 2.109352   ┆ 0.670881   ┆ 0.772828   │\n",
       "│ 0       ┆ 0       ┆ 10        ┆ 0.690606 ┆ … ┆ 1.225376   ┆ 1.114137   ┆ 0.775199   ┆ -1.379516  │\n",
       "│ 0       ┆ 0       ┆ 14        ┆ 0.44057  ┆ … ┆ -5.0       ┆ -3.57282   ┆ -1.089123  ┆ -5.0       │\n",
       "└─────────┴─────────┴───────────┴──────────┴───┴────────────┴────────────┴────────────┴────────────┘"
      ]
     },
     "execution_count": 4,
     "metadata": {},
     "output_type": "execute_result"
    }
   ],
   "source": [
    "samples_df.head()"
   ]
  },
  {
   "cell_type": "code",
   "execution_count": 5,
   "id": "7702e4e0",
   "metadata": {
    "execution": {
     "iopub.execute_input": "2024-12-18T04:37:22.305586Z",
     "iopub.status.busy": "2024-12-18T04:37:22.305329Z",
     "iopub.status.idle": "2024-12-18T04:37:22.309577Z",
     "shell.execute_reply": "2024-12-18T04:37:22.308917Z"
    },
    "papermill": {
     "duration": 0.010313,
     "end_time": "2024-12-18T04:37:22.311178",
     "exception": false,
     "start_time": "2024-12-18T04:37:22.300865",
     "status": "completed"
    },
    "tags": []
   },
   "outputs": [],
   "source": [
    "# using linear regression, so we'll replace null values with mean, and we won't use date_id, time_id, or symbol_id\n",
    "feature_cols = [i for i in samples_df.columns if i.startswith(\"feature_\")]\n",
    "responder_cols = [i for i in samples_df.columns if i.startswith(\"responder_\")]\n",
    "date_col = \"date_id\"\n",
    "time_col = \"time_id\"\n",
    "symbol_col = \"symbol_id\"\n",
    "weight_col = \"weight\""
   ]
  },
  {
   "cell_type": "code",
   "execution_count": 6,
   "id": "52ac984e",
   "metadata": {
    "execution": {
     "iopub.execute_input": "2024-12-18T04:37:22.318946Z",
     "iopub.status.busy": "2024-12-18T04:37:22.318699Z",
     "iopub.status.idle": "2024-12-18T04:37:48.676633Z",
     "shell.execute_reply": "2024-12-18T04:37:48.675679Z"
    },
    "papermill": {
     "duration": 26.364075,
     "end_time": "2024-12-18T04:37:48.678752",
     "exception": false,
     "start_time": "2024-12-18T04:37:22.314677",
     "status": "completed"
    },
    "tags": []
   },
   "outputs": [],
   "source": [
    "X_train = np.asarray(samples_df[feature_cols])\n",
    "medians = np.nanmedian(X_train, axis=0)\n",
    "X_train = np.where(np.isnan(X_train), medians, X_train)\n",
    "\n",
    "def formatted_inputs(dataframe):\n",
    "    global medians\n",
    "    X_train = np.asarray(dataframe[feature_cols])\n",
    "    X_train = np.where(np.isnan(X_train), medians, X_train)\n",
    "    return X_train\n",
    "\n",
    "def convert_to_formatted(dataframe):\n",
    "    y_train = np.asarray(dataframe[target])\n",
    "\n",
    "    return formatted_inputs(dataframe), y_train\n",
    "\n",
    "X_train, y_train = convert_to_formatted(samples_df)"
   ]
  },
  {
   "cell_type": "code",
   "execution_count": 7,
   "id": "efa92408",
   "metadata": {
    "execution": {
     "iopub.execute_input": "2024-12-18T04:37:48.687840Z",
     "iopub.status.busy": "2024-12-18T04:37:48.687026Z",
     "iopub.status.idle": "2024-12-18T04:37:48.692576Z",
     "shell.execute_reply": "2024-12-18T04:37:48.691813Z"
    },
    "papermill": {
     "duration": 0.011387,
     "end_time": "2024-12-18T04:37:48.694116",
     "exception": false,
     "start_time": "2024-12-18T04:37:48.682729",
     "status": "completed"
    },
    "tags": []
   },
   "outputs": [
    {
     "data": {
      "text/plain": [
       "((16825066, 79), (16825066,))"
      ]
     },
     "execution_count": 7,
     "metadata": {},
     "output_type": "execute_result"
    }
   ],
   "source": [
    "X_train.shape, y_train.shape"
   ]
  },
  {
   "cell_type": "markdown",
   "id": "c2e6cef6",
   "metadata": {
    "execution": {
     "iopub.execute_input": "2024-12-18T04:06:27.478694Z",
     "iopub.status.busy": "2024-12-18T04:06:27.477500Z",
     "iopub.status.idle": "2024-12-18T04:06:27.485848Z",
     "shell.execute_reply": "2024-12-18T04:06:27.484622Z",
     "shell.execute_reply.started": "2024-12-18T04:06:27.478647Z"
    },
    "papermill": {
     "duration": 0.003342,
     "end_time": "2024-12-18T04:37:48.701157",
     "exception": false,
     "start_time": "2024-12-18T04:37:48.697815",
     "status": "completed"
    },
    "tags": []
   },
   "source": [
    "## Train a Model"
   ]
  },
  {
   "cell_type": "code",
   "execution_count": 8,
   "id": "7c8c47e0",
   "metadata": {
    "execution": {
     "iopub.execute_input": "2024-12-18T04:37:48.709719Z",
     "iopub.status.busy": "2024-12-18T04:37:48.709027Z",
     "iopub.status.idle": "2024-12-18T04:37:59.526288Z",
     "shell.execute_reply": "2024-12-18T04:37:59.525518Z"
    },
    "papermill": {
     "duration": 10.823379,
     "end_time": "2024-12-18T04:37:59.528054",
     "exception": false,
     "start_time": "2024-12-18T04:37:48.704675",
     "status": "completed"
    },
    "tags": []
   },
   "outputs": [],
   "source": [
    "import tensorflow as tf\n",
    "from tensorflow import keras\n",
    "from tensorflow.keras import layers"
   ]
  },
  {
   "cell_type": "code",
   "execution_count": 9,
   "id": "da7a2e18",
   "metadata": {
    "execution": {
     "iopub.execute_input": "2024-12-18T04:37:59.536732Z",
     "iopub.status.busy": "2024-12-18T04:37:59.536261Z",
     "iopub.status.idle": "2024-12-18T04:38:00.270559Z",
     "shell.execute_reply": "2024-12-18T04:38:00.269640Z"
    },
    "papermill": {
     "duration": 0.740914,
     "end_time": "2024-12-18T04:38:00.272777",
     "exception": false,
     "start_time": "2024-12-18T04:37:59.531863",
     "status": "completed"
    },
    "tags": []
   },
   "outputs": [],
   "source": [
    "input = keras.Input(shape=(79,))\n",
    "x = layers.Dense(units=1)(input)\n",
    "model = keras.Model(inputs=input, outputs=x)"
   ]
  },
  {
   "cell_type": "code",
   "execution_count": 10,
   "id": "efff110d",
   "metadata": {
    "execution": {
     "iopub.execute_input": "2024-12-18T04:38:00.281920Z",
     "iopub.status.busy": "2024-12-18T04:38:00.281231Z",
     "iopub.status.idle": "2024-12-18T04:38:00.295398Z",
     "shell.execute_reply": "2024-12-18T04:38:00.294775Z"
    },
    "papermill": {
     "duration": 0.020328,
     "end_time": "2024-12-18T04:38:00.296986",
     "exception": false,
     "start_time": "2024-12-18T04:38:00.276658",
     "status": "completed"
    },
    "tags": []
   },
   "outputs": [],
   "source": [
    "model.compile(optimizer=\"rmsprop\", loss=keras.losses.MeanSquaredError(), metrics=[keras.metrics.MeanAbsoluteError()])"
   ]
  },
  {
   "cell_type": "code",
   "execution_count": 11,
   "id": "db065554",
   "metadata": {
    "execution": {
     "iopub.execute_input": "2024-12-18T04:38:00.305476Z",
     "iopub.status.busy": "2024-12-18T04:38:00.304956Z",
     "iopub.status.idle": "2024-12-18T04:39:11.478159Z",
     "shell.execute_reply": "2024-12-18T04:39:11.477419Z"
    },
    "papermill": {
     "duration": 71.179532,
     "end_time": "2024-12-18T04:39:11.480228",
     "exception": false,
     "start_time": "2024-12-18T04:38:00.300696",
     "status": "completed"
    },
    "tags": []
   },
   "outputs": [
    {
     "name": "stdout",
     "output_type": "stream",
     "text": [
      "Epoch 1/2\n"
     ]
    },
    {
     "name": "stderr",
     "output_type": "stream",
     "text": [
      "WARNING: All log messages before absl::InitializeLog() is called are written to STDERR\n",
      "I0000 00:00:1734496681.598520      73 service.cc:145] XLA service 0x7dcd38006810 initialized for platform CUDA (this does not guarantee that XLA will be used). Devices:\n",
      "I0000 00:00:1734496681.598574      73 service.cc:153]   StreamExecutor device (0): Tesla P100-PCIE-16GB, Compute Capability 6.0\n"
     ]
    },
    {
     "name": "stdout",
     "output_type": "stream",
     "text": [
      "\u001b[1m  133/31250\u001b[0m \u001b[37m━━━━━━━━━━━━━━━━━━━━\u001b[0m \u001b[1m35s\u001b[0m 1ms/step - loss: 851.8336 - mean_absolute_error: 20.6948"
     ]
    },
    {
     "name": "stderr",
     "output_type": "stream",
     "text": [
      "I0000 00:00:1734496682.109620      73 device_compiler.h:188] Compiled cluster using XLA!  This line is logged at most once for the lifetime of the process.\n"
     ]
    },
    {
     "name": "stdout",
     "output_type": "stream",
     "text": [
      "\u001b[1m31250/31250\u001b[0m \u001b[32m━━━━━━━━━━━━━━━━━━━━\u001b[0m\u001b[37m\u001b[0m \u001b[1m35s\u001b[0m 1ms/step - loss: 15.7296 - mean_absolute_error: 1.0090\n",
      "Epoch 2/2\n",
      "\u001b[1m31250/31250\u001b[0m \u001b[32m━━━━━━━━━━━━━━━━━━━━\u001b[0m\u001b[37m\u001b[0m \u001b[1m35s\u001b[0m 1ms/step - loss: 0.7083 - mean_absolute_error: 0.5503\n"
     ]
    }
   ],
   "source": [
    "history = model.fit(x=X_train[:1000000], y=y_train[:1000000], batch_size=32, epochs=2)"
   ]
  },
  {
   "cell_type": "markdown",
   "id": "85349398",
   "metadata": {
    "papermill": {
     "duration": 0.064296,
     "end_time": "2024-12-18T04:39:11.610998",
     "exception": false,
     "start_time": "2024-12-18T04:39:11.546702",
     "status": "completed"
    },
    "tags": []
   },
   "source": [
    "## First Submission!!"
   ]
  },
  {
   "cell_type": "code",
   "execution_count": 12,
   "id": "c60448e2",
   "metadata": {
    "execution": {
     "iopub.execute_input": "2024-12-18T04:39:11.739567Z",
     "iopub.status.busy": "2024-12-18T04:39:11.739217Z",
     "iopub.status.idle": "2024-12-18T04:39:12.096975Z",
     "shell.execute_reply": "2024-12-18T04:39:12.096303Z"
    },
    "papermill": {
     "duration": 0.424116,
     "end_time": "2024-12-18T04:39:12.098939",
     "exception": false,
     "start_time": "2024-12-18T04:39:11.674823",
     "status": "completed"
    },
    "tags": []
   },
   "outputs": [],
   "source": [
    "import kaggle_evaluation.jane_street_inference_server"
   ]
  },
  {
   "cell_type": "code",
   "execution_count": 13,
   "id": "9bb068c2",
   "metadata": {
    "execution": {
     "iopub.execute_input": "2024-12-18T04:39:12.229526Z",
     "iopub.status.busy": "2024-12-18T04:39:12.228915Z",
     "iopub.status.idle": "2024-12-18T04:39:12.235619Z",
     "shell.execute_reply": "2024-12-18T04:39:12.234778Z"
    },
    "papermill": {
     "duration": 0.074203,
     "end_time": "2024-12-18T04:39:12.237370",
     "exception": false,
     "start_time": "2024-12-18T04:39:12.163167",
     "status": "completed"
    },
    "tags": []
   },
   "outputs": [],
   "source": [
    "# Replace this function with your inference code.\n",
    "# You can return either a Pandas or Polars dataframe, though Polars is recommended.\n",
    "# Each batch of predictions (except the very first) must be returned within 1 minute of the batch features being provided.\n",
    "def predict(test: pl.DataFrame, lags: pl.DataFrame | None) -> pl.DataFrame | pd.DataFrame:\n",
    "    \"\"\"Make a prediction.\"\"\"\n",
    "    # All the responders from the previous day are passed in at time_id == 0. We save them in a global variable for access at every time_id.\n",
    "    # Use them as extra features, if you like.\n",
    "\n",
    "    # Replace this section with your own predictions\n",
    "    input_x = formatted_inputs(test)\n",
    "    output_y = np.asarray(model.predict(input_x))\n",
    "    predictions = pl.DataFrame({\n",
    "        \"row_id\": test['row_id'],\n",
    "        \"responder_6\": output_y\n",
    "    })\n",
    "    \n",
    "\n",
    "    if isinstance(predictions, pl.DataFrame):\n",
    "        assert predictions.columns == ['row_id', 'responder_6']\n",
    "    elif isinstance(predictions, pd.DataFrame):\n",
    "        assert (predictions.columns == ['row_id', 'responder_6']).all()\n",
    "    else:\n",
    "        raise TypeError('The predict function must return a DataFrame')\n",
    "    # Confirm has as many rows as the test data.\n",
    "    assert len(predictions) == len(test)\n",
    "\n",
    "    return predictions"
   ]
  },
  {
   "cell_type": "code",
   "execution_count": 14,
   "id": "11b9f0e6",
   "metadata": {
    "execution": {
     "iopub.execute_input": "2024-12-18T04:39:12.406920Z",
     "iopub.status.busy": "2024-12-18T04:39:12.406126Z",
     "iopub.status.idle": "2024-12-18T04:39:12.645385Z",
     "shell.execute_reply": "2024-12-18T04:39:12.644539Z"
    },
    "papermill": {
     "duration": 0.306346,
     "end_time": "2024-12-18T04:39:12.646922",
     "exception": false,
     "start_time": "2024-12-18T04:39:12.340576",
     "status": "completed"
    },
    "tags": []
   },
   "outputs": [
    {
     "name": "stdout",
     "output_type": "stream",
     "text": [
      "\u001b[1m2/2\u001b[0m \u001b[32m━━━━━━━━━━━━━━━━━━━━\u001b[0m\u001b[37m\u001b[0m \u001b[1m0s\u001b[0m 60ms/step\n"
     ]
    },
    {
     "data": {
      "text/html": [
       "<div><style>\n",
       ".dataframe > thead > tr,\n",
       ".dataframe > tbody > tr {\n",
       "  text-align: right;\n",
       "  white-space: pre-wrap;\n",
       "}\n",
       "</style>\n",
       "<small>shape: (5, 2)</small><table border=\"1\" class=\"dataframe\"><thead><tr><th>row_id</th><th>responder_6</th></tr><tr><td>i64</td><td>array[f32, 1]</td></tr></thead><tbody><tr><td>0</td><td>[0.021413]</td></tr><tr><td>1</td><td>[0.021413]</td></tr><tr><td>2</td><td>[0.021413]</td></tr><tr><td>3</td><td>[0.021413]</td></tr><tr><td>4</td><td>[0.021413]</td></tr></tbody></table></div>"
      ],
      "text/plain": [
       "shape: (5, 2)\n",
       "┌────────┬───────────────┐\n",
       "│ row_id ┆ responder_6   │\n",
       "│ ---    ┆ ---           │\n",
       "│ i64    ┆ array[f32, 1] │\n",
       "╞════════╪═══════════════╡\n",
       "│ 0      ┆ [0.021413]    │\n",
       "│ 1      ┆ [0.021413]    │\n",
       "│ 2      ┆ [0.021413]    │\n",
       "│ 3      ┆ [0.021413]    │\n",
       "│ 4      ┆ [0.021413]    │\n",
       "└────────┴───────────────┘"
      ]
     },
     "execution_count": 14,
     "metadata": {},
     "output_type": "execute_result"
    }
   ],
   "source": [
    "predict(pl.read_parquet(base_path / Path(\"test.parquet/date_id=0/part-0.parquet\")), None).head()"
   ]
  },
  {
   "cell_type": "code",
   "execution_count": 15,
   "id": "103bc6cb",
   "metadata": {
    "execution": {
     "iopub.execute_input": "2024-12-18T04:39:12.776434Z",
     "iopub.status.busy": "2024-12-18T04:39:12.776089Z",
     "iopub.status.idle": "2024-12-18T04:39:13.032144Z",
     "shell.execute_reply": "2024-12-18T04:39:13.031398Z"
    },
    "papermill": {
     "duration": 0.322692,
     "end_time": "2024-12-18T04:39:13.033779",
     "exception": false,
     "start_time": "2024-12-18T04:39:12.711087",
     "status": "completed"
    },
    "tags": []
   },
   "outputs": [
    {
     "name": "stdout",
     "output_type": "stream",
     "text": [
      "\u001b[1m2/2\u001b[0m \u001b[32m━━━━━━━━━━━━━━━━━━━━\u001b[0m\u001b[37m\u001b[0m \u001b[1m0s\u001b[0m 3ms/step \n"
     ]
    }
   ],
   "source": [
    "inference_server = kaggle_evaluation.jane_street_inference_server.JSInferenceServer(predict)\n",
    "\n",
    "if os.getenv('KAGGLE_IS_COMPETITION_RERUN'):\n",
    "    inference_server.serve()\n",
    "else:\n",
    "    inference_server.run_local_gateway(\n",
    "        (\n",
    "            '/kaggle/input/jane-street-real-time-market-data-forecasting/test.parquet',\n",
    "            '/kaggle/input/jane-street-real-time-market-data-forecasting/lags.parquet',\n",
    "        )\n",
    "    )"
   ]
  },
  {
   "cell_type": "code",
   "execution_count": null,
   "id": "7f69189b",
   "metadata": {
    "papermill": {
     "duration": 0.064107,
     "end_time": "2024-12-18T04:39:13.162636",
     "exception": false,
     "start_time": "2024-12-18T04:39:13.098529",
     "status": "completed"
    },
    "tags": []
   },
   "outputs": [],
   "source": []
  }
 ],
 "metadata": {
  "kaggle": {
   "accelerator": "gpu",
   "dataSources": [
    {
     "databundleVersionId": 9871156,
     "sourceId": 84493,
     "sourceType": "competition"
    }
   ],
   "dockerImageVersionId": 30805,
   "isGpuEnabled": true,
   "isInternetEnabled": false,
   "language": "python",
   "sourceType": "notebook"
  },
  "kernelspec": {
   "display_name": "Python 3",
   "language": "python",
   "name": "python3"
  },
  "language_info": {
   "codemirror_mode": {
    "name": "ipython",
    "version": 3
   },
   "file_extension": ".py",
   "mimetype": "text/x-python",
   "name": "python",
   "nbconvert_exporter": "python",
   "pygments_lexer": "ipython3",
   "version": "3.10.14"
  },
  "papermill": {
   "default_parameters": {},
   "duration": 142.670378,
   "end_time": "2024-12-18T04:39:16.546548",
   "environment_variables": {},
   "exception": null,
   "input_path": "__notebook__.ipynb",
   "output_path": "__notebook__.ipynb",
   "parameters": {},
   "start_time": "2024-12-18T04:36:53.876170",
   "version": "2.6.0"
  }
 },
 "nbformat": 4,
 "nbformat_minor": 5
}
