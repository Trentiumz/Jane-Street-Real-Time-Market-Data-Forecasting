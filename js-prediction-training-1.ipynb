{
 "cells": [
  {
   "cell_type": "code",
   "execution_count": 1,
   "id": "ca5870d8",
   "metadata": {
    "execution": {
     "iopub.execute_input": "2024-12-23T21:57:00.133053Z",
     "iopub.status.busy": "2024-12-23T21:57:00.132627Z",
     "iopub.status.idle": "2024-12-23T21:57:13.807926Z",
     "shell.execute_reply": "2024-12-23T21:57:13.806804Z"
    },
    "papermill": {
     "duration": 13.683937,
     "end_time": "2024-12-23T21:57:13.810428",
     "exception": false,
     "start_time": "2024-12-23T21:57:00.126491",
     "status": "completed"
    },
    "tags": []
   },
   "outputs": [],
   "source": [
    "# This Python 3 environment comes with many helpful analytics libraries installed\n",
    "# It is defined by the kaggle/python Docker image: https://github.com/kaggle/docker-python\n",
    "# For example, here's several helpful packages to load\n",
    "\n",
    "import numpy as np # linear algebra\n",
    "import polars as pl # data processing, CSV file I/O (e.g. pd.read_csv)\n",
    "import pandas as pd\n",
    "import os\n",
    "from pathlib import Path\n",
    "import tensorflow as tf\n",
    "from tensorflow import keras\n",
    "from tensorflow.keras import layers\n",
    "import gc\n",
    "\n",
    "# Input data files are available in the read-only \"../input/\" directory\n",
    "# For example, running this (by clicking run or pressing Shift+Enter) will list all files under the input directory\n",
    "\n",
    "# You can write up to 20GB to the current directory (/kaggle/working/) that gets preserved as output when you create a version using \"Save & Run All\" \n",
    "# You can also write temporary files to /kaggle/temp/, but they won't be saved outside of the current session"
   ]
  },
  {
   "cell_type": "markdown",
   "id": "12fc316e",
   "metadata": {
    "papermill": {
     "duration": 0.003421,
     "end_time": "2024-12-23T21:57:13.817741",
     "exception": false,
     "start_time": "2024-12-23T21:57:13.814320",
     "status": "completed"
    },
    "tags": []
   },
   "source": [
    "## Read Input"
   ]
  },
  {
   "cell_type": "code",
   "execution_count": 2,
   "id": "23d17ff0",
   "metadata": {
    "execution": {
     "iopub.execute_input": "2024-12-23T21:57:13.828203Z",
     "iopub.status.busy": "2024-12-23T21:57:13.827566Z",
     "iopub.status.idle": "2024-12-23T21:57:13.834532Z",
     "shell.execute_reply": "2024-12-23T21:57:13.833432Z"
    },
    "papermill": {
     "duration": 0.014967,
     "end_time": "2024-12-23T21:57:13.836450",
     "exception": false,
     "start_time": "2024-12-23T21:57:13.821483",
     "status": "completed"
    },
    "tags": []
   },
   "outputs": [],
   "source": [
    "base_path = Path(\"/kaggle/input/jane-street-real-time-market-data-forecasting/\")\n",
    "train_path = base_path / Path(\"train.parquet\")\n",
    "train_read_paths = [train_path / Path(f\"partition_id={i}/part-0.parquet\") for i in [0, 1, 2, 3, 4, 5, 6, 7]]\n",
    "val_read_paths = [train_path / Path(f\"partition_id={i}/part-0.parquet\") for i in [8]]\n",
    "test_read_paths = [train_path / Path(f\"partition_id={i}/part-0.parquet\") for i in [9]]\n",
    "\n",
    "data_base_path = Path(\"/kaggle/input/js-feature-exploration/\")\n",
    "feature_data_path = data_base_path / Path(\"feature_data.csv\")\n",
    "\n",
    "target = \"responder_6\""
   ]
  },
  {
   "cell_type": "code",
   "execution_count": 3,
   "id": "534d6d1d",
   "metadata": {
    "execution": {
     "iopub.execute_input": "2024-12-23T21:57:13.845732Z",
     "iopub.status.busy": "2024-12-23T21:57:13.845314Z",
     "iopub.status.idle": "2024-12-23T21:57:13.852628Z",
     "shell.execute_reply": "2024-12-23T21:57:13.851654Z"
    },
    "papermill": {
     "duration": 0.014729,
     "end_time": "2024-12-23T21:57:13.855127",
     "exception": false,
     "start_time": "2024-12-23T21:57:13.840398",
     "status": "completed"
    },
    "tags": []
   },
   "outputs": [],
   "source": [
    "class Config:\n",
    "    input_format = {\n",
    "        \"date_id\": tf.TensorSpec(shape=(None,), dtype=tf.float32),\n",
    "        \"time_id\": tf.TensorSpec(shape=(None,), dtype=tf.float32),\n",
    "        \"symbol_id\": tf.TensorSpec(shape=(None,), dtype=tf.float32),\n",
    "        \"weight\": tf.TensorSpec(shape=(None,), dtype=tf.float32),\n",
    "        \"features\": tf.TensorSpec(shape=(None, 79), dtype=tf.float32),\n",
    "        \"responders\": tf.TensorSpec(shape=(None, 9), dtype=tf.float32),\n",
    "        \"target\": tf.TensorSpec(shape=(None,), dtype=tf.float32)\n",
    "    }\n",
    "    train_batch_size = 16384\n",
    "\n",
    "config = Config()"
   ]
  },
  {
   "cell_type": "code",
   "execution_count": 4,
   "id": "750aa57d",
   "metadata": {
    "execution": {
     "iopub.execute_input": "2024-12-23T21:57:13.864251Z",
     "iopub.status.busy": "2024-12-23T21:57:13.863863Z",
     "iopub.status.idle": "2024-12-23T21:57:14.018866Z",
     "shell.execute_reply": "2024-12-23T21:57:14.017958Z"
    },
    "papermill": {
     "duration": 0.162467,
     "end_time": "2024-12-23T21:57:14.021523",
     "exception": false,
     "start_time": "2024-12-23T21:57:13.859056",
     "status": "completed"
    },
    "tags": []
   },
   "outputs": [],
   "source": [
    "def chunk_features(chunk):\n",
    "    return chunk[[i for i in chunk.columns if i.startswith(\"feature_\")]]\n",
    "\n",
    "def from_files(paths):\n",
    "    def to_ret():\n",
    "        for filepath in paths:\n",
    "            chunk = pl.read_parquet(filepath)\n",
    "            yield {\n",
    "                \"date_id\": chunk[\"date_id\"],\n",
    "                \"time_id\": chunk[\"time_id\"],\n",
    "                \"symbol_id\": chunk[\"symbol_id\"],\n",
    "                \"weight\": chunk[\"weight\"],\n",
    "                \"features\": chunk_features(chunk),\n",
    "                \"responders\": chunk[[i for i in chunk.columns if i.startswith(\"responder_\")]],\n",
    "                \"target\": chunk[target]\n",
    "            }\n",
    "    return to_ret\n",
    "\n",
    "train_raw = tf.data.Dataset.from_generator(\n",
    "    from_files(train_read_paths),\n",
    "    output_signature=config.input_format\n",
    ").prefetch(tf.data.AUTOTUNE).cache()\n",
    "\n",
    "val_raw = tf.data.Dataset.from_generator(\n",
    "    from_files(val_read_paths),\n",
    "    output_signature=config.input_format\n",
    ").cache()\n",
    "\n",
    "test_raw = tf.data.Dataset.from_generator(\n",
    "    from_files(test_read_paths),\n",
    "    output_signature=config.input_format\n",
    ")"
   ]
  },
  {
   "cell_type": "code",
   "execution_count": 5,
   "id": "7ec4d095",
   "metadata": {
    "execution": {
     "iopub.execute_input": "2024-12-23T21:57:14.030525Z",
     "iopub.status.busy": "2024-12-23T21:57:14.030125Z",
     "iopub.status.idle": "2024-12-23T21:57:14.037396Z",
     "shell.execute_reply": "2024-12-23T21:57:14.036425Z"
    },
    "papermill": {
     "duration": 0.014284,
     "end_time": "2024-12-23T21:57:14.039532",
     "exception": false,
     "start_time": "2024-12-23T21:57:14.025248",
     "status": "completed"
    },
    "tags": []
   },
   "outputs": [
    {
     "data": {
      "text/plain": [
       "{'date_id': TensorSpec(shape=(None,), dtype=tf.float32, name=None),\n",
       " 'time_id': TensorSpec(shape=(None,), dtype=tf.float32, name=None),\n",
       " 'symbol_id': TensorSpec(shape=(None,), dtype=tf.float32, name=None),\n",
       " 'weight': TensorSpec(shape=(None,), dtype=tf.float32, name=None),\n",
       " 'features': TensorSpec(shape=(None, 79), dtype=tf.float32, name=None),\n",
       " 'responders': TensorSpec(shape=(None, 9), dtype=tf.float32, name=None),\n",
       " 'target': TensorSpec(shape=(None,), dtype=tf.float32, name=None)}"
      ]
     },
     "execution_count": 5,
     "metadata": {},
     "output_type": "execute_result"
    }
   ],
   "source": [
    "train_raw.element_spec"
   ]
  },
  {
   "cell_type": "markdown",
   "id": "473d591b",
   "metadata": {
    "papermill": {
     "duration": 0.003403,
     "end_time": "2024-12-23T21:57:14.048045",
     "exception": false,
     "start_time": "2024-12-23T21:57:14.044642",
     "status": "completed"
    },
    "tags": []
   },
   "source": [
    "## Filter, Clean, Normalize Data"
   ]
  },
  {
   "cell_type": "code",
   "execution_count": 6,
   "id": "8de62ab1",
   "metadata": {
    "execution": {
     "iopub.execute_input": "2024-12-23T21:57:14.057646Z",
     "iopub.status.busy": "2024-12-23T21:57:14.057217Z",
     "iopub.status.idle": "2024-12-23T21:57:14.148346Z",
     "shell.execute_reply": "2024-12-23T21:57:14.147217Z"
    },
    "papermill": {
     "duration": 0.098825,
     "end_time": "2024-12-23T21:57:14.150939",
     "exception": false,
     "start_time": "2024-12-23T21:57:14.052114",
     "status": "completed"
    },
    "tags": []
   },
   "outputs": [],
   "source": [
    "feature_data_df = pl.read_csv(feature_data_path)\n",
    "means = np.asarray(feature_data_df['mean']).astype('float32')\n",
    "stds = np.asarray(feature_data_df['std']).astype('float32')"
   ]
  },
  {
   "cell_type": "code",
   "execution_count": 7,
   "id": "d475cc38",
   "metadata": {
    "execution": {
     "iopub.execute_input": "2024-12-23T21:57:14.160321Z",
     "iopub.status.busy": "2024-12-23T21:57:14.159942Z",
     "iopub.status.idle": "2024-12-23T21:57:14.370701Z",
     "shell.execute_reply": "2024-12-23T21:57:14.369637Z"
    },
    "papermill": {
     "duration": 0.218069,
     "end_time": "2024-12-23T21:57:14.373122",
     "exception": false,
     "start_time": "2024-12-23T21:57:14.155053",
     "status": "completed"
    },
    "tags": []
   },
   "outputs": [],
   "source": [
    "def clean_data(features):\n",
    "    return tf.where(\n",
    "        tf.logical_or(tf.math.is_nan(features), tf.math.is_inf(features)), \n",
    "        means, \n",
    "        features)\n",
    "\n",
    "def normalize_data(features):\n",
    "    return (features - means) / tf.math.maximum(1.0, stds)\n",
    "\n",
    "def format_data(features):\n",
    "    return normalize_data(clean_data(features))\n",
    "\n",
    "train_ds = train_raw.map(lambda i: (\n",
    "                        format_data(i['features']),\n",
    "                        i['target']\n",
    "                        )).unbatch().shuffle(10000).batch(config.train_batch_size)\n",
    "val_ds = val_raw.map(lambda i: (\n",
    "    format_data(i['features']),\n",
    "    i['target']\n",
    "))"
   ]
  },
  {
   "cell_type": "markdown",
   "id": "c07c4f3e",
   "metadata": {
    "execution": {
     "iopub.execute_input": "2024-12-18T04:06:27.478694Z",
     "iopub.status.busy": "2024-12-18T04:06:27.477500Z",
     "iopub.status.idle": "2024-12-18T04:06:27.485848Z",
     "shell.execute_reply": "2024-12-18T04:06:27.484622Z",
     "shell.execute_reply.started": "2024-12-18T04:06:27.478647Z"
    },
    "papermill": {
     "duration": 0.003608,
     "end_time": "2024-12-23T21:57:14.380744",
     "exception": false,
     "start_time": "2024-12-23T21:57:14.377136",
     "status": "completed"
    },
    "tags": []
   },
   "source": [
    "## Train a Model"
   ]
  },
  {
   "cell_type": "code",
   "execution_count": 8,
   "id": "18a54032",
   "metadata": {
    "execution": {
     "iopub.execute_input": "2024-12-23T21:57:14.390806Z",
     "iopub.status.busy": "2024-12-23T21:57:14.390403Z",
     "iopub.status.idle": "2024-12-23T21:57:14.463841Z",
     "shell.execute_reply": "2024-12-23T21:57:14.462845Z"
    },
    "papermill": {
     "duration": 0.081383,
     "end_time": "2024-12-23T21:57:14.466419",
     "exception": false,
     "start_time": "2024-12-23T21:57:14.385036",
     "status": "completed"
    },
    "tags": []
   },
   "outputs": [],
   "source": [
    "inp = keras.Input(shape=(79,))\n",
    "x = layers.Dense(units=40, activation=\"relu\")(inp)\n",
    "x = layers.Dense(units=30, activation=\"relu\")(x)\n",
    "x = layers.Dense(units=20, activation=\"relu\")(x)\n",
    "x = layers.Dense(units=10, activation=\"relu\")(x)\n",
    "x = layers.Dense(units=5, activation=\"relu\")(x)\n",
    "x = layers.Dense(units=1)(x)\n",
    "model = keras.Model(inputs=inp, outputs=x)"
   ]
  },
  {
   "cell_type": "code",
   "execution_count": 9,
   "id": "d90fefbc",
   "metadata": {
    "execution": {
     "iopub.execute_input": "2024-12-23T21:57:14.475659Z",
     "iopub.status.busy": "2024-12-23T21:57:14.475254Z",
     "iopub.status.idle": "2024-12-23T21:57:14.493976Z",
     "shell.execute_reply": "2024-12-23T21:57:14.492882Z"
    },
    "papermill": {
     "duration": 0.026074,
     "end_time": "2024-12-23T21:57:14.496364",
     "exception": false,
     "start_time": "2024-12-23T21:57:14.470290",
     "status": "completed"
    },
    "tags": []
   },
   "outputs": [],
   "source": [
    "def r2_loss(y_true, y_pred):\n",
    "    return tf.math.reduce_sum((y_true - y_pred) ** 2) / tf.math.reduce_sum(y_true ** 2)\n",
    "\n",
    "model.compile(optimizer=\"rmsprop\", loss=r2_loss, metrics=[keras.metrics.MeanAbsoluteError(), keras.metrics.R2Score()])"
   ]
  },
  {
   "cell_type": "code",
   "execution_count": 10,
   "id": "d669cd05",
   "metadata": {
    "execution": {
     "iopub.execute_input": "2024-12-23T21:57:14.506541Z",
     "iopub.status.busy": "2024-12-23T21:57:14.505504Z",
     "iopub.status.idle": "2024-12-23T22:25:30.813584Z",
     "shell.execute_reply": "2024-12-23T22:25:30.811816Z"
    },
    "papermill": {
     "duration": 1697.63213,
     "end_time": "2024-12-23T22:25:32.132527",
     "exception": false,
     "start_time": "2024-12-23T21:57:14.500397",
     "status": "completed"
    },
    "tags": []
   },
   "outputs": [
    {
     "name": "stdout",
     "output_type": "stream",
     "text": [
      "Epoch 1/10\n",
      "   2119/Unknown \u001b[1m180s\u001b[0m 81ms/step - loss: 0.9904 - mean_absolute_error: 0.5963 - r2_score: 0.0095"
     ]
    },
    {
     "name": "stderr",
     "output_type": "stream",
     "text": [
      "/opt/conda/lib/python3.10/contextlib.py:153: UserWarning: Your input ran out of data; interrupting training. Make sure that your dataset or generator can generate at least `steps_per_epoch * epochs` batches. You may need to use the `.repeat()` function when building your dataset.\n",
      "  self.gen.throw(typ, value, traceback)\n"
     ]
    },
    {
     "name": "stdout",
     "output_type": "stream",
     "text": [
      "\u001b[1m2119/2119\u001b[0m \u001b[32m━━━━━━━━━━━━━━━━━━━━\u001b[0m\u001b[37m\u001b[0m \u001b[1m198s\u001b[0m 90ms/step - loss: 0.9904 - mean_absolute_error: 0.5963 - r2_score: 0.0095 - val_loss: 0.9923 - val_mean_absolute_error: 0.5555 - val_r2_score: 0.0077 - learning_rate: 9.0000e-04\n",
      "Epoch 2/10\n",
      "\u001b[1m2119/2119\u001b[0m \u001b[32m━━━━━━━━━━━━━━━━━━━━\u001b[0m\u001b[37m\u001b[0m \u001b[1m167s\u001b[0m 77ms/step - loss: 0.9843 - mean_absolute_error: 0.5945 - r2_score: 0.0152 - val_loss: 0.9913 - val_mean_absolute_error: 0.5550 - val_r2_score: 0.0087 - learning_rate: 8.1000e-04\n",
      "Epoch 3/10\n",
      "\u001b[1m2119/2119\u001b[0m \u001b[32m━━━━━━━━━━━━━━━━━━━━\u001b[0m\u001b[37m\u001b[0m \u001b[1m164s\u001b[0m 76ms/step - loss: 0.9832 - mean_absolute_error: 0.5942 - r2_score: 0.0163 - val_loss: 0.9905 - val_mean_absolute_error: 0.5549 - val_r2_score: 0.0095 - learning_rate: 7.2900e-04\n",
      "Epoch 4/10\n",
      "\u001b[1m2119/2119\u001b[0m \u001b[32m━━━━━━━━━━━━━━━━━━━━\u001b[0m\u001b[37m\u001b[0m \u001b[1m164s\u001b[0m 76ms/step - loss: 0.9826 - mean_absolute_error: 0.5941 - r2_score: 0.0169 - val_loss: 0.9903 - val_mean_absolute_error: 0.5550 - val_r2_score: 0.0097 - learning_rate: 6.5610e-04\n",
      "Epoch 5/10\n",
      "\u001b[1m2119/2119\u001b[0m \u001b[32m━━━━━━━━━━━━━━━━━━━━\u001b[0m\u001b[37m\u001b[0m \u001b[1m165s\u001b[0m 76ms/step - loss: 0.9823 - mean_absolute_error: 0.5940 - r2_score: 0.0172 - val_loss: 0.9901 - val_mean_absolute_error: 0.5549 - val_r2_score: 0.0099 - learning_rate: 5.9049e-04\n",
      "Epoch 6/10\n",
      "\u001b[1m2119/2119\u001b[0m \u001b[32m━━━━━━━━━━━━━━━━━━━━\u001b[0m\u001b[37m\u001b[0m \u001b[1m171s\u001b[0m 79ms/step - loss: 0.9821 - mean_absolute_error: 0.5940 - r2_score: 0.0174 - val_loss: 0.9901 - val_mean_absolute_error: 0.5551 - val_r2_score: 0.0099 - learning_rate: 5.3144e-04\n",
      "Epoch 7/10\n",
      "\u001b[1m2119/2119\u001b[0m \u001b[32m━━━━━━━━━━━━━━━━━━━━\u001b[0m\u001b[37m\u001b[0m \u001b[1m165s\u001b[0m 76ms/step - loss: 0.9819 - mean_absolute_error: 0.5939 - r2_score: 0.0176 - val_loss: 0.9902 - val_mean_absolute_error: 0.5552 - val_r2_score: 0.0098 - learning_rate: 4.7830e-04\n",
      "Epoch 8/10\n",
      "\u001b[1m2119/2119\u001b[0m \u001b[32m━━━━━━━━━━━━━━━━━━━━\u001b[0m\u001b[37m\u001b[0m \u001b[1m164s\u001b[0m 76ms/step - loss: 0.9818 - mean_absolute_error: 0.5939 - r2_score: 0.0177 - val_loss: 0.9901 - val_mean_absolute_error: 0.5554 - val_r2_score: 0.0099 - learning_rate: 4.3047e-04\n",
      "Epoch 9/10\n",
      "\u001b[1m2119/2119\u001b[0m \u001b[32m━━━━━━━━━━━━━━━━━━━━\u001b[0m\u001b[37m\u001b[0m \u001b[1m165s\u001b[0m 76ms/step - loss: 0.9817 - mean_absolute_error: 0.5939 - r2_score: 0.0178 - val_loss: 0.9897 - val_mean_absolute_error: 0.5555 - val_r2_score: 0.0103 - learning_rate: 3.8742e-04\n",
      "Epoch 10/10\n",
      "\u001b[1m2119/2119\u001b[0m \u001b[32m━━━━━━━━━━━━━━━━━━━━\u001b[0m\u001b[37m\u001b[0m \u001b[1m174s\u001b[0m 80ms/step - loss: 0.9815 - mean_absolute_error: 0.5938 - r2_score: 0.0179 - val_loss: 0.9900 - val_mean_absolute_error: 0.5556 - val_r2_score: 0.0100 - learning_rate: 3.4868e-04\n"
     ]
    }
   ],
   "source": [
    "callbacks = [\n",
    "    keras.callbacks.ModelCheckpoint('/kaggle/working/fitted.keras', save_best_only=True),\n",
    "    keras.callbacks.ModelCheckpoint('/kaggle/working/intermediate.keras', save_best_only=False),\n",
    "    keras.callbacks.LearningRateScheduler(lambda epoch, lr: lr * 0.9),\n",
    "    keras.callbacks.EarlyStopping(patience=2)\n",
    "]\n",
    "\n",
    "history = model.fit(x=train_ds, validation_data=val_ds, epochs=10, callbacks = callbacks)"
   ]
  },
  {
   "cell_type": "markdown",
   "id": "f83c48f3",
   "metadata": {
    "execution": {
     "iopub.execute_input": "2024-12-19T21:16:33.404263Z",
     "iopub.status.busy": "2024-12-19T21:16:33.403835Z",
     "iopub.status.idle": "2024-12-19T21:16:41.038672Z",
     "shell.execute_reply": "2024-12-19T21:16:41.037480Z",
     "shell.execute_reply.started": "2024-12-19T21:16:33.404225Z"
    },
    "papermill": {
     "duration": 1.357374,
     "end_time": "2024-12-23T22:25:34.785679",
     "exception": false,
     "start_time": "2024-12-23T22:25:33.428305",
     "status": "completed"
    },
    "tags": []
   },
   "source": [
    "## Evaluate Model"
   ]
  },
  {
   "cell_type": "code",
   "execution_count": 11,
   "id": "f816fc73",
   "metadata": {
    "execution": {
     "iopub.execute_input": "2024-12-23T22:25:37.394836Z",
     "iopub.status.busy": "2024-12-23T22:25:37.394403Z",
     "iopub.status.idle": "2024-12-23T22:25:37.449977Z",
     "shell.execute_reply": "2024-12-23T22:25:37.448859Z"
    },
    "papermill": {
     "duration": 1.349541,
     "end_time": "2024-12-23T22:25:37.452498",
     "exception": false,
     "start_time": "2024-12-23T22:25:36.102957",
     "status": "completed"
    },
    "tags": []
   },
   "outputs": [],
   "source": [
    "test_ds = test_raw.map(lambda i: (\n",
    "    normalize_data(clean_data(i['features'])),\n",
    "    i['target']\n",
    "))"
   ]
  },
  {
   "cell_type": "code",
   "execution_count": 12,
   "id": "47b09d19",
   "metadata": {
    "execution": {
     "iopub.execute_input": "2024-12-23T22:25:40.052539Z",
     "iopub.status.busy": "2024-12-23T22:25:40.052099Z",
     "iopub.status.idle": "2024-12-23T22:25:57.083438Z",
     "shell.execute_reply": "2024-12-23T22:25:57.082035Z"
    },
    "papermill": {
     "duration": 18.333482,
     "end_time": "2024-12-23T22:25:57.085927",
     "exception": false,
     "start_time": "2024-12-23T22:25:38.752445",
     "status": "completed"
    },
    "tags": []
   },
   "outputs": [
    {
     "name": "stdout",
     "output_type": "stream",
     "text": [
      "\u001b[1m1/1\u001b[0m \u001b[32m━━━━━━━━━━━━━━━━━━━━\u001b[0m\u001b[37m\u001b[0m \u001b[1m17s\u001b[0m 17s/step - loss: 0.9957 - mean_absolute_error: 0.5343 - r2_score: 0.0043\n"
     ]
    },
    {
     "data": {
      "text/plain": [
       "[0.9956994652748108, 0.5342878699302673, 0.004279077053070068]"
      ]
     },
     "execution_count": 12,
     "metadata": {},
     "output_type": "execute_result"
    }
   ],
   "source": [
    "model.evaluate(x=test_ds)"
   ]
  },
  {
   "cell_type": "code",
   "execution_count": null,
   "id": "9b4b88cb",
   "metadata": {
    "papermill": {
     "duration": 1.307699,
     "end_time": "2024-12-23T22:25:59.681099",
     "exception": false,
     "start_time": "2024-12-23T22:25:58.373400",
     "status": "completed"
    },
    "tags": []
   },
   "outputs": [],
   "source": []
  }
 ],
 "metadata": {
  "kaggle": {
   "accelerator": "none",
   "dataSources": [
    {
     "databundleVersionId": 9871156,
     "sourceId": 84493,
     "sourceType": "competition"
    },
    {
     "sourceId": 214372757,
     "sourceType": "kernelVersion"
    }
   ],
   "dockerImageVersionId": 30805,
   "isGpuEnabled": false,
   "isInternetEnabled": false,
   "language": "python",
   "sourceType": "notebook"
  },
  "kernelspec": {
   "display_name": "Python 3",
   "language": "python",
   "name": "python3"
  },
  "language_info": {
   "codemirror_mode": {
    "name": "ipython",
    "version": 3
   },
   "file_extension": ".py",
   "mimetype": "text/x-python",
   "name": "python",
   "nbconvert_exporter": "python",
   "pygments_lexer": "ipython3",
   "version": "3.10.14"
  },
  "papermill": {
   "default_parameters": {},
   "duration": 1746.937926,
   "end_time": "2024-12-23T22:26:04.000911",
   "environment_variables": {},
   "exception": null,
   "input_path": "__notebook__.ipynb",
   "output_path": "__notebook__.ipynb",
   "parameters": {},
   "start_time": "2024-12-23T21:56:57.062985",
   "version": "2.6.0"
  }
 },
 "nbformat": 4,
 "nbformat_minor": 5
}
