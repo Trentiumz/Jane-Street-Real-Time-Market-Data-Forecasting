{
 "cells": [
  {
   "cell_type": "code",
   "execution_count": 1,
   "id": "14b0b927",
   "metadata": {
    "execution": {
     "iopub.execute_input": "2024-12-23T21:21:28.453461Z",
     "iopub.status.busy": "2024-12-23T21:21:28.453021Z",
     "iopub.status.idle": "2024-12-23T21:21:46.454776Z",
     "shell.execute_reply": "2024-12-23T21:21:46.453408Z"
    },
    "papermill": {
     "duration": 18.011912,
     "end_time": "2024-12-23T21:21:46.458057",
     "exception": false,
     "start_time": "2024-12-23T21:21:28.446145",
     "status": "completed"
    },
    "tags": []
   },
   "outputs": [],
   "source": [
    "# This Python 3 environment comes with many helpful analytics libraries installed\n",
    "# It is defined by the kaggle/python Docker image: https://github.com/kaggle/docker-python\n",
    "# For example, here's several helpful packages to load\n",
    "\n",
    "import numpy as np # linear algebra\n",
    "import polars as pl # data processing, CSV file I/O (e.g. pd.read_csv)\n",
    "import pandas as pd\n",
    "import os\n",
    "from pathlib import Path\n",
    "import tensorflow as tf\n",
    "from tensorflow import keras\n",
    "from tensorflow.keras import layers\n",
    "import gc\n",
    "\n",
    "# Input data files are available in the read-only \"../input/\" directory\n",
    "# For example, running this (by clicking run or pressing Shift+Enter) will list all files under the input directory\n",
    "\n",
    "# You can write up to 20GB to the current directory (/kaggle/working/) that gets preserved as output when you create a version using \"Save & Run All\" \n",
    "# You can also write temporary files to /kaggle/temp/, but they won't be saved outside of the current session"
   ]
  },
  {
   "cell_type": "markdown",
   "id": "3a3d409e",
   "metadata": {
    "papermill": {
     "duration": 0.004243,
     "end_time": "2024-12-23T21:21:46.467223",
     "exception": false,
     "start_time": "2024-12-23T21:21:46.462980",
     "status": "completed"
    },
    "tags": []
   },
   "source": [
    "## Read Input"
   ]
  },
  {
   "cell_type": "code",
   "execution_count": 2,
   "id": "5f63ea21",
   "metadata": {
    "execution": {
     "iopub.execute_input": "2024-12-23T21:21:46.478147Z",
     "iopub.status.busy": "2024-12-23T21:21:46.477358Z",
     "iopub.status.idle": "2024-12-23T21:21:46.485565Z",
     "shell.execute_reply": "2024-12-23T21:21:46.484352Z"
    },
    "papermill": {
     "duration": 0.016422,
     "end_time": "2024-12-23T21:21:46.487839",
     "exception": false,
     "start_time": "2024-12-23T21:21:46.471417",
     "status": "completed"
    },
    "tags": []
   },
   "outputs": [],
   "source": [
    "base_path = Path(\"/kaggle/input/jane-street-real-time-market-data-forecasting/\")\n",
    "train_path = base_path / Path(\"train.parquet\")\n",
    "train_read_paths = [train_path / Path(f\"partition_id={i}/part-0.parquet\") for i in [0, 1, 2, 3, 4, 5, 6, 7]]\n",
    "val_read_paths = [train_path / Path(f\"partition_id={i}/part-0.parquet\") for i in [8]]\n",
    "test_read_paths = [train_path / Path(f\"partition_id={i}/part-0.parquet\") for i in [9]]\n",
    "\n",
    "data_base_path = Path(\"/kaggle/input/js-feature-exploration/\")\n",
    "feature_data_path = data_base_path / Path(\"feature_data.csv\")\n",
    "\n",
    "target = \"responder_6\""
   ]
  },
  {
   "cell_type": "code",
   "execution_count": 3,
   "id": "3ee4cbec",
   "metadata": {
    "execution": {
     "iopub.execute_input": "2024-12-23T21:21:46.497859Z",
     "iopub.status.busy": "2024-12-23T21:21:46.497386Z",
     "iopub.status.idle": "2024-12-23T21:21:46.506174Z",
     "shell.execute_reply": "2024-12-23T21:21:46.504674Z"
    },
    "papermill": {
     "duration": 0.017234,
     "end_time": "2024-12-23T21:21:46.509122",
     "exception": false,
     "start_time": "2024-12-23T21:21:46.491888",
     "status": "completed"
    },
    "tags": []
   },
   "outputs": [],
   "source": [
    "class Config:\n",
    "    input_format = {\n",
    "        \"date_id\": tf.TensorSpec(shape=(None,), dtype=tf.float32),\n",
    "        \"time_id\": tf.TensorSpec(shape=(None,), dtype=tf.float32),\n",
    "        \"symbol_id\": tf.TensorSpec(shape=(None,), dtype=tf.float32),\n",
    "        \"weight\": tf.TensorSpec(shape=(None,), dtype=tf.float32),\n",
    "        \"features\": tf.TensorSpec(shape=(None, 79), dtype=tf.float32),\n",
    "        \"responders\": tf.TensorSpec(shape=(None, 9), dtype=tf.float32),\n",
    "        \"target\": tf.TensorSpec(shape=(None,), dtype=tf.float32)\n",
    "    }\n",
    "    train_batch_size = 512\n",
    "\n",
    "config = Config()"
   ]
  },
  {
   "cell_type": "code",
   "execution_count": 4,
   "id": "cdbe3e82",
   "metadata": {
    "execution": {
     "iopub.execute_input": "2024-12-23T21:21:46.519264Z",
     "iopub.status.busy": "2024-12-23T21:21:46.518787Z",
     "iopub.status.idle": "2024-12-23T21:21:46.692119Z",
     "shell.execute_reply": "2024-12-23T21:21:46.690715Z"
    },
    "papermill": {
     "duration": 0.181625,
     "end_time": "2024-12-23T21:21:46.694831",
     "exception": false,
     "start_time": "2024-12-23T21:21:46.513206",
     "status": "completed"
    },
    "tags": []
   },
   "outputs": [],
   "source": [
    "def chunk_features(chunk):\n",
    "    return chunk[[i for i in chunk.columns if i.startswith(\"feature_\")]]\n",
    "\n",
    "def from_files(paths):\n",
    "    def to_ret():\n",
    "        for filepath in paths:\n",
    "            chunk = pl.read_parquet(filepath)\n",
    "            yield {\n",
    "                \"date_id\": chunk[\"date_id\"],\n",
    "                \"time_id\": chunk[\"time_id\"],\n",
    "                \"symbol_id\": chunk[\"symbol_id\"],\n",
    "                \"weight\": chunk[\"weight\"],\n",
    "                \"features\": chunk_features(chunk),\n",
    "                \"responders\": chunk[[i for i in chunk.columns if i.startswith(\"responder_\")]],\n",
    "                \"target\": chunk[target]\n",
    "            }\n",
    "    return to_ret\n",
    "\n",
    "train_raw = tf.data.Dataset.from_generator(\n",
    "    from_files(train_read_paths),\n",
    "    output_signature=config.input_format\n",
    ").prefetch(tf.data.AUTOTUNE).cache()\n",
    "\n",
    "val_raw = tf.data.Dataset.from_generator(\n",
    "    from_files(val_read_paths),\n",
    "    output_signature=config.input_format\n",
    ").cache()\n",
    "\n",
    "test_raw = tf.data.Dataset.from_generator(\n",
    "    from_files(test_read_paths),\n",
    "    output_signature=config.input_format\n",
    ")"
   ]
  },
  {
   "cell_type": "code",
   "execution_count": 5,
   "id": "c7fbf41d",
   "metadata": {
    "execution": {
     "iopub.execute_input": "2024-12-23T21:21:46.705131Z",
     "iopub.status.busy": "2024-12-23T21:21:46.704735Z",
     "iopub.status.idle": "2024-12-23T21:21:46.714440Z",
     "shell.execute_reply": "2024-12-23T21:21:46.713125Z"
    },
    "papermill": {
     "duration": 0.017984,
     "end_time": "2024-12-23T21:21:46.716966",
     "exception": false,
     "start_time": "2024-12-23T21:21:46.698982",
     "status": "completed"
    },
    "tags": []
   },
   "outputs": [
    {
     "data": {
      "text/plain": [
       "{'date_id': TensorSpec(shape=(None,), dtype=tf.float32, name=None),\n",
       " 'time_id': TensorSpec(shape=(None,), dtype=tf.float32, name=None),\n",
       " 'symbol_id': TensorSpec(shape=(None,), dtype=tf.float32, name=None),\n",
       " 'weight': TensorSpec(shape=(None,), dtype=tf.float32, name=None),\n",
       " 'features': TensorSpec(shape=(None, 79), dtype=tf.float32, name=None),\n",
       " 'responders': TensorSpec(shape=(None, 9), dtype=tf.float32, name=None),\n",
       " 'target': TensorSpec(shape=(None,), dtype=tf.float32, name=None)}"
      ]
     },
     "execution_count": 5,
     "metadata": {},
     "output_type": "execute_result"
    }
   ],
   "source": [
    "train_raw.element_spec"
   ]
  },
  {
   "cell_type": "markdown",
   "id": "41616060",
   "metadata": {
    "papermill": {
     "duration": 0.003968,
     "end_time": "2024-12-23T21:21:46.726570",
     "exception": false,
     "start_time": "2024-12-23T21:21:46.722602",
     "status": "completed"
    },
    "tags": []
   },
   "source": [
    "## Filter, Clean, Normalize Data"
   ]
  },
  {
   "cell_type": "code",
   "execution_count": 6,
   "id": "679d2bb3",
   "metadata": {
    "execution": {
     "iopub.execute_input": "2024-12-23T21:21:46.738262Z",
     "iopub.status.busy": "2024-12-23T21:21:46.737763Z",
     "iopub.status.idle": "2024-12-23T21:21:46.849112Z",
     "shell.execute_reply": "2024-12-23T21:21:46.847707Z"
    },
    "papermill": {
     "duration": 0.120104,
     "end_time": "2024-12-23T21:21:46.851815",
     "exception": false,
     "start_time": "2024-12-23T21:21:46.731711",
     "status": "completed"
    },
    "tags": []
   },
   "outputs": [],
   "source": [
    "feature_data_df = pl.read_csv(feature_data_path)\n",
    "means = np.asarray(feature_data_df['mean']).astype('float32')\n",
    "stds = np.asarray(feature_data_df['std']).astype('float32')"
   ]
  },
  {
   "cell_type": "code",
   "execution_count": 7,
   "id": "92e0e70c",
   "metadata": {
    "execution": {
     "iopub.execute_input": "2024-12-23T21:21:46.862033Z",
     "iopub.status.busy": "2024-12-23T21:21:46.861297Z",
     "iopub.status.idle": "2024-12-23T21:21:47.082079Z",
     "shell.execute_reply": "2024-12-23T21:21:47.080522Z"
    },
    "papermill": {
     "duration": 0.229101,
     "end_time": "2024-12-23T21:21:47.085055",
     "exception": false,
     "start_time": "2024-12-23T21:21:46.855954",
     "status": "completed"
    },
    "tags": []
   },
   "outputs": [],
   "source": [
    "def clean_data(features):\n",
    "    return tf.where(\n",
    "        tf.logical_or(tf.math.is_nan(features), tf.math.is_inf(features)), \n",
    "        means, \n",
    "        features)\n",
    "\n",
    "def normalize_data(features):\n",
    "    return (features - means) / tf.math.maximum(1.0, stds)\n",
    "\n",
    "def format_data(features):\n",
    "    return normalize_data(clean_data(features))\n",
    "\n",
    "train_ds = train_raw.map(lambda i: (\n",
    "                        format_data(i['features']),\n",
    "                        i['target']\n",
    "                        )).unbatch().shuffle(10000).batch(config.train_batch_size)\n",
    "val_ds = val_raw.map(lambda i: (\n",
    "    format_data(i['features']),\n",
    "    i['target']\n",
    "))"
   ]
  },
  {
   "cell_type": "markdown",
   "id": "78e00543",
   "metadata": {
    "execution": {
     "iopub.execute_input": "2024-12-18T04:06:27.478694Z",
     "iopub.status.busy": "2024-12-18T04:06:27.477500Z",
     "iopub.status.idle": "2024-12-18T04:06:27.485848Z",
     "shell.execute_reply": "2024-12-18T04:06:27.484622Z",
     "shell.execute_reply.started": "2024-12-18T04:06:27.478647Z"
    },
    "papermill": {
     "duration": 0.003794,
     "end_time": "2024-12-23T21:21:47.093404",
     "exception": false,
     "start_time": "2024-12-23T21:21:47.089610",
     "status": "completed"
    },
    "tags": []
   },
   "source": [
    "## Train a Model"
   ]
  },
  {
   "cell_type": "code",
   "execution_count": 8,
   "id": "6917750b",
   "metadata": {
    "execution": {
     "iopub.execute_input": "2024-12-23T21:21:47.103441Z",
     "iopub.status.busy": "2024-12-23T21:21:47.102951Z",
     "iopub.status.idle": "2024-12-23T21:21:47.188116Z",
     "shell.execute_reply": "2024-12-23T21:21:47.186888Z"
    },
    "papermill": {
     "duration": 0.093468,
     "end_time": "2024-12-23T21:21:47.190912",
     "exception": false,
     "start_time": "2024-12-23T21:21:47.097444",
     "status": "completed"
    },
    "tags": []
   },
   "outputs": [],
   "source": [
    "inp = keras.Input(shape=(79,))\n",
    "x = layers.Dense(units=40, activation=\"relu\")(inp)\n",
    "x = layers.Dense(units=30, activation=\"relu\")(x)\n",
    "x = layers.Dense(units=20, activation=\"relu\")(x)\n",
    "x = layers.Dense(units=10, activation=\"relu\")(x)\n",
    "x = layers.Dense(units=5, activation=\"relu\")(x)\n",
    "x = layers.Dense(units=1)(x)\n",
    "model = keras.Model(inputs=inp, outputs=x)"
   ]
  },
  {
   "cell_type": "code",
   "execution_count": 9,
   "id": "4a005be6",
   "metadata": {
    "execution": {
     "iopub.execute_input": "2024-12-23T21:21:47.201858Z",
     "iopub.status.busy": "2024-12-23T21:21:47.201456Z",
     "iopub.status.idle": "2024-12-23T21:21:47.222000Z",
     "shell.execute_reply": "2024-12-23T21:21:47.220695Z"
    },
    "papermill": {
     "duration": 0.029095,
     "end_time": "2024-12-23T21:21:47.224692",
     "exception": false,
     "start_time": "2024-12-23T21:21:47.195597",
     "status": "completed"
    },
    "tags": []
   },
   "outputs": [],
   "source": [
    "def r2_loss(y_true, y_pred):\n",
    "    return tf.math.reduce_sum((y_true - y_pred) ** 2) / tf.math.reduce_sum(y_true ** 2)\n",
    "\n",
    "model.compile(optimizer=\"rmsprop\", loss=\"mse\", metrics=[keras.metrics.MeanAbsoluteError(), keras.metrics.R2Score()])"
   ]
  },
  {
   "cell_type": "code",
   "execution_count": 10,
   "id": "deb2b3b8",
   "metadata": {
    "execution": {
     "iopub.execute_input": "2024-12-23T21:21:47.235498Z",
     "iopub.status.busy": "2024-12-23T21:21:47.234323Z",
     "iopub.status.idle": "2024-12-23T21:36:06.107372Z",
     "shell.execute_reply": "2024-12-23T21:36:06.105104Z"
    },
    "papermill": {
     "duration": 858.881644,
     "end_time": "2024-12-23T21:36:06.110663",
     "exception": false,
     "start_time": "2024-12-23T21:21:47.229019",
     "status": "completed"
    },
    "tags": []
   },
   "outputs": [
    {
     "name": "stdout",
     "output_type": "stream",
     "text": [
      "Epoch 1/10\n",
      "  67794/Unknown \u001b[1m307s\u001b[0m 4ms/step - loss: 0.8157 - mean_absolute_error: 0.5924 - r2_score: 0.0325"
     ]
    },
    {
     "name": "stderr",
     "output_type": "stream",
     "text": [
      "/opt/conda/lib/python3.10/contextlib.py:153: UserWarning: Your input ran out of data; interrupting training. Make sure that your dataset or generator can generate at least `steps_per_epoch * epochs` batches. You may need to use the `.repeat()` function when building your dataset.\n",
      "  self.gen.throw(typ, value, traceback)\n"
     ]
    },
    {
     "name": "stdout",
     "output_type": "stream",
     "text": [
      "\u001b[1m67799/67799\u001b[0m \u001b[32m━━━━━━━━━━━━━━━━━━━━\u001b[0m\u001b[37m\u001b[0m \u001b[1m330s\u001b[0m 5ms/step - loss: 0.8157 - mean_absolute_error: 0.5924 - r2_score: 0.0325 - val_loss: 0.7630 - val_mean_absolute_error: 0.5618 - val_r2_score: -0.0142 - learning_rate: 9.0000e-04\n",
      "Epoch 2/10\n",
      "\u001b[1m67799/67799\u001b[0m \u001b[32m━━━━━━━━━━━━━━━━━━━━\u001b[0m\u001b[37m\u001b[0m \u001b[1m256s\u001b[0m 4ms/step - loss: 0.8199 - mean_absolute_error: 0.5927 - r2_score: 0.0274 - val_loss: 0.8333 - val_mean_absolute_error: 0.5983 - val_r2_score: -0.1077 - learning_rate: 8.1000e-04\n",
      "Epoch 3/10\n",
      "\u001b[1m67799/67799\u001b[0m \u001b[32m━━━━━━━━━━━━━━━━━━━━\u001b[0m\u001b[37m\u001b[0m \u001b[1m272s\u001b[0m 4ms/step - loss: 0.8212 - mean_absolute_error: 0.5930 - r2_score: 0.0259 - val_loss: 0.7638 - val_mean_absolute_error: 0.5617 - val_r2_score: -0.0153 - learning_rate: 7.2900e-04\n"
     ]
    }
   ],
   "source": [
    "callbacks = [\n",
    "    keras.callbacks.ModelCheckpoint('/kaggle/working/fitted.keras', save_best_only=True),\n",
    "    keras.callbacks.ModelCheckpoint('/kaggle/working/intermediate.keras', save_best_only=False),\n",
    "    keras.callbacks.LearningRateScheduler(lambda epoch, lr: lr * 0.9),\n",
    "    keras.callbacks.EarlyStopping(patience=2)\n",
    "]\n",
    "\n",
    "history = model.fit(x=train_ds, validation_data=val_ds, epochs=10, callbacks = callbacks)"
   ]
  },
  {
   "cell_type": "markdown",
   "id": "9c87b5e4",
   "metadata": {
    "execution": {
     "iopub.execute_input": "2024-12-19T21:16:33.404263Z",
     "iopub.status.busy": "2024-12-19T21:16:33.403835Z",
     "iopub.status.idle": "2024-12-19T21:16:41.038672Z",
     "shell.execute_reply": "2024-12-19T21:16:41.037480Z",
     "shell.execute_reply.started": "2024-12-19T21:16:33.404225Z"
    },
    "papermill": {
     "duration": 1.040727,
     "end_time": "2024-12-23T21:36:08.072007",
     "exception": false,
     "start_time": "2024-12-23T21:36:07.031280",
     "status": "completed"
    },
    "tags": []
   },
   "source": [
    "## Evaluate Model"
   ]
  },
  {
   "cell_type": "code",
   "execution_count": 11,
   "id": "2bd62f4b",
   "metadata": {
    "execution": {
     "iopub.execute_input": "2024-12-23T21:36:09.971497Z",
     "iopub.status.busy": "2024-12-23T21:36:09.970786Z",
     "iopub.status.idle": "2024-12-23T21:36:10.025007Z",
     "shell.execute_reply": "2024-12-23T21:36:10.023336Z"
    },
    "papermill": {
     "duration": 1.032434,
     "end_time": "2024-12-23T21:36:10.028361",
     "exception": false,
     "start_time": "2024-12-23T21:36:08.995927",
     "status": "completed"
    },
    "tags": []
   },
   "outputs": [],
   "source": [
    "test_ds = test_raw.map(lambda i: (\n",
    "    normalize_data(clean_data(i['features'])),\n",
    "    i['target']\n",
    "))"
   ]
  },
  {
   "cell_type": "code",
   "execution_count": 12,
   "id": "44d97d11",
   "metadata": {
    "execution": {
     "iopub.execute_input": "2024-12-23T21:36:12.034672Z",
     "iopub.status.busy": "2024-12-23T21:36:12.034204Z",
     "iopub.status.idle": "2024-12-23T21:36:33.764015Z",
     "shell.execute_reply": "2024-12-23T21:36:33.762558Z"
    },
    "papermill": {
     "duration": 22.659369,
     "end_time": "2024-12-23T21:36:33.767078",
     "exception": false,
     "start_time": "2024-12-23T21:36:11.107709",
     "status": "completed"
    },
    "tags": []
   },
   "outputs": [
    {
     "name": "stdout",
     "output_type": "stream",
     "text": [
      "\u001b[1m1/1\u001b[0m \u001b[32m━━━━━━━━━━━━━━━━━━━━\u001b[0m\u001b[37m\u001b[0m \u001b[1m22s\u001b[0m 22s/step - loss: 0.6704 - mean_absolute_error: 0.5377 - r2_score: -0.0114\n"
     ]
    },
    {
     "data": {
      "text/plain": [
       "[0.6703789234161377, 0.5376545786857605, -0.011391997337341309]"
      ]
     },
     "execution_count": 12,
     "metadata": {},
     "output_type": "execute_result"
    }
   ],
   "source": [
    "model.evaluate(x=test_ds)"
   ]
  },
  {
   "cell_type": "code",
   "execution_count": null,
   "id": "22a03b20",
   "metadata": {
    "papermill": {
     "duration": 1.001904,
     "end_time": "2024-12-23T21:36:35.762259",
     "exception": false,
     "start_time": "2024-12-23T21:36:34.760355",
     "status": "completed"
    },
    "tags": []
   },
   "outputs": [],
   "source": []
  }
 ],
 "metadata": {
  "kaggle": {
   "accelerator": "none",
   "dataSources": [
    {
     "databundleVersionId": 9871156,
     "sourceId": 84493,
     "sourceType": "competition"
    },
    {
     "sourceId": 214372757,
     "sourceType": "kernelVersion"
    }
   ],
   "dockerImageVersionId": 30805,
   "isGpuEnabled": false,
   "isInternetEnabled": false,
   "language": "python",
   "sourceType": "notebook"
  },
  "kernelspec": {
   "display_name": "Python 3",
   "language": "python",
   "name": "python3"
  },
  "language_info": {
   "codemirror_mode": {
    "name": "ipython",
    "version": 3
   },
   "file_extension": ".py",
   "mimetype": "text/x-python",
   "name": "python",
   "nbconvert_exporter": "python",
   "pygments_lexer": "ipython3",
   "version": "3.10.14"
  },
  "papermill": {
   "default_parameters": {},
   "duration": 915.080794,
   "end_time": "2024-12-23T21:36:39.814365",
   "environment_variables": {},
   "exception": null,
   "input_path": "__notebook__.ipynb",
   "output_path": "__notebook__.ipynb",
   "parameters": {},
   "start_time": "2024-12-23T21:21:24.733571",
   "version": "2.6.0"
  }
 },
 "nbformat": 4,
 "nbformat_minor": 5
}
