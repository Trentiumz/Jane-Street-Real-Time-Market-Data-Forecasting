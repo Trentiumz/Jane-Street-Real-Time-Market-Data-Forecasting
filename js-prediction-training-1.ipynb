{
 "cells": [
  {
   "cell_type": "code",
   "execution_count": 1,
   "id": "a7c21e87",
   "metadata": {
    "execution": {
     "iopub.execute_input": "2024-12-25T18:36:47.579176Z",
     "iopub.status.busy": "2024-12-25T18:36:47.578804Z",
     "iopub.status.idle": "2024-12-25T18:36:59.895439Z",
     "shell.execute_reply": "2024-12-25T18:36:59.894722Z"
    },
    "papermill": {
     "duration": 12.323759,
     "end_time": "2024-12-25T18:36:59.897417",
     "exception": false,
     "start_time": "2024-12-25T18:36:47.573658",
     "status": "completed"
    },
    "tags": []
   },
   "outputs": [],
   "source": [
    "# This Python 3 environment comes with many helpful analytics libraries installed\n",
    "# It is defined by the kaggle/python Docker image: https://github.com/kaggle/docker-python\n",
    "# For example, here's several helpful packages to load\n",
    "\n",
    "import numpy as np # linear algebra\n",
    "import polars as pl # data processing, CSV file I/O (e.g. pd.read_csv)\n",
    "import pandas as pd\n",
    "import os\n",
    "from pathlib import Path\n",
    "import tensorflow as tf\n",
    "from tensorflow import keras\n",
    "from tensorflow.keras import layers\n",
    "import gc\n",
    "import re\n",
    "import random\n",
    "\n",
    "# Input data files are available in the read-only \"../input/\" directory\n",
    "# For example, running this (by clicking run or pressing Shift+Enter) will list all files under the input directory\n",
    "\n",
    "# You can write up to 20GB to the current directory (/kaggle/working/) that gets preserved as output when you create a version using \"Save & Run All\" \n",
    "# You can also write temporary files to /kaggle/temp/, but they won't be saved outside of the current session"
   ]
  },
  {
   "cell_type": "code",
   "execution_count": 2,
   "id": "b96b4fe3",
   "metadata": {
    "execution": {
     "iopub.execute_input": "2024-12-25T18:36:59.905637Z",
     "iopub.status.busy": "2024-12-25T18:36:59.905151Z",
     "iopub.status.idle": "2024-12-25T18:36:59.909693Z",
     "shell.execute_reply": "2024-12-25T18:36:59.908860Z"
    },
    "papermill": {
     "duration": 0.010361,
     "end_time": "2024-12-25T18:36:59.911406",
     "exception": false,
     "start_time": "2024-12-25T18:36:59.901045",
     "status": "completed"
    },
    "tags": []
   },
   "outputs": [],
   "source": [
    "np.random.seed(15234)\n",
    "random.seed(15234)\n",
    "os.environ['PYTHONHASHSEED'] = '42'\n",
    "tf.random.set_seed(15234)"
   ]
  },
  {
   "cell_type": "markdown",
   "id": "45af4547",
   "metadata": {
    "papermill": {
     "duration": 0.002898,
     "end_time": "2024-12-25T18:36:59.918410",
     "exception": false,
     "start_time": "2024-12-25T18:36:59.915512",
     "status": "completed"
    },
    "tags": []
   },
   "source": [
    "## Read Input"
   ]
  },
  {
   "cell_type": "code",
   "execution_count": 3,
   "id": "9e71f68a",
   "metadata": {
    "execution": {
     "iopub.execute_input": "2024-12-25T18:36:59.925545Z",
     "iopub.status.busy": "2024-12-25T18:36:59.925281Z",
     "iopub.status.idle": "2024-12-25T18:36:59.930457Z",
     "shell.execute_reply": "2024-12-25T18:36:59.929722Z"
    },
    "papermill": {
     "duration": 0.010545,
     "end_time": "2024-12-25T18:36:59.932014",
     "exception": false,
     "start_time": "2024-12-25T18:36:59.921469",
     "status": "completed"
    },
    "tags": []
   },
   "outputs": [],
   "source": [
    "base_path = Path(\"/kaggle/input/jane-street-real-time-market-data-forecasting/\")\n",
    "preprocess_path = Path('/kaggle/input/js-preprocessing/')\n",
    "train_path = preprocess_path / Path(\"train/\")\n",
    "train_read_paths = [train_path / Path(f\"partition_id={i}/part-0.parquet\") for i in [0, 1, 2, 3, 4, 5, 6, 7]]\n",
    "val_read_paths = [train_path / Path(f\"partition_id={i}/part-0.parquet\") for i in [8]]\n",
    "test_read_paths = [train_path / Path(f\"partition_id={i}/part-0.parquet\") for i in [9]]\n",
    "\n",
    "data_base_path = Path(\"/kaggle/input/js-preprocessing/\")\n",
    "feature_data_path = data_base_path / Path(\"feature_data.csv\")\n",
    "\n",
    "target = \"responder_6\""
   ]
  },
  {
   "cell_type": "code",
   "execution_count": 4,
   "id": "b57ad287",
   "metadata": {
    "execution": {
     "iopub.execute_input": "2024-12-25T18:36:59.939354Z",
     "iopub.status.busy": "2024-12-25T18:36:59.939122Z",
     "iopub.status.idle": "2024-12-25T18:36:59.944133Z",
     "shell.execute_reply": "2024-12-25T18:36:59.943491Z"
    },
    "papermill": {
     "duration": 0.010507,
     "end_time": "2024-12-25T18:36:59.945725",
     "exception": false,
     "start_time": "2024-12-25T18:36:59.935218",
     "status": "completed"
    },
    "tags": []
   },
   "outputs": [],
   "source": [
    "class Config:\n",
    "    input_format = {\n",
    "        \"date_id\": tf.TensorSpec(shape=(None,), dtype=tf.float32),\n",
    "        \"time_id\": tf.TensorSpec(shape=(None,), dtype=tf.float32),\n",
    "        \"symbol_id\": tf.TensorSpec(shape=(None,), dtype=tf.float32),\n",
    "        \"weight\": tf.TensorSpec(shape=(None,), dtype=tf.float32),\n",
    "        \"features\": tf.TensorSpec(shape=(None, 79), dtype=tf.float32),\n",
    "        \"responders\": tf.TensorSpec(shape=(None, 9), dtype=tf.float32),\n",
    "        \"lags\": tf.TensorSpec(shape=(None, 9), dtype=tf.float32),\n",
    "        \"target\": tf.TensorSpec(shape=(None,), dtype=tf.float32)\n",
    "    }\n",
    "    train_batch_size = 16384\n",
    "    val_batch_size = 512\n",
    "\n",
    "config = Config()"
   ]
  },
  {
   "cell_type": "code",
   "execution_count": 5,
   "id": "8794a0d2",
   "metadata": {
    "execution": {
     "iopub.execute_input": "2024-12-25T18:36:59.952697Z",
     "iopub.status.busy": "2024-12-25T18:36:59.952484Z",
     "iopub.status.idle": "2024-12-25T18:37:00.758637Z",
     "shell.execute_reply": "2024-12-25T18:37:00.757871Z"
    },
    "papermill": {
     "duration": 0.811932,
     "end_time": "2024-12-25T18:37:00.760698",
     "exception": false,
     "start_time": "2024-12-25T18:36:59.948766",
     "status": "completed"
    },
    "tags": []
   },
   "outputs": [],
   "source": [
    "feature_format = 'feature_\\d\\d'\n",
    "responder_format = 'responder_\\d'\n",
    "lag_format = 'responder_\\d_lag'\n",
    "\n",
    "def chunk_features(chunk):\n",
    "    return chunk[[i for i in chunk.columns if re.fullmatch(feature_format, i)]]\n",
    "def chunk_lags(chunk):\n",
    "    return chunk[[i for i in chunk.columns if re.fullmatch(lag_format, i)]]\n",
    "\n",
    "def from_files(paths):\n",
    "    def to_ret():\n",
    "        for filepath in paths:\n",
    "            chunk = pl.read_parquet(filepath)\n",
    "            yield {\n",
    "                \"date_id\": chunk[\"date_id\"],\n",
    "                \"time_id\": chunk[\"time_id\"],\n",
    "                \"symbol_id\": chunk[\"symbol_id\"],\n",
    "                \"weight\": chunk[\"weight\"],\n",
    "                \"features\": chunk_features(chunk),\n",
    "                \"responders\": chunk[[i for i in chunk.columns if re.fullmatch(responder_format, i)]],\n",
    "                \"lags\": chunk_lags(chunk),\n",
    "                \"target\": chunk[target]\n",
    "            }\n",
    "    return to_ret\n",
    "\n",
    "train_raw = tf.data.Dataset.from_generator(\n",
    "    from_files(train_read_paths),\n",
    "    output_signature=config.input_format\n",
    ").prefetch(tf.data.AUTOTUNE).cache()\n",
    "\n",
    "val_raw = tf.data.Dataset.from_generator(\n",
    "    from_files(val_read_paths),\n",
    "    output_signature=config.input_format\n",
    ").cache()\n",
    "\n",
    "test_raw = tf.data.Dataset.from_generator(\n",
    "    from_files(test_read_paths),\n",
    "    output_signature=config.input_format\n",
    ")"
   ]
  },
  {
   "cell_type": "code",
   "execution_count": 6,
   "id": "17df2f4a",
   "metadata": {
    "execution": {
     "iopub.execute_input": "2024-12-25T18:37:00.768507Z",
     "iopub.status.busy": "2024-12-25T18:37:00.768234Z",
     "iopub.status.idle": "2024-12-25T18:37:00.774149Z",
     "shell.execute_reply": "2024-12-25T18:37:00.773360Z"
    },
    "papermill": {
     "duration": 0.011645,
     "end_time": "2024-12-25T18:37:00.775777",
     "exception": false,
     "start_time": "2024-12-25T18:37:00.764132",
     "status": "completed"
    },
    "tags": []
   },
   "outputs": [
    {
     "data": {
      "text/plain": [
       "{'date_id': TensorSpec(shape=(None,), dtype=tf.float32, name=None),\n",
       " 'time_id': TensorSpec(shape=(None,), dtype=tf.float32, name=None),\n",
       " 'symbol_id': TensorSpec(shape=(None,), dtype=tf.float32, name=None),\n",
       " 'weight': TensorSpec(shape=(None,), dtype=tf.float32, name=None),\n",
       " 'features': TensorSpec(shape=(None, 79), dtype=tf.float32, name=None),\n",
       " 'responders': TensorSpec(shape=(None, 9), dtype=tf.float32, name=None),\n",
       " 'lags': TensorSpec(shape=(None, 9), dtype=tf.float32, name=None),\n",
       " 'target': TensorSpec(shape=(None,), dtype=tf.float32, name=None)}"
      ]
     },
     "execution_count": 6,
     "metadata": {},
     "output_type": "execute_result"
    }
   ],
   "source": [
    "train_raw.element_spec"
   ]
  },
  {
   "cell_type": "markdown",
   "id": "9c421eea",
   "metadata": {
    "papermill": {
     "duration": 0.003083,
     "end_time": "2024-12-25T18:37:00.782138",
     "exception": false,
     "start_time": "2024-12-25T18:37:00.779055",
     "status": "completed"
    },
    "tags": []
   },
   "source": [
    "## Filter, Clean, Normalize Data"
   ]
  },
  {
   "cell_type": "code",
   "execution_count": 7,
   "id": "cd880f87",
   "metadata": {
    "execution": {
     "iopub.execute_input": "2024-12-25T18:37:00.789485Z",
     "iopub.status.busy": "2024-12-25T18:37:00.789209Z",
     "iopub.status.idle": "2024-12-25T18:37:00.860832Z",
     "shell.execute_reply": "2024-12-25T18:37:00.859926Z"
    },
    "papermill": {
     "duration": 0.077438,
     "end_time": "2024-12-25T18:37:00.862722",
     "exception": false,
     "start_time": "2024-12-25T18:37:00.785284",
     "status": "completed"
    },
    "tags": []
   },
   "outputs": [],
   "source": [
    "feature_data_df = pl.read_csv(feature_data_path)\n",
    "means = np.asarray(feature_data_df['mean']).astype('float32')\n",
    "stds = np.asarray(feature_data_df['std']).astype('float32')"
   ]
  },
  {
   "cell_type": "code",
   "execution_count": 8,
   "id": "b0cccf9a",
   "metadata": {
    "execution": {
     "iopub.execute_input": "2024-12-25T18:37:00.870582Z",
     "iopub.status.busy": "2024-12-25T18:37:00.870290Z",
     "iopub.status.idle": "2024-12-25T18:37:02.512982Z",
     "shell.execute_reply": "2024-12-25T18:37:02.512328Z"
    },
    "papermill": {
     "duration": 1.648726,
     "end_time": "2024-12-25T18:37:02.514896",
     "exception": false,
     "start_time": "2024-12-25T18:37:00.866170",
     "status": "completed"
    },
    "tags": []
   },
   "outputs": [],
   "source": [
    "def clean_features(features):\n",
    "    return tf.where(\n",
    "        tf.logical_or(tf.math.is_nan(features), tf.math.is_inf(features)), \n",
    "        means, \n",
    "        features)\n",
    "\n",
    "def normalize_features(features):\n",
    "    return (features - means) / tf.math.maximum(1.0, stds)\n",
    "\n",
    "def clean_lags(lags):\n",
    "    return tf.where(\n",
    "        tf.logical_or(tf.math.is_nan(lags), tf.math.is_inf(lags)), \n",
    "        0.0, \n",
    "        lags)\n",
    "\n",
    "def format_data(features, lags):\n",
    "    return {\n",
    "        'feature': normalize_features(clean_features(features)),\n",
    "        'lags': clean_lags(lags)\n",
    "    }\n",
    "\n",
    "train_ds = train_raw.map(lambda i: (\n",
    "                        format_data(i['features'], i['lags']),\n",
    "                        i['target']\n",
    "                        )).unbatch().shuffle(10000).batch(config.train_batch_size)\n",
    "val_ds = val_raw.map(lambda i: (\n",
    "    format_data(i['features'], i['lags']),\n",
    "    i['target']\n",
    ")).unbatch().batch(config.val_batch_size)"
   ]
  },
  {
   "cell_type": "markdown",
   "id": "cd38f86f",
   "metadata": {
    "execution": {
     "iopub.execute_input": "2024-12-18T04:06:27.478694Z",
     "iopub.status.busy": "2024-12-18T04:06:27.477500Z",
     "iopub.status.idle": "2024-12-18T04:06:27.485848Z",
     "shell.execute_reply": "2024-12-18T04:06:27.484622Z",
     "shell.execute_reply.started": "2024-12-18T04:06:27.478647Z"
    },
    "papermill": {
     "duration": 0.003029,
     "end_time": "2024-12-25T18:37:02.521495",
     "exception": false,
     "start_time": "2024-12-25T18:37:02.518466",
     "status": "completed"
    },
    "tags": []
   },
   "source": [
    "## Train a Model"
   ]
  },
  {
   "cell_type": "code",
   "execution_count": 9,
   "id": "2612ff6c",
   "metadata": {
    "execution": {
     "iopub.execute_input": "2024-12-25T18:37:02.529561Z",
     "iopub.status.busy": "2024-12-25T18:37:02.528893Z",
     "iopub.status.idle": "2024-12-25T18:37:02.622233Z",
     "shell.execute_reply": "2024-12-25T18:37:02.621522Z"
    },
    "papermill": {
     "duration": 0.099449,
     "end_time": "2024-12-25T18:37:02.624105",
     "exception": false,
     "start_time": "2024-12-25T18:37:02.524656",
     "status": "completed"
    },
    "tags": []
   },
   "outputs": [],
   "source": [
    "feat_layer = keras.Input(shape=(79,), name='feature')\n",
    "lag_layer = keras.Input(shape=(9,), name='lags')\n",
    "inp = keras.layers.Concatenate()([feat_layer, lag_layer])\n",
    "x = layers.Dropout(rate=0.2)(inp)\n",
    "x = layers.Dense(units=256, activation=\"silu\", kernel_regularizer=\"l1l2\")(x)\n",
    "x = layers.Dropout(rate=0.2)(x)\n",
    "x = layers.Dense(units=128, activation=\"silu\", kernel_regularizer=\"l1l2\")(x)\n",
    "x = layers.Dropout(rate=0.3)(x)\n",
    "x = layers.Dense(units=64, activation=\"silu\", kernel_regularizer=\"l1l2\")(x)\n",
    "x = layers.Dropout(rate=0.4)(x)\n",
    "x = layers.Dense(units=16, activation=\"silu\")(x)\n",
    "x = layers.Dense(units=4, activation=\"silu\")(x)\n",
    "x = layers.Dense(units=1)(x)\n",
    "model = keras.Model(inputs=[feat_layer, lag_layer], outputs=x)"
   ]
  },
  {
   "cell_type": "code",
   "execution_count": 10,
   "id": "6c0e0a37",
   "metadata": {
    "execution": {
     "iopub.execute_input": "2024-12-25T18:37:02.631930Z",
     "iopub.status.busy": "2024-12-25T18:37:02.631690Z",
     "iopub.status.idle": "2024-12-25T18:37:02.646194Z",
     "shell.execute_reply": "2024-12-25T18:37:02.645606Z"
    },
    "papermill": {
     "duration": 0.02016,
     "end_time": "2024-12-25T18:37:02.647862",
     "exception": false,
     "start_time": "2024-12-25T18:37:02.627702",
     "status": "completed"
    },
    "tags": []
   },
   "outputs": [],
   "source": [
    "def r2_loss(y_true, y_pred):\n",
    "    return tf.math.reduce_sum((y_true - y_pred) ** 2) / tf.math.reduce_sum(y_true ** 2)\n",
    "\n",
    "model.compile(optimizer=\"rmsprop\", loss=\"mse\", metrics=[keras.metrics.MeanAbsoluteError(), keras.metrics.R2Score()])"
   ]
  },
  {
   "cell_type": "code",
   "execution_count": 11,
   "id": "746d0fa0",
   "metadata": {
    "execution": {
     "iopub.execute_input": "2024-12-25T18:37:02.655319Z",
     "iopub.status.busy": "2024-12-25T18:37:02.655027Z",
     "iopub.status.idle": "2024-12-25T19:11:12.555906Z",
     "shell.execute_reply": "2024-12-25T19:11:12.554972Z"
    },
    "papermill": {
     "duration": 2051.141887,
     "end_time": "2024-12-25T19:11:13.792949",
     "exception": false,
     "start_time": "2024-12-25T18:37:02.651062",
     "status": "completed"
    },
    "tags": []
   },
   "outputs": [
    {
     "name": "stdout",
     "output_type": "stream",
     "text": [
      "Epoch 1/1000\n"
     ]
    },
    {
     "name": "stderr",
     "output_type": "stream",
     "text": [
      "WARNING: All log messages before absl::InitializeLog() is called are written to STDERR\n",
      "I0000 00:00:1735151829.234021      65 service.cc:145] XLA service 0x7f82d000dee0 initialized for platform CUDA (this does not guarantee that XLA will be used). Devices:\n",
      "I0000 00:00:1735151829.234109      65 service.cc:153]   StreamExecutor device (0): Tesla P100-PCIE-16GB, Compute Capability 6.0\n"
     ]
    },
    {
     "name": "stdout",
     "output_type": "stream",
     "text": [
      "      4/Unknown \u001b[1m15s\u001b[0m 52ms/step - loss: 0.7058 - mean_absolute_error: 0.5725 - r2_score: -0.1382"
     ]
    },
    {
     "name": "stderr",
     "output_type": "stream",
     "text": [
      "I0000 00:00:1735151837.455522      65 device_compiler.h:188] Compiled cluster using XLA!  This line is logged at most once for the lifetime of the process.\n"
     ]
    },
    {
     "name": "stdout",
     "output_type": "stream",
     "text": [
      "   2119/Unknown \u001b[1m164s\u001b[0m 71ms/step - loss: 0.8381 - mean_absolute_error: 0.5976 - r2_score: 0.0058"
     ]
    },
    {
     "name": "stderr",
     "output_type": "stream",
     "text": [
      "/opt/conda/lib/python3.10/contextlib.py:153: UserWarning: Your input ran out of data; interrupting training. Make sure that your dataset or generator can generate at least `steps_per_epoch * epochs` batches. You may need to use the `.repeat()` function when building your dataset.\n",
      "  self.gen.throw(typ, value, traceback)\n"
     ]
    },
    {
     "name": "stdout",
     "output_type": "stream",
     "text": [
      "\u001b[1m2119/2119\u001b[0m \u001b[32m━━━━━━━━━━━━━━━━━━━━\u001b[0m\u001b[37m\u001b[0m \u001b[1m196s\u001b[0m 85ms/step - loss: 0.8381 - mean_absolute_error: 0.5976 - r2_score: 0.0058 - val_loss: 0.7441 - val_mean_absolute_error: 0.5558 - val_r2_score: 0.0109 - learning_rate: 0.0010\n",
      "Epoch 2/1000\n",
      "\u001b[1m2119/2119\u001b[0m \u001b[32m━━━━━━━━━━━━━━━━━━━━\u001b[0m\u001b[37m\u001b[0m \u001b[1m142s\u001b[0m 66ms/step - loss: 0.8335 - mean_absolute_error: 0.5957 - r2_score: 0.0115 - val_loss: 0.7430 - val_mean_absolute_error: 0.5553 - val_r2_score: 0.0125 - learning_rate: 0.0010\n",
      "Epoch 3/1000\n",
      "\u001b[1m2119/2119\u001b[0m \u001b[32m━━━━━━━━━━━━━━━━━━━━\u001b[0m\u001b[37m\u001b[0m \u001b[1m124s\u001b[0m 57ms/step - loss: 0.8327 - mean_absolute_error: 0.5956 - r2_score: 0.0125 - val_loss: 0.7426 - val_mean_absolute_error: 0.5550 - val_r2_score: 0.0130 - learning_rate: 0.0010\n",
      "Epoch 4/1000\n",
      "\u001b[1m2119/2119\u001b[0m \u001b[32m━━━━━━━━━━━━━━━━━━━━\u001b[0m\u001b[37m\u001b[0m \u001b[1m141s\u001b[0m 65ms/step - loss: 0.8321 - mean_absolute_error: 0.5954 - r2_score: 0.0131 - val_loss: 0.7423 - val_mean_absolute_error: 0.5550 - val_r2_score: 0.0133 - learning_rate: 0.0010\n",
      "Epoch 5/1000\n",
      "\u001b[1m2119/2119\u001b[0m \u001b[32m━━━━━━━━━━━━━━━━━━━━\u001b[0m\u001b[37m\u001b[0m \u001b[1m139s\u001b[0m 64ms/step - loss: 0.8315 - mean_absolute_error: 0.5953 - r2_score: 0.0138 - val_loss: 0.7418 - val_mean_absolute_error: 0.5548 - val_r2_score: 0.0141 - learning_rate: 0.0010\n",
      "Epoch 6/1000\n",
      "\u001b[1m2119/2119\u001b[0m \u001b[32m━━━━━━━━━━━━━━━━━━━━\u001b[0m\u001b[37m\u001b[0m \u001b[1m138s\u001b[0m 64ms/step - loss: 0.8312 - mean_absolute_error: 0.5953 - r2_score: 0.0142 - val_loss: 0.7423 - val_mean_absolute_error: 0.5548 - val_r2_score: 0.0133 - learning_rate: 0.0010\n",
      "Epoch 7/1000\n",
      "\u001b[1m2119/2119\u001b[0m \u001b[32m━━━━━━━━━━━━━━━━━━━━\u001b[0m\u001b[37m\u001b[0m \u001b[1m166s\u001b[0m 77ms/step - loss: 0.8310 - mean_absolute_error: 0.5952 - r2_score: 0.0144 - val_loss: 0.7422 - val_mean_absolute_error: 0.5548 - val_r2_score: 0.0135 - learning_rate: 0.0010\n",
      "Epoch 8/1000\n",
      "\u001b[1m2119/2119\u001b[0m \u001b[32m━━━━━━━━━━━━━━━━━━━━\u001b[0m\u001b[37m\u001b[0m \u001b[1m165s\u001b[0m 77ms/step - loss: 0.8307 - mean_absolute_error: 0.5951 - r2_score: 0.0148 - val_loss: 0.7422 - val_mean_absolute_error: 0.5547 - val_r2_score: 0.0134 - learning_rate: 0.0010\n",
      "Epoch 9/1000\n",
      "\u001b[1m2119/2119\u001b[0m \u001b[32m━━━━━━━━━━━━━━━━━━━━\u001b[0m\u001b[37m\u001b[0m \u001b[1m165s\u001b[0m 76ms/step - loss: 0.8309 - mean_absolute_error: 0.5952 - r2_score: 0.0145 - val_loss: 0.7424 - val_mean_absolute_error: 0.5549 - val_r2_score: 0.0132 - learning_rate: 5.0000e-04\n",
      "Epoch 10/1000\n",
      "\u001b[1m2119/2119\u001b[0m \u001b[32m━━━━━━━━━━━━━━━━━━━━\u001b[0m\u001b[37m\u001b[0m \u001b[1m163s\u001b[0m 75ms/step - loss: 0.8306 - mean_absolute_error: 0.5951 - r2_score: 0.0150 - val_loss: 0.7424 - val_mean_absolute_error: 0.5549 - val_r2_score: 0.0132 - learning_rate: 5.0000e-04\n",
      "Epoch 11/1000\n",
      "\u001b[1m2119/2119\u001b[0m \u001b[32m━━━━━━━━━━━━━━━━━━━━\u001b[0m\u001b[37m\u001b[0m \u001b[1m171s\u001b[0m 79ms/step - loss: 0.8304 - mean_absolute_error: 0.5951 - r2_score: 0.0152 - val_loss: 0.7425 - val_mean_absolute_error: 0.5549 - val_r2_score: 0.0131 - learning_rate: 5.0000e-04\n",
      "Epoch 12/1000\n",
      "\u001b[1m2119/2119\u001b[0m \u001b[32m━━━━━━━━━━━━━━━━━━━━\u001b[0m\u001b[37m\u001b[0m \u001b[1m174s\u001b[0m 81ms/step - loss: 0.8307 - mean_absolute_error: 0.5952 - r2_score: 0.0148 - val_loss: 0.7427 - val_mean_absolute_error: 0.5548 - val_r2_score: 0.0128 - learning_rate: 2.5000e-04\n",
      "Epoch 13/1000\n",
      "\u001b[1m2119/2119\u001b[0m \u001b[32m━━━━━━━━━━━━━━━━━━━━\u001b[0m\u001b[37m\u001b[0m \u001b[1m164s\u001b[0m 75ms/step - loss: 0.8304 - mean_absolute_error: 0.5951 - r2_score: 0.0152 - val_loss: 0.7425 - val_mean_absolute_error: 0.5548 - val_r2_score: 0.0131 - learning_rate: 2.5000e-04\n"
     ]
    }
   ],
   "source": [
    "callbacks = [\n",
    "    keras.callbacks.ModelCheckpoint('/kaggle/working/fitted.keras', save_best_only=True),\n",
    "    keras.callbacks.ModelCheckpoint('/kaggle/working/intermediate.keras', save_best_only=False),\n",
    "    keras.callbacks.ReduceLROnPlateau(factor=0.5, patience=3, min_delta=5e-5),\n",
    "    keras.callbacks.EarlyStopping(patience=8)\n",
    "]\n",
    "\n",
    "history = model.fit(x=train_ds, validation_data=val_ds, epochs=1000, callbacks = callbacks)"
   ]
  },
  {
   "cell_type": "markdown",
   "id": "0f9d34d1",
   "metadata": {
    "execution": {
     "iopub.execute_input": "2024-12-19T21:16:33.404263Z",
     "iopub.status.busy": "2024-12-19T21:16:33.403835Z",
     "iopub.status.idle": "2024-12-19T21:16:41.038672Z",
     "shell.execute_reply": "2024-12-19T21:16:41.037480Z",
     "shell.execute_reply.started": "2024-12-19T21:16:33.404225Z"
    },
    "papermill": {
     "duration": 1.301827,
     "end_time": "2024-12-25T19:11:16.373515",
     "exception": false,
     "start_time": "2024-12-25T19:11:15.071688",
     "status": "completed"
    },
    "tags": []
   },
   "source": [
    "## Evaluate Model"
   ]
  },
  {
   "cell_type": "code",
   "execution_count": 12,
   "id": "4712181d",
   "metadata": {
    "execution": {
     "iopub.execute_input": "2024-12-25T19:11:18.889016Z",
     "iopub.status.busy": "2024-12-25T19:11:18.888680Z",
     "iopub.status.idle": "2024-12-25T19:11:18.944020Z",
     "shell.execute_reply": "2024-12-25T19:11:18.943007Z"
    },
    "papermill": {
     "duration": 1.380668,
     "end_time": "2024-12-25T19:11:18.946237",
     "exception": false,
     "start_time": "2024-12-25T19:11:17.565569",
     "status": "completed"
    },
    "tags": []
   },
   "outputs": [],
   "source": [
    "test_ds = test_raw.map(lambda i: (\n",
    "                        format_data(i['features'], i['lags']),\n",
    "                        i['target']\n",
    "                        )).unbatch().batch(512)"
   ]
  },
  {
   "cell_type": "code",
   "execution_count": 13,
   "id": "9e78112d",
   "metadata": {
    "execution": {
     "iopub.execute_input": "2024-12-25T19:11:21.391834Z",
     "iopub.status.busy": "2024-12-25T19:11:21.391491Z",
     "iopub.status.idle": "2024-12-25T19:11:21.506837Z",
     "shell.execute_reply": "2024-12-25T19:11:21.505872Z"
    },
    "papermill": {
     "duration": 1.361822,
     "end_time": "2024-12-25T19:11:21.508902",
     "exception": false,
     "start_time": "2024-12-25T19:11:20.147080",
     "status": "completed"
    },
    "tags": []
   },
   "outputs": [],
   "source": [
    "model = keras.models.load_model('/kaggle/working/fitted.keras', custom_objects={\n",
    "    'r2_loss': r2_loss\n",
    "})"
   ]
  },
  {
   "cell_type": "code",
   "execution_count": 14,
   "id": "6ba1d391",
   "metadata": {
    "execution": {
     "iopub.execute_input": "2024-12-25T19:11:24.061455Z",
     "iopub.status.busy": "2024-12-25T19:11:24.061067Z",
     "iopub.status.idle": "2024-12-25T19:11:58.617667Z",
     "shell.execute_reply": "2024-12-25T19:11:58.616773Z"
    },
    "papermill": {
     "duration": 35.788685,
     "end_time": "2024-12-25T19:11:58.619293",
     "exception": false,
     "start_time": "2024-12-25T19:11:22.830608",
     "status": "completed"
    },
    "tags": []
   },
   "outputs": [
    {
     "name": "stdout",
     "output_type": "stream",
     "text": [
      "\u001b[1m12256/12256\u001b[0m \u001b[32m━━━━━━━━━━━━━━━━━━━━\u001b[0m\u001b[37m\u001b[0m \u001b[1m35s\u001b[0m 2ms/step - loss: 0.6668 - mean_absolute_error: 0.5291 - r2_score: 0.0076\n"
     ]
    },
    {
     "data": {
      "text/plain": [
       "[0.6580067873001099, 0.5327653288841248, 0.007274150848388672]"
      ]
     },
     "execution_count": 14,
     "metadata": {},
     "output_type": "execute_result"
    }
   ],
   "source": [
    "model.evaluate(x=test_ds)"
   ]
  },
  {
   "cell_type": "code",
   "execution_count": null,
   "id": "865414a9",
   "metadata": {
    "papermill": {
     "duration": 1.256812,
     "end_time": "2024-12-25T19:12:01.129438",
     "exception": false,
     "start_time": "2024-12-25T19:11:59.872626",
     "status": "completed"
    },
    "tags": []
   },
   "outputs": [],
   "source": []
  }
 ],
 "metadata": {
  "kaggle": {
   "accelerator": "gpu",
   "dataSources": [
    {
     "databundleVersionId": 9871156,
     "sourceId": 84493,
     "sourceType": "competition"
    },
    {
     "sourceId": 214656673,
     "sourceType": "kernelVersion"
    }
   ],
   "dockerImageVersionId": 30805,
   "isGpuEnabled": true,
   "isInternetEnabled": false,
   "language": "python",
   "sourceType": "notebook"
  },
  "kernelspec": {
   "display_name": "Python 3",
   "language": "python",
   "name": "python3"
  },
  "language_info": {
   "codemirror_mode": {
    "name": "ipython",
    "version": 3
   },
   "file_extension": ".py",
   "mimetype": "text/x-python",
   "name": "python",
   "nbconvert_exporter": "python",
   "pygments_lexer": "ipython3",
   "version": "3.10.14"
  },
  "papermill": {
   "default_parameters": {},
   "duration": 2120.408128,
   "end_time": "2024-12-25T19:12:05.567868",
   "environment_variables": {},
   "exception": null,
   "input_path": "__notebook__.ipynb",
   "output_path": "__notebook__.ipynb",
   "parameters": {},
   "start_time": "2024-12-25T18:36:45.159740",
   "version": "2.6.0"
  }
 },
 "nbformat": 4,
 "nbformat_minor": 5
}
