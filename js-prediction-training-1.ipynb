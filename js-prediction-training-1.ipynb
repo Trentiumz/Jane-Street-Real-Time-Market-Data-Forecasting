{
 "cells": [
  {
   "cell_type": "code",
   "execution_count": 1,
   "id": "55e8c2b7",
   "metadata": {
    "execution": {
     "iopub.execute_input": "2024-12-25T15:02:04.278511Z",
     "iopub.status.busy": "2024-12-25T15:02:04.278179Z",
     "iopub.status.idle": "2024-12-25T15:02:16.744267Z",
     "shell.execute_reply": "2024-12-25T15:02:16.743492Z"
    },
    "papermill": {
     "duration": 12.473486,
     "end_time": "2024-12-25T15:02:16.746442",
     "exception": false,
     "start_time": "2024-12-25T15:02:04.272956",
     "status": "completed"
    },
    "tags": []
   },
   "outputs": [],
   "source": [
    "# This Python 3 environment comes with many helpful analytics libraries installed\n",
    "# It is defined by the kaggle/python Docker image: https://github.com/kaggle/docker-python\n",
    "# For example, here's several helpful packages to load\n",
    "\n",
    "import numpy as np # linear algebra\n",
    "import polars as pl # data processing, CSV file I/O (e.g. pd.read_csv)\n",
    "import pandas as pd\n",
    "import os\n",
    "from pathlib import Path\n",
    "import tensorflow as tf\n",
    "from tensorflow import keras\n",
    "from tensorflow.keras import layers\n",
    "import gc\n",
    "import re\n",
    "\n",
    "# Input data files are available in the read-only \"../input/\" directory\n",
    "# For example, running this (by clicking run or pressing Shift+Enter) will list all files under the input directory\n",
    "\n",
    "# You can write up to 20GB to the current directory (/kaggle/working/) that gets preserved as output when you create a version using \"Save & Run All\" \n",
    "# You can also write temporary files to /kaggle/temp/, but they won't be saved outside of the current session"
   ]
  },
  {
   "cell_type": "markdown",
   "id": "d3689c24",
   "metadata": {
    "papermill": {
     "duration": 0.002926,
     "end_time": "2024-12-25T15:02:16.752878",
     "exception": false,
     "start_time": "2024-12-25T15:02:16.749952",
     "status": "completed"
    },
    "tags": []
   },
   "source": [
    "## Read Input"
   ]
  },
  {
   "cell_type": "code",
   "execution_count": 2,
   "id": "efe07ce4",
   "metadata": {
    "execution": {
     "iopub.execute_input": "2024-12-25T15:02:16.761618Z",
     "iopub.status.busy": "2024-12-25T15:02:16.761031Z",
     "iopub.status.idle": "2024-12-25T15:02:16.766522Z",
     "shell.execute_reply": "2024-12-25T15:02:16.765843Z"
    },
    "papermill": {
     "duration": 0.011016,
     "end_time": "2024-12-25T15:02:16.768048",
     "exception": false,
     "start_time": "2024-12-25T15:02:16.757032",
     "status": "completed"
    },
    "tags": []
   },
   "outputs": [],
   "source": [
    "base_path = Path(\"/kaggle/input/jane-street-real-time-market-data-forecasting/\")\n",
    "preprocess_path = Path('/kaggle/input/js-preprocessing/')\n",
    "train_path = preprocess_path / Path(\"train/\")\n",
    "train_read_paths = [train_path / Path(f\"partition_id={i}/part-0.parquet\") for i in [0, 1, 2, 3, 4, 5, 6, 7]]\n",
    "val_read_paths = [train_path / Path(f\"partition_id={i}/part-0.parquet\") for i in [8]]\n",
    "test_read_paths = [train_path / Path(f\"partition_id={i}/part-0.parquet\") for i in [9]]\n",
    "\n",
    "data_base_path = Path(\"/kaggle/input/js-preprocessing/\")\n",
    "feature_data_path = data_base_path / Path(\"feature_data.csv\")\n",
    "\n",
    "target = \"responder_6\""
   ]
  },
  {
   "cell_type": "code",
   "execution_count": 3,
   "id": "e1a90a30",
   "metadata": {
    "execution": {
     "iopub.execute_input": "2024-12-25T15:02:16.774992Z",
     "iopub.status.busy": "2024-12-25T15:02:16.774737Z",
     "iopub.status.idle": "2024-12-25T15:02:16.781255Z",
     "shell.execute_reply": "2024-12-25T15:02:16.780447Z"
    },
    "papermill": {
     "duration": 0.011736,
     "end_time": "2024-12-25T15:02:16.782832",
     "exception": false,
     "start_time": "2024-12-25T15:02:16.771096",
     "status": "completed"
    },
    "tags": []
   },
   "outputs": [],
   "source": [
    "class Config:\n",
    "    input_format = {\n",
    "        \"date_id\": tf.TensorSpec(shape=(None,), dtype=tf.float32),\n",
    "        \"time_id\": tf.TensorSpec(shape=(None,), dtype=tf.float32),\n",
    "        \"symbol_id\": tf.TensorSpec(shape=(None,), dtype=tf.float32),\n",
    "        \"weight\": tf.TensorSpec(shape=(None,), dtype=tf.float32),\n",
    "        \"features\": tf.TensorSpec(shape=(None, 79), dtype=tf.float32),\n",
    "        \"responders\": tf.TensorSpec(shape=(None, 9), dtype=tf.float32),\n",
    "        \"lags\": tf.TensorSpec(shape=(None, 9), dtype=tf.float32),\n",
    "        \"target\": tf.TensorSpec(shape=(None,), dtype=tf.float32)\n",
    "    }\n",
    "    train_batch_size = 32768\n",
    "    val_batch_size = 512\n",
    "\n",
    "config = Config()"
   ]
  },
  {
   "cell_type": "code",
   "execution_count": 4,
   "id": "faf9dc75",
   "metadata": {
    "execution": {
     "iopub.execute_input": "2024-12-25T15:02:16.789841Z",
     "iopub.status.busy": "2024-12-25T15:02:16.789586Z",
     "iopub.status.idle": "2024-12-25T15:02:17.604952Z",
     "shell.execute_reply": "2024-12-25T15:02:17.604004Z"
    },
    "papermill": {
     "duration": 0.821294,
     "end_time": "2024-12-25T15:02:17.607149",
     "exception": false,
     "start_time": "2024-12-25T15:02:16.785855",
     "status": "completed"
    },
    "tags": []
   },
   "outputs": [],
   "source": [
    "feature_format = 'feature_\\d\\d'\n",
    "responder_format = 'responder_\\d'\n",
    "lag_format = 'responder_\\d_lag'\n",
    "\n",
    "def chunk_features(chunk):\n",
    "    return chunk[[i for i in chunk.columns if re.fullmatch(feature_format, i)]]\n",
    "def chunk_lags(chunk):\n",
    "    return chunk[[i for i in chunk.columns if re.fullmatch(lag_format, i)]]\n",
    "\n",
    "def from_files(paths):\n",
    "    def to_ret():\n",
    "        for filepath in paths:\n",
    "            chunk = pl.read_parquet(filepath)\n",
    "            yield {\n",
    "                \"date_id\": chunk[\"date_id\"],\n",
    "                \"time_id\": chunk[\"time_id\"],\n",
    "                \"symbol_id\": chunk[\"symbol_id\"],\n",
    "                \"weight\": chunk[\"weight\"],\n",
    "                \"features\": chunk_features(chunk),\n",
    "                \"responders\": chunk[[i for i in chunk.columns if re.fullmatch(responder_format, i)]],\n",
    "                \"lags\": chunk_lags(chunk),\n",
    "                \"target\": chunk[target]\n",
    "            }\n",
    "    return to_ret\n",
    "\n",
    "train_raw = tf.data.Dataset.from_generator(\n",
    "    from_files(train_read_paths),\n",
    "    output_signature=config.input_format\n",
    ").prefetch(tf.data.AUTOTUNE).cache()\n",
    "\n",
    "val_raw = tf.data.Dataset.from_generator(\n",
    "    from_files(val_read_paths),\n",
    "    output_signature=config.input_format\n",
    ").cache()\n",
    "\n",
    "test_raw = tf.data.Dataset.from_generator(\n",
    "    from_files(test_read_paths),\n",
    "    output_signature=config.input_format\n",
    ")"
   ]
  },
  {
   "cell_type": "code",
   "execution_count": 5,
   "id": "00a49393",
   "metadata": {
    "execution": {
     "iopub.execute_input": "2024-12-25T15:02:17.615195Z",
     "iopub.status.busy": "2024-12-25T15:02:17.614874Z",
     "iopub.status.idle": "2024-12-25T15:02:17.621213Z",
     "shell.execute_reply": "2024-12-25T15:02:17.620402Z"
    },
    "papermill": {
     "duration": 0.012407,
     "end_time": "2024-12-25T15:02:17.622801",
     "exception": false,
     "start_time": "2024-12-25T15:02:17.610394",
     "status": "completed"
    },
    "tags": []
   },
   "outputs": [
    {
     "data": {
      "text/plain": [
       "{'date_id': TensorSpec(shape=(None,), dtype=tf.float32, name=None),\n",
       " 'time_id': TensorSpec(shape=(None,), dtype=tf.float32, name=None),\n",
       " 'symbol_id': TensorSpec(shape=(None,), dtype=tf.float32, name=None),\n",
       " 'weight': TensorSpec(shape=(None,), dtype=tf.float32, name=None),\n",
       " 'features': TensorSpec(shape=(None, 79), dtype=tf.float32, name=None),\n",
       " 'responders': TensorSpec(shape=(None, 9), dtype=tf.float32, name=None),\n",
       " 'lags': TensorSpec(shape=(None, 9), dtype=tf.float32, name=None),\n",
       " 'target': TensorSpec(shape=(None,), dtype=tf.float32, name=None)}"
      ]
     },
     "execution_count": 5,
     "metadata": {},
     "output_type": "execute_result"
    }
   ],
   "source": [
    "train_raw.element_spec"
   ]
  },
  {
   "cell_type": "markdown",
   "id": "bdae43ae",
   "metadata": {
    "papermill": {
     "duration": 0.002832,
     "end_time": "2024-12-25T15:02:17.628866",
     "exception": false,
     "start_time": "2024-12-25T15:02:17.626034",
     "status": "completed"
    },
    "tags": []
   },
   "source": [
    "## Filter, Clean, Normalize Data"
   ]
  },
  {
   "cell_type": "code",
   "execution_count": 6,
   "id": "c56d021c",
   "metadata": {
    "execution": {
     "iopub.execute_input": "2024-12-25T15:02:17.635987Z",
     "iopub.status.busy": "2024-12-25T15:02:17.635726Z",
     "iopub.status.idle": "2024-12-25T15:02:17.715526Z",
     "shell.execute_reply": "2024-12-25T15:02:17.714821Z"
    },
    "papermill": {
     "duration": 0.085587,
     "end_time": "2024-12-25T15:02:17.717458",
     "exception": false,
     "start_time": "2024-12-25T15:02:17.631871",
     "status": "completed"
    },
    "tags": []
   },
   "outputs": [],
   "source": [
    "feature_data_df = pl.read_csv(feature_data_path)\n",
    "means = np.asarray(feature_data_df['mean']).astype('float32')\n",
    "stds = np.asarray(feature_data_df['std']).astype('float32')"
   ]
  },
  {
   "cell_type": "code",
   "execution_count": 7,
   "id": "d31a96c6",
   "metadata": {
    "execution": {
     "iopub.execute_input": "2024-12-25T15:02:17.725191Z",
     "iopub.status.busy": "2024-12-25T15:02:17.724693Z",
     "iopub.status.idle": "2024-12-25T15:02:17.912296Z",
     "shell.execute_reply": "2024-12-25T15:02:17.911360Z"
    },
    "papermill": {
     "duration": 0.193483,
     "end_time": "2024-12-25T15:02:17.914360",
     "exception": false,
     "start_time": "2024-12-25T15:02:17.720877",
     "status": "completed"
    },
    "tags": []
   },
   "outputs": [],
   "source": [
    "def clean_features(features):\n",
    "    return tf.where(\n",
    "        tf.logical_or(tf.math.is_nan(features), tf.math.is_inf(features)), \n",
    "        means, \n",
    "        features)\n",
    "\n",
    "def normalize_features(features):\n",
    "    return (features - means) / tf.math.maximum(1.0, stds)\n",
    "\n",
    "def clean_lags(lags):\n",
    "    return tf.where(\n",
    "        tf.logical_or(tf.math.is_nan(lags), tf.math.is_inf(lags)), \n",
    "        0.0, \n",
    "        lags)\n",
    "\n",
    "def format_data(features, lags):\n",
    "    return {\n",
    "        'feature': normalize_features(clean_features(features)),\n",
    "        'lags': clean_lags(lags)\n",
    "    }\n",
    "\n",
    "train_ds = train_raw.map(lambda i: (\n",
    "                        format_data(i['features'], i['lags']),\n",
    "                        i['target']\n",
    "                        )).unbatch().shuffle(10000).batch(config.train_batch_size)\n",
    "val_ds = val_raw.map(lambda i: (\n",
    "    format_data(i['features'], i['lags']),\n",
    "    i['target']\n",
    ")).unbatch().batch(config.val_batch_size)"
   ]
  },
  {
   "cell_type": "markdown",
   "id": "8db84adc",
   "metadata": {
    "execution": {
     "iopub.execute_input": "2024-12-18T04:06:27.478694Z",
     "iopub.status.busy": "2024-12-18T04:06:27.477500Z",
     "iopub.status.idle": "2024-12-18T04:06:27.485848Z",
     "shell.execute_reply": "2024-12-18T04:06:27.484622Z",
     "shell.execute_reply.started": "2024-12-18T04:06:27.478647Z"
    },
    "papermill": {
     "duration": 0.003014,
     "end_time": "2024-12-25T15:02:17.920866",
     "exception": false,
     "start_time": "2024-12-25T15:02:17.917852",
     "status": "completed"
    },
    "tags": []
   },
   "source": [
    "## Train a Model"
   ]
  },
  {
   "cell_type": "code",
   "execution_count": 8,
   "id": "f6c6e702",
   "metadata": {
    "execution": {
     "iopub.execute_input": "2024-12-25T15:02:17.928275Z",
     "iopub.status.busy": "2024-12-25T15:02:17.927993Z",
     "iopub.status.idle": "2024-12-25T15:02:18.031353Z",
     "shell.execute_reply": "2024-12-25T15:02:18.030585Z"
    },
    "papermill": {
     "duration": 0.109255,
     "end_time": "2024-12-25T15:02:18.033373",
     "exception": false,
     "start_time": "2024-12-25T15:02:17.924118",
     "status": "completed"
    },
    "tags": []
   },
   "outputs": [],
   "source": [
    "feat_layer = keras.Input(shape=(79,), name='feature')\n",
    "lag_layer = keras.Input(shape=(9,), name='lags')\n",
    "inp = keras.layers.Concatenate()([feat_layer, lag_layer])\n",
    "x = layers.Dropout(rate=0.2)(inp)\n",
    "x = layers.Dense(units=128, activation=\"relu\", kernel_regularizer=\"l1l2\")(x)\n",
    "x = layers.Dropout(rate=0.1)(x)\n",
    "x = layers.Dense(units=64, activation=\"relu\", kernel_regularizer=\"l1l2\")(x)\n",
    "x = layers.Dropout(rate=0.2)(x)\n",
    "x = layers.Dense(units=32, activation=\"relu\", kernel_regularizer=\"l1l2\")(x)\n",
    "x = layers.Dense(units=16, activation=\"relu\")(x)\n",
    "x = layers.Dense(units=4, activation=\"relu\")(x)\n",
    "x = layers.Dense(units=1)(x)\n",
    "model = keras.Model(inputs=[feat_layer, lag_layer], outputs=x)"
   ]
  },
  {
   "cell_type": "code",
   "execution_count": 9,
   "id": "dbbb951d",
   "metadata": {
    "execution": {
     "iopub.execute_input": "2024-12-25T15:02:18.041153Z",
     "iopub.status.busy": "2024-12-25T15:02:18.040830Z",
     "iopub.status.idle": "2024-12-25T15:02:18.056283Z",
     "shell.execute_reply": "2024-12-25T15:02:18.055443Z"
    },
    "papermill": {
     "duration": 0.02117,
     "end_time": "2024-12-25T15:02:18.057989",
     "exception": false,
     "start_time": "2024-12-25T15:02:18.036819",
     "status": "completed"
    },
    "tags": []
   },
   "outputs": [],
   "source": [
    "def r2_loss(y_true, y_pred):\n",
    "    return tf.math.reduce_sum((y_true - y_pred) ** 2) / tf.math.reduce_sum(y_true ** 2)\n",
    "\n",
    "model.compile(optimizer=\"rmsprop\", loss=\"mse\", metrics=[keras.metrics.MeanAbsoluteError(), keras.metrics.R2Score()])"
   ]
  },
  {
   "cell_type": "code",
   "execution_count": 10,
   "id": "f2458c45",
   "metadata": {
    "execution": {
     "iopub.execute_input": "2024-12-25T15:02:18.066227Z",
     "iopub.status.busy": "2024-12-25T15:02:18.065467Z",
     "iopub.status.idle": "2024-12-25T15:58:59.804799Z",
     "shell.execute_reply": "2024-12-25T15:58:59.804029Z"
    },
    "papermill": {
     "duration": 3401.745134,
     "end_time": "2024-12-25T15:58:59.806717",
     "exception": false,
     "start_time": "2024-12-25T15:02:18.061583",
     "status": "completed"
    },
    "tags": []
   },
   "outputs": [
    {
     "name": "stdout",
     "output_type": "stream",
     "text": [
      "Epoch 1/1000\n"
     ]
    },
    {
     "name": "stderr",
     "output_type": "stream",
     "text": [
      "WARNING: All log messages before absl::InitializeLog() is called are written to STDERR\n",
      "I0000 00:00:1735138944.871893      65 service.cc:145] XLA service 0x7d05580089a0 initialized for platform CUDA (this does not guarantee that XLA will be used). Devices:\n",
      "I0000 00:00:1735138944.871965      65 service.cc:153]   StreamExecutor device (0): Tesla P100-PCIE-16GB, Compute Capability 6.0\n"
     ]
    },
    {
     "name": "stdout",
     "output_type": "stream",
     "text": [
      "      1/Unknown \u001b[1m13s\u001b[0m 13s/step - loss: 1.4858 - mean_absolute_error: 0.9342 - r2_score: -1.3241"
     ]
    },
    {
     "name": "stderr",
     "output_type": "stream",
     "text": [
      "I0000 00:00:1735138951.127905      65 device_compiler.h:188] Compiled cluster using XLA!  This line is logged at most once for the lifetime of the process.\n"
     ]
    },
    {
     "name": "stdout",
     "output_type": "stream",
     "text": [
      "   1060/Unknown \u001b[1m170s\u001b[0m 148ms/step - loss: 0.8531 - mean_absolute_error: 0.6041 - r2_score: -0.0130"
     ]
    },
    {
     "name": "stderr",
     "output_type": "stream",
     "text": [
      "/opt/conda/lib/python3.10/contextlib.py:153: UserWarning: Your input ran out of data; interrupting training. Make sure that your dataset or generator can generate at least `steps_per_epoch * epochs` batches. You may need to use the `.repeat()` function when building your dataset.\n",
      "  self.gen.throw(typ, value, traceback)\n"
     ]
    },
    {
     "name": "stdout",
     "output_type": "stream",
     "text": [
      "\u001b[1m1060/1060\u001b[0m \u001b[32m━━━━━━━━━━━━━━━━━━━━\u001b[0m\u001b[37m\u001b[0m \u001b[1m202s\u001b[0m 178ms/step - loss: 0.8531 - mean_absolute_error: 0.6041 - r2_score: -0.0130 - val_loss: 0.7523 - val_mean_absolute_error: 0.5584 - val_r2_score: -3.2187e-06 - learning_rate: 0.0010\n",
      "Epoch 2/1000\n",
      "\u001b[1m1060/1060\u001b[0m \u001b[32m━━━━━━━━━━━━━━━━━━━━\u001b[0m\u001b[37m\u001b[0m \u001b[1m144s\u001b[0m 133ms/step - loss: 0.8433 - mean_absolute_error: 0.5988 - r2_score: 1.2697e-05 - val_loss: 0.7523 - val_mean_absolute_error: 0.5584 - val_r2_score: -3.5763e-06 - learning_rate: 0.0010\n",
      "Epoch 3/1000\n",
      "\u001b[1m1060/1060\u001b[0m \u001b[32m━━━━━━━━━━━━━━━━━━━━\u001b[0m\u001b[37m\u001b[0m \u001b[1m154s\u001b[0m 142ms/step - loss: 0.8433 - mean_absolute_error: 0.5988 - r2_score: 1.4711e-05 - val_loss: 0.7523 - val_mean_absolute_error: 0.5584 - val_r2_score: -3.6955e-06 - learning_rate: 0.0010\n",
      "Epoch 4/1000\n",
      "\u001b[1m1060/1060\u001b[0m \u001b[32m━━━━━━━━━━━━━━━━━━━━\u001b[0m\u001b[37m\u001b[0m \u001b[1m157s\u001b[0m 145ms/step - loss: 0.8431 - mean_absolute_error: 0.5987 - r2_score: 2.7902e-04 - val_loss: 0.7479 - val_mean_absolute_error: 0.5566 - val_r2_score: 0.0059 - learning_rate: 0.0010\n",
      "Epoch 5/1000\n",
      "\u001b[1m1060/1060\u001b[0m \u001b[32m━━━━━━━━━━━━━━━━━━━━\u001b[0m\u001b[37m\u001b[0m \u001b[1m162s\u001b[0m 150ms/step - loss: 0.8379 - mean_absolute_error: 0.5969 - r2_score: 0.0064 - val_loss: 0.7457 - val_mean_absolute_error: 0.5557 - val_r2_score: 0.0088 - learning_rate: 0.0010\n",
      "Epoch 6/1000\n",
      "\u001b[1m1060/1060\u001b[0m \u001b[32m━━━━━━━━━━━━━━━━━━━━\u001b[0m\u001b[37m\u001b[0m \u001b[1m153s\u001b[0m 140ms/step - loss: 0.8358 - mean_absolute_error: 0.5963 - r2_score: 0.0089 - val_loss: 0.7442 - val_mean_absolute_error: 0.5551 - val_r2_score: 0.0109 - learning_rate: 0.0010\n",
      "Epoch 7/1000\n",
      "\u001b[1m1060/1060\u001b[0m \u001b[32m━━━━━━━━━━━━━━━━━━━━\u001b[0m\u001b[37m\u001b[0m \u001b[1m155s\u001b[0m 143ms/step - loss: 0.8349 - mean_absolute_error: 0.5959 - r2_score: 0.0099 - val_loss: 0.7434 - val_mean_absolute_error: 0.5550 - val_r2_score: 0.0118 - learning_rate: 0.0010\n",
      "Epoch 8/1000\n",
      "\u001b[1m1060/1060\u001b[0m \u001b[32m━━━━━━━━━━━━━━━━━━━━\u001b[0m\u001b[37m\u001b[0m \u001b[1m157s\u001b[0m 145ms/step - loss: 0.8342 - mean_absolute_error: 0.5957 - r2_score: 0.0108 - val_loss: 0.7431 - val_mean_absolute_error: 0.5548 - val_r2_score: 0.0123 - learning_rate: 0.0010\n",
      "Epoch 9/1000\n",
      "\u001b[1m1060/1060\u001b[0m \u001b[32m━━━━━━━━━━━━━━━━━━━━\u001b[0m\u001b[37m\u001b[0m \u001b[1m156s\u001b[0m 144ms/step - loss: 0.8337 - mean_absolute_error: 0.5956 - r2_score: 0.0113 - val_loss: 0.7428 - val_mean_absolute_error: 0.5548 - val_r2_score: 0.0126 - learning_rate: 0.0010\n",
      "Epoch 10/1000\n",
      "\u001b[1m1060/1060\u001b[0m \u001b[32m━━━━━━━━━━━━━━━━━━━━\u001b[0m\u001b[37m\u001b[0m \u001b[1m153s\u001b[0m 141ms/step - loss: 0.8333 - mean_absolute_error: 0.5956 - r2_score: 0.0118 - val_loss: 0.7428 - val_mean_absolute_error: 0.5548 - val_r2_score: 0.0127 - learning_rate: 0.0010\n",
      "Epoch 11/1000\n",
      "\u001b[1m1060/1060\u001b[0m \u001b[32m━━━━━━━━━━━━━━━━━━━━\u001b[0m\u001b[37m\u001b[0m \u001b[1m139s\u001b[0m 128ms/step - loss: 0.8329 - mean_absolute_error: 0.5955 - r2_score: 0.0123 - val_loss: 0.7428 - val_mean_absolute_error: 0.5547 - val_r2_score: 0.0127 - learning_rate: 0.0010\n",
      "Epoch 12/1000\n",
      "\u001b[1m1060/1060\u001b[0m \u001b[32m━━━━━━━━━━━━━━━━━━━━\u001b[0m\u001b[37m\u001b[0m \u001b[1m142s\u001b[0m 131ms/step - loss: 0.8326 - mean_absolute_error: 0.5954 - r2_score: 0.0127 - val_loss: 0.7429 - val_mean_absolute_error: 0.5548 - val_r2_score: 0.0126 - learning_rate: 0.0010\n",
      "Epoch 13/1000\n",
      "\u001b[1m1060/1060\u001b[0m \u001b[32m━━━━━━━━━━━━━━━━━━━━\u001b[0m\u001b[37m\u001b[0m \u001b[1m150s\u001b[0m 139ms/step - loss: 0.8323 - mean_absolute_error: 0.5954 - r2_score: 0.0130 - val_loss: 0.7429 - val_mean_absolute_error: 0.5547 - val_r2_score: 0.0125 - learning_rate: 0.0010\n",
      "Epoch 14/1000\n",
      "\u001b[1m1060/1060\u001b[0m \u001b[32m━━━━━━━━━━━━━━━━━━━━\u001b[0m\u001b[37m\u001b[0m \u001b[1m158s\u001b[0m 147ms/step - loss: 0.8321 - mean_absolute_error: 0.5953 - r2_score: 0.0132 - val_loss: 0.7425 - val_mean_absolute_error: 0.5546 - val_r2_score: 0.0130 - learning_rate: 0.0010\n",
      "Epoch 15/1000\n",
      "\u001b[1m1060/1060\u001b[0m \u001b[32m━━━━━━━━━━━━━━━━━━━━\u001b[0m\u001b[37m\u001b[0m \u001b[1m157s\u001b[0m 145ms/step - loss: 0.8319 - mean_absolute_error: 0.5953 - r2_score: 0.0135 - val_loss: 0.7431 - val_mean_absolute_error: 0.5547 - val_r2_score: 0.0123 - learning_rate: 0.0010\n",
      "Epoch 16/1000\n",
      "\u001b[1m1060/1060\u001b[0m \u001b[32m━━━━━━━━━━━━━━━━━━━━\u001b[0m\u001b[37m\u001b[0m \u001b[1m153s\u001b[0m 141ms/step - loss: 0.8317 - mean_absolute_error: 0.5952 - r2_score: 0.0138 - val_loss: 0.7428 - val_mean_absolute_error: 0.5547 - val_r2_score: 0.0127 - learning_rate: 0.0010\n",
      "Epoch 17/1000\n",
      "\u001b[1m1060/1060\u001b[0m \u001b[32m━━━━━━━━━━━━━━━━━━━━\u001b[0m\u001b[37m\u001b[0m \u001b[1m156s\u001b[0m 143ms/step - loss: 0.8316 - mean_absolute_error: 0.5952 - r2_score: 0.0139 - val_loss: 0.7431 - val_mean_absolute_error: 0.5546 - val_r2_score: 0.0123 - learning_rate: 0.0010\n",
      "Epoch 18/1000\n",
      "\u001b[1m1060/1060\u001b[0m \u001b[32m━━━━━━━━━━━━━━━━━━━━\u001b[0m\u001b[37m\u001b[0m \u001b[1m140s\u001b[0m 129ms/step - loss: 0.8317 - mean_absolute_error: 0.5953 - r2_score: 0.0137 - val_loss: 0.7429 - val_mean_absolute_error: 0.5547 - val_r2_score: 0.0126 - learning_rate: 5.0000e-04\n",
      "Epoch 19/1000\n",
      "\u001b[1m1060/1060\u001b[0m \u001b[32m━━━━━━━━━━━━━━━━━━━━\u001b[0m\u001b[37m\u001b[0m \u001b[1m154s\u001b[0m 141ms/step - loss: 0.8313 - mean_absolute_error: 0.5951 - r2_score: 0.0142 - val_loss: 0.7427 - val_mean_absolute_error: 0.5547 - val_r2_score: 0.0129 - learning_rate: 5.0000e-04\n",
      "Epoch 20/1000\n",
      "\u001b[1m1060/1060\u001b[0m \u001b[32m━━━━━━━━━━━━━━━━━━━━\u001b[0m\u001b[37m\u001b[0m \u001b[1m152s\u001b[0m 140ms/step - loss: 0.8312 - mean_absolute_error: 0.5951 - r2_score: 0.0144 - val_loss: 0.7428 - val_mean_absolute_error: 0.5548 - val_r2_score: 0.0127 - learning_rate: 5.0000e-04\n",
      "Epoch 21/1000\n",
      "\u001b[1m1060/1060\u001b[0m \u001b[32m━━━━━━━━━━━━━━━━━━━━\u001b[0m\u001b[37m\u001b[0m \u001b[1m154s\u001b[0m 142ms/step - loss: 0.8314 - mean_absolute_error: 0.5952 - r2_score: 0.0141 - val_loss: 0.7438 - val_mean_absolute_error: 0.5546 - val_r2_score: 0.0114 - learning_rate: 2.5000e-04\n",
      "Epoch 22/1000\n",
      "\u001b[1m1060/1060\u001b[0m \u001b[32m━━━━━━━━━━━━━━━━━━━━\u001b[0m\u001b[37m\u001b[0m \u001b[1m153s\u001b[0m 141ms/step - loss: 0.8312 - mean_absolute_error: 0.5951 - r2_score: 0.0143 - val_loss: 0.7435 - val_mean_absolute_error: 0.5547 - val_r2_score: 0.0117 - learning_rate: 2.5000e-04\n"
     ]
    }
   ],
   "source": [
    "callbacks = [\n",
    "    keras.callbacks.ModelCheckpoint('/kaggle/working/fitted.keras', save_best_only=True),\n",
    "    keras.callbacks.ModelCheckpoint('/kaggle/working/intermediate.keras', save_best_only=False),\n",
    "    keras.callbacks.ReduceLROnPlateau(factor=0.5, patience=3, min_delta=5e-5),\n",
    "    keras.callbacks.EarlyStopping(patience=8)\n",
    "]\n",
    "\n",
    "history = model.fit(x=train_ds, validation_data=val_ds, epochs=1000, callbacks = callbacks)"
   ]
  },
  {
   "cell_type": "markdown",
   "id": "f3e84558",
   "metadata": {
    "execution": {
     "iopub.execute_input": "2024-12-19T21:16:33.404263Z",
     "iopub.status.busy": "2024-12-19T21:16:33.403835Z",
     "iopub.status.idle": "2024-12-19T21:16:41.038672Z",
     "shell.execute_reply": "2024-12-19T21:16:41.037480Z",
     "shell.execute_reply.started": "2024-12-19T21:16:33.404225Z"
    },
    "papermill": {
     "duration": 1.204658,
     "end_time": "2024-12-25T15:59:02.221517",
     "exception": false,
     "start_time": "2024-12-25T15:59:01.016859",
     "status": "completed"
    },
    "tags": []
   },
   "source": [
    "## Evaluate Model"
   ]
  },
  {
   "cell_type": "code",
   "execution_count": 11,
   "id": "1dd3668d",
   "metadata": {
    "execution": {
     "iopub.execute_input": "2024-12-25T15:59:04.600186Z",
     "iopub.status.busy": "2024-12-25T15:59:04.599467Z",
     "iopub.status.idle": "2024-12-25T15:59:04.647773Z",
     "shell.execute_reply": "2024-12-25T15:59:04.647080Z"
    },
    "papermill": {
     "duration": 1.238463,
     "end_time": "2024-12-25T15:59:04.649723",
     "exception": false,
     "start_time": "2024-12-25T15:59:03.411260",
     "status": "completed"
    },
    "tags": []
   },
   "outputs": [],
   "source": [
    "test_ds = test_raw.map(lambda i: (\n",
    "                        format_data(i['features'], i['lags']),\n",
    "                        i['target']\n",
    "                        )).unbatch().batch(512)"
   ]
  },
  {
   "cell_type": "code",
   "execution_count": 12,
   "id": "ac4aa46d",
   "metadata": {
    "execution": {
     "iopub.execute_input": "2024-12-25T15:59:07.064693Z",
     "iopub.status.busy": "2024-12-25T15:59:07.064367Z",
     "iopub.status.idle": "2024-12-25T15:59:07.172895Z",
     "shell.execute_reply": "2024-12-25T15:59:07.171930Z"
    },
    "papermill": {
     "duration": 1.333517,
     "end_time": "2024-12-25T15:59:07.175013",
     "exception": false,
     "start_time": "2024-12-25T15:59:05.841496",
     "status": "completed"
    },
    "tags": []
   },
   "outputs": [],
   "source": [
    "model = keras.models.load_model('/kaggle/working/fitted.keras', custom_objects={\n",
    "    'r2_loss': r2_loss\n",
    "})"
   ]
  },
  {
   "cell_type": "code",
   "execution_count": 13,
   "id": "f9503ee6",
   "metadata": {
    "execution": {
     "iopub.execute_input": "2024-12-25T15:59:09.571417Z",
     "iopub.status.busy": "2024-12-25T15:59:09.571011Z",
     "iopub.status.idle": "2024-12-25T15:59:41.997054Z",
     "shell.execute_reply": "2024-12-25T15:59:41.996130Z"
    },
    "papermill": {
     "duration": 33.641305,
     "end_time": "2024-12-25T15:59:41.998740",
     "exception": false,
     "start_time": "2024-12-25T15:59:08.357435",
     "status": "completed"
    },
    "tags": []
   },
   "outputs": [
    {
     "name": "stdout",
     "output_type": "stream",
     "text": [
      "\u001b[1m12256/12256\u001b[0m \u001b[32m━━━━━━━━━━━━━━━━━━━━\u001b[0m\u001b[37m\u001b[0m \u001b[1m32s\u001b[0m 1ms/step - loss: 0.6668 - mean_absolute_error: 0.5288 - r2_score: 0.0076\n"
     ]
    },
    {
     "data": {
      "text/plain": [
       "[0.6578692197799683, 0.5323569774627686, 0.007481753826141357]"
      ]
     },
     "execution_count": 13,
     "metadata": {},
     "output_type": "execute_result"
    }
   ],
   "source": [
    "model.evaluate(x=test_ds)"
   ]
  },
  {
   "cell_type": "code",
   "execution_count": null,
   "id": "653942f1",
   "metadata": {
    "papermill": {
     "duration": 1.256926,
     "end_time": "2024-12-25T15:59:44.457080",
     "exception": false,
     "start_time": "2024-12-25T15:59:43.200154",
     "status": "completed"
    },
    "tags": []
   },
   "outputs": [],
   "source": []
  }
 ],
 "metadata": {
  "kaggle": {
   "accelerator": "gpu",
   "dataSources": [
    {
     "databundleVersionId": 9871156,
     "sourceId": 84493,
     "sourceType": "competition"
    },
    {
     "sourceId": 214656673,
     "sourceType": "kernelVersion"
    }
   ],
   "dockerImageVersionId": 30805,
   "isGpuEnabled": true,
   "isInternetEnabled": false,
   "language": "python",
   "sourceType": "notebook"
  },
  "kernelspec": {
   "display_name": "Python 3",
   "language": "python",
   "name": "python3"
  },
  "language_info": {
   "codemirror_mode": {
    "name": "ipython",
    "version": 3
   },
   "file_extension": ".py",
   "mimetype": "text/x-python",
   "name": "python",
   "nbconvert_exporter": "python",
   "pygments_lexer": "ipython3",
   "version": "3.10.14"
  },
  "papermill": {
   "default_parameters": {},
   "duration": 3467.786641,
   "end_time": "2024-12-25T15:59:49.580320",
   "environment_variables": {},
   "exception": null,
   "input_path": "__notebook__.ipynb",
   "output_path": "__notebook__.ipynb",
   "parameters": {},
   "start_time": "2024-12-25T15:02:01.793679",
   "version": "2.6.0"
  }
 },
 "nbformat": 4,
 "nbformat_minor": 5
}
