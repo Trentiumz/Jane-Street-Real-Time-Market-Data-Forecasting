{
 "cells": [
  {
   "cell_type": "code",
   "execution_count": 1,
   "id": "f6aa818d",
   "metadata": {
    "_cell_guid": "b1076dfc-b9ad-4769-8c92-a6c4dae69d19",
    "_uuid": "8f2839f25d086af736a60e9eeb907d3b93b6e0e5",
    "execution": {
     "iopub.execute_input": "2024-12-28T19:59:46.668469Z",
     "iopub.status.busy": "2024-12-28T19:59:46.668097Z",
     "iopub.status.idle": "2024-12-28T19:59:47.397140Z",
     "shell.execute_reply": "2024-12-28T19:59:47.395830Z"
    },
    "papermill": {
     "duration": 0.735914,
     "end_time": "2024-12-28T19:59:47.399204",
     "exception": false,
     "start_time": "2024-12-28T19:59:46.663290",
     "status": "completed"
    },
    "tags": []
   },
   "outputs": [],
   "source": [
    "import numpy as np # linear algebra\n",
    "import polars as pl # data processing, CSV file I/O (e.g. pd.read_csv)\n",
    "import pandas as pd\n",
    "import os\n",
    "from pathlib import Path\n",
    "import sys\n",
    "import matplotlib as plt\n",
    "from matplotlib import pyplot\n",
    "import gc\n",
    "import re\n",
    "\n",
    "import time"
   ]
  },
  {
   "cell_type": "code",
   "execution_count": 2,
   "id": "a34ba775",
   "metadata": {
    "execution": {
     "iopub.execute_input": "2024-12-28T19:59:47.407425Z",
     "iopub.status.busy": "2024-12-28T19:59:47.406912Z",
     "iopub.status.idle": "2024-12-28T19:59:47.412193Z",
     "shell.execute_reply": "2024-12-28T19:59:47.411082Z"
    },
    "papermill": {
     "duration": 0.011244,
     "end_time": "2024-12-28T19:59:47.414092",
     "exception": false,
     "start_time": "2024-12-28T19:59:47.402848",
     "status": "completed"
    },
    "tags": []
   },
   "outputs": [],
   "source": [
    "base_path = Path(\"/kaggle/input/jane-street-real-time-market-data-forecasting/\")\n",
    "train_path = base_path / Path(\"train.parquet/\")\n",
    "\n",
    "taken = [0, 1, 2, 3, 4, 5, 6, 7]"
   ]
  },
  {
   "cell_type": "code",
   "execution_count": 3,
   "id": "0450c00c",
   "metadata": {
    "execution": {
     "iopub.execute_input": "2024-12-28T19:59:47.421505Z",
     "iopub.status.busy": "2024-12-28T19:59:47.421175Z",
     "iopub.status.idle": "2024-12-28T19:59:47.426252Z",
     "shell.execute_reply": "2024-12-28T19:59:47.425116Z"
    },
    "papermill": {
     "duration": 0.011234,
     "end_time": "2024-12-28T19:59:47.428472",
     "exception": false,
     "start_time": "2024-12-28T19:59:47.417238",
     "status": "completed"
    },
    "tags": []
   },
   "outputs": [],
   "source": [
    "base_feature_filter = \"(feature_\\d\\d)|(responder_\\d_lag)\"\n",
    "full_feature_filter = \"((feature_\\d\\d)|(responder_\\d_lag))((_ao\\d*)|(_diff)|(_std_\\d*)|(_\\d*-\\d*)|$)\""
   ]
  },
  {
   "cell_type": "code",
   "execution_count": 4,
   "id": "524ec9f7",
   "metadata": {
    "execution": {
     "iopub.execute_input": "2024-12-28T19:59:47.436511Z",
     "iopub.status.busy": "2024-12-28T19:59:47.436117Z",
     "iopub.status.idle": "2024-12-28T19:59:47.445713Z",
     "shell.execute_reply": "2024-12-28T19:59:47.444507Z"
    },
    "papermill": {
     "duration": 0.015719,
     "end_time": "2024-12-28T19:59:47.447470",
     "exception": false,
     "start_time": "2024-12-28T19:59:47.431751",
     "status": "completed"
    },
    "tags": []
   },
   "outputs": [],
   "source": [
    "def add_averages(group, features):\n",
    "    for i in [5, 50]:\n",
    "        for col in features:\n",
    "            group = group.with_columns(group[col].rolling_mean(i, min_periods=1).alias(f\"{col}_ao{i}\"))\n",
    "    return group\n",
    "\n",
    "def add_first_diff(group, features):\n",
    "    for col in features:\n",
    "        group = group.with_columns(group[col].diff().alias(f\"{col}_diff\"))\n",
    "    return group\n",
    "\n",
    "def add_stds(group, features):\n",
    "    for i in [10]:\n",
    "        for col in features:\n",
    "            group = group.with_columns(group[col].rolling_std(window_size=i, min_periods=2).alias(f\"{col}_std_{i}\"))\n",
    "    return group\n",
    "\n",
    "def add_lags(df):\n",
    "    responders = [i for i in df.columns if i.startswith('responder')]\n",
    "    last_reading = df.group_by(('date_id', 'symbol_id'), maintain_order=True).last()\n",
    "    join_to = last_reading.with_columns(last_reading['date_id'] + 1)[['date_id', 'symbol_id'] + responders]\n",
    "\n",
    "    df = df.join(join_to, ['date_id', 'symbol_id'], how='left', suffix='_lag')\n",
    "    del last_reading, join_to\n",
    "    return df\n",
    "\n",
    "def add_avg_diff(df, base_features):\n",
    "    for col in base_features:\n",
    "        df = df.with_columns(\n",
    "            (df[col] - df[f\"{col}_ao5\"]).alias(f\"{col}_1-5\"),\n",
    "            (df[f\"{col}_ao5\"] - df[f\"{col}_ao50\"]).alias(f\"{col}_5-20\")\n",
    "        )\n",
    "    return df"
   ]
  },
  {
   "cell_type": "code",
   "execution_count": 5,
   "id": "d4f0f565",
   "metadata": {
    "execution": {
     "iopub.execute_input": "2024-12-28T19:59:47.455340Z",
     "iopub.status.busy": "2024-12-28T19:59:47.454681Z",
     "iopub.status.idle": "2024-12-28T19:59:47.462258Z",
     "shell.execute_reply": "2024-12-28T19:59:47.461065Z"
    },
    "papermill": {
     "duration": 0.013621,
     "end_time": "2024-12-28T19:59:47.464316",
     "exception": false,
     "start_time": "2024-12-28T19:59:47.450695",
     "status": "completed"
    },
    "tags": []
   },
   "outputs": [],
   "source": [
    "def add_features(df):\n",
    "    df = add_lags(df)\n",
    "    base_features = [i for i in df.columns if re.fullmatch(base_feature_filter, i)]\n",
    "    df_grouped = df.group_by('symbol_id', maintain_order=True)\n",
    "    \n",
    "    start_time = time.time()\n",
    "    df_with_avg = df_grouped.map_groups(lambda group: \n",
    "                                    add_stds(\n",
    "                                        add_first_diff(\n",
    "                                            add_averages(group, base_features), \n",
    "                                            base_features), \n",
    "                                        base_features\n",
    "                                    ))\n",
    "    end_time = time.time()\n",
    "    print(f\"Time for average calculations: {end_time-start_time}\")\n",
    "\n",
    "    start_time = time.time()\n",
    "    df_with_diff = add_avg_diff(df_with_avg, base_features)\n",
    "    end_time = time.time()\n",
    "    print(f\"Time for average differences: {end_time - start_time}\")\n",
    "    \n",
    "    full_features = [i for i in df_with_diff.columns if re.fullmatch(full_feature_filter, i)]\n",
    "    # print(f\"Length of all the new features: {len(full_features)}\")\n",
    "\n",
    "    del df, df_grouped, df_with_avg\n",
    "    gc.collect()\n",
    "    return df_with_diff"
   ]
  },
  {
   "cell_type": "code",
   "execution_count": 6,
   "id": "8f421ec8",
   "metadata": {
    "execution": {
     "iopub.execute_input": "2024-12-28T19:59:47.471586Z",
     "iopub.status.busy": "2024-12-28T19:59:47.471247Z",
     "iopub.status.idle": "2024-12-28T19:59:47.478974Z",
     "shell.execute_reply": "2024-12-28T19:59:47.478071Z"
    },
    "papermill": {
     "duration": 0.013274,
     "end_time": "2024-12-28T19:59:47.480669",
     "exception": false,
     "start_time": "2024-12-28T19:59:47.467395",
     "status": "completed"
    },
    "tags": []
   },
   "outputs": [],
   "source": [
    "outliers_low, outliers_high, means, stds = [], [], [], []\n",
    "\n",
    "def add_stats(df, features):\n",
    "    # print(f\"Bytes per row: {df.estimated_size()} bytes / {df.shape[0]} rows = {df.estimated_size() / df.shape[0]} bytes/row\")\n",
    "    \n",
    "    median_before = np.asarray([df[i].median() for i in features]).astype('float32')\n",
    "    stds_before = np.asarray([df[i].std() for i in features]).astype('float32')\n",
    "\n",
    "    outlier_low = median_before - 3 * stds_before\n",
    "    outlier_high = median_before + 3 * stds_before\n",
    "    for i, (name, lo, hi) in enumerate(zip(features, outlier_low, outlier_high)):\n",
    "        if df.schema[name] == pl.Int8:\n",
    "            outlier_low[i] = max(lo, -127)\n",
    "            outlier_high[i] = min(hi, 127)\n",
    "    \n",
    "    outlier_low = np.asarray(outlier_low)\n",
    "    outlier_high = np.asarray(outlier_high)\n",
    "    \n",
    "    outliers_low.append(outlier_low)\n",
    "    outliers_high.append(outlier_high)\n",
    "\n",
    "    means.append(np.asarray([df[name].clip(lo, hi).mean() for name, lo, hi in zip(features, outlier_low, outlier_high)]).astype('float32'))\n",
    "    stds.append(np.asarray([df[name].clip(lo, hi).std() for name, lo, hi in zip(features, outlier_low, outlier_high)]).astype('float32'))"
   ]
  },
  {
   "cell_type": "code",
   "execution_count": 7,
   "id": "2b3cbbf5",
   "metadata": {
    "execution": {
     "iopub.execute_input": "2024-12-28T19:59:47.488698Z",
     "iopub.status.busy": "2024-12-28T19:59:47.488294Z",
     "iopub.status.idle": "2024-12-28T20:27:32.659724Z",
     "shell.execute_reply": "2024-12-28T20:27:32.658413Z"
    },
    "papermill": {
     "duration": 1665.18311,
     "end_time": "2024-12-28T20:27:32.667285",
     "exception": false,
     "start_time": "2024-12-28T19:59:47.484175",
     "status": "completed"
    },
    "tags": []
   },
   "outputs": [
    {
     "name": "stdout",
     "output_type": "stream",
     "text": [
      "Processing 0\n",
      "Processing 1944210 rows\n",
      "Time for average calculations: 17.19049596786499\n",
      "Time for average differences: 1.5885727405548096\n",
      "Time to add features: 19.183347463607788\n",
      "Time to calculate statistics: 47.85246753692627\n",
      "Processing 1\n",
      "Processing 2804247 rows\n",
      "Time for average calculations: 46.25683832168579\n",
      "Time for average differences: 4.5553672313690186\n",
      "Time to add features: 51.26441693305969\n",
      "Time to calculate statistics: 93.6950318813324\n",
      "Processing 2\n",
      "Processing 3036873 rows\n",
      "Time for average calculations: 37.2944598197937\n",
      "Time for average differences: 3.4169065952301025\n",
      "Time to add features: 41.21019434928894\n",
      "Time to calculate statistics: 99.75748133659363\n",
      "Processing 3\n",
      "Processing 4016784 rows\n",
      "Time for average calculations: 47.07568049430847\n",
      "Time for average differences: 3.844787120819092\n",
      "Time to add features: 51.619420289993286\n",
      "Time to calculate statistics: 132.3491415977478\n",
      "Processing 4\n",
      "Processing 5022952 rows\n",
      "Time for average calculations: 57.31792879104614\n",
      "Time for average differences: 5.528544187545776\n",
      "Time to add features: 63.566654682159424\n",
      "Time to calculate statistics: 182.4117636680603\n",
      "Processing 5\n",
      "Processing 5348200 rows\n",
      "Time for average calculations: 66.141925573349\n",
      "Time for average differences: 5.277570724487305\n",
      "Time to add features: 72.27087569236755\n",
      "Time to calculate statistics: 170.48968148231506\n",
      "Processing 6\n",
      "Processing 6203912 rows\n",
      "Time for average calculations: 76.20500755310059\n",
      "Time for average differences: 5.455795764923096\n",
      "Time to add features: 82.56136989593506\n",
      "Time to calculate statistics: 215.5877730846405\n",
      "Processing 7\n",
      "Processing 6335560 rows\n",
      "Time for average calculations: 83.02254176139832\n",
      "Time for average differences: 5.632087707519531\n",
      "Time to add features: 89.76512670516968\n",
      "Time to calculate statistics: 202.8523759841919\n"
     ]
    }
   ],
   "source": [
    "features = None\n",
    "\n",
    "for i in taken:\n",
    "    print(f\"Processing {i}\")\n",
    "    path = train_path / Path(f\"partition_id={i}/part-0.parquet\")\n",
    "    df = pl.read_parquet(path)\n",
    "    print(f\"Processing {df.shape[0]} rows\")\n",
    "\n",
    "    start_time = time.time()\n",
    "    df = add_features(df)\n",
    "    end_time = time.time()\n",
    "    print(f\"Time to add features: {end_time  - start_time}\")\n",
    "\n",
    "    if features is None:\n",
    "        features = [i for i in df.columns if re.fullmatch(full_feature_filter, i)]\n",
    "\n",
    "    start_time = time.time()\n",
    "    add_stats(df, features)\n",
    "    end_time = time.time()\n",
    "    print(f\"Time to calculate statistics: {end_time  - start_time}\")\n",
    "\n",
    "    del df\n",
    "    gc.collect()"
   ]
  },
  {
   "cell_type": "code",
   "execution_count": 8,
   "id": "32d16157",
   "metadata": {
    "execution": {
     "iopub.execute_input": "2024-12-28T20:27:32.679901Z",
     "iopub.status.busy": "2024-12-28T20:27:32.679537Z",
     "iopub.status.idle": "2024-12-28T20:27:32.708097Z",
     "shell.execute_reply": "2024-12-28T20:27:32.707017Z"
    },
    "papermill": {
     "duration": 0.037349,
     "end_time": "2024-12-28T20:27:32.710186",
     "exception": false,
     "start_time": "2024-12-28T20:27:32.672837",
     "status": "completed"
    },
    "tags": []
   },
   "outputs": [],
   "source": [
    "aggregate_stats = pl.DataFrame({\n",
    "    'name': features,\n",
    "    'mean': np.nanmean(np.asarray(means), axis=0),\n",
    "    'std': np.nanmean(np.asarray(stds), axis=0),\n",
    "    'lo': np.nanmean(np.asarray(outliers_low), axis=0),\n",
    "    'hi': np.nanmean(np.asarray(outliers_high), axis=0)\n",
    "})\n",
    "aggregate_stats.write_csv('feature_data.csv')"
   ]
  },
  {
   "cell_type": "code",
   "execution_count": 9,
   "id": "407653cd",
   "metadata": {
    "execution": {
     "iopub.execute_input": "2024-12-28T20:27:32.721242Z",
     "iopub.status.busy": "2024-12-28T20:27:32.720862Z",
     "iopub.status.idle": "2024-12-28T20:27:32.740164Z",
     "shell.execute_reply": "2024-12-28T20:27:32.738949Z"
    },
    "papermill": {
     "duration": 0.026931,
     "end_time": "2024-12-28T20:27:32.742157",
     "exception": false,
     "start_time": "2024-12-28T20:27:32.715226",
     "status": "completed"
    },
    "tags": []
   },
   "outputs": [
    {
     "data": {
      "text/html": [
       "<div><style>\n",
       ".dataframe > thead > tr,\n",
       ".dataframe > tbody > tr {\n",
       "  text-align: right;\n",
       "  white-space: pre-wrap;\n",
       "}\n",
       "</style>\n",
       "<small>shape: (616, 5)</small><table border=\"1\" class=\"dataframe\"><thead><tr><th>name</th><th>mean</th><th>std</th><th>lo</th><th>hi</th></tr><tr><td>str</td><td>f32</td><td>f32</td><td>f32</td><td>f32</td></tr></thead><tbody><tr><td>&quot;feature_00&quot;</td><td>0.183073</td><td>0.906198</td><td>-2.534983</td><td>2.910047</td></tr><tr><td>&quot;feature_01&quot;</td><td>-0.003469</td><td>1.017344</td><td>-3.061906</td><td>3.058188</td></tr><tr><td>&quot;feature_02&quot;</td><td>0.18486</td><td>0.905231</td><td>-2.532217</td><td>2.907642</td></tr><tr><td>&quot;feature_03&quot;</td><td>0.184406</td><td>0.905112</td><td>-2.531981</td><td>2.906703</td></tr><tr><td>&quot;feature_04&quot;</td><td>-0.00382</td><td>1.00064</td><td>-3.010556</td><td>3.007247</td></tr><tr><td>&hellip;</td><td>&hellip;</td><td>&hellip;</td><td>&hellip;</td><td>&hellip;</td></tr><tr><td>&quot;responder_6_lag_5-20&quot;</td><td>-0.000003</td><td>0.029853</td><td>-0.205327</td><td>0.205328</td></tr><tr><td>&quot;responder_7_lag_1-5&quot;</td><td>-3.8383e-8</td><td>0.001672</td><td>-0.029296</td><td>0.029296</td></tr><tr><td>&quot;responder_7_lag_5-20&quot;</td><td>-0.000002</td><td>0.014149</td><td>-0.098366</td><td>0.098366</td></tr><tr><td>&quot;responder_8_lag_1-5&quot;</td><td>-7.7443e-7</td><td>0.006696</td><td>-0.116156</td><td>0.116156</td></tr><tr><td>&quot;responder_8_lag_5-20&quot;</td><td>-0.000024</td><td>0.057493</td><td>-0.390013</td><td>0.390013</td></tr></tbody></table></div>"
      ],
      "text/plain": [
       "shape: (616, 5)\n",
       "┌──────────────────────┬────────────┬──────────┬───────────┬──────────┐\n",
       "│ name                 ┆ mean       ┆ std      ┆ lo        ┆ hi       │\n",
       "│ ---                  ┆ ---        ┆ ---      ┆ ---       ┆ ---      │\n",
       "│ str                  ┆ f32        ┆ f32      ┆ f32       ┆ f32      │\n",
       "╞══════════════════════╪════════════╪══════════╪═══════════╪══════════╡\n",
       "│ feature_00           ┆ 0.183073   ┆ 0.906198 ┆ -2.534983 ┆ 2.910047 │\n",
       "│ feature_01           ┆ -0.003469  ┆ 1.017344 ┆ -3.061906 ┆ 3.058188 │\n",
       "│ feature_02           ┆ 0.18486    ┆ 0.905231 ┆ -2.532217 ┆ 2.907642 │\n",
       "│ feature_03           ┆ 0.184406   ┆ 0.905112 ┆ -2.531981 ┆ 2.906703 │\n",
       "│ feature_04           ┆ -0.00382   ┆ 1.00064  ┆ -3.010556 ┆ 3.007247 │\n",
       "│ …                    ┆ …          ┆ …        ┆ …         ┆ …        │\n",
       "│ responder_6_lag_5-20 ┆ -0.000003  ┆ 0.029853 ┆ -0.205327 ┆ 0.205328 │\n",
       "│ responder_7_lag_1-5  ┆ -3.8383e-8 ┆ 0.001672 ┆ -0.029296 ┆ 0.029296 │\n",
       "│ responder_7_lag_5-20 ┆ -0.000002  ┆ 0.014149 ┆ -0.098366 ┆ 0.098366 │\n",
       "│ responder_8_lag_1-5  ┆ -7.7443e-7 ┆ 0.006696 ┆ -0.116156 ┆ 0.116156 │\n",
       "│ responder_8_lag_5-20 ┆ -0.000024  ┆ 0.057493 ┆ -0.390013 ┆ 0.390013 │\n",
       "└──────────────────────┴────────────┴──────────┴───────────┴──────────┘"
      ]
     },
     "execution_count": 9,
     "metadata": {},
     "output_type": "execute_result"
    }
   ],
   "source": [
    "aggregate_stats"
   ]
  },
  {
   "cell_type": "code",
   "execution_count": null,
   "id": "25ee2c1d",
   "metadata": {
    "papermill": {
     "duration": 0.004878,
     "end_time": "2024-12-28T20:27:32.752466",
     "exception": false,
     "start_time": "2024-12-28T20:27:32.747588",
     "status": "completed"
    },
    "tags": []
   },
   "outputs": [],
   "source": []
  }
 ],
 "metadata": {
  "kaggle": {
   "accelerator": "none",
   "dataSources": [
    {
     "databundleVersionId": 9871156,
     "sourceId": 84493,
     "sourceType": "competition"
    }
   ],
   "dockerImageVersionId": 30822,
   "isGpuEnabled": false,
   "isInternetEnabled": true,
   "language": "python",
   "sourceType": "notebook"
  },
  "kernelspec": {
   "display_name": "Python 3",
   "language": "python",
   "name": "python3"
  },
  "language_info": {
   "codemirror_mode": {
    "name": "ipython",
    "version": 3
   },
   "file_extension": ".py",
   "mimetype": "text/x-python",
   "name": "python",
   "nbconvert_exporter": "python",
   "pygments_lexer": "ipython3",
   "version": "3.10.12"
  },
  "papermill": {
   "default_parameters": {},
   "duration": 1671.14264,
   "end_time": "2024-12-28T20:27:35.450482",
   "environment_variables": {},
   "exception": null,
   "input_path": "__notebook__.ipynb",
   "output_path": "__notebook__.ipynb",
   "parameters": {},
   "start_time": "2024-12-28T19:59:44.307842",
   "version": "2.6.0"
  }
 },
 "nbformat": 4,
 "nbformat_minor": 5
}
